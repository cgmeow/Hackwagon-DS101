{
 "cells": [
  {
   "cell_type": "markdown",
   "metadata": {},
   "source": [
    "<h2>Food Sales Analysis</h2>\n",
    "\n",
    "In this king-of-the-hill challenge, we will be preparing a dataset to visualize scatterplot. The component to visualize the scatterplot has already been done for you, so all you need to do is to prepare the data set"
   ]
  },
  {
   "cell_type": "markdown",
   "metadata": {},
   "source": [
    "A data set has already been provided for you. The data is in a nested list format, with each nested list being a row of data. The first row of the data is the title of the data columns. In total, this dataset has 4 fields:\n",
    "\n",
    "- name of restaurant\n",
    "- number of customers it has on a daily basis\n",
    "- the rating of the restaurant based on the customer feedback\n",
    "- the revenue for the day\n",
    "\n",
    "|Index| 0 | 1 | 2 | 3 |\n",
    "| - | - | - | - |\n",
    "|<b>Meaning</b>| Name of Restaurant | Customers | Rating | Revenue |"
   ]
  },
  {
   "cell_type": "code",
   "execution_count": 1,
   "metadata": {},
   "outputs": [],
   "source": [
    "food_data = [\n",
    "    ['Les Amis', '180', '4.5', '10273.2'],\n",
    "    ['Restaurant André', '200', '5', '10978.2'],\n",
    "    ['Candlenut Kitchen', '234' ,'4.1', '9982.23'],\n",
    "    ['Crystal Jade', '212', '4.1', '8703.12'],\n",
    "    ['Jack’s Place', '143', '3.9', '9689.2'],\n",
    "    ['LAtelier de Joel Robuchon', '150', '4.2', '8937.23'],\n",
    "    ['Long Beach Seafood Restaurant', '200', '4.1', '7962.23'],\n",
    "    ['Pastamania', '55', '2.3', '3427.23'],\n",
    "    ['n.y.d.c.', '56', '2.1', '3234.12'],\n",
    "    ['Rhubarb Le Restaurant', '55', '3.4', '2972.98'],\n",
    "    ['Sakae Sushi', '34', '2.4','2739.23']\n",
    "]"
   ]
  },
  {
   "cell_type": "markdown",
   "metadata": {},
   "source": [
    "<h2>Start of King of the Hill</h2>\n",
    "Using the data set, we want to do some visualisation. But to do that we need to do some data preparation."
   ]
  },
  {
   "cell_type": "markdown",
   "metadata": {},
   "source": [
    "## Part 1:\n",
    "Using the dataset, fill the num_of_customers list with the number of customers from the food_data list. Do this by <b>iterating through the dataset</b>\n",
    "\n",
    "<b>Expected output when we print(num_of_customers):</b>\n",
    "\n",
    "    [180, 200, 234, 212, 143, 150, 200, 55, 56, 55, 34]"
   ]
  },
  {
   "cell_type": "code",
   "execution_count": 3,
   "metadata": {},
   "outputs": [
    {
     "name": "stdout",
     "output_type": "stream",
     "text": [
      "[180, 200, 234, 212, 143, 150, 200, 55, 56, 55, 34]\n"
     ]
    }
   ],
   "source": [
    "num_of_customers = []\n",
    "\n",
    "#Write your code here below\n",
    "for row in food_data:\n",
    "    customers = int(row[1])\n",
    "    num_of_customers.append(customers)\n",
    "\n",
    "print(num_of_customers)\n",
    "\n"
   ]
  },
  {
   "cell_type": "markdown",
   "metadata": {},
   "source": [
    "## Part 2:\n",
    "Using the dataset, fill the revenue list with the revenues of all restaurants from the food_data list. Do this by <b>iterating through the dataset</b>\n",
    "\n",
    "<b>Expected output when we print(revenue):</b>\n",
    "\n",
    "    [10273.2, 10978.2, 9982.23, 8703.12, 9689.2, 8937.23, 7962.23, 3427.23, 3234.12, 2972.98, 2739.23]"
   ]
  },
  {
   "cell_type": "code",
   "execution_count": 10,
   "metadata": {},
   "outputs": [
    {
     "name": "stdout",
     "output_type": "stream",
     "text": [
      "[10273.2, 10978.2, 9982.23, 8703.12, 9689.2, 8937.23, 7962.23, 3427.23, 3234.12, 2972.98, 2739.23]\n"
     ]
    }
   ],
   "source": [
    "revenue = []\n",
    "\n",
    "#write your code below\n",
    "for row in food_data:\n",
    "    individual_revenue = float(row[3])\n",
    "    revenue.append(individual_revenue)\n",
    "\n",
    "print(revenue)\n",
    "\n",
    "\n"
   ]
  },
  {
   "cell_type": "markdown",
   "metadata": {},
   "source": [
    "## Part 3:\n",
    "Using the dataset, fill the ratings list with the ratings of all restaurants from the food_data list. Do this by<b> iterating through the dataset</b>\n",
    "\n",
    "\n",
    "<b>Expected output when we print(ratings):</b>\n",
    "\n",
    "    [4.5, 5.0, 4.1, 4.1, 3.9, 4.2, 4.1, 2.3, 2.1, 3.4, 2.4]"
   ]
  },
  {
   "cell_type": "code",
   "execution_count": 9,
   "metadata": {},
   "outputs": [
    {
     "name": "stdout",
     "output_type": "stream",
     "text": [
      "[4.5, 5.0, 4.1, 4.1, 3.9, 4.2, 4.1, 2.3, 2.1, 3.4, 2.4]\n"
     ]
    }
   ],
   "source": [
    "ratings = []\n",
    "\n",
    "#Write your code below\n",
    "for row in food_data:\n",
    "    individual_ratings = float(row[2])\n",
    "    ratings.append(individual_ratings)\n",
    "\n",
    "print(ratings)\n",
    "\n",
    "\n"
   ]
  },
  {
   "cell_type": "markdown",
   "metadata": {},
   "source": [
    "## Part 4:\n",
    "\n",
    "- fill the highest_sat with the highest satisfaction score from amongst the list\n",
    "- fill the lowest_sat with the lowest satisfaction score from amongst the list\n",
    "- <b>You can use any method to get these score</b>\n",
    "\n",
    "<b>Expected output when we print(highest_sat):</b>\n",
    "\n",
    "    5\n",
    "\n",
    "<b>Expected output when we print(lowest_sat):</b>\n",
    "\n",
    "    2.1"
   ]
  },
  {
   "cell_type": "code",
   "execution_count": 14,
   "metadata": {},
   "outputs": [
    {
     "name": "stdout",
     "output_type": "stream",
     "text": [
      "5.0\n",
      "2.1\n"
     ]
    }
   ],
   "source": [
    "highest_sat = float(food_data[1][2])\n",
    "lowest_sat = float(food_data[8][2])\n",
    "\n",
    "#write your code below\n",
    "print(highest_sat)\n",
    "print(lowest_sat)\n"
   ]
  },
  {
   "cell_type": "markdown",
   "metadata": {},
   "source": [
    "<h2>Bonus Part: You don't have to do anything here, but you just have to run the following results. If you above part is correct, then you should be able to visualise a graph. Else you probably got something above wrong</h2>\n",
    "    \n",
    "Using the data which you have prepared, we will visualise the results. If you have done the above 3 parts correctly you should get a heatmap"
   ]
  },
  {
   "cell_type": "code",
   "execution_count": 15,
   "metadata": {},
   "outputs": [
    {
     "data": {
      "image/png": "[encoded data removed]",
      "text/plain": [
       "<Figure size 432x288 with 2 Axes>"
      ]
     },
     "metadata": {},
     "output_type": "display_data"
    }
   ],
   "source": [
    "import matplotlib.pyplot as plt\n",
    "%matplotlib inline\n",
    "\n",
    "# Add labels to the chart\n",
    "fig, ax = plt.subplots() # fig = plt.figure() ax = fig.add_subplot(111)\n",
    "\n",
    "plt.xlabel(\"Number of Cutomers\")\n",
    "plt.ylabel(\"Revenue\")\n",
    "plt.title(\"Relationship between Customer/Revenue and the Average Ratings\")\n",
    "\n",
    "# Plot the points on the graph, as a scatter plot\n",
    "s=plt.scatter(num_of_customers, # X-axis\n",
    "            revenue, # Y-axis\n",
    "            c=ratings, # Color based on ratings\n",
    "            cmap = plt.cm.coolwarm, # Color scheme\n",
    "            vmin=lowest_sat, # Min sat value\n",
    "            vmax=highest_sat) # Max sat value\n",
    "\n",
    "#Create the color bar\n",
    "cbar = plt.colorbar(mappable=s, ax=ax)\n",
    "cbar.set_label(\"Colour Scheme\")\n",
    "\n",
    "# Show the graph\n",
    "plt.show()\n"
   ]
  },
  {
   "cell_type": "markdown",
   "metadata": {
    "collapsed": true
   },
   "source": [
    "<h2>Sample of an analysis:</h2>\n",
    "    \n",
    "- Our analysis shows that in general, restaurants with higher ratings tend to have higher customer flow and revenue, as observed from the top right cluster\n",
    "- Restaurants with lower ratings tend to fair not as well\n",
    "- Recommendation: Thus, restaurants should find ways to improve their ratings as it leads to better income\n",
    "<br>\n",
    "\n",
    "<b>\n",
    "*The above shows the kind of preliminary analysis one can do with just a simple scattered plot. If you observe carefully, you will realize that even though this is a 2-dimensional graph, we managed to squeeze in 3 dimension of data (revenue, customers, ratings), allowing us to do more complex analysis.</b><br>\n",
    "\n",
    "<b>\n",
    "*Incidentally, this above example would help you greatly for your Airbnb project!\n",
    "</b>\n"
   ]
  },
  {
   "cell_type": "code",
   "execution_count": null,
   "metadata": {},
   "outputs": [],
   "source": []
  }
 ],
 "metadata": {
  "kernelspec": {
   "display_name": "Python 3",
   "language": "python",
   "name": "python3"
  },
  "language_info": {
   "codemirror_mode": {
    "name": "ipython",
    "version": 3
   },
   "file_extension": ".py",
   "mimetype": "text/x-python",
   "name": "python",
   "nbconvert_exporter": "python",
   "pygments_lexer": "ipython3",
   "version": "3.6.5"
  }
 },
 "nbformat": 4,
 "nbformat_minor": 2
}
