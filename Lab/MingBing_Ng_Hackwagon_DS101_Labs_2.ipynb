{
 "cells": [
  {
   "cell_type": "markdown",
   "metadata": {},
   "source": [
    "<img src=\"https://i2.wp.com/hackwagon.com/wp-content/uploads/2017/02/Logo-Web-Export.png?ssl=1\" width=200/>\n",
    "\n",
    "<h1> Hackwagon Academy - DS101 Lab 2 </h1>\n",
    "\n",
    "This lab exercise consists of 10 questions, with each correct answer to be awarded 2 marks, totalling up to 20 marks.\n",
    "\n",
    "Attempt but minor syntax errors are awarded half the mark."
   ]
  },
  {
   "cell_type": "code",
   "execution_count": null,
   "metadata": {},
   "outputs": [],
   "source": [
    "#Before you start, please perform the following 2 steps:\n",
    "#1. Rename the file to <First_Name>_<Last_Name>_DS101_Lab_1 e.g. john_doe_DS101_Lab_1\n",
    "\n",
    "#2. Fill in your details here:\n",
    "#Name                    : Ng Ming Bing\n",
    "\n",
    "#Start of Course Class(Edit accordingly): 22 Dec 2018 3.45pm-6.45pm\n",
    "\n",
    "# FOR TA/INSTRUCTOR \n",
    "# Total Marks:  / 20"
   ]
  },
  {
   "cell_type": "markdown",
   "metadata": {},
   "source": [
    "## Warm Up"
   ]
  },
  {
   "cell_type": "markdown",
   "metadata": {},
   "source": [
    "### Question 1\n",
    "\n",
    "Create a simple if-else algorithm to check if you're ready:\n",
    "\n",
    "If `ready` = `True`, expected output:\n",
    "\n",
    "    I am ready!\n",
    "    \n",
    "elif `ready` = `False`, expected output:\n",
    "\n",
    "    I am not :/ "
   ]
  },
  {
   "cell_type": "code",
   "execution_count": 3,
   "metadata": {},
   "outputs": [
    {
     "name": "stdout",
     "output_type": "stream",
     "text": [
      "I am ready!\n"
     ]
    }
   ],
   "source": [
    "ready = False\n",
    "if ready == True :\n",
    "    print('I am ready!')\n",
    "elif ready == False :\n",
    "    print('I am not :/')"
   ]
  },
  {
   "cell_type": "markdown",
   "metadata": {},
   "source": [
    "### Question 2\n",
    "\n",
    "Given the following 2 dictionaries, find the total number of views then create a <b>new dictionary</b> called `summary_data` and print the dictionary.\n",
    "\n",
    "**Expected Output**:\n",
    "\n",
    "    {\n",
    "        'all_views': 104600\n",
    "    }"
   ]
  },
  {
   "cell_type": "code",
   "execution_count": 19,
   "metadata": {},
   "outputs": [
    {
     "name": "stdout",
     "output_type": "stream",
     "text": [
      "{'all_views': 104600}\n"
     ]
    }
   ],
   "source": [
    "baby_by_bieber = {\n",
    "    'views': 5600\n",
    "}\n",
    "\n",
    "yellow_coldplay = {\n",
    "    'views': 99000\n",
    "}\n",
    "\n",
    "all_views = baby_by_bieber['views'] + yellow_coldplay['views']\n",
    "\n",
    "summary_data = {\n",
    "    'all_views': all_views\n",
    "}\n",
    "print(summary_data)"
   ]
  },
  {
   "cell_type": "markdown",
   "metadata": {},
   "source": [
    "## YouTube Data Analyst\n",
    "\n",
    "#### Context\n",
    "\n",
    "Right now, you are a data analyst at YouTube. You're working with a team to answer some simple analytics questions. Due to some buggy code written previously by an intern, it is now your job to debug the mistakes. At the same time, some old data has made its way into the production environment, and it is within your job scope to filter out those as well.\n",
    "\n",
    "The following cell shows a snippet of code that an intern has written previously, and the definitions for each of the key-value pairs are described as per below.\n",
    "\n",
    "|Keys:| <center>`\"title\"` </center>       |<center> `\"company\"`</center> | <center> `\"views\"`</center>  | \n",
    "|:---| :----------- |:----------------- | :----- | \n",
    "|<b>Value:</b>| Title of the video ad  <br><br><center>e.g.</center><br><center>`\"Title A\"` </center>     | Company name <br><br><center>e.g.</center><br> <center>`\"Company A\"`</center> | Number of video views<br><br><center>e.g.</center><br><center> `1000`</center>|\n",
    "\n",
    "<br>\n",
    "\n",
    "<font color='red'><b>Remember to run the code snippet below with `CTRL-ENTER` or `SHIFT-ENTER` or `SHIFT-RETURN` by clicking the run button above to initialise the variables.</b></font>\n"
   ]
  },
  {
   "cell_type": "code",
   "execution_count": 30,
   "metadata": {},
   "outputs": [],
   "source": [
    "video_ad_1 = {\n",
    "    \"title\": \"Healthy Living\", \n",
    "    \"company\": \"Health Promotion Board\", \n",
    "    \"views\": 65423\n",
    "}\n",
    "\n",
    "video_ad_2 = {\n",
    "    \"title\": \"Get a ride, anytime anywhere\", \n",
    "    \"company\": \"GoJek\", \n",
    "    \"views\": 54323\n",
    "}\n",
    "\n",
    "video_ad_3 = {\n",
    "    \"title\": \"Send money to your friends with GrabPay\", \n",
    "    \"company\": \"Grab\", \n",
    "    \"views\": 654306\n",
    "}\n",
    "\n",
    "video_ad_4 = {\n",
    "    \"title\": \"GrabEat now delivers nationwide\", \n",
    "    \"company\": \"Grab\", \n",
    "    \"views\": 5123\n",
    "}\n",
    "\n",
    "video_ad_5 = {\n",
    "    \"title\": \"Get cabs now with GoJekFlash\", \n",
    "    \"company\": \"GoJek\", \n",
    "    \"views\": 62353\n",
    "}"
   ]
  },
  {
   "cell_type": "markdown",
   "metadata": {},
   "source": [
    "### Question 3\n",
    "\n",
    "Find and print out the total views of all the videos provided above. You are to use index key method of the dictionaries to **extract** the data and aggregate total views. Make sure you **do not hard-code the answers**.\n",
    "\n",
    "**Example of hard-coding:**\n",
    "```python\n",
    "# This is hard-coding, and should not be done\n",
    "print(65423 + 54323 + 654306 + 5123 + 62353)\n",
    "```\n",
    "\n",
    "**Expected output:**\n",
    "```python\n",
    "841528\n",
    "```"
   ]
  },
  {
   "cell_type": "code",
   "execution_count": 31,
   "metadata": {},
   "outputs": [
    {
     "name": "stdout",
     "output_type": "stream",
     "text": [
      "841528\n"
     ]
    }
   ],
   "source": [
    "total_views = video_ad_1['views'] + video_ad_2['views'] + video_ad_3['views'] + video_ad_4['views'] + video_ad_5['views']\n",
    "print(total_views)\n"
   ]
  },
  {
   "cell_type": "markdown",
   "metadata": {},
   "source": [
    "### Question 4\n",
    "\n",
    "**A Company and Views Database doesn't exists. Create a NEW dictionary that stores the total views of videos for each unique company**, and print the dictionary. You are to use the key-value pair of the dictionaries to access the data, and to add up the total views.\n",
    "\n",
    "Make sure you **do not hard-code the answers**\n",
    "\n",
    "**Example of hard-coding:**\n",
    "```python\n",
    "# This is hard-coding, and should not be done\n",
    "views_dict = {}\n",
    "views_dict = {\"Health Promotion Board\": 65423, \"GoJek\": 54323 + 62353, \"Grab\": 654306 + 5123}\n",
    "print(views_dict)\n",
    "```\n",
    "The above will give you the right answer, but that is not how we want you to do it. In the above method, if the data in the original dictionary is changed, that means we have to change our calculations. We want our method to be dynamic!\n",
    "\n",
    "\n",
    "**Expected output:**\n",
    "```python\n",
    "{'Health Promotion Board': 65423, 'GoJek': 116676, 'Grab': 659429}\n",
    "```\n",
    "\n",
    "**Hint:**\n",
    "```python\n",
    "views_dict = {}\n",
    "views_dict[\"GoJek\"] = video_ad_2[\"views\"] + ... + ...\n",
    "print(views_dict)\n",
    "```\n"
   ]
  },
  {
   "cell_type": "code",
   "execution_count": 32,
   "metadata": {},
   "outputs": [
    {
     "name": "stdout",
     "output_type": "stream",
     "text": [
      "{'Health Promotion Board': 65423, 'GoJek': 116676, 'Grab': 659429}\n"
     ]
    }
   ],
   "source": [
    "views_dict = {}\n",
    "views_dict[\"Health Promotion Board\"] = video_ad_1[\"views\"]\n",
    "views_dict[\"GoJek\"] = video_ad_2[\"views\"] + video_ad_5[\"views\"]\n",
    "views_dict[\"Grab\"] = video_ad_3[\"views\"] + video_ad_4[\"views\"]\n",
    "print(views_dict)"
   ]
  },
  {
   "cell_type": "markdown",
   "metadata": {},
   "source": [
    "### Question 5\n",
    "\n",
    "The following represents a <b>list of dictionaries</b>. Each dictionary represents a video advertisement and its respective view numbers. Unfortunately, these advertisements are more than a year old, and YouTube is not interested in performing analysis for these older videos.\n",
    "\n",
    "Remove the 2 old videos from the variable `video_ads_list` by the use of the <b>`del`</b> function, and print the resulting `video_ads_list` variable.\n",
    "\n",
    "Make sure you **do not hard-code the answers**\n",
    "\n",
    "**Example of hard-coding:**\n",
    "```python\n",
    "# This is hard-coding, and should not be done\n",
    "video_ads_list = []\n",
    "print(video_ads_list)\n",
    "```\n",
    "\n",
    "**Expected output:**\n",
    "```python\n",
    "[]\n",
    "```"
   ]
  },
  {
   "cell_type": "code",
   "execution_count": 33,
   "metadata": {},
   "outputs": [
    {
     "name": "stdout",
     "output_type": "stream",
     "text": [
      "[]\n"
     ]
    }
   ],
   "source": [
    "video_ads_list = [\n",
    "    {\"title\": \"Get the newest iPhone 6\", \"company\": \"Apple\", \"views\": 389824},\n",
    "    {\"title\": \"Samsung Galaxy S2 out now!\", \"company\": \"Saumsung\", \"views\": 230123}\n",
    "]\n",
    "\n",
    "# write some code below to show us how you would clean out this list with the use of del function\n",
    "del video_ads_list[:]\n",
    "print(video_ads_list)"
   ]
  },
  {
   "cell_type": "markdown",
   "metadata": {},
   "source": [
    "### Question 6\n",
    "\n",
    "After cleaning out the above `video_ads_list` list, now we want to add in the newer videos (variables declared in part 1) e.g. `video_ad_1`, `video_ad_2` etc...\n",
    "\n",
    "Your task is to add all the newer videos into the variable `video_ads_list` by the use of the `.append()` function, and to print out the resulting `video_ads_list` variable. <b>Recall that you have already created 5 video_ads in the cells above. </b>\n",
    "\n",
    "Make sure you **do not hard-code the answers**\n",
    "\n",
    "**Example of hard-coding:**\n",
    "```python\n",
    "# This is hard-coding, and should not be done\n",
    "video_ads_list = [\n",
    "    {\"title\": \"Healthy Living\", \"company\": \"Health Promotion Board\", \"views\": 65423}, \n",
    "    {\"title\": \"Get a ride, anytime anywhere\", \"company\": \"GoJek\", \"views\": 54323}\n",
    "]\n",
    "print(video_ads_list)\n",
    "```\n",
    "\n",
    "**Expected output:**\n",
    "```python\n",
    "[\n",
    " {'title': 'Healthy Living', 'company': 'Health Promotion Board','views': 65423},\n",
    " {'title': 'Get a ride, anytime anywhere', 'company': 'GoJek', 'views': 54323},\n",
    " {'title': 'Send money to your friends with GrabPay', 'company': 'Grab', 'views': 654306},\n",
    " {'title': 'GrabEat now delivers nationwide', 'company': 'Grab', 'views': 5123},\n",
    " {'title': 'Get cabs now with GoJekFlash', 'company': 'GoJek', 'views': 62353}\n",
    "]\n",
    "```"
   ]
  },
  {
   "cell_type": "code",
   "execution_count": 34,
   "metadata": {},
   "outputs": [
    {
     "name": "stdout",
     "output_type": "stream",
     "text": [
      "[{'title': 'Healthy Living', 'company': 'Health Promotion Board', 'views': 65423}, {'title': 'Get a ride, anytime anywhere', 'company': 'GoJek', 'views': 54323}, {'title': 'Send money to your friends with GrabPay', 'company': 'Grab', 'views': 654306}, {'title': 'GrabEat now delivers nationwide', 'company': 'Grab', 'views': 5123}, {'title': 'Get cabs now with GoJekFlash', 'company': 'GoJek', 'views': 62353}]\n"
     ]
    }
   ],
   "source": [
    "video_ads_list.append(video_ad_1)\n",
    "video_ads_list.append(video_ad_2)\n",
    "video_ads_list.append(video_ad_3)\n",
    "video_ads_list.append(video_ad_4)\n",
    "video_ads_list.append(video_ad_5)\n",
    "print(video_ads_list)"
   ]
  },
  {
   "cell_type": "markdown",
   "metadata": {},
   "source": [
    "### Question 7\n",
    "\n",
    "After having created a list of videos stored inside of `video_ads_list`, we want to finalise these videos and ensure that no modifications can be done to the list. We want to pass the data to another data analyst, and prevent future newbies from altering the list of video ads.\n",
    "\n",
    "Based on your understanding, you know that tuples are able to store immutable data. This means that you cannot modify the data stored inside of tuples. As such, you intend to store a **`tuple` filled with the video ads** instead.\n",
    "\n",
    "Your task is to add all the videos printed earlier into a tuple variable `video_ads` and to print out the resulting `video_ads` variable. In order to do this, you have no choice but to hard-code the answer.\n",
    "\n",
    "**Example of how to proceed:**\n",
    "```python\n",
    "video_ads_list = (\n",
    "    {\"title\": \"Healthy Living\", \"company\": \"Health Promotion Board\", \"views\": 65423}, \n",
    "    {\"title\": \"Get a ride, anytime anywhere\", \"company\": \"GoJek\", \"views\": 54323}\n",
    ")\n",
    "print(video_ads_list)\n",
    "```\n",
    "\n",
    "**Expected output:**\n",
    "```python\n",
    "    (\n",
    "        {\n",
    "            \"title\": \"Healthy Living\", \n",
    "            \"company\": \"Health Promotion Board\", \n",
    "            \"views\": 65423\n",
    "        }, \n",
    "        {\n",
    "            \"title\": \"Get a ride, anytime anywhere\", \n",
    "            \"company\": \"GoJek\", \n",
    "            \"views\": 54323\n",
    "        }\n",
    "        ...\n",
    "    )\n",
    "```\n",
    "\n",
    "The reason why you have to hard-code this answer is primarily because tuples are immutable. Once you create the tuple, there's no way to add or remove from the tuple."
   ]
  },
  {
   "cell_type": "code",
   "execution_count": 40,
   "metadata": {},
   "outputs": [
    {
     "name": "stdout",
     "output_type": "stream",
     "text": [
      "({'title': 'Healthy Living', 'company': 'Health Promotion Board', 'views': 65423}, {'title': 'Get a ride, anytime anywhere', 'company': 'GoJek', 'views': 54323}, {'title': 'Send money to your friends with GrabPay', 'company': 'Grab', 'views': 654306}, {'title': 'GrabEat now delivers nationwide', 'company': 'Grab', 'views': 5123}, {'title': 'Get cabs now with GoJekFlash', 'company': 'GoJek', 'views': 62353})\n"
     ]
    }
   ],
   "source": [
    "video_ads = tuple(video_ads_list)\n",
    "print(video_ads)"
   ]
  },
  {
   "cell_type": "code",
   "execution_count": 55,
   "metadata": {},
   "outputs": [
    {
     "name": "stdout",
     "output_type": "stream",
     "text": [
      "({'title': 'Healthy Living', 'company': 'Health Promotion Board', 'views': 65423}, {'title': 'Get a ride, anytime anywhere', 'company': 'GoJek', 'views': 54323}, {'title': 'Send money to your friends with GrabPay', 'company': 'Grab', 'views': 654306}, {'title': 'GrabEat now delivers nationwide', 'company': 'Grab', 'views': 5123}, {'title': 'Get cabs now with GoJekFlash', 'company': 'GoJek', 'views': 62353})\n"
     ]
    }
   ],
   "source": [
    "video_ads_list = [\n",
    " {'title': 'Healthy Living', 'company': 'Health Promotion Board','views': 65423},\n",
    " {'title': 'Get a ride, anytime anywhere', 'company': 'GoJek', 'views': 54323},\n",
    " {'title': 'Send money to your friends with GrabPay', 'company': 'Grab', 'views': 654306},\n",
    " {'title': 'GrabEat now delivers nationwide', 'company': 'Grab', 'views': 5123},\n",
    " {'title': 'Get cabs now with GoJekFlash', 'company': 'GoJek', 'views': 62353}\n",
    "]\n",
    "video_ads = tuple(video_ads_list)\n",
    "print(video_ads)"
   ]
  },
  {
   "cell_type": "markdown",
   "metadata": {},
   "source": [
    "### Question 8\n",
    "After having created a `tuple` variable `video_ads`, we want to find out how much we should be paid for each video (since YouTube charge for advertising). Let's create a payment model to calculate the the amount paid to us for each video \n",
    "\n",
    "**Here are the rules for the payment model:**\n",
    "\n",
    "- If there are fewer than 10,000 views, each view is charged at \\$0.82 each\n",
    "- If there are fewer than 50,000 views but more than or equal to 10,000 views, each view is charged at \\$0.68 each\n",
    "- If there are more than or equal to 50,000 views, each view is charged at \\$0.55 each\n",
    "\n",
    "Make use of `if-elif-else` conditions to solve this problem, and get the final amount paid for each video.\n",
    "\n",
    "**If you find yourself repeating the same logic many times, try copy-pasting your codes but changing the index.**\n",
    "\n",
    "**Expected output:**\n",
    "```\n",
    "Healthy Living: $35982.65\n",
    "Get a ride, anytime anywhere: $29877.65\n",
    "Send money to your friends with GrabPay: $359868.30000000005\n",
    "GrabEat now delivers nationwide: $4200.86\n",
    "Get cabs now with GoJekFlash: $34294.15\n",
    "```"
   ]
  },
  {
   "cell_type": "code",
   "execution_count": 57,
   "metadata": {},
   "outputs": [
    {
     "name": "stdout",
     "output_type": "stream",
     "text": [
      "Healthy Living: $35982.65\n",
      "Get a ride, anytime anywhere: $29877.65\n",
      "Send money to your friends with GrabPay: $359868.30000000005\n",
      "GrabEat now delivers nationwide: $4354.55\n",
      "Get cabs now with GoJekFlash: $34294.15\n"
     ]
    }
   ],
   "source": [
    "healthy_living_check = video_ads_list[0]['views']\n",
    "GoJek_check = video_ads_list[1]['views']\n",
    "GrabPay_check = video_ads_list[2]['views']\n",
    "GrabEat_check = video_ads_list[3]['views']\n",
    "GoJekFlash_check = video_ads_list[4]['views']\n",
    "\n",
    "if int(healthy_living_check) < 10000 :\n",
    "    payment_healthyliving= 0.85* int(healthy_living_check)\n",
    "elif int(healthy_living_check) > 10000 and int(healthy_living_check) <50000 :\n",
    "    payment_healthyliving= 0.68* int(healthy_living_check)\n",
    "else:\n",
    "    payment_healthyliving= 0.55*int(healthy_living_check)\n",
    "\n",
    "    \n",
    "if int(GoJek_check) < 10000 :\n",
    "    payment_GoJek= 0.85* int(GoJek_check)\n",
    "elif int(GoJek_check) > 10000 and int(GoJek_check) <50000 :\n",
    "    payment_GoJek= 0.68* int(GoJek_check)\n",
    "else:\n",
    "    payment_GoJek= 0.55*int(GoJek_check)\n",
    "\n",
    "    \n",
    "if int(GrabPay_check) < 10000 :\n",
    "    payment_Grabpay= 0.85* int(GrabPay_check)\n",
    "elif int(GrabPay_check) > 10000 and int(GrabPay_check) <50000 :\n",
    "    payment_Grabpay= 0.68* int(GrabPay_check)\n",
    "else:\n",
    "    payment_Grabpay= 0.55*int(GrabPay_check)\n",
    "\n",
    "    \n",
    "if int(GrabEat_check) < 10000 :\n",
    "    payment_GrabEat= 0.85* int(GrabEat_check)\n",
    "elif int(GrabPay_check) > 10000 and int(GrabEat_check) <50000 :\n",
    "    payment_GrabEat= 0.68* int(GrabEat_check)\n",
    "else:\n",
    "    payment_GrabEat= 0.55*int(GrabEat_check)\n",
    "\n",
    "    \n",
    "if int(GoJekFlash_check) < 10000 :\n",
    "    payment_GoJekFlash= 0.85* int(GoJekFlash_check)\n",
    "elif int(GrabPay_check) > 10000 and int(GoJekFlash_check) <50000 :\n",
    "    payment_GoJekFlash= 0.68* int(GoJekFlash_check)\n",
    "else:\n",
    "    payment_GoJekFlash= 0.55*int(GoJekFlash_check)\n",
    "                                        \n",
    "print('Healthy Living: $'+ str(payment_healthyliving))\n",
    "print('Get a ride, anytime anywhere: $'+ str(payment_GoJek))\n",
    "print('Send money to your friends with GrabPay: $'+ str(payment_Grabpay))\n",
    "print('GrabEat now delivers nationwide: $'+ str(payment_GrabEat))\n",
    "print('Get cabs now with GoJekFlash: $' + str(payment_GoJekFlash))\n"
   ]
  },
  {
   "cell_type": "markdown",
   "metadata": {},
   "source": [
    "## Debugging\n",
    "##### YOUTUBE ENGAGEMENT RATE\n",
    "One of the common metrics used to evaluate YouTube channel success is the engagement rate (formula given below). \n",
    "<div class=\"alert alert-block alert-info\"><center>engagement_rate = video_comments/video_views\n",
    " </center></div>"
   ]
  },
  {
   "cell_type": "markdown",
   "metadata": {},
   "source": [
    "### Question 9\n",
    "Another newbie to programming wrote the following piece of code to calculate the engagement rate of all videos in the database. However, her codes were met with syntax, logic bugs and exceptions. \n",
    "\n",
    "**Expected output**: \n",
    "\n",
    "    Total engagement rate is: 0.05202821869488536\n",
    "    \n",
    "Debug the following code for her."
   ]
  },
  {
   "cell_type": "code",
   "execution_count": 1,
   "metadata": {},
   "outputs": [
    {
     "name": "stdout",
     "output_type": "stream",
     "text": [
      "Total engagement rate is 0.05202821869488536\n"
     ]
    }
   ],
   "source": [
    "all_videos = [\n",
    "    {\n",
    "        'title':'Kitchen Nightmares',\n",
    "        'views': 45000,\n",
    "        'comments': 2300 \n",
    "    },\n",
    "    {\n",
    "        'title':'Overcooked Nightmares',\n",
    "        'views': 65000,\n",
    "        'comments': 3400\n",
    "    },\n",
    "    {\n",
    "        'title':'Cooking Mama',\n",
    "        'views': 3400,      \n",
    "        'comments': 200\n",
    "    }\n",
    "]\n",
    "\n",
    "all_views = all_videos[0]['views'] + all_videos[1]['views'] + all_videos[2]['views']\n",
    "all_comments = all_videos[0]['comments'] + all_videos[1]['comments'] + all_videos[2]['comments']\n",
    "\n",
    "print(\"Total engagement rate is \" + str(all_comments/all_views)) "
   ]
  },
  {
   "cell_type": "markdown",
   "metadata": {},
   "source": [
    "### Question 10\n",
    "Another newbie to programming wrote the following piece of code to check if one video has higher views than the other. However, him codes were met with syntax, logic bugs and exceptions. \n",
    "\n",
    "**Expected output**: \n",
    "\n",
    "\n",
    "    pompen has more views than purple rain\n",
    "\n",
    "Debug the following code for him."
   ]
  },
  {
   "cell_type": "code",
   "execution_count": 2,
   "metadata": {},
   "outputs": [
    {
     "name": "stdout",
     "output_type": "stream",
     "text": [
      "pompen has more views than purple rain\n"
     ]
    }
   ],
   "source": [
    "videos = { \n",
    "    'purple rain' : 7800 ,\n",
    "    'pompen' : '12000'\n",
    "}\n",
    "\n",
    "purple_rain_views = videos['purple rain']\n",
    "pompen_views = videos['pompen']\n",
    "    \n",
    "if purple_rain_views > int(pompen_views):\n",
    "    print('purple rain has more views than pompen') \n",
    "else: \n",
    "    print('pompen has more views than purple rain')"
   ]
  },
  {
   "cell_type": "markdown",
   "metadata": {},
   "source": [
    "## Additional Consolidation Questions (Optional)\n",
    "\n",
    "<p>The following are additional questions that serves to strengthen your understanding in handling data from nested collections. The following collection structure are some of the common ways which people use to store their data for processing later on. </p>\n"
   ]
  },
  {
   "cell_type": "markdown",
   "metadata": {},
   "source": [
    "### Q1 \n",
    "<font color='red'><b>Run this cell first to get the `linked_data`</b></font>"
   ]
  },
  {
   "cell_type": "code",
   "execution_count": 14,
   "metadata": {},
   "outputs": [],
   "source": [
    "linked_data = [\n",
    "    ['Rick Jones', 'Software Engineer', 909802],\n",
    "    ['Marissa Meyer', 'COO', 9320809],\n",
    "    ['Avril Ting', 'MD', 932846]\n",
    "]"
   ]
  },
  {
   "cell_type": "markdown",
   "metadata": {},
   "source": [
    "##### Q1a\n",
    "Extract Marissa's salary and print her name + salary\n",
    "\n",
    "**Expected output**: \n",
    "    \n",
    "    Marissa Meyer has a salary of $ 9320809"
   ]
  },
  {
   "cell_type": "code",
   "execution_count": 5,
   "metadata": {},
   "outputs": [
    {
     "name": "stdout",
     "output_type": "stream",
     "text": [
      "Marissa Meyer has a salary of $ 9320809\n"
     ]
    }
   ],
   "source": [
    "#Type your code below\n",
    "print('Marissa Meyer has a salary of $ ' + str(linked_data[1][2]))"
   ]
  },
  {
   "cell_type": "markdown",
   "metadata": {},
   "source": [
    "##### Q1b\n",
    "Change Marissa's salary in linked_data to 78973930 & print out her data\n",
    "\n",
    "**Expected output**: \n",
    "\n",
    "    \n",
    "    ['Marissa Meyer', 'COO', 78973930]"
   ]
  },
  {
   "cell_type": "code",
   "execution_count": 15,
   "metadata": {},
   "outputs": [
    {
     "name": "stdout",
     "output_type": "stream",
     "text": [
      "['Marissa Meyer', 'COO', 78973930]\n"
     ]
    }
   ],
   "source": [
    "#Type your code below\n",
    "linked_data[1][2] = 78973930\n",
    "print(linked_data[1])"
   ]
  },
  {
   "cell_type": "markdown",
   "metadata": {},
   "source": [
    "##### Q1c\n",
    "Replace Avril Ting's entire data with the following ['Avril Tan', 'None', 0] & print `linked_data`\n",
    "\n",
    "**Expected output**: \n",
    "\n",
    "    [\n",
    "        ['Rick Jones', 'Software Engineer', 909802],\n",
    "        ['Marissa Meyer', 'COO', 78973930],\n",
    "        ['Avril Tan', 'None', 0]\n",
    "    ]\n",
    "    "
   ]
  },
  {
   "cell_type": "code",
   "execution_count": 16,
   "metadata": {},
   "outputs": [
    {
     "name": "stdout",
     "output_type": "stream",
     "text": [
      "[['Rick Jones', 'Software Engineer', 909802], ['Marissa Meyer', 'COO', 78973930], ['Avril Tan', 'None', 0]]\n"
     ]
    }
   ],
   "source": [
    "#Type your code below\n",
    "linked_data[2] = ['Avril Tan','None', 0] \n",
    "print(linked_data)"
   ]
  },
  {
   "cell_type": "markdown",
   "metadata": {},
   "source": [
    "##### Q1d\n",
    "Add age data using the index method & print the `linked_data`. Age of the three person respectively: 20, 45, 55\n",
    "\n",
    "Hint: Remember the_list[0] = 1000?\n",
    "\n",
    "**Expected output**: \n",
    "\n",
    "    [\n",
    "        ['Rick Jones', 'Software Engineer', 909802, 20],\n",
    "        ['Marissa Meyer', 'COO', 78973930, 45],\n",
    "        ['Avril Tan', 'None', 0, 55]\n",
    "    ]\n",
    "    "
   ]
  },
  {
   "cell_type": "code",
   "execution_count": 36,
   "metadata": {},
   "outputs": [
    {
     "name": "stdout",
     "output_type": "stream",
     "text": [
      "[['Rick Jones', 'Software Engineer', 909802, 20, 20, 20], ['Marissa Meyer', 'COO', 78973930, 45], ['Avril Tan', 'None', 0, 55]]\n"
     ]
    }
   ],
   "source": [
    "#Type your code below\n",
    "linked_data[0].append(20)\n",
    "linked_data[1].append(45)\n",
    "linked_data[2].append(55)\n",
    "print(linked_data)\n"
   ]
  },
  {
   "cell_type": "markdown",
   "metadata": {},
   "source": [
    "### Q2\n",
    "<font color='red'><b>Run this cell first to get the `linked_data`</b></font>"
   ]
  },
  {
   "cell_type": "code",
   "execution_count": 37,
   "metadata": {},
   "outputs": [],
   "source": [
    "linked_data = [{'Name':'Rick Jones', 'Job':'Software Engineer', 'Salary':909802},\n",
    "               {'Name':'Marissa Meyer', 'Job':'COO', 'Salary':9320809},\n",
    "               {'Name':'Avril Ting', 'Job':'MD', 'Salary':932846}]"
   ]
  },
  {
   "cell_type": "markdown",
   "metadata": {},
   "source": [
    "##### Q2a\n",
    "Extract Marissa's salary and print her name + salary\n",
    "\n",
    "**Expected output**: \n",
    "    \n",
    "    Marissa Meyer has a salary of $ 9320809"
   ]
  },
  {
   "cell_type": "code",
   "execution_count": 41,
   "metadata": {},
   "outputs": [
    {
     "name": "stdout",
     "output_type": "stream",
     "text": [
      "Marissa Meyer has a salary of $ 9320809\n"
     ]
    }
   ],
   "source": [
    "#Type your code below\n",
    "Marissa_salary = linked_data[1]['Salary']\n",
    "print('Marissa Meyer has a salary of $ '+ str(Marissa_salary))"
   ]
  },
  {
   "cell_type": "markdown",
   "metadata": {},
   "source": [
    "##### Q2b\n",
    "Change Marissa's salary in linked_data to 78973930 & print out her data\n",
    "\n",
    "**Expected output**: \n",
    "    \n",
    "    { \n",
    "        'Name':'Marissa Meyer', \n",
    "        'Job':'COO', \n",
    "        'Salary':78973930\n",
    "    }"
   ]
  },
  {
   "cell_type": "code",
   "execution_count": 42,
   "metadata": {},
   "outputs": [
    {
     "name": "stdout",
     "output_type": "stream",
     "text": [
      "{'Name': 'Marissa Meyer', 'Job': 'COO', 'Salary': 78973930}\n"
     ]
    }
   ],
   "source": [
    "#Type your code below\n",
    "linked_data[1]['Salary'] = 78973930\n",
    "print(linked_data[1])"
   ]
  },
  {
   "cell_type": "markdown",
   "metadata": {},
   "source": [
    "##### Q2c\n",
    "Replace Avril Ting's entire data with the following `{'Name':'Avril Tan', 'Job':'None', 'Salary':0}` & print `linked_data`\n",
    "\n",
    "**Expected output**: \n",
    "\n",
    "    [\n",
    "        {\n",
    "            'Name':'Rick Jones', \n",
    "            'Job':'Software Engineer', \n",
    "            'Salary':909802\n",
    "        },\n",
    "        {\n",
    "            'Name':'Marissa Meyer', \n",
    "            'Job':'COO', \n",
    "            'Salary':78973930\n",
    "        },\n",
    "        {\n",
    "            'Name':'Avril Tan', \n",
    "            'Job':'None', \n",
    "            'Salary':0\n",
    "        }\n",
    "    ]\n",
    "    "
   ]
  },
  {
   "cell_type": "code",
   "execution_count": 44,
   "metadata": {},
   "outputs": [
    {
     "name": "stdout",
     "output_type": "stream",
     "text": [
      "[{'Name': 'Rick Jones', 'Job': 'Software Engineer', 'Salary': 909802}, {'Name': 'Marissa Meyer', 'Job': 'COO', 'Salary': 78973930}, {'Name': 'Avril Tan', 'Job': 'None', 'Salary': 0}]\n"
     ]
    }
   ],
   "source": [
    "#Type your code below\n",
    "linked_data[2]= {'Name':'Avril Tan', 'Job':'None', 'Salary':0}\n",
    "print(linked_data)"
   ]
  },
  {
   "cell_type": "markdown",
   "metadata": {},
   "source": [
    "##### Q2d\n",
    "Add age data using the index method & print the `linked_data`. Age of the three person respectively: 20, 45, 55\n",
    "\n",
    "Hint: Remember dict['key'] = 1000?\n",
    "\n",
    "Expected output:\n",
    "\n",
    "    [\n",
    "        {\n",
    "            'Name':'Rick Jones', \n",
    "            'Job':'Software Engineer', \n",
    "            'Salary':909802, \n",
    "            'age':20\n",
    "        },\n",
    "        {\n",
    "            'Name':'Marissa Meyer', \n",
    "            'Job':'COO', \n",
    "            'Salary':78973930, \n",
    "            'age':45\n",
    "        },\n",
    "        {\n",
    "            'Name':'Avril Tan', \n",
    "            'Job':'None', \n",
    "            'Salary':0, \n",
    "            'age':55\n",
    "        }\n",
    "    ]\n",
    "    "
   ]
  },
  {
   "cell_type": "code",
   "execution_count": 50,
   "metadata": {},
   "outputs": [
    {
     "name": "stdout",
     "output_type": "stream",
     "text": [
      "[{'Name': 'Rick Jones', 'Job': 'Software Engineer', 'Salary': 909802, 'age': 20}, {'Name': 'Marissa Meyer', 'Job': 'COO', 'Salary': 78973930, 'age': 45}, {'Name': 'Avril Tan', 'Job': 'None', 'Salary': 0, 'age': 55}]\n"
     ]
    }
   ],
   "source": [
    "#Type your code below\n",
    "linked_data[0]['age'] = 20\n",
    "linked_data[1]['age'] = 45\n",
    "linked_data[2]['age'] = 55\n",
    "print(linked_data)"
   ]
  },
  {
   "cell_type": "markdown",
   "metadata": {},
   "source": [
    "### Q3\n",
    "<font color='red'><b>Run this cell first to get the `Department_Employee_data`</b></font>"
   ]
  },
  {
   "cell_type": "code",
   "execution_count": 51,
   "metadata": {},
   "outputs": [],
   "source": [
    "Department_Employee_data= [{'Purchase': ['John', 'Avery', 'Obama'], 'Sales': ['Orea', 'Stark']},\n",
    "                           {'Purchase': [2000, 4000, 10000], 'Sales': [2344, 32442]}]"
   ]
  },
  {
   "cell_type": "markdown",
   "metadata": {},
   "source": [
    "#### Q3a\n",
    "Extract Orea's salary and print her name + salary\n",
    "\n",
    "**Expected output**: \n",
    "    \n",
    "    Orea has a salary of $ 2344"
   ]
  },
  {
   "cell_type": "code",
   "execution_count": 53,
   "metadata": {},
   "outputs": [
    {
     "name": "stdout",
     "output_type": "stream",
     "text": [
      "Orea has  a salary of $ 2344\n"
     ]
    }
   ],
   "source": [
    "#Type your code below\n",
    "salary = Department_Employee_data[1]['Sales'][0]\n",
    "print('Orea has  a salary of $ '+ str(salary))"
   ]
  },
  {
   "cell_type": "markdown",
   "metadata": {},
   "source": [
    "#### Q3b\n",
    "Change Orea's salary to 2398 and print the entire Sales department's salary\n",
    "\n",
    "**Expected output**: \n",
    "    \n",
    "    [2398, 32442]"
   ]
  },
  {
   "cell_type": "code",
   "execution_count": 54,
   "metadata": {},
   "outputs": [
    {
     "name": "stdout",
     "output_type": "stream",
     "text": [
      "[2398, 32442]\n"
     ]
    }
   ],
   "source": [
    "#Type your code below\n",
    "Department_Employee_data[1]['Sales'][0] = 2398\n",
    "print(Department_Employee_data[1]['Sales'])"
   ]
  },
  {
   "cell_type": "code",
   "execution_count": null,
   "metadata": {},
   "outputs": [],
   "source": []
  }
 ],
 "metadata": {
  "kernelspec": {
   "display_name": "Python 3",
   "language": "python",
   "name": "python3"
  },
  "language_info": {
   "codemirror_mode": {
    "name": "ipython",
    "version": 3
   },
   "file_extension": ".py",
   "mimetype": "text/x-python",
   "name": "python",
   "nbconvert_exporter": "python",
   "pygments_lexer": "ipython3",
   "version": "3.6.5"
  }
 },
 "nbformat": 4,
 "nbformat_minor": 2
}
