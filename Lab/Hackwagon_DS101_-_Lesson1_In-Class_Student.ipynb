{
 "cells": [
  {
   "cell_type": "markdown",
   "metadata": {},
   "source": [
    "<center><img src=\"https://i2.wp.com/hackwagon.com/wp-content/uploads/2017/02/Logo-Web-Export.png?ssl=1\" width=200/></center>\n",
    "<h1> Hackwagon DS101 Lesson 1 </h1>\n",
    "<i>prepared by @jonchewyl</i><br>\n",
    "<i>with help from instructor KT</i>\n",
    "<h2> Learning Objectives </h2>\n",
    "1. Being orientated on Jupyter Notebook\n",
    "2. Common arithmetic operations in Python\n",
    "3. The use cases of different data types\n",
    "4. Understand string indexing and slicing\n",
    "5. Understand simple list manipulation\n",
    "6. Perform simple debugging "
   ]
  },
  {
   "cell_type": "markdown",
   "metadata": {},
   "source": [
    "## Python As A Language \n",
    "\n",
    "Like many of the languages of the world, they are just a means of <b>communicating with people</b>. As with languages, some are easier to learn, some are harder to learn. Each language has their own set of rules to form a sentence structure.\n",
    "\n",
    "Think of programming languages as a way to <b> communicate with the computer </b>and each language has their own set of rules (syntax) to follow. Python as a language is one of the easiest to learn because of its relatively relaxed 'rules'.\n"
   ]
  },
  {
   "cell_type": "markdown",
   "metadata": {},
   "source": [
    "## Jupyter Notebook\n",
    "\n",
    "Jupyter Notebook is one of the toolsets that Anaconda Navigator provides for you. Similar to your text editors, it allows to edit texts in a file. Let's get familiar with Jupyter Notebook."
   ]
  },
  {
   "cell_type": "markdown",
   "metadata": {},
   "source": [
    "#### Cell\n",
    "\n",
    "This is a <b>cell</b>. A cell is where you write your codes and texts in Jupyter Notebook. \n",
    "\n"
   ]
  },
  {
   "cell_type": "code",
   "execution_count": null,
   "metadata": {},
   "outputs": [],
   "source": []
  },
  {
   "cell_type": "markdown",
   "metadata": {},
   "source": [
    "<center><img src='https://i.imgur.com/Gu6AkBP.png' width='500'></center>\n",
    "\n",
    "You can not only write Python codes in the cell.  \n",
    "\n",
    "<center><img src='https://i.imgur.com/tb8pU3n.png' width='250'></center>\n",
    "\n",
    "There are 4 different kinds of cells:\n",
    "1. Code\n",
    "2. Markdown\n",
    "3. Raw NBConvert\n",
    "4. Heading\n",
    "\n",
    "We will only be using the <b>Code</b> notebook cell type to do our coding.\n",
    "\n",
    "You can also design your notebook to make it look presentable. Double clicking on a markdown cell like this one will reveal what we called HTML-codes. Don't be afraid when you see something like this. Just <b>shift-enter or shift-return</b> it to make it look 'normal' again."
   ]
  },
  {
   "cell_type": "markdown",
   "metadata": {},
   "source": [
    "#### Function Buttons"
   ]
  },
  {
   "cell_type": "markdown",
   "metadata": {},
   "source": [
    "###### Run & Stop \n",
    "Throughout the course you will be hearing us repeat the word <b>Run</b>. This simply means to execute the code. There are two ways to execute the codes you have written. One is with with run button above, another is to click on a cell and press <b>Shift-Return / Shift-Enter</b> \n",
    "\n",
    "There are instances where your code runs indefinitely. Take the below code for as an example. To stop an instance of a cell. Click on the <b>Stop</b> button above to stop the cell.\n",
    "<center><img src='https://i.imgur.com/kg6Pk82.png' width='250'></center>"
   ]
  },
  {
   "cell_type": "markdown",
   "metadata": {},
   "source": [
    "###### Kernel \n",
    "\n",
    "There are instances where you get weird outputs and errors whilst coding. To resolve it sometimes you must restart your entire notebook. To do so we will click on <b>Kernel</b>, and then <b>Restart and Clear Output</b>.\n",
    "\n",
    "<center><img src='https://i.imgur.com/NWU3nV8.png' width='200'></center>"
   ]
  },
  {
   "cell_type": "markdown",
   "metadata": {},
   "source": [
    "## Python In-Built Functions\n",
    "\n",
    "Just like Excel spreadsheets, there are in-built functions within Python that helps us to quickly do the things we want done. For example:\n",
    "\n",
    "<img src=\"https://i.imgur.com/KSiSVco.png\" />\n",
    "\n",
    "To use them:\n",
    "\n",
    "1. State the function name\n",
    "2. Put in the necessary arguments, surrounded by `()`\n",
    "3. Each argument is separated by commas"
   ]
  },
  {
   "cell_type": "markdown",
   "metadata": {},
   "source": [
    "##### `print( )` \n",
    "\n",
    "The `print()` function is one of the most commonly used function in Python. Not only does it show you the output of your codes, it helps you so much it comes to <b>debugging</b> your codes which will be covered later."
   ]
  },
  {
   "cell_type": "code",
   "execution_count": null,
   "metadata": {},
   "outputs": [],
   "source": []
  },
  {
   "cell_type": "markdown",
   "metadata": {},
   "source": [
    "#### Commenting\n",
    "A way of writing comments/notes to your code so that you can understand what is going on."
   ]
  },
  {
   "cell_type": "code",
   "execution_count": null,
   "metadata": {},
   "outputs": [],
   "source": []
  },
  {
   "cell_type": "markdown",
   "metadata": {},
   "source": [
    "##### `len( )` \n",
    "\n",
    "The `len()` function allows us to find the number of items within a collection"
   ]
  },
  {
   "cell_type": "code",
   "execution_count": null,
   "metadata": {},
   "outputs": [],
   "source": []
  },
  {
   "cell_type": "markdown",
   "metadata": {},
   "source": [
    "## Values & Variables"
   ]
  },
  {
   "cell_type": "markdown",
   "metadata": {},
   "source": [
    "#### Values\n",
    "\n",
    "Just like in real world, we deal with values on a daily basis. Take for example, numbers and texts we use in real life."
   ]
  },
  {
   "cell_type": "markdown",
   "metadata": {},
   "source": [
    "#### Variables\n",
    "\n",
    "Think of variables as <b>boxes that store your value</b>.\n",
    "\n",
    "In excel, we have variable cells.\n",
    "<img src=\"https://i.imgur.com/cm1LCKU.png\" />\n",
    "\n",
    "To refer to these cells, we would use the cell address, `A1`, `B1`, `C1` to get their values.\n",
    "<img src=\"https://i.imgur.com/JjaPa4l.png\" />"
   ]
  },
  {
   "cell_type": "code",
   "execution_count": null,
   "metadata": {},
   "outputs": [],
   "source": []
  },
  {
   "cell_type": "markdown",
   "metadata": {},
   "source": [
    "###### Variables can also be reassigned."
   ]
  },
  {
   "cell_type": "code",
   "execution_count": null,
   "metadata": {},
   "outputs": [],
   "source": []
  },
  {
   "cell_type": "markdown",
   "metadata": {},
   "source": [
    "#### Rules of Variables\n",
    "\n",
    "* Must start with letter\n",
    "* Cannot contain spaces (use `_` instead)\n",
    "* Cannot use the following names `sum`, `list`, `for`, `def`, `if`, `else`\n",
    "\n",
    "Example of invalid names:\n",
    "\n",
    "* `1a`\n",
    "* `a b`\n",
    "\n",
    "Example of valid names:\n",
    "\n",
    "* `a1`\n",
    "* `a_b`"
   ]
  },
  {
   "cell_type": "code",
   "execution_count": null,
   "metadata": {},
   "outputs": [],
   "source": []
  },
  {
   "cell_type": "markdown",
   "metadata": {},
   "source": [
    "When we want to create a variable, we should name them to the appropriate context of what we're coding for. Take the following naming convention for example.\n",
    "\n",
    "Let's get warmed up by creating some simple variables, create the following 3 variables and `print()` them out:\n",
    "1. Your age\n",
    "2. Your dream pay\n",
    "3. How much money you have now"
   ]
  },
  {
   "cell_type": "code",
   "execution_count": null,
   "metadata": {},
   "outputs": [],
   "source": []
  },
  {
   "cell_type": "markdown",
   "metadata": {},
   "source": [
    "### Arithmetic Operations"
   ]
  },
  {
   "cell_type": "markdown",
   "metadata": {},
   "source": [
    "Operators are special characters like the following. They can be used on numbers `int` or `float`\n",
    "\n",
    "* `+` - Add `1 + 1`\n",
    "* `-` - Subtract `1 - 1`\n",
    "* `*` - Multiply `1 * 2`\n",
    "* `/` - Divide `4 / 2 ` \n",
    "* `//` - Floor Division `5//2`\n",
    "* `%` - Modulus `10 / 3`\n",
    "* `**` - Power `10 ** 2`"
   ]
  },
  {
   "cell_type": "code",
   "execution_count": 1,
   "metadata": {},
   "outputs": [
    {
     "data": {
      "text/plain": [
       "1"
      ]
     },
     "execution_count": 1,
     "metadata": {},
     "output_type": "execute_result"
    }
   ],
   "source": [
    "10%3\n"
   ]
  },
  {
   "cell_type": "markdown",
   "metadata": {},
   "source": [
    "### Practice 1 - Arithmetic Operations"
   ]
  },
  {
   "cell_type": "markdown",
   "metadata": {},
   "source": [
    "Find the surface area of a sphere with the following data:\n",
    "    \n",
    "    pi is 3.1415\n",
    "    radius is 4\n",
    "    \n",
    "Formula for surface area of a sphere:\n",
    "   \n",
    "   <center><img src='https://www.mathwarehouse.com/solid-geometry/sphere/images/surface-area/picture-formula-surface-area-sphere.jpg' width='150'></center>\n",
    "   \n",
    "Expected output: `201.06`\n",
    "   \n",
    "   "
   ]
  },
  {
   "cell_type": "code",
   "execution_count": 9,
   "metadata": {},
   "outputs": [
    {
     "name": "stdout",
     "output_type": "stream",
     "text": [
      "201.06192982974676\n"
     ]
    }
   ],
   "source": [
    "import math\n",
    "r = 4\n",
    "Area = 4*math.pi*r**2\n",
    "print(Area)\n",
    "\n"
   ]
  },
  {
   "cell_type": "markdown",
   "metadata": {},
   "source": [
    "## Data Types\n",
    "\n",
    "Just like elements in real life that we can inteprete, for example, Earth, Fire, Water and Air, data types are things that the computer can interprete.\n",
    "\n",
    "\n",
    "| Data Type | type() | Example |\n",
    "|- | -| - |\n",
    "| Integer | `<int>` | `1` |\n",
    "| Float | `<float>` | `1.0` |\n",
    "| String | `<str>` | `\"Hello\"`|\n",
    "| Boolean | `<bool>` | `True` or `False`|"
   ]
  },
  {
   "cell_type": "markdown",
   "metadata": {},
   "source": [
    "### `int` , `float`\n",
    "\n",
    "In Python, numeric values are represented in two kinds of types: <b>Integer</b> and <b>Float</b>. They appear as <font color='green'>Green</font> in Jupyter Notebook."
   ]
  },
  {
   "cell_type": "code",
   "execution_count": null,
   "metadata": {},
   "outputs": [],
   "source": []
  },
  {
   "cell_type": "markdown",
   "metadata": {},
   "source": [
    "### `str`\n",
    "\n",
    "In Python, textual values are represented in `\"` `\"`. They appear as <font color='red'>Red</font> in Jupyter Notebook. \n",
    "\n",
    "<b>It is important to remember the quotations marks! </b>"
   ]
  },
  {
   "cell_type": "code",
   "execution_count": null,
   "metadata": {},
   "outputs": [],
   "source": []
  },
  {
   "cell_type": "markdown",
   "metadata": {},
   "source": [
    "#### STRING CONCATENATION\n",
    "A fancy way of saying: to put 2 strings together\n",
    "\n",
    "Try these:\n",
    "\n",
    "    print(video_title + 'hello world')\n",
    "    print(video_title + 'video_title')\n",
    "    print(video_title + 5)\n",
    "    print(video_title + str(5))\n",
    "    print(video_title * 5)"
   ]
  },
  {
   "cell_type": "code",
   "execution_count": null,
   "metadata": {},
   "outputs": [],
   "source": [
    "video_title = \"despacito\"\n"
   ]
  },
  {
   "cell_type": "markdown",
   "metadata": {},
   "source": [
    "### `bool` \n",
    "Boolean data types are simply computer's way of understanding a yes or no. "
   ]
  },
  {
   "cell_type": "code",
   "execution_count": null,
   "metadata": {},
   "outputs": [],
   "source": []
  },
  {
   "cell_type": "markdown",
   "metadata": {},
   "source": [
    "## Collections\n",
    "\n",
    "Collections are data types that hold many things together. "
   ]
  },
  {
   "cell_type": "markdown",
   "metadata": {},
   "source": [
    "###  `list`\n",
    "\n",
    "Lists are simply an **ordered** collection of other values (anything in this section). You can define a list by:\n",
    "\n",
    "1. Surrounding **values** with `[]`.\n",
    "2. Separating **values** with `,`"
   ]
  },
  {
   "cell_type": "code",
   "execution_count": null,
   "metadata": {},
   "outputs": [],
   "source": []
  },
  {
   "cell_type": "markdown",
   "metadata": {},
   "source": [
    "As a list is a value, you can also have a list of lists, or even a lists of lists of lists\n",
    "\n",
    "<img src=\"https://i.imgur.com/5pEuhuD.png\" width=\"200\"/>"
   ]
  },
  {
   "cell_type": "code",
   "execution_count": null,
   "metadata": {},
   "outputs": [],
   "source": []
  },
  {
   "cell_type": "markdown",
   "metadata": {},
   "source": [
    "### `dict`\n",
    "\n",
    "Dictionaries are an **unordered** collection of values. You define a dictionary by\n",
    "\n",
    "1. Surrounding each value by `{}`\n",
    "2. Giving each value a string label. This label is known as a key.\n",
    "    * Note: The key is surrounded by `\"\"`\n",
    "3. Separating each pair of `key, value` with `,`\n",
    "\n",
    "Note, each label must be unique in the entire dictionary"
   ]
  },
  {
   "cell_type": "code",
   "execution_count": 12,
   "metadata": {},
   "outputs": [
    {
     "data": {
      "text/plain": [
       "'an orange fruit'"
      ]
     },
     "execution_count": 12,
     "metadata": {},
     "output_type": "execute_result"
    }
   ],
   "source": [
    "dict = {'apple': 'a red fruit',\n",
    "       'banana': 'a yellow fruit',\n",
    "       'orange': 'an orange fruit'}\n",
    "#left key, right value\n",
    "\n",
    "dict['orange']"
   ]
  },
  {
   "cell_type": "markdown",
   "metadata": {},
   "source": [
    "Like lists, the `value` can be anything, including another list or dictionary"
   ]
  },
  {
   "cell_type": "code",
   "execution_count": null,
   "metadata": {},
   "outputs": [],
   "source": []
  },
  {
   "cell_type": "markdown",
   "metadata": {},
   "source": [
    "### Data Types in The Real World\n",
    "\n",
    "Let's look at these data types in the real world.\n",
    "\n",
    "1. Queue numbers\n",
    "Let's say you're opening a bubble tea store and you're given queue numbers:\n",
    "\n",
    "    5, 10, 15, 20\n",
    "\n",
    "How would you store the queue numbers? Store them in a variable named `queue`"
   ]
  },
  {
   "cell_type": "code",
   "execution_count": null,
   "metadata": {},
   "outputs": [],
   "source": [
    "queue = [5,10,15,20]"
   ]
  },
  {
   "cell_type": "markdown",
   "metadata": {},
   "source": [
    "**2. Phone Directory **\n",
    "\n",
    "Let's say you're given the following phone numbers to store.\n",
    "\n",
    "* fire: 996\n",
    "* ambulance: 995\n",
    "* police: 999\n",
    "\n",
    "How would you store them? Store them in a variable named `phone_numbers`"
   ]
  },
  {
   "cell_type": "code",
   "execution_count": null,
   "metadata": {},
   "outputs": [],
   "source": [
    "phone_numbers = {'fire': '996',\n",
    "                'ambulance': '995',\n",
    "                'police': '999'}"
   ]
  },
  {
   "cell_type": "markdown",
   "metadata": {},
   "source": [
    "<b>3. Tabular Data </b>\n",
    "\n",
    "Let's say you are given data in the form of a table. \n",
    "\n",
    "| NRIC      | Balance |\n",
    "|-----------|---------|\n",
    "| S91111111 | 5       |\n",
    "| S98888888 | 10      |\n",
    "| S93333333 | 15      |\n",
    "\n",
    "\n",
    "How would you store this data? Store it in a variable named `bank_balances`"
   ]
  },
  {
   "cell_type": "code",
   "execution_count": null,
   "metadata": {},
   "outputs": [],
   "source": [
    "bank_balances = [[S91111111, 5], [S98888888, 10], [S93333333, 15]]"
   ]
  },
  {
   "cell_type": "markdown",
   "metadata": {},
   "source": [
    "##### `type( )` \n",
    "\n",
    "Another important function in python is the `type()` function. This function allows us to find out the data type of each variable, so that we can know which are the proper tools to use for that data type. "
   ]
  },
  {
   "cell_type": "code",
   "execution_count": 15,
   "metadata": {},
   "outputs": [
    {
     "name": "stdout",
     "output_type": "stream",
     "text": [
      "<class 'str'>\n",
      "<class 'int'>\n",
      "<class 'bool'>\n",
      "<class 'float'>\n"
     ]
    }
   ],
   "source": [
    "print(type('apple'))\n",
    "print(type(2))\n",
    "print(type(True))\n",
    "print(type(2.0))"
   ]
  },
  {
   "cell_type": "markdown",
   "metadata": {},
   "source": [
    "### Type Conversion\n",
    "\n",
    "In the real world, and in the duration of the course, we will realise the data we get is not in their relevant types for us to process. This is why we will be using in-built functions to do <b>Type Conversion</b>.\n",
    "\n",
    "Let's take the following as an example."
   ]
  },
  {
   "cell_type": "code",
   "execution_count": 25,
   "metadata": {},
   "outputs": [
    {
     "name": "stdout",
     "output_type": "stream",
     "text": [
      "This sphere has a volume of 268.07\n"
     ]
    }
   ],
   "source": [
    "pi = '3.1415'\n",
    "radius = '4'\n",
    "volume = 4/3*float(pi)*int(radius)**3\n",
    "print('This sphere has a volume of '+str(round(volume,2)))"
   ]
  },
  {
   "cell_type": "markdown",
   "metadata": {},
   "source": [
    "### Practice 2 - Variables & Data Type "
   ]
  },
  {
   "cell_type": "markdown",
   "metadata": {},
   "source": [
    "Using variables you have created the volume of a sphere with the following data:\n",
    "    \n",
    "    pi is 3.1415\n",
    "    radius is 4\n",
    "    \n",
    "Formula for volume of a sphere:\n",
    "   \n",
    "   <center><img src='https://www.onlinemathlearning.com/image-files/xvolume-sphere.png.pagespeed.ic.pAvC9Gxsgu.png' width='200'></center>\n",
    "   \n",
    "Expected output: `This sphere has a volume of 268.07`\n",
    "   "
   ]
  },
  {
   "cell_type": "code",
   "execution_count": 18,
   "metadata": {},
   "outputs": [
    {
     "name": "stdout",
     "output_type": "stream",
     "text": [
      "This sphere has a volume of 268.082573106329\n"
     ]
    }
   ],
   "source": [
    "import math\n",
    "r = 4\n",
    "volume = 4/3*math.pi*r**3\n",
    "print('This sphere has a volume of '+str(volume))"
   ]
  },
  {
   "cell_type": "markdown",
   "metadata": {},
   "source": [
    "## Indexing \n",
    "Indexing is accessing a particular subset of a collection. Collections in Python include\n",
    "\n",
    "* strings (collection of characters)\n",
    "* lists (collection of values)\n",
    "* dictionaries (collection of key value pairs)\n",
    "\n",
    "Indexing is done via a `[]` next to the value you want to index\n",
    "\n",
    "\n",
    "<img src=\"https://i.imgur.com/ar8YmuJ.png\" width=\"200\" />\n"
   ]
  },
  {
   "cell_type": "markdown",
   "metadata": {},
   "source": [
    "### Position Based Indexing\n",
    "\n",
    "<img src=\"http://3.bp.blogspot.com/-VYsiaiWVTsE/Vkwq35ThjbI/AAAAAAAAOLM/jV7TrlboPW8/s1600/IMG_5932.JPG\" width=\"300\">\n",
    "\n",
    "Items in a `str` or `list` are indexed based on their position. In layman terms, imagine you had a stack of books. To get a particular book, you need to get it's position from the top.\n",
    "\n",
    "In python however:\n",
    "\n",
    "* The first item is labelled 0\n",
    "* As a result, if you're looking for the 3rd item you need to tell python to give you the item labelled `2`\n",
    "\n",
    "See the image below for an illustrated example\n",
    "\n",
    "<img src=\"https://i.imgur.com/yJsv5z4.png\" width=\"300\" />\n",
    "\n",
    "The last `\"o\"` in `\"hello\"` is located at position `4`.\n",
    "\n",
    "Similarly, `10` in `[6,7,8,9,10]` is located at position `4`."
   ]
  },
  {
   "cell_type": "markdown",
   "metadata": {},
   "source": [
    "### Taking out an character/item from a string/list"
   ]
  },
  {
   "cell_type": "code",
   "execution_count": 19,
   "metadata": {},
   "outputs": [
    {
     "data": {
      "text/plain": [
       "'l'"
      ]
     },
     "execution_count": 19,
     "metadata": {},
     "output_type": "execute_result"
    }
   ],
   "source": [
    "\"Hello\"[2]"
   ]
  },
  {
   "cell_type": "markdown",
   "metadata": {},
   "source": [
    "### String and List Slicing\n",
    "Let's walk through some examples of string and list slicing."
   ]
  },
  {
   "cell_type": "code",
   "execution_count": null,
   "metadata": {},
   "outputs": [],
   "source": []
  },
  {
   "cell_type": "markdown",
   "metadata": {},
   "source": [
    "#### Getting more than 1 value\n",
    "\n",
    "You can retrieve more than 1 value from a collection by using `[start:stop]`.\n",
    "\n",
    "<img src=\"https://i.imgur.com/a30IyfR.png\" width=\"300\" />\n",
    "\n",
    "Exclusive means that for an index `[x:y]`, you will get all items at position:\n",
    "\n",
    "* $\\ge x$\n",
    "* $\\lt y$"
   ]
  },
  {
   "cell_type": "code",
   "execution_count": 20,
   "metadata": {},
   "outputs": [
    {
     "data": {
      "text/plain": [
       "'Hello'"
      ]
     },
     "execution_count": 20,
     "metadata": {},
     "output_type": "execute_result"
    }
   ],
   "source": [
    "\"Hello\"[:]"
   ]
  },
  {
   "cell_type": "markdown",
   "metadata": {},
   "source": [
    "### Skipping Values\n",
    "\n",
    "You can get every nth item in a list by using `[start:stop:take_every]`\n",
    "\n",
    "<img src=\"https://i.imgur.com/BeZQcbO.png\" width=\"400\" />"
   ]
  },
  {
   "cell_type": "code",
   "execution_count": 21,
   "metadata": {},
   "outputs": [
    {
     "data": {
      "text/plain": [
       "'olleh'"
      ]
     },
     "execution_count": 21,
     "metadata": {},
     "output_type": "execute_result"
    }
   ],
   "source": [
    "\"hello\"[::-1]"
   ]
  },
  {
   "cell_type": "markdown",
   "metadata": {},
   "source": [
    "#### Practice 3 - String Slicing\n",
    "\n",
    "With the data below, let's get the following output:\n",
    "\n",
    "1. `i`\n",
    "2. `Life`\n",
    "3. `I don't know life.`\n",
    "4. `.efil wonk t'nod I .ssehc yalp ot woh wonk t'nod I .ssehc fo emag a ekil si efiL`\n",
    "5. Check if chess is in string. Expected output: `True`"
   ]
  },
  {
   "cell_type": "code",
   "execution_count": 46,
   "metadata": {},
   "outputs": [
    {
     "name": "stdout",
     "output_type": "stream",
     "text": [
      "i\n",
      "Life \n",
      "I don't know life.\n",
      ".efil wonk t'nod I .ssehc yalp ot woh wonk t'nod I .ssehc fo emag a ekil si efiL\n",
      "True\n"
     ]
    }
   ],
   "source": [
    "deep_words = \"Life is like a game of chess. I don't know how to play chess. I don't know life.\"\n",
    "#write code below\n",
    "# q1\n",
    "print(deep_words[1])\n",
    "\n",
    "# q2\n",
    "print(deep_words[:5])\n",
    "\n",
    "# q3\n",
    "print(deep_words[-18:])\n",
    "\n",
    "# q4\n",
    "print(deep_words[::-1])\n",
    "\n",
    "# q5\n",
    "print('chess' in deep_words)"
   ]
  },
  {
   "cell_type": "markdown",
   "metadata": {},
   "source": [
    "### Lists Manipulation\n",
    "How to change things in a list. Let's walk through some examples/functions of list manipulation. "
   ]
  },
  {
   "cell_type": "code",
   "execution_count": 51,
   "metadata": {},
   "outputs": [
    {
     "name": "stdout",
     "output_type": "stream",
     "text": [
      "[20, 21, 22, 24, 27]\n",
      "[20, 21.5, 22, 24, 27]\n",
      "True\n"
     ]
    }
   ],
   "source": [
    "\n",
    "# add values to a list\n",
    "list = [20,21,22,24]\n",
    "list.append(27)\n",
    "print(list)\n",
    "\n",
    "# changing a value \n",
    "list[1] = 21.5 #call the value by index and change\n",
    "print(list)\n",
    "\n",
    "# check if value within\n",
    "print(22 in list)\n",
    "\n",
    "# things that share the same position have the same meaning\n"
   ]
  },
  {
   "cell_type": "markdown",
   "metadata": {},
   "source": [
    "#### Practice 4 - List Manipulation \n",
    "\n",
    "Do the following in sequence and do a `print( )` of your data to see the output:\n",
    "1. Create a list called `video_titles` with 2 video titles of `see you again` , `im yours`, respectively.\n",
    "2. Create a list called `video_views` with `250`, `1000`, respectively.\n",
    "3. Change the `im yours` views from `video_views` to `2000`, based on the lists created above.\n",
    "4. Add a new video title `despacito` to `video_titles`\n",
    "5. Calculate the total video views from `video_views`\n",
    "6. From this list `[10, 20, 30, 40, 50]`, print `[20, 30, 40]`\n",
    "7. From this list `[10, 20, 30, 40, 50]`, get the total number of items.\n",
    "8. Check if `despacito` exists inside `video_titles`."
   ]
  },
  {
   "cell_type": "code",
   "execution_count": 55,
   "metadata": {},
   "outputs": [
    {
     "name": "stdout",
     "output_type": "stream",
     "text": [
      "[250, 2000]\n",
      "['see you again', 'im yours', 'despacito']\n",
      "2250\n",
      "True\n"
     ]
    }
   ],
   "source": [
    "#write code below\n",
    "video_titles = ['see you again', 'im yours']\n",
    "video_views = [250, 1000]\n",
    "\n",
    "video_views[1]= 2000\n",
    "print(video_views)\n",
    "\n",
    "\n",
    "video_titles.append('despacito')\n",
    "print(video_titles)\n",
    "\n",
    "Total_views = video_views[0]+video_views[1]\n",
    "print(Total_views)\n",
    "\n",
    "sum(video_views)\n",
    "\n",
    "\n",
    "len(video_views)\n",
    "\n",
    "print('despacito' in video_titles)"
   ]
  },
  {
   "cell_type": "markdown",
   "metadata": {},
   "source": [
    "#### Nested List Concept\n",
    "During the later part of the course, we will encountering nested lists concepts very often so this is a good opportunity to be exposed to this concept first.\n",
    "\n",
    "The data below is a list of 2 lists, and each inner list has the following structure: \n",
    "\n",
    "\n",
    "|Info | Title | Views | Likes  \n",
    "|-- |------|------|--|\n",
    "|Index| 0 | 1| 2\n",
    "\n",
    "Create the following 4 variables:\n",
    "\n",
    "    despacito_views\n",
    "    despacito_likes\n",
    "    im_yours_views\n",
    "    im_yours_likes"
   ]
  },
  {
   "cell_type": "code",
   "execution_count": null,
   "metadata": {},
   "outputs": [],
   "source": [
    "all_video_information = [\n",
    "    ['despacito', 51320, 5300], \n",
    "    ['im yours', 30000, 2400]\n",
    "]\n"
   ]
  },
  {
   "cell_type": "markdown",
   "metadata": {},
   "source": [
    "## Debugging\n",
    "\n",
    "<img src=\"http://techbeacon.com/sites/default/files/stereotypes_4.png\" width=\"500\">\n",
    "\n",
    "** Technique of debugging **\n",
    "* Rule 1: Set small incremental goals for your program. Don’t try and write large programs all at once. Stop and test your work often as you go by printing out the intermediate outputs. Celebrate small successes!\n",
    "\n",
    "* Rule 2: Use comment to have Python ignore certain lines that are giving you trouble (putting a # infront of your code)\n",
    "\n",
    "* Rule 3: For large programs, use print statement to print out intermediate outputs in order to check the codes\n",
    "\n",
    "* Rule 4: Understand what kind of error you are facing, and Google for potential solutions. Usually, stackoverflow should have the answer you need!"
   ]
  },
  {
   "cell_type": "code",
   "execution_count": null,
   "metadata": {},
   "outputs": [],
   "source": [
    "#Debug the following\n",
    "video_views = '300'\n",
    "video_likes = 10\n",
    "\n",
    "Engagement = video_likes / vide0_views\n",
    "\n",
    "print('The engagement rate is: \" + str(Engagement)"
   ]
  },
  {
   "cell_type": "markdown",
   "metadata": {},
   "source": [
    "### Practice 5 - Debugging \n",
    "\n",
    "There are 4 cells of code below, with some of the most common mistakes people make whilst coding. Solve all 4 bugs! \n",
    "\n",
    "Expected output:  `823.5`"
   ]
  },
  {
   "cell_type": "code",
   "execution_count": 36,
   "metadata": {},
   "outputs": [
    {
     "name": "stdout",
     "output_type": "stream",
     "text": [
      "400423.5\n"
     ]
    }
   ],
   "source": [
    "# do not change the variable directly\n",
    "cash1 = '400'\n",
    "cash2 = '423.5'\n",
    "\n",
    "print(cash1 + cash2)"
   ]
  },
  {
   "cell_type": "markdown",
   "metadata": {},
   "source": [
    "Expected output:  `banana`"
   ]
  },
  {
   "cell_type": "code",
   "execution_count": 41,
   "metadata": {},
   "outputs": [
    {
     "data": {
      "text/plain": [
       "'banana'"
      ]
     },
     "execution_count": 41,
     "metadata": {},
     "output_type": "execute_result"
    }
   ],
   "source": [
    "many_things = ['apple','banana','pear']\n",
    "many_things[1]"
   ]
  },
  {
   "cell_type": "markdown",
   "metadata": {},
   "source": [
    "Expected output:  `pawsome` then `w`"
   ]
  },
  {
   "cell_type": "code",
   "execution_count": 44,
   "metadata": {},
   "outputs": [
    {
     "name": "stdout",
     "output_type": "stream",
     "text": [
      "pawsome\n",
      "w\n"
     ]
    }
   ],
   "source": [
    "hackwagon = \"Awesome pawsome\"\n",
    "print(hackwagon[8:])\n",
    "print(hackwagon[1])"
   ]
  },
  {
   "cell_type": "markdown",
   "metadata": {},
   "source": [
    "Observe and think carefully before running this next cell... If you are stuck, approach a Instructor or TA.\n",
    "\n",
    "Expected output:   `that's all for today`"
   ]
  },
  {
   "cell_type": "code",
   "execution_count": 45,
   "metadata": {},
   "outputs": [
    {
     "name": "stdout",
     "output_type": "stream",
     "text": [
      "that's all for today\n"
     ]
    }
   ],
   "source": [
    "\n",
    "print(\"that's all for today\")"
   ]
  },
  {
   "cell_type": "code",
   "execution_count": null,
   "metadata": {},
   "outputs": [],
   "source": []
  }
 ],
 "metadata": {
  "kernelspec": {
   "display_name": "Python 3",
   "language": "python",
   "name": "python3"
  },
  "language_info": {
   "codemirror_mode": {
    "name": "ipython",
    "version": 3
   },
   "file_extension": ".py",
   "mimetype": "text/x-python",
   "name": "python",
   "nbconvert_exporter": "python",
   "pygments_lexer": "ipython3",
   "version": "3.6.5"
  }
 },
 "nbformat": 4,
 "nbformat_minor": 2
}
