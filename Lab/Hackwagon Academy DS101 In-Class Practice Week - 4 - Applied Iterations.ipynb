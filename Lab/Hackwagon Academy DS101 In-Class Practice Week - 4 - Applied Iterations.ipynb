{
 "cells": [
  {
   "cell_type": "markdown",
   "metadata": {},
   "source": [
    "<img src=\"https://i2.wp.com/hackwagon.com/wp-content/uploads/2017/02/Logo-Web-Export.png?ssl=1\" width=200/>\n",
    "<h1> <center> Hackwagon Academy: DS101 In-Class Practice Week 4</center> </h1>\n",
    "<h2> <center>Applied Iterations</center></h2>\n",
    "<h2> Learning Objectives</h2>\n",
    "\n",
    "1. Recap\n",
    "2. Nested Loops\n",
    "3. Applied Iterations\n",
    "4. Counting With Dictionaries\n",
    "\n",
    "In this chapter, we will use examples to recap the usage of basic iterations to manipulate data in a single list. We will then solve questions that requires us to apply the same concept to manipulate data in a nested list.\n",
    "\n",
    "***A table of important collections functions is on the last part of this notebook for your use***"
   ]
  },
  {
   "cell_type": "markdown",
   "metadata": {},
   "source": [
    "## Recap"
   ]
  },
  {
   "cell_type": "markdown",
   "metadata": {},
   "source": [
    "### CITU Framework\n",
    "1. <b>Create</b> the results container\n",
    "2. <b>Iterate</b> the input data/list\n",
    "3. <b>Test</b> conditions of each value\n",
    "4. <b>Update</b> the results container when condition is fulfilled\n",
    "\n",
    "If we want to recreate the `sum()` function, we will do the following steps."
   ]
  },
  {
   "cell_type": "code",
   "execution_count": null,
   "metadata": {},
   "outputs": [],
   "source": [
    "data = [3, -4, 12, 9, -72, 0, 15]\n",
    "# Write code here\n",
    "# 1. Create the result container\n",
    "total = 0\n",
    "\n",
    "# 2. Loop the data\n",
    "for number in data:\n",
    "    # 3. Test for condition\n",
    "    # Nothing to test\n",
    "    \n",
    "    # 4. Update the results container\n",
    "    # variable_to_update += value_to_add\n",
    "    total += number\n",
    "\n",
    "print(total)"
   ]
  },
  {
   "cell_type": "markdown",
   "metadata": {},
   "source": [
    "### Practice 1\n",
    "#### Question 1\n",
    "\n",
    "Given the following `data`, store the numbers which are <b>negative</b> into a new list called `negatives`. \n",
    "\n",
    "**Expected Output:**\n",
    "    \n",
    "    [-4, -72]"
   ]
  },
  {
   "cell_type": "code",
   "execution_count": null,
   "metadata": {},
   "outputs": [],
   "source": [
    "data = [3, -4, 12, 9, -72, 0, 15]\n",
    "#Write code below\n"
   ]
  },
  {
   "cell_type": "markdown",
   "metadata": {},
   "source": [
    "#### Question 2\n",
    "\n",
    "Given the following `data`, find the list with the highest sum and store it as `highest`. \n",
    "\n",
    "**Expected Output:**\n",
    "    \n",
    "    [70,80,90]"
   ]
  },
  {
   "cell_type": "code",
   "execution_count": null,
   "metadata": {},
   "outputs": [],
   "source": [
    "data_table = [[10,20,30],[70,80,90],[40,50,60]]\n",
    "#Write code below\n",
    "\n"
   ]
  },
  {
   "cell_type": "markdown",
   "metadata": {},
   "source": [
    "## Nested Loops\n",
    "With a single loop, you can only access one row of data. With a loop inside the outer loop, we can access every data within that row of data. Let's look at an example here:\n",
    "\n",
    "**Expected Output:**\n",
    "\n",
    "    cnn\n",
    "    fox_news\n",
    "    exo\n",
    "    snsd\n",
    "    bigbang"
   ]
  },
  {
   "cell_type": "code",
   "execution_count": null,
   "metadata": {},
   "outputs": [],
   "source": [
    "genre_channels = [['cnn','fox_news'],['exo','snsd','bigbang']]\n",
    "\n"
   ]
  },
  {
   "cell_type": "markdown",
   "metadata": {},
   "source": [
    "### Practice 2\n",
    "#### Question 1\n",
    "Given the following `data`, collect all the negative numbers and put them in a new list called `negatives` :\n",
    "\n",
    "**Expected Output:**\n",
    "```\n",
    "    [-4, -72, -5, -20, -42, -15, -4, -25]\n",
    "```"
   ]
  },
  {
   "cell_type": "code",
   "execution_count": null,
   "metadata": {},
   "outputs": [],
   "source": [
    "data = [\n",
    "    [3, -4, 12, 9, -72, 0, 30],\n",
    "    [-5, 4, -20, 9, -42, 0, -15],\n",
    "    [3, -4, 12, 9, 72, -25, 15],\n",
    "]\n",
    "#Write code below\n"
   ]
  },
  {
   "cell_type": "markdown",
   "metadata": {},
   "source": [
    "#### Question 2\n",
    "Given the following `data`, print the following:\n",
    "\n",
    "**Expected Output:**\n",
    "```\n",
    "    a\n",
    "    e\n",
    "    i\n",
    "```"
   ]
  },
  {
   "cell_type": "code",
   "execution_count": null,
   "metadata": {},
   "outputs": [],
   "source": [
    "data = [\n",
    "    [\"a\",\"b\",\"c\"],\n",
    "    [\"d\",\"e\",\"f\"],\n",
    "    [\"g\",\"h\",\"i\"]\n",
    "]\n",
    "#Write code below\n"
   ]
  },
  {
   "cell_type": "markdown",
   "metadata": {},
   "source": [
    "## Applied Iterations\n",
    "Let's try and apply what we have learnt in the past 3 lessons to a real dataset. The following [dataset](https://data.gov.sg/dataset/graduates-from-university-first-degree-courses-by-type-of-course?view_id=fa0e401c-6251-4a15-aebc-a5f3d2c85752&resource_id=eb8b932c-503c-41e7-b513-114cffbe2338) is from Singapore Government's Open Data Portal, Data.gov.sg. \n",
    "\n",
    "When opening the file in Microsoft Excel, it will look like this:\n",
    "\n",
    "<img src=\"https://i.imgur.com/M05Ta23.png\" width=\"400\">\n",
    "\n",
    "<b>Make sure that the data file is in the same folder as your Jupyter Notebook</b>\n",
    "\n",
    "\n",
    "When we execute the codes below, we will get a <b>list of many lists</b>, where <b>one inner list is a row of data</b>, that looks like this\n",
    "```python\n",
    "   [\n",
    "       [ # Row 0\n",
    "           1993, # Year - Index 0\n",
    "           'Males',  # Sex - Index 1\n",
    "           'Education',  # Type of Course - Index 2\n",
    "           0 # No of Graduates - Index 3\n",
    "       ],\n",
    "       [ # Row 1\n",
    "           1993, # Year - Index 0\n",
    "           'Males', # Sex - Index 1\n",
    "           'Applied Arts',  # Type of Course - Index 2\n",
    "            0 # No of Graduates - Index 3\n",
    "       ],\n",
    "       [ # Row 2\n",
    "           1993, # Year  - Index 0\n",
    "           'Males', # Sex - Index 1\n",
    "           'Humanities & Social Sciences',  # Type of Course - Index 2\n",
    "           481# No of Graduates - Index 3\n",
    "       ]\n",
    "   ]\n",
    "\n",
    "```\n",
    "Run the cell below, we will learn more about opening a file in Week 6."
   ]
  },
  {
   "cell_type": "code",
   "execution_count": null,
   "metadata": {},
   "outputs": [],
   "source": [
    "import csv\n",
    "\n",
    "with open('graduates-from-university-first-degree-courses-by-type-of-course.csv', encoding='utf-8') as file:\n",
    "    #\n",
    "    reader = csv.reader(file,delimiter=',')\n",
    "    \n",
    "    #skips column headers\n",
    "    next(reader)\n",
    "    \n",
    "    #container to store all data\n",
    "    all_courses = []\n",
    "    \n",
    "    # goes through every row\n",
    "    for row in reader:\n",
    "        # data cleaning \n",
    "        row[0] = int(row[0]) # Year Data is Cleaned to Int Type\n",
    "        if row[3] == 'na': # Check for 'na'\n",
    "            row[3] = 0\n",
    "        else:\n",
    "            row[3] = int(row[3]) # Change students to Int Type\n",
    "        \n",
    "        # add the row to the container\n",
    "        all_courses.append(row)\n",
    "\n",
    "# previews first 3 row    \n",
    "all_courses[:3]\n"
   ]
  },
  {
   "cell_type": "markdown",
   "metadata": {},
   "source": [
    "When handling any datasets, follow these important steps:\n",
    "\n",
    "1. **Take out** the data we need based on the context\n",
    "2. Based on the question, **apply** the necessary steps on the data you have taken out\n",
    "\n",
    "Using what we've learnt over the past lessons, we're going to answer some basic questions about this dataset. For example:\n",
    "\n",
    "**How many students applied for `Education` over the years?**\n",
    "\n",
    "Based on this question, the variables we need are:\n",
    "1. Type of Course\n",
    "2. No. of Graduates\n",
    "\n",
    "So the process for answering this question should be:\n",
    "\n",
    "1. **Create** the result container\n",
    "2. **Loop** the data\n",
    "3. Take out the 2 variables **(most important step)**\n",
    "4. **Test** the variables to see if they fit the condition\n",
    "5. **Update** the result container\n"
   ]
  },
  {
   "cell_type": "code",
   "execution_count": null,
   "metadata": {},
   "outputs": [],
   "source": [
    "# Write code here\n"
   ]
  },
  {
   "cell_type": "markdown",
   "metadata": {},
   "source": [
    "### Practice 3\n",
    "#### Question 1\n",
    "Based on the following `all_courses`, answer the following question:\n",
    "\n",
    "**How many `Females` students have taken `Law`?**\n",
    "\n",
    "<i>Hint\n",
    "1. What variables do you need?\n",
    "2. What do you have to test for?\n",
    "</i>\n",
    "\n",
    "** Expected Output:**\n",
    "\n",
    "    2574"
   ]
  },
  {
   "cell_type": "code",
   "execution_count": null,
   "metadata": {},
   "outputs": [],
   "source": [
    "# Write code here\n"
   ]
  },
  {
   "cell_type": "markdown",
   "metadata": {},
   "source": [
    "#### Question 2\n",
    "Based on the following `all_courses`, answer the following question:\n",
    "\n",
    "**How many students have taken `Information Technology` between `2000` and `2014`?**\n",
    "\n",
    "<i>Hint\n",
    "1. What variables do you need?\n",
    "2. What do you have to test for?\n",
    "</i>\n",
    "\n",
    "** Expected Output:**\n",
    "\n",
    "    9084"
   ]
  },
  {
   "cell_type": "code",
   "execution_count": null,
   "metadata": {},
   "outputs": [],
   "source": [
    "# Write code here\n"
   ]
  },
  {
   "cell_type": "markdown",
   "metadata": {},
   "source": [
    "## Counting With Dictionaries\n",
    "**The following concept is extremely important**. The collections data types like List and Dictionaries helps us to store many values within a single data type. \n",
    "\n",
    "Dictionaries, however, provide us with the tools to aggregate data and store them. Take the following question as an example.\n",
    "\n",
    "Given this `data`, to count the occurances of each letter, a dictionary would help us count each of these occurances.\n",
    "\n",
    "**Expected Output:**\n",
    "    \n",
    "    {\n",
    "        'a': 3,\n",
    "        'b': 2,\n",
    "        'c': 1\n",
    "    }"
   ]
  },
  {
   "cell_type": "code",
   "execution_count": null,
   "metadata": {},
   "outputs": [],
   "source": [
    "data = ['a','b','a','a','b','c']\n",
    "# Write code below\n"
   ]
  },
  {
   "cell_type": "markdown",
   "metadata": {},
   "source": [
    "### Practice 4\n",
    "#### Question 1\n",
    "Here we have a dataset of employee information. Count the number of `student` and `teacher` that occur.\n",
    "\n",
    "**Expected Output:**\n",
    "\n",
    "    {\n",
    "        'student': 3,\n",
    "        'teacher': 2,  \n",
    "    }"
   ]
  },
  {
   "cell_type": "code",
   "execution_count": null,
   "metadata": {},
   "outputs": [],
   "source": [
    "data = [\n",
    "    {'name': 'kt', 'nric': 'S93250888', 'score': 10, 'occupation': 'student'},\n",
    "    {'name': 'eli', 'nric': 'S93250818', 'score': 5, 'occupation': 'student'},\n",
    "    {'name': 'vera', 'nric': 'S93250288', 'score': 2, 'occupation': 'teacher'},\n",
    "    {'name': 'may', 'nric': 'S93250218', 'score': 7, 'occupation': 'student'},\n",
    "    {'name': 'agnes', 'nric': 'S93250248', 'score': 2, 'occupation': 'teacher'},\n",
    "]\n",
    "#Write code below\n"
   ]
  },
  {
   "cell_type": "markdown",
   "metadata": {},
   "source": [
    "#### Question 2\n",
    "The 11-11 sales is coming, the ads are everywhere. Here we have a list of sales called `lazada_sales`, where each product (inner list): index 0 is the brand, index 1 is the sales made in a single day. This question is very similar to what you will be facing in your YouTube lab exercise.\n",
    "\n",
    "Your task is to collate all the sales for each brand.\n",
    "\n",
    "**Expected Output:**\n",
    "\n",
    "    {'Adidas Superboost': 9,\n",
    "     'Nike Zoom': 7,\n",
    "     'Rolex Submariner': 4,\n",
    "     'Rolex Daytona': 6}\n"
   ]
  },
  {
   "cell_type": "code",
   "execution_count": null,
   "metadata": {},
   "outputs": [],
   "source": [
    "lazada_sales = [\n",
    "    ['Adidas Superboost', 1],\n",
    "    ['Nike Zoom', 1],\n",
    "    ['Nike Zoom', 2],\n",
    "    ['Nike Zoom', 1],\n",
    "    ['Nike Zoom', 1],\n",
    "    ['Adidas Superboost', 2],\n",
    "    ['Nike Zoom', 1],\n",
    "    ['Adidas Superboost', 1],\n",
    "    ['Nike Zoom', 1],\n",
    "    ['Adidas Superboost', 1],\n",
    "    ['Adidas Superboost', 1],\n",
    "    ['Adidas Superboost', 3],\n",
    "    ['Rolex Submariner', 1],\n",
    "    ['Rolex Submariner', 2],\n",
    "    ['Rolex Submariner', 1],\n",
    "    ['Rolex Daytona', 2],\n",
    "    ['Rolex Daytona', 1],\n",
    "    ['Rolex Daytona', 2],\n",
    "    ['Rolex Daytona', 1]\n",
    "]\n",
    "#Write code below\n"
   ]
  },
  {
   "cell_type": "markdown",
   "metadata": {},
   "source": [
    "### References\n",
    "\n",
    "### <center> Important Collections Functions </center>\n",
    "### <center> Creation </center>\n",
    "|Collection Type | Function | Examples |\n",
    "| ---------|---------|---------|\n",
    "| `list` | <center>None</center>| `new_list = []` <br><br> `new_list = [1,2,3,4]` |\n",
    "| `dict` | <center>None</center>| `new_dict = {}` <br><br> `new_dict = {'a': 1, 'b':2}`|\n",
    "\n",
    "### <center> Add / Appending Data </center>\n",
    "|Collection Type | Functions | Examples | Resulting Output|\n",
    "| ---------|---------|---------| ------ |\n",
    "| `list` | <center>`.append()`</center>| `new_list = [1,2,3]` <br><br> `new_list.append(4)` | `[1,2,3,4]`|\n",
    "| `list` | <center>`.extend()`</center>| `new_list = [1,2]` <br><br> `new_list.extend([3,4])` | `[1,2,3,4]`|\n",
    "| `dict` | <center>None</center>| `new_dict = {}` <br><br> `new_dict['a'] = 1` <br><br> `new_dict['b'] = 2` | `{'a': 1, 'b':2}`|\n",
    "\n",
    "### <center> Updating / Changing Data </center>\n",
    "|Collection Type | Functions | Examples | Resulting Output|\n",
    "| ---------|---------|---------| ------ |\n",
    "| `list` | <center>None</center>| `new_list = [1,2,3]` <br><br> `new_list[0] = 5` | `[5,2,3]`|\n",
    "| `dict` | <center>None</center>| `new_dict = {'a': 1, 'b':2}` <br><br> `new_dict['a'] = 10`| `{'a': 10, 'b':2}`|\n",
    "\n",
    "### <center> Accessing / Taking Out Data </center>\n",
    "|Collection Type | Functions | x to be| Examples |\n",
    "| ---------|---------|---------| ------ |\n",
    "| `list` | <center>None</center>| 3 |`new_list = [1,2,3]` <br><br> `x = new_list[2] `|\n",
    "| `list of list` | <center>None</center>|3 |`new_list = [[1,2],[3,4]]` <br><br> `x = new_list[1][0] `|\n",
    "| `list of dict` | <center>None</center>| 2 |`new_list = [{'a':1},{'b':2}]` <br><br> `x = new_list[1]['b'] `|\n",
    "| `dict` | <center>None</center>| 2|`new_dict = {'a': 1, 'b':2}` <br><br> `x = new_dict['b']`|"
   ]
  },
  {
   "cell_type": "code",
   "execution_count": null,
   "metadata": {},
   "outputs": [],
   "source": []
  }
 ],
 "metadata": {
  "kernelspec": {
   "display_name": "Python 3",
   "language": "python",
   "name": "python3"
  },
  "language_info": {
   "codemirror_mode": {
    "name": "ipython",
    "version": 3
   },
   "file_extension": ".py",
   "mimetype": "text/x-python",
   "name": "python",
   "nbconvert_exporter": "python",
   "pygments_lexer": "ipython3",
   "version": "3.6.5"
  }
 },
 "nbformat": 4,
 "nbformat_minor": 2
}
