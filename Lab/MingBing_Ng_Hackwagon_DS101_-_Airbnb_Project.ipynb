{
 "cells": [
  {
   "cell_type": "markdown",
   "metadata": {},
   "source": [
    "<img src=\"https://i2.wp.com/hackwagon.com/wp-content/uploads/2017/02/Logo-Web-Export.png?ssl=1\" width=200/>\n",
    "<h1>Hackwagon Academy - DS101 </h1>\n",
    "\n",
    "<h1>AirBnB Project</h1>\n",
    "\n",
    "<b>Learning Outcomes:</b>\n",
    "- Learn how to translate business requirements into workable applications\n",
    "- Declare variables, and manipulate the variables to perform arithmetic operations\n",
    "- Create a list, append new elements to a list, remove elements from list, and access elements within a list\n",
    "- Create a dictionary, access data, and update information within the dictionary\n",
    "- Be able to aptly make use of if and nested if constructs\n",
    "- Variable conversion\n",
    "- Produce visualisations\n",
    "- Able to come up with insights based on the data \n",
    "\n",
    "This lab exercise consists of 10 questions, with each correct answer to be awarded 2 marks, totalling up to 20 marks.\n",
    "\n",
    "Attempt but minor syntax errors are awarded half the mark."
   ]
  },
  {
   "cell_type": "code",
   "execution_count": 1,
   "metadata": {},
   "outputs": [],
   "source": [
    "#Before you start, please perform the following 2 steps:\n",
    "#1. Rename the file to <First_Name>_<Last_Name>_DS101_Lab_1 e.g. john_doe_DS101_Lab_1\n",
    "\n",
    "#2. Fill in your details here:\n",
    "#Name                    : Ming Bing\n",
    "\n",
    "#Start of Course Class(Edit accordingly): 22 Dec 2018 3.45pm\n",
    "# FOR TA/INSTRUCTOR \n",
    "# Total Marks:  / 20"
   ]
  },
  {
   "cell_type": "markdown",
   "metadata": {},
   "source": [
    "<h3> References </h3>\n",
    "\n",
    "<h3> <center> Important Collections Functions </center> </h3>\n",
    "<h3> <center> Creation </center></h3>\n",
    "\n",
    "|Collection Type | Function | Examples |\n",
    "| ---------|---------|---------|\n",
    "| `list` | <center>None</center>| `new_list = []` <br><br> `new_list = [1,2,3,4]` |\n",
    "| `dict` | <center>None</center>| `new_dict = {}` <br><br> `new_dict = {'a': 1, 'b':2}`|\n",
    "\n",
    "<h3><center> Add / Appending Data </center></h3>\n",
    "\n",
    "|Collection Type | Functions | Examples | Resulting Output|\n",
    "| ---------|---------|---------| ------ |\n",
    "| `list` | <center>`.append()`</center>| `new_list = [1,2,3]` <br><br> `new_list.append(4)` | `[1,2,3,4]`|\n",
    "| `list` | <center>`.extend()`</center>| `new_list = [1,2]` <br><br> `new_list.extend([3,4])` | `[1,2,3,4]`|\n",
    "| `dict` | <center>None</center>| `new_dict = {}` <br><br> `new_dict['a'] = 1` <br><br> `new_dict['b'] = 2` | `{'a': 1, 'b':2}`|\n",
    "\n",
    "<h3> <center> Updating / Changing Data </center></h3>\n",
    "\n",
    "|Collection Type | Functions | Examples | Resulting Output|\n",
    "| ---------|---------|---------| ------ |\n",
    "| `list` | <center>None</center>| `new_list = [1,2,3]` <br><br> `new_list[0] = 5` | `[5,2,3]`|\n",
    "| `dict` | <center>None</center>| `new_dict = {'a': 1, 'b':2}` <br><br> `new_dict['a'] = 10`| `{'a': 10, 'b':2}`|\n",
    "\n",
    "<h3> <center> Accessing / Taking Out Data </center></h3>\n",
    "\n",
    "|Collection Type | Functions | x to be| Examples |\n",
    "| ---------|---------|---------| ------ |\n",
    "| `list` | <center>None</center>| 3 |`new_list = [1,2,3]` <br><br> `x = new_list[2] `|\n",
    "| `list of list` | <center>None</center>|3 |`new_list = [[1,2],[3,4]]` <br><br> `x = new_list[1][0] `|\n",
    "| `list of dict` | <center>None</center>| 2 |`new_list = [{'a':1},{'b':2}]` <br><br> `x = new_list[1]['b'] `|\n",
    "| `dict` | <center>None</center>| 2|`new_dict = {'a': 1, 'b':2}` <br><br> `x = new_dict['b']`|\n",
    "\n",
    "<h3>CITU Framework & Applied Iterations</h3>\n",
    "\n",
    "1. What variables do you need to answer this question?\n",
    "1. <b>Create</b> the results container\n",
    "2. <b>Iterate</b> the input data/list\n",
    "3. <b>Take out the variables you needed in step 1</b>\n",
    "3. <b>Test</b> conditions of each value\n",
    "4. <b>Update</b> the results container when condition is fulfilled\n",
    "\n",
    "<h3> Sorting Values</h3>\n",
    "```python\n",
    "    \n",
    "x = [10,20,50,2,4]\n",
    "x.sort()\n",
    "print(x) # [2,4,10,20,50]\n",
    "x.sort(reverse=True)\n",
    "print(x) # [50,20,10,4,2]\n",
    "```\n",
    "Further explore the .sort() function in the documentation\n",
    "\n",
    "Search up 'list .sort() python 3.0' \n"
   ]
  },
  {
   "cell_type": "markdown",
   "metadata": {},
   "source": [
    "<hr>\n",
    "\n",
    "</hr>\n",
    "<br>\n",
    "</br>\n",
    "\n",
    "<img src=\"http://www.stickpng.com/assets/images/580b57fcd9996e24bc43c513.png\" width=\"400\">\n",
    "<br>\n",
    "</br>\n",
    "<br>\n",
    "</br>\n",
    "<b>Welcome to your final project of Hackwagon Academy DS101! You've come a long way since the start of this course and if you've been on track with our exercises, you should find this doable. </b>\n",
    "\n",
    "Airbnb is an online marketplace and hospitality service, enabling people to lease or rent short-term lodging including vacation rentals, apartment rentals, homestays, hostel beds, or hotel rooms. The company does not own any lodging; it is merely a broker and receives percentage service fees (commissions) from both guests and hosts in conjunction with every booking. In this project, we aim to use algorithms and libraries to mine the reviews people have submitted on Singapore AirBnB rentals in order to provide descriptive analytics.\n",
    "\n",
    "\n",
    "## Load File\n",
    "Load the `airbnb_data.csv` as <b>a list of dictionaries</b>. Once you load the data, you should see something like this:\n",
    "```python\n",
    "    [\n",
    "        {\n",
    "         'listing_id': '1133718',\n",
    "         'survey_id': '1280',\n",
    "         'host_id': '6219420',\n",
    "         'room_type': 'Shared room',\n",
    "         'country': '',\n",
    "         'city': 'Singapore',\n",
    "         'borough': '',\n",
    "         'neighborhood': 'MK03',\n",
    "         'reviews': '9',\n",
    "         'overall_satisfaction': '4.5',\n",
    "         'accommodates': '12',\n",
    "         'bedrooms': '1.0',\n",
    "         'bathrooms': '',\n",
    "         'price': '74.0',\n",
    "         'minstay': '',\n",
    "         'last_modified': '2017-05-17 09:10:25.431659',\n",
    "         'latitude': '1.293354',\n",
    "         'longitude': '103.769226',\n",
    "         'location': '0101000020E6100000E84EB0FF3AF159409C69C2F693B1F43F'\n",
    "        }\n",
    "        ...\n",
    "    ]\n",
    "```"
   ]
  },
  {
   "cell_type": "code",
   "execution_count": 2,
   "metadata": {},
   "outputs": [
    {
     "data": {
      "text/plain": [
       "[{'listing_id': '1133718',\n",
       "  'survey_id': '1280',\n",
       "  'host_id': '6219420',\n",
       "  'room_type': 'Shared room',\n",
       "  'country': '',\n",
       "  'city': 'Singapore',\n",
       "  'borough': '',\n",
       "  'neighborhood': 'MK03',\n",
       "  'reviews': '9',\n",
       "  'overall_satisfaction': '4.5',\n",
       "  'accommodates': '12',\n",
       "  'bedrooms': '1.0',\n",
       "  'bathrooms': '',\n",
       "  'price': '74.0',\n",
       "  'minstay': '',\n",
       "  'last_modified': '2017-05-17 09:10:25.431659',\n",
       "  'latitude': '1.293354',\n",
       "  'longitude': '103.769226',\n",
       "  'location': '0101000020E6100000E84EB0FF3AF159409C69C2F693B1F43F'},\n",
       " {'listing_id': '3179080',\n",
       "  'survey_id': '1280',\n",
       "  'host_id': '15295886',\n",
       "  'room_type': 'Shared room',\n",
       "  'country': '',\n",
       "  'city': 'Singapore',\n",
       "  'borough': '',\n",
       "  'neighborhood': 'TS17',\n",
       "  'reviews': '15',\n",
       "  'overall_satisfaction': '5.0',\n",
       "  'accommodates': '12',\n",
       "  'bedrooms': '1.0',\n",
       "  'bathrooms': '',\n",
       "  'price': '77.0',\n",
       "  'minstay': '',\n",
       "  'last_modified': '2017-05-17 09:10:24.216548',\n",
       "  'latitude': '1.310862',\n",
       "  'longitude': '103.858828',\n",
       "  'location': '0101000020E6100000E738B709F7F659403F1BB96E4AF9F43F'},\n",
       " {'listing_id': '15303457',\n",
       "  'survey_id': '1280',\n",
       "  'host_id': '97053568',\n",
       "  'room_type': 'Shared room',\n",
       "  'country': '',\n",
       "  'city': 'Singapore',\n",
       "  'borough': '',\n",
       "  'neighborhood': 'MK05',\n",
       "  'reviews': '0',\n",
       "  'overall_satisfaction': '0.0',\n",
       "  'accommodates': '14',\n",
       "  'bedrooms': '1.0',\n",
       "  'bathrooms': '',\n",
       "  'price': '60.0',\n",
       "  'minstay': '',\n",
       "  'last_modified': '2017-05-17 09:10:16.969900',\n",
       "  'latitude': '1.333744',\n",
       "  'longitude': '103.764612',\n",
       "  'location': '0101000020E610000044882B67EFF0594093C7D3F20357F53F'},\n",
       " {'listing_id': '13902389',\n",
       "  'survey_id': '1280',\n",
       "  'host_id': '6219420',\n",
       "  'room_type': 'Shared room',\n",
       "  'country': '',\n",
       "  'city': 'Singapore',\n",
       "  'borough': '',\n",
       "  'neighborhood': 'MK03',\n",
       "  'reviews': '0',\n",
       "  'overall_satisfaction': '0.0',\n",
       "  'accommodates': '12',\n",
       "  'bedrooms': '1.0',\n",
       "  'bathrooms': '',\n",
       "  'price': '30.0',\n",
       "  'minstay': '',\n",
       "  'last_modified': '2017-05-17 09:10:15.196321',\n",
       "  'latitude': '1.294119',\n",
       "  'longitude': '103.769178',\n",
       "  'location': '0101000020E61000005FB35C363AF15940971DE21FB6B4F43F'},\n",
       " {'listing_id': '13902391',\n",
       "  'survey_id': '1280',\n",
       "  'host_id': '6219420',\n",
       "  'room_type': 'Shared room',\n",
       "  'country': '',\n",
       "  'city': 'Singapore',\n",
       "  'borough': '',\n",
       "  'neighborhood': 'MK03',\n",
       "  'reviews': '1',\n",
       "  'overall_satisfaction': '0.0',\n",
       "  'accommodates': '12',\n",
       "  'bedrooms': '1.0',\n",
       "  'bathrooms': '',\n",
       "  'price': '30.0',\n",
       "  'minstay': '',\n",
       "  'last_modified': '2017-05-17 09:10:15.170457',\n",
       "  'latitude': '1.292766',\n",
       "  'longitude': '103.768432',\n",
       "  'location': '0101000020E6100000CB4C69FD2DF159407F17B6662BAFF43F'},\n",
       " {'listing_id': '13523873',\n",
       "  'survey_id': '1280',\n",
       "  'host_id': '51507525',\n",
       "  'room_type': 'Shared room',\n",
       "  'country': '',\n",
       "  'city': 'Singapore',\n",
       "  'borough': '',\n",
       "  'neighborhood': 'MK29',\n",
       "  'reviews': '0',\n",
       "  'overall_satisfaction': '0.0',\n",
       "  'accommodates': '3',\n",
       "  'bedrooms': '1.0',\n",
       "  'bathrooms': '',\n",
       "  'price': '14.0',\n",
       "  'minstay': '',\n",
       "  'last_modified': '2017-05-17 09:10:15.160798',\n",
       "  'latitude': '1.353842',\n",
       "  'longitude': '103.94509',\n",
       "  'location': '0101000020E6100000B471C45A7CFC59403F389F3A56A9F53F'},\n",
       " {'listing_id': '13916549',\n",
       "  'survey_id': '1280',\n",
       "  'host_id': '81373064',\n",
       "  'room_type': 'Shared room',\n",
       "  'country': '',\n",
       "  'city': 'Singapore',\n",
       "  'borough': '',\n",
       "  'neighborhood': 'TS07',\n",
       "  'reviews': '1',\n",
       "  'overall_satisfaction': '0.0',\n",
       "  'accommodates': '4',\n",
       "  'bedrooms': '1.0',\n",
       "  'bathrooms': '',\n",
       "  'price': '64.0',\n",
       "  'minstay': '',\n",
       "  'last_modified': '2017-05-17 09:10:03.535733',\n",
       "  'latitude': '1.28861',\n",
       "  'longitude': '103.848624',\n",
       "  'location': '0101000020E610000072A609DB4FF65940E7C6F484259EF43F'},\n",
       " {'listing_id': '10001615',\n",
       "  'survey_id': '1280',\n",
       "  'host_id': '50960671',\n",
       "  'room_type': 'Shared room',\n",
       "  'country': '',\n",
       "  'city': 'Singapore',\n",
       "  'borough': '',\n",
       "  'neighborhood': 'TS04',\n",
       "  'reviews': '31',\n",
       "  'overall_satisfaction': '4.5',\n",
       "  'accommodates': '16',\n",
       "  'bedrooms': '1.0',\n",
       "  'bathrooms': '',\n",
       "  'price': '78.0',\n",
       "  'minstay': '',\n",
       "  'last_modified': '2017-05-17 09:10:03.528785',\n",
       "  'latitude': '1.286715',\n",
       "  'longitude': '103.848313',\n",
       "  'location': '0101000020E610000063F19BC24AF65940BC5CC4776296F43F'}]"
      ]
     },
     "execution_count": 2,
     "metadata": {},
     "output_type": "execute_result"
    }
   ],
   "source": [
    "#Write code below\n",
    "import csv\n",
    "\n",
    "#Write code below\n",
    "with open('airbnb_data.csv',encoding='utf-8') as file:\n",
    "    airbnb_data=[]\n",
    "    reader=csv.DictReader(file,delimiter=',')\n",
    "    for row in reader:\n",
    "        airbnb_data.append(dict(row))\n",
    "    \n",
    "airbnb_data[0:8]"
   ]
  },
  {
   "cell_type": "markdown",
   "metadata": {},
   "source": [
    "### Question 1 - Data Cleaning\n",
    "Preview your data and clean them to appropriate type. Namely these columns:\n",
    "1. `overall_satisfaction`\n",
    "2. `price`\n",
    "3. `longtitude`\n",
    "4. `latitude`\n",
    "5. `reviews`\n",
    "\n",
    "<b>Expected Output:</b>\n",
    "```python\n",
    "    {\n",
    "        'listing_id': '1133718',\n",
    "        'survey_id': '1280',\n",
    "        'host_id': '6219420',\n",
    "        'room_type': 'Shared room',\n",
    "        'country': '',\n",
    "        'city': 'Singapore',\n",
    "        'borough': '',\n",
    "        'neighborhood': 'MK03',\n",
    "        'reviews': 9.0,\n",
    "        'overall_satisfaction': 4.5,\n",
    "        'accommodates': '12',\n",
    "        'bedrooms': '1.0',\n",
    "        'bathrooms': '',\n",
    "        'price': 74.0,\n",
    "        'minstay': '',\n",
    "        'last_modified': '2017-05-17 09:10:25.431659',\n",
    "        'latitude': 1.293354,\n",
    "        'longitude': 103.769226,\n",
    "        'location': '0101000020E6100000E84EB0FF3AF159409C69C2F693B1F43F'\n",
    "    }\n",
    "```"
   ]
  },
  {
   "cell_type": "code",
   "execution_count": 3,
   "metadata": {},
   "outputs": [
    {
     "name": "stdout",
     "output_type": "stream",
     "text": [
      "{'listing_id': '1133718', 'survey_id': '1280', 'host_id': '6219420', 'room_type': 'Shared room', 'country': '', 'city': 'Singapore', 'borough': '', 'neighborhood': 'MK03', 'reviews': 9.0, 'overall_satisfaction': 4.5, 'accommodates': '12', 'bedrooms': '1.0', 'bathrooms': '', 'price': 74.0, 'minstay': '', 'last_modified': '2017-05-17 09:10:25.431659', 'latitude': 1.293354, 'longitude': 103.769226, 'location': '0101000020E6100000E84EB0FF3AF159409C69C2F693B1F43F'}\n"
     ]
    }
   ],
   "source": [
    "#Write code below\n",
    "import re\n",
    "for room in airbnb_data:\n",
    "    room['overall_satisfaction']=float(room['overall_satisfaction'])\n",
    "    room['price']=float(room['price'])\n",
    "    room['longitude']=float(room['longitude'])\n",
    "    room['latitude']=float(room['latitude'])\n",
    "    room['reviews']=float(room['reviews'])\n",
    "print(airbnb_data[0])\n"
   ]
  },
  {
   "cell_type": "markdown",
   "metadata": {},
   "source": [
    "## Descriptive Analytics Report Generation\n",
    "The data team at AirBnB wishes to find out the answers to a few simple questions on the existing rooms in Singapore. Your goal is to manipulate the data you have stored in the list of dictionaries to generate a report for the following questions:"
   ]
  },
  {
   "cell_type": "markdown",
   "metadata": {},
   "source": [
    "### Question 2 - Which hosts in Singapore have more than 30 listings. How many of such hosts do we have?\n",
    "\n",
    "<i> Hint\n",
    "1. Counting with dictionaries concept\n",
    "2. Requires 2 INDEPENDENT for loops\n",
    "    - first gets all the counts\n",
    "    - second filters\n",
    "</i>\n",
    "\n",
    "<b>Expected Output:</b>\n",
    "    \n",
    "    28"
   ]
  },
  {
   "cell_type": "code",
   "execution_count": 4,
   "metadata": {},
   "outputs": [
    {
     "name": "stdout",
     "output_type": "stream",
     "text": [
      "28\n"
     ]
    }
   ],
   "source": [
    "#Write code below\n",
    "host={}\n",
    "for room in airbnb_data:\n",
    "    host_id=room['host_id']\n",
    "    if host_id in host:\n",
    "        host[host_id]+=1\n",
    "    else:\n",
    "        host[host_id]=1\n",
    "\n",
    "host_freq=0\n",
    "for host_id in host:\n",
    "    if host[host_id]>30:\n",
    "        host_freq+=1\n",
    "print(host_freq)\n"
   ]
  },
  {
   "cell_type": "markdown",
   "metadata": {},
   "source": [
    "### Question 3 - What is the average price of the listings in the neighbourhood ```MK03```?\n",
    "\n",
    "<i> Hint\n",
    "1. Create the appropriate containers to get average\n",
    "2. Check the neighborhood\n",
    "</i>\n",
    "\n",
    "<b>Expected Output:</b>\n",
    "\n",
    "    76.91875"
   ]
  },
  {
   "cell_type": "code",
   "execution_count": 5,
   "metadata": {},
   "outputs": [
    {
     "name": "stdout",
     "output_type": "stream",
     "text": [
      "76.91875\n"
     ]
    }
   ],
   "source": [
    "#Write code below\n",
    "total_price=0\n",
    "num_of_rooms=0\n",
    "for row in airbnb_data:\n",
    "    if row['neighborhood']=='MK03':\n",
    "        total_price += row['price']\n",
    "        num_of_rooms += 1\n",
    "print(total_price/num_of_rooms)"
   ]
  },
  {
   "cell_type": "markdown",
   "metadata": {},
   "source": [
    "### Question 4 - What are the *top 10 priciest listings in Singapore*? List the `listing_id` as well as `price`.\n",
    "\n",
    "<i> Hint\n",
    "1. Create a list that will store many listing_id - price pairs\n",
    "2. Sort once you have this list of pairs\n",
    "3. Look up the sorting documentation (search 'python 3 sort()')\n",
    "</i>\n",
    "\n",
    "<b>Expected Output:</b>\n",
    "\n",
    "    [\n",
    "        ['16395877', 8023.0], \n",
    "        ['9815599', 3309.0], \n",
    "        ['13117403', 3029.0], \n",
    "        ['17794853', 2206.0], \n",
    "        ['14620083', 2164.0], \n",
    "        ['16327246', 2059.0], \n",
    "        ['5775503', 1103.0], \n",
    "        ['12372683', 1029.0], \n",
    "        ['15861144', 1027.0], \n",
    "        ['9020629', 981.0]\n",
    "    ]"
   ]
  },
  {
   "cell_type": "code",
   "execution_count": 6,
   "metadata": {},
   "outputs": [
    {
     "name": "stdout",
     "output_type": "stream",
     "text": [
      "[['16395877', 8023.0], ['9815599', 3309.0], ['13117403', 3029.0], ['17794853', 2206.0], ['14620083', 2164.0], ['16327246', 2059.0], ['5775503', 1103.0], ['12372683', 1029.0], ['15861144', 1027.0], ['9020629', 981.0]]\n"
     ]
    }
   ],
   "source": [
    "#Write code below\n",
    "listing_id_and_price = []\n",
    "for row in airbnb_data:\n",
    "    listing_id = row['listing_id']\n",
    "    price = row['price']\n",
    "    listing_id_and_price.append([listing_id, price])\n",
    "\n",
    "listing_id_and_price.sort(reverse = True, key = lambda x: x[1])\n",
    "print(listing_id_and_price[:10])\n"
   ]
  },
  {
   "cell_type": "markdown",
   "metadata": {},
   "source": [
    "### Question 5 - What are the top 10 most expensive neighborhoods based on their average price, with at least 10 listings?\n",
    "<i> Hint\n",
    "1. Advanced counting with dictionary concept\n",
    "1. Requires 2 INDEPENDENT for loops\n",
    "    - First loop \n",
    "        - Counts with dictionary, with key as neighborhood and value as a list of all prices\n",
    "    \n",
    "    - Create a list for second loop \n",
    "    - Second loop\n",
    "        - Filters out the lists with at least 10 listings\n",
    "        - Stores neighborhood and average_price into that list \n",
    "3. Sort that list like question 2\n",
    "</i>\n",
    "\n",
    "<b>Expected Output:</b>\n",
    "\n",
    "    [\n",
    "        ['MK34', 1428.6666666666667],\n",
    "        ['TS01', 279.1818181818182],\n",
    "        ['TS30', 213.51351351351352],\n",
    "        ['TS27', 191.94495412844037],\n",
    "        ['TS02', 153.48648648648648],\n",
    "        ['TS29', 149.7111111111111],\n",
    "        ['TS25', 148.73529411764707],\n",
    "        ['MK17', 145.51006711409397],\n",
    "        ['TS03', 140.09558823529412],\n",
    "        ['TS05', 138.42]\n",
    "    ]"
   ]
  },
  {
   "cell_type": "code",
   "execution_count": 7,
   "metadata": {},
   "outputs": [
    {
     "data": {
      "text/plain": [
       "[['MK34', 1428.6666666666667],\n",
       " ['TS01', 279.1818181818182],\n",
       " ['TS30', 213.51351351351352],\n",
       " ['TS27', 191.94495412844037],\n",
       " ['TS02', 153.48648648648648],\n",
       " ['TS29', 149.7111111111111],\n",
       " ['TS25', 148.73529411764707],\n",
       " ['MK17', 145.51006711409397],\n",
       " ['TS03', 140.09558823529412],\n",
       " ['TS05', 138.42]]"
      ]
     },
     "execution_count": 7,
     "metadata": {},
     "output_type": "execute_result"
    }
   ],
   "source": [
    "#Write code below\n",
    "host = {}\n",
    "filtered_list = []\n",
    "for row in airbnb_data:\n",
    "    neighborhood = row['neighborhood']\n",
    "    price = row['price']\n",
    "    if neighborhood not in host:\n",
    "        host[neighborhood] = [price]\n",
    "    else:\n",
    "        host[neighborhood].append(price)\n",
    "for k,v in host.items():\n",
    "    if len(v) >10:\n",
    "        filtered_list.append([k, sum(v)/len(v)])\n",
    "\n",
    "filtered_list.sort(reverse=True, key=lambda x:x[1])\n",
    "filtered_list[:10]"
   ]
  },
  {
   "cell_type": "markdown",
   "metadata": {},
   "source": [
    "### Question 6 - For hosts that host more than 10 listings, what are the top 10 host_id has the highest average satisfaction level where each listing has at least had 1 review?\n",
    "<i> Hint\n",
    "1. Similar to question 5\n",
    "2. Advanced counting with dictionary concept\n",
    "3. Requires 2 INDEPENDENT for loops\n",
    "    - First loop \n",
    "        - Counts with dictionary, with key as host and value as a list of all satisfaction\n",
    "    \n",
    "    - Create a list for second loop \n",
    "    - Second loop\n",
    "        - Filters out the lists with at least 10 listings\n",
    "        - Stores host_id and average satisfaction into that list \n",
    "4. Sort that list like question 2\n",
    "</i>\n",
    "\n",
    "<b>Expected Output:</b>\n",
    "\n",
    "    [\n",
    "        ['4705949', 4.8],\n",
    "        ['882659', 4.75],\n",
    "        ['20828188', 4.730769230769231],\n",
    "        ['6609641', 4.5],\n",
    "        ['20874965', 4.433333333333334],\n",
    "        ['17526618', 4.375],\n",
    "        ['19689637', 4.346153846153846],\n",
    "        ['14521708', 4.315384615384615],\n",
    "        ['3544325', 4.266666666666667],\n",
    "        ['23722617', 4.205882352941177]\n",
    "    ]"
   ]
  },
  {
   "cell_type": "code",
   "execution_count": 8,
   "metadata": {},
   "outputs": [
    {
     "name": "stdout",
     "output_type": "stream",
     "text": [
      "[['4705949', 4.8], ['882659', 4.75], ['20828188', 4.730769230769231], ['6609641', 4.5], ['20874965', 4.433333333333334], ['17526618', 4.375], ['19689637', 4.346153846153846], ['14521708', 4.315384615384615], ['3544325', 4.266666666666667], ['23722617', 4.205882352941177]]\n"
     ]
    }
   ],
   "source": [
    "#Write code below\n",
    "host_dict = {}\n",
    "for row in airbnb_data:\n",
    "    host_id=row['host_id']\n",
    "    satisfaction= row['overall_satisfaction']\n",
    "    reviews=row['reviews']\n",
    "    if reviews>=1:\n",
    "        if host_id not in host_dict:\n",
    "            host_dict[host_id] = [satisfaction]\n",
    "        else:\n",
    "            host_dict[host_id].append(satisfaction)\n",
    "\n",
    "satisfaction_list=[]\n",
    "for k,v in host_dict.items():\n",
    "    if len(v)>10:\n",
    "        satisfaction_list.append([k, sum(v)/len(v)])\n",
    "        \n",
    "satisfaction_list.sort(reverse=True, key= lambda x:x[1])\n",
    "print(satisfaction_list[:10])"
   ]
  },
  {
   "cell_type": "markdown",
   "metadata": {},
   "source": [
    "## Visualisation"
   ]
  },
  {
   "cell_type": "markdown",
   "metadata": {},
   "source": [
    "### Question 7 - With the neighborhood ids in question 5, plot a geographical representation (scatter plot) of all the listings found in each of the top 10 neighborhoods\n",
    "<i> Hint\n",
    "1. Get all the neighborhood id in a list\n",
    "2. Create the x and y axis lists\n",
    "3. Check that neighbourhood id list against the whole data set and append lat and lon accordingly\n",
    "4. Plot as a scatterplot\n",
    "</i>\n"
   ]
  },
  {
   "cell_type": "code",
   "execution_count": 28,
   "metadata": {},
   "outputs": [
    {
     "name": "stdout",
     "output_type": "stream",
     "text": [
      "['MK34', 'TS01', 'TS30', 'TS27', 'TS02', 'TS29', 'TS25', 'MK17', 'TS03', 'TS05']\n"
     ]
    },
    {
     "data": {
      "text/plain": [
       "<matplotlib.collections.PathCollection at 0x17023e99be0>"
      ]
     },
     "execution_count": 28,
     "metadata": {},
     "output_type": "execute_result"
    },
    {
     "data": {
      "image/png": "[encoded data removed]",
      "text/plain": [
       "<Figure size 432x288 with 1 Axes>"
      ]
     },
     "metadata": {},
     "output_type": "display_data"
    }
   ],
   "source": [
    "# Remember to import the relevant library/libraries!\n",
    "#Write code below\n",
    "import matplotlib.pyplot as plt\n",
    "\n",
    "%matplotlib inline\n",
    "fig = plt.figure(figsize = (6,4))\n",
    "plt.ylabel('Latitude')\n",
    "plt.xlabel('Longitude')\n",
    "plt.title(\"Geographical representation of top 10 neighbouhood\")\n",
    "top_10_neighbourhood_id=[]\n",
    "lat=[]\n",
    "lon=[]\n",
    "count = 0\n",
    "\n",
    "for i in filtered_list[:10]:\n",
    "    top_10_neighbourhood_id.append(i[0])\n",
    "for count in range(10):\n",
    "    for row in airbnb_data:\n",
    "        latitude = row['latitude']\n",
    "        longitude = row['longitude']\n",
    "        neighbourhoodid = row['neighborhood']\n",
    "        if neighbourhoodid == top_10_neighbourhood_id[count]:\n",
    "            lat.append(row['latitude'])\n",
    "            lon.append(row['longitude'])\n",
    "            \n",
    "print(top_10_neighbourhood_id)        \n",
    "plt.scatter(lon,lat)"
   ]
  },
  {
   "cell_type": "markdown",
   "metadata": {},
   "source": [
    "### Question 8 - With the host ids in question 6, plot a geographical representation (scatter plot) of all the listings found in each of top 10 host ids\n",
    "<i> Hint\n",
    "1. Get all the host id in a list\n",
    "2. Create the x and y axis lists\n",
    "3. Check the host id list against the whole data set and append lat and lon accordingly\n",
    "4. Plot as a scatterplot\n",
    "</i>"
   ]
  },
  {
   "cell_type": "code",
   "execution_count": 26,
   "metadata": {},
   "outputs": [
    {
     "name": "stdout",
     "output_type": "stream",
     "text": [
      "['4705949', '882659', '20828188', '6609641', '20874965', '17526618', '19689637', '14521708', '3544325', '23722617']\n"
     ]
    },
    {
     "data": {
      "text/plain": [
       "<matplotlib.collections.PathCollection at 0x17023f58be0>"
      ]
     },
     "execution_count": 26,
     "metadata": {},
     "output_type": "execute_result"
    },
    {
     "data": {
      "image/png": "[encoded data removed]",
      "text/plain": [
       "<Figure size 432x288 with 1 Axes>"
      ]
     },
     "metadata": {},
     "output_type": "display_data"
    }
   ],
   "source": [
    "#Write code below\n",
    "\n",
    "fig = plt.figure(figsize = (6,4))\n",
    "plt.ylabel('Latitude')\n",
    "plt.xlabel('Longitude')\n",
    "plt.title(\"Geographical representation of top 10 host_ids\")\n",
    "top_10_host_id=[]\n",
    "lat=[]\n",
    "lon=[]\n",
    "count = 0\n",
    "\n",
    "for i in satisfaction_list[:10]:\n",
    "    top_10_host_id.append(i[0])\n",
    "for count in range(10):\n",
    "    for row in airbnb_data:\n",
    "        latitude = row['latitude']\n",
    "        longitude = row['longitude']\n",
    "        hostid = row['host_id']\n",
    "        if hostid == top_10_host_id[count]:\n",
    "            lat.append(row['latitude'])\n",
    "            lon.append(row['longitude'])\n",
    "        \n",
    "\n",
    "            \n",
    "\n",
    "print(top_10_host_id)\n",
    "plt.scatter(lon, lat)"
   ]
  },
  {
   "cell_type": "markdown",
   "metadata": {},
   "source": [
    "### Satisfaction Map\n",
    "\n",
    "The data team at AirBnB wishes to find out which region of Singapore has rooms that people are generally more satisfied with. Any room which has a rating `>4` would indicate a highly satisfactory room, and `>=2.5` would indicate an average room. Any rating `<2.5` indicates an unsatisfactory room. \n",
    "\n",
    "<b>The AirBnB team hypothesised that the North-East region of Singapore has more rooms with higher satisfaction rating.</b> \n",
    "\n",
    "As the data team, your goal is to find out whether the hypothesis stands true by providing descriptive analytics to allow the AirBnB team to better visualise the satisfaction levels for the whole of Singapore.\n",
    "\n",
    "Given the dataset provided to us, each room has a geographical location specified by its longtitude and latitude. Longtitude and latitude can be considered to be merely a set of X and Y coordinates on an axis, where the format follows such a manner e.g. `(103.76922, 1.293354)`. What this means for us is that, geographical locations on a map can be represented easily on a scatter plot. This allows us to make use of our pre-existing knowledge on the construction of scatter plots to build a simple heatmap to visualise the satisfaction levels of different rooms in Singapore!\n",
    "\n",
    "> __Note:__ Consult existing heatmap-through-scatterplot examples, consider the following resource: http://geodesygina.com/matplotlib.html <br>\n",
    "> Focus on how the data are prepared for visualization and after the preparation, look at the part on __\"Coloring Points in a Scatter Plot\" __"
   ]
  },
  {
   "cell_type": "markdown",
   "metadata": {},
   "source": [
    "### Question 9 - Overall Satisfaction Map"
   ]
  },
  {
   "cell_type": "code",
   "execution_count": 29,
   "metadata": {},
   "outputs": [
    {
     "data": {
      "image/png": "[encoded data removed]",
      "text/plain": [
       "<Figure size 432x288 with 2 Axes>"
      ]
     },
     "metadata": {},
     "output_type": "display_data"
    }
   ],
   "source": [
    "#Write code below\n",
    "%matplotlib inline\n",
    "lat = []\n",
    "lon = []\n",
    "satisfaction = []\n",
    "\n",
    "for row in airbnb_data:\n",
    "    satisfaction.append(float(row[\"overall_satisfaction\"]))\n",
    "    lat.append(float(row[\"latitude\"]))\n",
    "    lon.append(float(row[\"longitude\"]))\n",
    "\n",
    "max_satisfaction = max(satisfaction)\n",
    "min_satisfaction = min(satisfaction)\n",
    "color_by = satisfaction\n",
    "\n",
    "fig, ax = plt.subplots()\n",
    "\n",
    "plt.xlabel(\"Latitude\")\n",
    "plt.ylabel(\"Longitude\")\n",
    "plt.title(\"Overall satisfaction of AirBnB rooms by coordinates\")\n",
    "\n",
    "s=plt.scatter(lon,\n",
    "            lat, \n",
    "            c=color_by,\n",
    "            cmap = plt.cm.coolwarm,\n",
    "            vmin=min_satisfaction,\n",
    "            vmax=max_satisfaction)\n",
    "\n",
    "cbar = plt.colorbar(mappable=s, ax=ax)\n",
    "cbar.set_label(\"Colour Scheme\")\n",
    "plt.show()"
   ]
  },
  {
   "cell_type": "markdown",
   "metadata": {},
   "source": [
    "### Question 10 - Conclusion \n",
    "Based on the findings above can you find out: \n",
    "\n",
    "1. Where are the neighbourhoods with the highest average price? \n",
    "2. Where are the host_ids with  the highest average satisfactions?\n",
    "3. Whether the question 9 hypothesis holds true?\n",
    "\n",
    "Any other insights can you find based on question 2 to 9?"
   ]
  },
  {
   "cell_type": "code",
   "execution_count": null,
   "metadata": {},
   "outputs": [],
   "source": [
    "# Write a short sentence answer on the question above as comments below\n",
    "# 1. neighbourhood mk34, sentosa\n",
    "# 2. east, tanah merah and upper changi mrt area\n",
    "# 3. Difficult to prove that hypothesis is true based on the satisfaction map as the colours are evenly spread across the\n",
    "#    map. Hence, hypothesis is false"
   ]
  }
 ],
 "metadata": {
  "kernelspec": {
   "display_name": "Python 3",
   "language": "python",
   "name": "python3"
  },
  "language_info": {
   "codemirror_mode": {
    "name": "ipython",
    "version": 3
   },
   "file_extension": ".py",
   "mimetype": "text/x-python",
   "name": "python",
   "nbconvert_exporter": "python",
   "pygments_lexer": "ipython3",
   "version": "3.6.5"
  }
 },
 "nbformat": 4,
 "nbformat_minor": 2
}
