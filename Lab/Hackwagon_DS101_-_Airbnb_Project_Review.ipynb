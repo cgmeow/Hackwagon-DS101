{
 "cells": [
  {
   "cell_type": "markdown",
   "metadata": {},
   "source": [
    "<img src=\"https://i2.wp.com/hackwagon.com/wp-content/uploads/2017/02/Logo-Web-Export.png?ssl=1\" width=200/>\n",
    "<h1> Hackwagon Academy - DS101 </h1>\n",
    "\n",
    "<h1> AirBnB Project </h1>\n",
    "\n",
    "<b>Learning Outcomes:</b>\n",
    "- Learn how to translate business requirements into workable applications\n",
    "- Declare variables, and manipulate the variables to perform arithmetic operations\n",
    "- Create a list, append new elements to a list, remove elements from list, and access elements within a list\n",
    "- Create a dictionary, access data, and update information within the dictionary\n",
    "- Be able to aptly make use of if and nested if constructs\n",
    "- Variable conversion\n",
    "- Produce visualisations\n",
    "- Able to come up with insights based on the data \n",
    "\n",
    "This lab exercise consists of 10 questions, with each correct answer to be awarded 2 marks, totalling up to 20 marks.\n",
    "\n",
    "Attempt but minor syntax errors are awarded half the mark."
   ]
  },
  {
   "cell_type": "markdown",
   "metadata": {},
   "source": [
    "### References\n",
    "\n",
    "### <center> Important Collections Functions </center>\n",
    "### <center> Creation </center>\n",
    "|Collection Type | Function | Examples |\n",
    "| ---------|---------|---------|\n",
    "| `list` | <center>None</center>| `new_list = []` <br><br> `new_list = [1,2,3,4]` |\n",
    "| `dict` | <center>None</center>| `new_dict = {}` <br><br> `new_dict = {'a': 1, 'b':2}`|\n",
    "\n",
    "### <center> Add / Appending Data </center>\n",
    "|Collection Type | Functions | Examples | Resulting Output|\n",
    "| ---------|---------|---------| ------ |\n",
    "| `list` | <center>`.append()`</center>| `new_list = [1,2,3]` <br><br> `new_list.append(4)` | `[1,2,3,4]`|\n",
    "| `list` | <center>`.extend()`</center>| `new_list = [1,2]` <br><br> `new_list.extend([3,4])` | `[1,2,3,4]`|\n",
    "| `dict` | <center>None</center>| `new_dict = {}` <br><br> `new_dict['a'] = 1` <br><br> `new_dict['b'] = 2` | `{'a': 1, 'b':2}`|\n",
    "\n",
    "### <center> Updating / Changing Data </center>\n",
    "|Collection Type | Functions | Examples | Resulting Output|\n",
    "| ---------|---------|---------| ------ |\n",
    "| `list` | <center>None</center>| `new_list = [1,2,3]` <br><br> `new_list[0] = 5` | `[5,2,3]`|\n",
    "| `dict` | <center>None</center>| `new_dict = {'a': 1, 'b':2}` <br><br> `new_dict['a'] = 10`| `{'a': 10, 'b':2}`|\n",
    "\n",
    "### <center> Accessing / Taking Out Data </center>\n",
    "|Collection Type | Functions | x to be| Examples |\n",
    "| ---------|---------|---------| ------ |\n",
    "| `list` | <center>None</center>| 3 |`new_list = [1,2,3]` <br><br> `x = new_list[2] `|\n",
    "| `list of list` | <center>None</center>|3 |`new_list = [[1,2],[3,4]]` <br><br> `x = new_list[1][0] `|\n",
    "| `list of dict` | <center>None</center>| 2 |`new_list = [{'a':1},{'b':2}]` <br><br> `x = new_list[1]['b'] `|\n",
    "| `dict` | <center>None</center>| 2|`new_dict = {'a': 1, 'b':2}` <br><br> `x = new_dict['b']`|\n",
    "\n",
    "### CITU Framework & Applied Iterations\n",
    "1. What variables do you need to answer this question?\n",
    "1. <b>Create</b> the results container\n",
    "2. <b>Iterate</b> the input data/list\n",
    "3. <b>Take out the variables you needed in step 1</b>\n",
    "3. <b>Test</b> conditions of each value\n",
    "4. <b>Update</b> the results container when condition is fulfilled\n",
    "\n",
    "### Sorting Values\n",
    "```python\n",
    "    \n",
    "x = [10,20,50,2,4]\n",
    "x.sort()\n",
    "print(x) # [2,4,10,20,50]\n",
    "x.sort(reverse=True)\n",
    "print(x) # [50,20,10,4,2]\n",
    "```\n",
    "Further explore the .sort() function in the documentation\n",
    "\n",
    "Search up 'list .sort() python 3.0' \n"
   ]
  },
  {
   "cell_type": "markdown",
   "metadata": {},
   "source": [
    "<hr>\n",
    "\n",
    "</hr>\n",
    "<br>\n",
    "</br>\n",
    "\n",
    "<img src=\"http://www.stickpng.com/assets/images/580b57fcd9996e24bc43c513.png\" width=\"400\">\n",
    "<br>\n",
    "</br>\n",
    "<br>\n",
    "</br>\n",
    "<b>Welcome to your final project of Hackwagon Academy DS101! You've come a long way since the start of this course and if you've been on track with our exercises, you should find this doable. </b>\n",
    "\n",
    "Airbnb is an online marketplace and hospitality service, enabling people to lease or rent short-term lodging including vacation rentals, apartment rentals, homestays, hostel beds, or hotel rooms. The company does not own any lodging; it is merely a broker and receives percentage service fees (commissions) from both guests and hosts in conjunction with every booking. In this project, we aim to use algorithms and libraries to mine the reviews people have submitted on Singapore AirBnB rentals in order to provide descriptive analytics.\n",
    "\n",
    "\n",
    "## Load File\n",
    "Load the `airbnb_data.csv` as <b>a list of dictionaries</b>. Once you load the data, you should see something like this:\n",
    "```python\n",
    "    [\n",
    "        {\n",
    "         'listing_id': '1133718',\n",
    "         'survey_id': '1280',\n",
    "         'host_id': '6219420',\n",
    "         'room_type': 'Shared room',\n",
    "         'country': '',\n",
    "         'city': 'Singapore',\n",
    "         'borough': '',\n",
    "         'neighborhood': 'MK03',\n",
    "         'reviews': '9',\n",
    "         'overall_satisfaction': '4.5',\n",
    "         'accommodates': '12',\n",
    "         'bedrooms': '1.0',\n",
    "         'bathrooms': '',\n",
    "         'price': '74.0',\n",
    "         'minstay': '',\n",
    "         'last_modified': '2017-05-17 09:10:25.431659',\n",
    "         'latitude': '1.293354',\n",
    "         'longitude': '103.769226',\n",
    "         'location': '0101000020E6100000E84EB0FF3AF159409C69C2F693B1F43F'\n",
    "        }\n",
    "        ...\n",
    "    ]\n",
    "```"
   ]
  },
  {
   "cell_type": "code",
   "execution_count": 1,
   "metadata": {},
   "outputs": [
    {
     "ename": "FileNotFoundError",
     "evalue": "[Errno 2] No such file or directory: 'airbnb_data.csv'",
     "output_type": "error",
     "traceback": [
      "\u001b[1;31m---------------------------------------------------------------------------\u001b[0m",
      "\u001b[1;31mFileNotFoundError\u001b[0m                         Traceback (most recent call last)",
      "\u001b[1;32m<ipython-input-1-d6521858f04d>\u001b[0m in \u001b[0;36m<module>\u001b[1;34m()\u001b[0m\n\u001b[0;32m      3\u001b[0m \u001b[0mairbnb_data\u001b[0m \u001b[1;33m=\u001b[0m \u001b[1;33m[\u001b[0m\u001b[1;33m]\u001b[0m\u001b[1;33m\u001b[0m\u001b[0m\n\u001b[0;32m      4\u001b[0m \u001b[1;33m\u001b[0m\u001b[0m\n\u001b[1;32m----> 5\u001b[1;33m \u001b[1;32mwith\u001b[0m \u001b[0mopen\u001b[0m\u001b[1;33m(\u001b[0m\u001b[1;34m\"airbnb_data.csv\"\u001b[0m\u001b[1;33m,\u001b[0m \u001b[0mencoding\u001b[0m\u001b[1;33m=\u001b[0m\u001b[1;34m'UTF-8'\u001b[0m\u001b[1;33m)\u001b[0m \u001b[1;32mas\u001b[0m \u001b[0mfile\u001b[0m\u001b[1;33m:\u001b[0m\u001b[1;33m\u001b[0m\u001b[0m\n\u001b[0m\u001b[0;32m      6\u001b[0m     \u001b[0mreader\u001b[0m \u001b[1;33m=\u001b[0m \u001b[0mcsv\u001b[0m\u001b[1;33m.\u001b[0m\u001b[0mDictReader\u001b[0m\u001b[1;33m(\u001b[0m\u001b[0mfile\u001b[0m\u001b[1;33m)\u001b[0m\u001b[1;33m\u001b[0m\u001b[0m\n\u001b[0;32m      7\u001b[0m \u001b[1;33m\u001b[0m\u001b[0m\n",
      "\u001b[1;31mFileNotFoundError\u001b[0m: [Errno 2] No such file or directory: 'airbnb_data.csv'"
     ]
    }
   ],
   "source": [
    "import csv\n",
    "\n",
    "airbnb_data = []\n",
    "\n",
    "with open(\"airbnb_data.csv\", encoding='UTF-8') as file:\n",
    "    reader = csv.DictReader(file)\n",
    "    \n",
    "    for row in reader:\n",
    "        airbnb_data.append(dict(row))\n",
    "        \n",
    "airbnb_data[0] #List of dictionaries, with each dictionary representing one listing"
   ]
  },
  {
   "cell_type": "markdown",
   "metadata": {},
   "source": [
    "### Question 1 - Data Cleaning\n",
    "Preview your data and clean them to appropriate type. Namely these columns:\n",
    "1. `overall_satisfaction`\n",
    "2. `price`\n",
    "3. `longtitude`\n",
    "4. `latitude`\n",
    "5. `reviews`\n",
    "\n",
    "<b>Expected Output:</b>\n",
    "```python\n",
    "    {\n",
    "        'listing_id': '1133718',\n",
    "        'survey_id': '1280',\n",
    "        'host_id': '6219420',\n",
    "        'room_type': 'Shared room',\n",
    "        'country': '',\n",
    "        'city': 'Singapore',\n",
    "        'borough': '',\n",
    "        'neighborhood': 'MK03',\n",
    "        'reviews': 9.0,\n",
    "        'overall_satisfaction': 4.5,\n",
    "        'accommodates': '12',\n",
    "        'bedrooms': '1.0',\n",
    "        'bathrooms': '',\n",
    "        'price': 74.0,\n",
    "        'minstay': '',\n",
    "        'last_modified': '2017-05-17 09:10:25.431659',\n",
    "        'latitude': 1.293354,\n",
    "        'longitude': 103.769226,\n",
    "        'location': '0101000020E6100000E84EB0FF3AF159409C69C2F693B1F43F'\n",
    "    }\n",
    "```"
   ]
  },
  {
   "cell_type": "code",
   "execution_count": null,
   "metadata": {},
   "outputs": [],
   "source": [
    "#clean overall_satisfaction, price, longitude, latitude, reviews"
   ]
  },
  {
   "cell_type": "markdown",
   "metadata": {},
   "source": [
    "## Descriptive Analytics Report Generation\n",
    "The data team at AirBnB wishes to find out the answers to a few simple questions on the existing rooms in Singapore. Your goal is to manipulate the data you have stored in the list of dictionaries to generate a report for the following questions:"
   ]
  },
  {
   "cell_type": "markdown",
   "metadata": {},
   "source": [
    "### Question 2 - Which hosts in Singapore have more than 30 listing. How many of such hosts do we have?\n",
    "\n",
    "1 row of data is 1 listing or 1 room. \n",
    "\n",
    "<i> Pseudocode\n",
    "1. Create an empty dictionary to start counting\n",
    "2. Go through every room one by one\n",
    "    - Take out the host id from one listing\n",
    "    - Check if host id exists within counting dictionary \n",
    "        - If does not, create entry of host id = 1\n",
    "        - If does, update entry of host id by 1\n",
    "    \n",
    "3. At this point I should have all of the hosts and the number of rooms each hosts have\n",
    "4. Create a count of 0 to update if it is true\n",
    "5. Go through every entry in the dictionary\n",
    "    - if count > 30, update the count by 1\n",
    "</i>\n",
    "\n",
    "<b>Expected Output:</b>\n",
    "    \n",
    "    28"
   ]
  },
  {
   "cell_type": "code",
   "execution_count": null,
   "metadata": {},
   "outputs": [],
   "source": [
    "#Objective: find number of hosts with more than 30 listings\n",
    "#Columns required: host_id\n",
    "\n",
    "host_dict = {} #key - host id, value - number of listings under this host id\n",
    "for listing in airbnb_data:\n",
    "    host_id = listing[\"host_id\"]"
   ]
  },
  {
   "cell_type": "markdown",
   "metadata": {},
   "source": [
    "### Question 3 - What is the average price of the listings in the neighbourhood ```MK03```?\n",
    "\n",
    "<i> Pseudocode\n",
    "1. Create the required total and no. of items container\n",
    "2. Go through every room one by one\n",
    "    - Take out the price and neighborhood id from one listing\n",
    "    - Check if neighborhood id == `MK03`\n",
    "        - If true, add to total and no. of items\n",
    "3. Find average with the 2 containers above\n",
    "</i>\n",
    "\n",
    "<b>Expected Output:</b>\n",
    "\n",
    "    76.91875"
   ]
  },
  {
   "cell_type": "code",
   "execution_count": null,
   "metadata": {},
   "outputs": [],
   "source": [
    "#Objective: find average price of listings in neighborhood MK03\n",
    "#Columns required: neighborhood, price\n",
    "\n",
    "total_price = 0\n",
    "listing_count = 0\n",
    "for listing in airbnb_data:\n",
    "    neighborhood = listing['neighborhood']\n",
    "    price = listing['price']"
   ]
  },
  {
   "cell_type": "markdown",
   "metadata": {},
   "source": [
    "### Lambda vs. Functions\n",
    "\n",
    "Lambda are like functions but are just short form functions that are more <b>computationally efficient</b> than normal functions."
   ]
  },
  {
   "cell_type": "markdown",
   "metadata": {},
   "source": [
    "#### Functions "
   ]
  },
  {
   "cell_type": "code",
   "execution_count": 2,
   "metadata": {},
   "outputs": [
    {
     "data": {
      "text/plain": [
       "[['a', 2, 100], ['c', 3, 99], ['b', 1, 50]]"
      ]
     },
     "execution_count": 2,
     "metadata": {},
     "output_type": "execute_result"
    }
   ],
   "source": [
    "#input: list\n",
    "def sort(x):\n",
    "    return x[2]\n",
    "x_list = [['c', 3, 99], ['b', 1, 50], ['a',2, 100]]\n",
    "x_list.sort(reverse = True, key = sort)\n",
    "\n",
    "\n",
    "x_list"
   ]
  },
  {
   "cell_type": "markdown",
   "metadata": {},
   "source": [
    "#### Lambda\n",
    "\n",
    "<img src=\"https://i.imgur.com/yFPtoUF.png\" width='200'>"
   ]
  },
  {
   "cell_type": "code",
   "execution_count": null,
   "metadata": {},
   "outputs": [],
   "source": [
    "#input: list\n",
    "\n",
    "x_list = [['c', 3], ['b', 1], ['a',2]]\n",
    "x_list.sort(reverse = True, key = lambda x:x[1])\n",
    "\n",
    "\n",
    "x_list"
   ]
  },
  {
   "cell_type": "markdown",
   "metadata": {},
   "source": [
    "### 2-D Sorting\n",
    "\n",
    "The sorting questions were to test your ability to read code off online resources and implement them in your code. "
   ]
  },
  {
   "cell_type": "code",
   "execution_count": null,
   "metadata": {},
   "outputs": [],
   "source": [
    "#1-D Sorting\n",
    "one_d_list = [5,12,63,54,75,9]\n",
    "\n",
    "#2-D Sorting\n",
    "two_d_list = [['Alpha', 2],['Cayla', 3], ['Bobba', 1]]\n",
    "\n",
    "# one_d_list\n",
    "# sorted_1d_list\n",
    "# two_d_list"
   ]
  },
  {
   "cell_type": "markdown",
   "metadata": {},
   "source": [
    "### Question 4 - What are the *top 10 priciest listings in Singapore*? List the `listing_id` as well as `price`.\n",
    "\n",
    "<i> Pseudocode\n",
    "1. Create an empty list to store all the pairs\n",
    "2. Go through every room one by one\n",
    "    - Take out the price and room id from one room\n",
    "    - Create a new list and put the price and room id inside the list\n",
    "    - Add the new list into the overall empty list\n",
    "3. Use the sort function to sort everything in descending order\n",
    "4. Take out only the first 10 items in the list\n",
    "</i>\n",
    "\n",
    "<b>Expected Output:</b>\n",
    "\n",
    "    [\n",
    "        ['16395877', 8023.0], \n",
    "        ['9815599', 3309.0], \n",
    "        ['13117403', 3029.0], \n",
    "        ['17794853', 2206.0], \n",
    "        ['14620083', 2164.0], \n",
    "        ['16327246', 2059.0], \n",
    "        ['5775503', 1103.0], \n",
    "        ['12372683', 1029.0], \n",
    "        ['15861144', 1027.0], \n",
    "        ['9020629', 981.0]\n",
    "    ]"
   ]
  },
  {
   "cell_type": "code",
   "execution_count": null,
   "metadata": {},
   "outputs": [],
   "source": [
    "#Objective: find top 10 priciest listings by listing_id\n",
    "#Columns required: listing_id, price\n",
    "\n",
    "result = [] #contains many lists looking like [listing_id,price]\n",
    "\n",
    "for listing in airbnb_data:\n",
    "    listing_id = listing['listing_id']\n",
    "    price = listing['price']"
   ]
  },
  {
   "cell_type": "markdown",
   "metadata": {},
   "source": [
    "### Question 5 - What are the top 10 most expensive neighborhoods based on their average price, with at least 10 listings?\n",
    "<i> Pseudocode\n",
    "1. Create an empty dictionary \n",
    "2. Go through every room one by one\n",
    "    - Take out the `price` and `neighborhood id` from one room\n",
    "    - Check if `neighborhood_id` is inside empty dictionary\n",
    "        - If False, create new list with price inside\n",
    "        - If True, update the list entry by adding price to the list\n",
    "3. Create a list to hold all the valid entries, entries where the neighborhood has at least 10 listings\n",
    "4. Go through each entry in the dictionary, giving the `neighborhood_id` and `number_of_rooms`\n",
    "    - Check if number of rooms >= 10\n",
    "        - If true, calculate the average price of that neighborhood_id \n",
    "        - Add a list of neighborhood_id and avg price into the valid entries list\n",
    "5. Sort the valid entries\n",
    "6. Take out only the first 10 items in the list\n",
    "</i>\n",
    "\n",
    "<b>Expected Output:</b>\n",
    "\n",
    "    [\n",
    "        ['MK34', 1428.6666666666667],\n",
    "        ['TS01', 279.1818181818182],\n",
    "        ['TS30', 213.51351351351352],\n",
    "        ['TS27', 191.94495412844037],\n",
    "        ['TS02', 153.48648648648648],\n",
    "        ['TS29', 149.7111111111111],\n",
    "        ['TS25', 148.73529411764707],\n",
    "        ['MK17', 145.51006711409397],\n",
    "        ['TS03', 140.09558823529412],\n",
    "        ['TS05', 138.42]\n",
    "    ]"
   ]
  },
  {
   "cell_type": "code",
   "execution_count": null,
   "metadata": {},
   "outputs": [],
   "source": [
    "#Objective: find top 10 neighborhoods based on average price. Neighborhood's listings >= 10\n",
    "#Columns required: neighborhood, price\n",
    "\n",
    "neighborhood_price_dict = {} #key - neighborhood, value - list of prices (of listings) belonging to the neighborhood \n",
    "\n",
    "for listing in airbnb_data:\n",
    "    neighborhood = listing['neighborhood']\n",
    "    price = listing['price']"
   ]
  },
  {
   "cell_type": "markdown",
   "metadata": {},
   "source": [
    "### Question 6 - For hosts that host more than 10 listings, what are the top 10 host_id has the highest average satisfaction level where each listing has at least had 1 review?\n",
    "<i> Pseudocode\n",
    "1. Create an empty dictionary \n",
    "2. Go through every room one by one\n",
    "    - Take out the `price` and `host_id` from one room\n",
    "    - Check if the room has at least 1 review\n",
    "        - Check if `host_id` is inside empty dictionary\n",
    "            - If False, create new list with price inside\n",
    "            - If True, update the list entry by adding price to the list\n",
    "3. Create a list to hold all the valid entries, entries where the neighborhood has at least 10 listings\n",
    "4. Go through each entry in the dictionary, giving the `host_id` and `number_of_rooms`\n",
    "    - Check if number of rooms > 10\n",
    "        - If true, calculate the average price of that host_id \n",
    "        - Add a list of host_id and avg price into the valid entries list\n",
    "5. Sort the valid entries\n",
    "6. Take out only the first 10 items in the list\n",
    "</i>\n",
    "\n",
    "<b>Expected Output:</b>\n",
    "\n",
    "    [\n",
    "        ['4705949', 4.8],\n",
    "        ['882659', 4.75],\n",
    "        ['20828188', 4.730769230769231],\n",
    "        ['6609641', 4.5],\n",
    "        ['20874965', 4.433333333333334],\n",
    "        ['17526618', 4.375],\n",
    "        ['19689637', 4.346153846153846],\n",
    "        ['14521708', 4.315384615384615],\n",
    "        ['3544325', 4.266666666666667],\n",
    "        ['23722617', 4.205882352941177]\n",
    "    ]"
   ]
  },
  {
   "cell_type": "code",
   "execution_count": null,
   "metadata": {},
   "outputs": [],
   "source": [
    "#Objective: find top 10 host_id based on average satisfaction. Listing's review > 0. Host's listings > 10\n",
    "#Columns required: host_id, overall_satisfaction, reviews\n",
    "host_satisfaction_dict = {} #key - host id, value - list of satisfactions (of listings) belonging to this host id \n",
    "for listing in airbnb_data:\n",
    "    host_id = listing['host_id']\n",
    "    satisfaction = listing['overall_satisfaction']\n",
    "    reviews = listing['reviews']"
   ]
  },
  {
   "cell_type": "markdown",
   "metadata": {},
   "source": [
    "## Visualisation\n",
    "\n",
    "<img src=\"https://keydifferences.com/wp-content/uploads/2017/02/latitude-vs-longitude2.jpg\" width=\"150\">"
   ]
  },
  {
   "cell_type": "markdown",
   "metadata": {},
   "source": [
    "##### Checking if something is in a list"
   ]
  },
  {
   "cell_type": "code",
   "execution_count": 3,
   "metadata": {},
   "outputs": [
    {
     "name": "stdout",
     "output_type": "stream",
     "text": [
      "6\n"
     ]
    }
   ],
   "source": [
    "a_list = [1,2,3,4,5,6,7,8,9,10,11,12]\n",
    "b_list = [6,13]\n",
    "for items in b_list:\n",
    "    if items in a_list:\n",
    "        print(items)\n",
    "\n",
    "\n",
    "#Check whether the elements in b_list are also found in a_list"
   ]
  },
  {
   "cell_type": "markdown",
   "metadata": {},
   "source": [
    "### Question 7 - With the neighborhood ids in question 5, plot a geographical representation (scatter plot) of all the rooms found in each of the top 10 neighborhoods\n",
    "<i> Pseudocode\n",
    "1. Take out the top 10 neighborhoods from question 5\n",
    "2. Create an empty list first\n",
    "3. Go through only the first 10 entries in the question 5 list\n",
    "    - Take out the first item of each list and add it to the empty list\n",
    "4. Create 2 lists, the latitude and longitude lists\n",
    "5. Go through each room in the data\n",
    "    - Take out the `neighborhood_id`,`latitude`,`longitude` of the room\n",
    "    - Check if the neighborhood_id is inside the top 10 neighborhoods list\n",
    "        - If true, add the latitude and longitude to the respective lists\n",
    "6. Plot the scatter plot as required.\n",
    "</i>\n"
   ]
  },
  {
   "cell_type": "code",
   "execution_count": null,
   "metadata": {},
   "outputs": [],
   "source": [
    "#Objective: plot longitude and latitude of the listings in the top 10 neighborhood\n",
    "#Columns required: neighborhood, longitude, latitude\n",
    "import matplotlib.pyplot as plt\n",
    "top_10_neighborhoods = #retrieve from Q5\n",
    "\n",
    "\n",
    "for listing in airbnb_data:\n",
    "    neighborhood = listing['neighborhood']\n",
    "    longitude = listing['longitude']\n",
    "    latitude = listing['latitude']\n",
    "\n",
    "# plt.scatter(longitude_list,latitude_list)"
   ]
  },
  {
   "cell_type": "markdown",
   "metadata": {},
   "source": [
    "### Question 8 - With the host ids in question 6, plot a geographical representation (scatter plot) of all the rooms found in each of the top 10 host ids\n",
    "<i> Pseudocode\n",
    "1. Take out the top 10 host from question 6\n",
    "2. Create an empty list first\n",
    "3. Go through only the first 10 entries in the question 6 list\n",
    "    - Take out the first item of each list and add it to the empty list\n",
    "4. Create 2 lists, the latitude and longitude lists\n",
    "5. Go through each room in the data\n",
    "    - Take out the `host_id`,`latitude`,`longitude` of the room\n",
    "    - Check if the host_id is inside the top 10 hosts list\n",
    "        - If true, add the latitude and longitude to the respective lists\n",
    "6. Plot the scatter plot as required.\n",
    "</i>"
   ]
  },
  {
   "cell_type": "code",
   "execution_count": null,
   "metadata": {},
   "outputs": [],
   "source": [
    "#Objective: plot longitude and latitude of the listings under the top 10 host_ids\n",
    "#Columns required: host_id, longitude, latitude\n",
    "\n",
    "top_10_host_id = #retrieve from Q6\n",
    "\n",
    "\n",
    "for listing in airbnb_data:\n",
    "    host_id = listing['host_id']\n",
    "    longitude = listing['longitude']\n",
    "    latitude = listing['latitude']\n",
    "\n",
    "# plt.scatter(longitude_list,latitude_list)"
   ]
  },
  {
   "cell_type": "markdown",
   "metadata": {},
   "source": [
    "### Satisfaction Map\n",
    "\n",
    "The data team at AirBnB wishes to find out which region of Singapore has rooms that people are generally more satisfied with. Any room which has a rating `>4` would indicate a highly satisfactory room, and `>=2.5` would indicate an average room. Any rating `<2.5` indicates an unsatisfactory room. \n",
    "\n",
    "<b>The AirBnB team hypothesised that the North-East region of Singapore has more rooms with higher satisfaction rating.</b> \n",
    "\n",
    "As the data team, your goal is to find out whether the hypothesis stands true by providing descriptive analytics to allow the AirBnB team to better visualise the satisfaction levels for the whole of Singapore.\n",
    "\n",
    "Given the dataset provided to us, each room has a geographical location specified by its longtitude and latitude. Longtitude and latitude can be considered to be merely a set of X and Y coordinates on an axis, where the format follows such a manner e.g. `(103.76922, 1.293354)`. What this means for us is that, geographical locations on a map can be represented easily on a scatter plot. This allows us to make use of our pre-existing knowledge on the construction of scatter plots to build a simple heatmap to visualise the satisfaction levels of different rooms in Singapore!\n",
    "\n",
    "> __Note:__ Consult existing heatmap-through-scatterplot examples, consider the following resource: http://geodesygina.com/matplotlib.html <br>\n",
    "> Focus on how the data are prepared for visualization and after the preparation, look at the part on __\"Coloring Points in a Scatter Plot\" __"
   ]
  },
  {
   "cell_type": "markdown",
   "metadata": {},
   "source": [
    "### Question 9 - Overall Satisfaction Map\n",
    "\n",
    "<i> Pseudocode\n",
    "1. Create 3 lists, 1 for lat, 1 for lon, 1 for satisfaction score\n",
    "2. Go through every entry in the data:\n",
    "    - Take out the latitude, longitude and satisfaction score\n",
    "    - Append each of them into the respective category\n",
    "3. Get the max and min satisfaction score\n",
    "4. Plot the scatter plot with colormap, using the 5 parameters above\n",
    "</i>"
   ]
  },
  {
   "cell_type": "code",
   "execution_count": null,
   "metadata": {},
   "outputs": [],
   "source": [
    "#Objective: plot x - longitude, y - latitude, c - satisfaction\n",
    "#Columns required: longitude, latitude, satisfaction\n",
    "\n",
    "longitude_list = []\n",
    "latitude_list = []\n",
    "satisfaction_list = []\n",
    "\n",
    "for listing in airbnb_data:\n",
    "    satisfaction = float(listing['overall_satisfaction'])\n",
    "    longitude = float(listing['longitude'])\n",
    "    latitude = float(listing['latitude'])\n",
    "    \n",
    "    longitude_list.append(longitude)\n",
    "    latitude_list.append(latitude)\n",
    "    satisfaction_list.append(satisfaction)\n",
    "    \n",
    "    \n",
    "# Add labels to the chart\n",
    "fig, ax = plt.subplots()\n",
    "\n",
    "plt.xlabel(\"Longitude\")\n",
    "plt.ylabel(\"Latitude\")\n",
    "plt.title(\"Overall satisfaction of AirBnB rooms by coordinates\")\n",
    "\n",
    "# Plot the points on the graph, as a scatter plot\n",
    "s=plt.scatter(longitude_list, # X-axis\n",
    "            latitude_list, # Y-axis\n",
    "            c=satisfaction_list, # Color based on satisfaction\n",
    "            cmap=plt.cm.coolwarm, # Color scheme\n",
    "            vmin=min(satisfaction_list), # Min Value\n",
    "            vmax=max(satisfaction_list), # Max value\n",
    "            )\n",
    "\n",
    "#Create the color bar\n",
    "cbar = plt.colorbar(mappable=s, ax=ax)\n",
    "cbar.set_label(\"Satisfaction Level\")\n",
    "\n",
    "# Show the graph\n",
    "plt.show()"
   ]
  },
  {
   "cell_type": "markdown",
   "metadata": {},
   "source": [
    "### Plotting the top 10 neighbourhoods on an actual map (Question 7) using mplleaflet"
   ]
  },
  {
   "cell_type": "code",
   "execution_count": null,
   "metadata": {},
   "outputs": [],
   "source": [
    "# You might not have the library required to generate the map.\n",
    "# Run this cell to install it if it isn't already installed!\n",
    "!pip install mplleaflet"
   ]
  },
  {
   "cell_type": "code",
   "execution_count": null,
   "metadata": {},
   "outputs": [],
   "source": [
    "import mplleaflet\n",
    "mplleaflet.show() #uses the longitude and latitude values to plot onto an actual map"
   ]
  },
  {
   "cell_type": "markdown",
   "metadata": {},
   "source": [
    "### Question 10 - Conclusion \n",
    "Based on the findings above can you find out: \n",
    "\n",
    "1. Where are the neighbourhoods with the highest average price? Q7\n",
    "2. Where are the host_ids with  the highest average satisfactions? Q8\n",
    "3. Does the North-East region of Singapore has rooms with higher satisfaction rating? Q9\n",
    "\n",
    "Any other insights can you find based on question 2 to 9?"
   ]
  },
  {
   "cell_type": "code",
   "execution_count": null,
   "metadata": {},
   "outputs": [],
   "source": [
    "# Write a short sentence answer on the question above as comments below\n",
    "# \n",
    "#\n",
    "#"
   ]
  }
 ],
 "metadata": {
  "kernelspec": {
   "display_name": "Python 3",
   "language": "python",
   "name": "python3"
  },
  "language_info": {
   "codemirror_mode": {
    "name": "ipython",
    "version": 3
   },
   "file_extension": ".py",
   "mimetype": "text/x-python",
   "name": "python",
   "nbconvert_exporter": "python",
   "pygments_lexer": "ipython3",
   "version": "3.6.5"
  }
 },
 "nbformat": 4,
 "nbformat_minor": 2
}
