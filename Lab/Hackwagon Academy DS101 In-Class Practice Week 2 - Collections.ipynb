{
 "cells": [
  {
   "cell_type": "markdown",
   "metadata": {},
   "source": [
    "<img src=\"https://i2.wp.com/hackwagon.com/wp-content/uploads/2017/02/Logo-Web-Export.png?ssl=1\" width=200/>"
   ]
  },
  {
   "cell_type": "markdown",
   "metadata": {},
   "source": [
    "<h1> <center> Hackwagon Academy: DS101 In-Class Practice Week 2 </center> </h1>\n",
    "<h2><center> Collections</center></h2>\n",
    "<h3>Learning Objectives</h3>\n",
    "1. More list functions\n",
    "2. Tuples immutability\n",
    "3. Dictionary functions\n",
    "4. Real life applications of collections\n",
    "5. Know which collection to use depending on the context"
   ]
  },
  {
   "cell_type": "markdown",
   "metadata": {},
   "source": [
    "## Collections: Lists, Tuples & Dictionaries\n",
    "<hr>\n",
    "### List Functions\n",
    "\n",
    "We will now learn more list functions namely:\n",
    "- `.extend()`\n",
    "- `.remove()`\n",
    "- `del`\n",
    "- `.sort()`\n",
    "\n",
    "**By the end of these 4 functions, we should achieve the following list**:\n",
    "\n",
    "    data = [10, 9, 8, 3, 2, 1]\n",
    "\n",
    "<hr>"
   ]
  },
  {
   "cell_type": "markdown",
   "metadata": {},
   "source": [
    "#### IN-CLASS EXAMPLE: LIST FUNCTIONS\n",
    "##### `.extend()`\n",
    "The `.extend()` function <b>unpacks</b> values in a list and appends them to another list.\n",
    "\n",
    "With the given `data` variable, let's use the `.extend()` function to extend `data` with another list called `data2`.\n",
    "\n",
    "    data = [1,2,3,4]\n",
    "    data2 = [8,7,10,9]\n",
    "    \n",
    "**Expected output**: \n",
    "    \n",
    "    [1,2,3,4,8,7,10,9]"
   ]
  },
  {
   "cell_type": "code",
   "execution_count": null,
   "metadata": {},
   "outputs": [],
   "source": [
    "#code below\n",
    "\n",
    "print(data)"
   ]
  },
  {
   "cell_type": "markdown",
   "metadata": {},
   "source": [
    "##### `.remove()`\n",
    "The `.remove()` function removes the very first instance of <b>a given value</b>, from left to right of the list; index 0 to the last index of a list.\n",
    "\n",
    "Using the `.remove()` function, remove the number `4` from `data`.\n",
    "\n",
    "**Expected output**: \n",
    "    \n",
    "    [1,2,3,8,7,10,9]"
   ]
  },
  {
   "cell_type": "code",
   "execution_count": null,
   "metadata": {},
   "outputs": [],
   "source": [
    "#code below\n",
    "data = [1,2,3,4,8,7,10,9]\n",
    "\n",
    "print(data)"
   ]
  },
  {
   "cell_type": "markdown",
   "metadata": {},
   "source": [
    "##### `del`\n",
    "The <font color='green'><b>del</b></font> function removes a value based on its <b>index</b> \n",
    "\n",
    "Using the <font color='green'><b>del</b></font> function, remove the number `7` from `data`.\n",
    "\n",
    "**Expected output**: \n",
    "    \n",
    "    [1,2,3,8,10,9]"
   ]
  },
  {
   "cell_type": "code",
   "execution_count": null,
   "metadata": {},
   "outputs": [],
   "source": [
    "#code below\n",
    "data = [1,2,3,8,7,10,9]\n",
    "\n",
    "print(data)"
   ]
  },
  {
   "cell_type": "markdown",
   "metadata": {},
   "source": [
    "##### `.sort()`\n",
    "The `.sort()` function sorts values in a list in ascending order. \n",
    "\n",
    "Sort `data` in a <b>descending order</b> to get our final data list.\n",
    "\n",
    "**Expected output**: \n",
    "    \n",
    "    [10, 9, 8, 3, 2, 1]"
   ]
  },
  {
   "cell_type": "code",
   "execution_count": null,
   "metadata": {},
   "outputs": [],
   "source": [
    "#code below\n",
    "data = [1,2,3,8,10,9]\n",
    "\n",
    "print(data)"
   ]
  },
  {
   "cell_type": "markdown",
   "metadata": {},
   "source": [
    "#### IN-CLASS PRACTICE: LIST FUNCTIONS\n",
    "\n",
    "Complete the following questions to test your overall understanding on list functions:\n",
    "\n",
    "1. Create 2 lists:\n",
    "    \n",
    "    `x` with numbers `10` and `20` <br>`y` with numbers `30` and `40`\n",
    "    \n",
    "    \n",
    "2. Using `.append()`, add the 2 lists to a new list called `combi`\n",
    "3. With the `del` function, remove both lists\n",
    "4. Use the `.extend()` to extend `combi` with this `[50,30,79,25,35,22]`\n",
    "5. Remove `30`\n",
    "6. Sort `combi` in descending order\n",
    "\n",
    "**Final Expected Output**:\n",
    "```python  \n",
    "    [79,50,35,25,22]\n",
    "```"
   ]
  },
  {
   "cell_type": "code",
   "execution_count": null,
   "metadata": {},
   "outputs": [],
   "source": [
    "#Qns 1\n",
    "\n",
    "\n",
    "#Qns 2\n",
    "\n",
    "\n",
    "#Qns 3\n",
    "\n",
    "\n",
    "#Qns 4\n",
    "\n",
    "\n",
    "#Qns 5\n",
    "\n",
    "\n",
    "#Qns 6\n"
   ]
  },
  {
   "cell_type": "markdown",
   "metadata": {},
   "source": [
    "<hr>\n",
    "### Tuples\n",
    "<b>Tuples</b> are just like <b>lists</b> but the only difference is that its' contents are <b>immutable</b>, meaning they cannot be altered in any way."
   ]
  },
  {
   "cell_type": "code",
   "execution_count": null,
   "metadata": {},
   "outputs": [],
   "source": [
    "# run this cell to see an error message\n",
    "x = (1,2,3,4)\n",
    "x[0] = 10    # << Error\n",
    "x.append(4)  # << Error"
   ]
  },
  {
   "cell_type": "markdown",
   "metadata": {},
   "source": [
    "#### IN-CLASS PRACTICE: TUPLES\n",
    "\n",
    "Given the following `youtube_videos`, do the following:\n",
    "1. Print all titles and views\n",
    "2. Print the views of `im_yours`\n",
    "3. Add a new video tuple of `gangnam_style` which has `8400` views into the list\n",
    "4. Change `youtube_videos` to a tuple of tuples"
   ]
  },
  {
   "cell_type": "code",
   "execution_count": null,
   "metadata": {},
   "outputs": [],
   "source": [
    "youtube_videos = [ \n",
    "    ('see_you_again', 5000), \n",
    "    ('im_yours', 3000) \n",
    "]\n",
    "# write your code below\n",
    "#qns1\n",
    "\n",
    "\n",
    "#qns2\n",
    "\n",
    "\n",
    "#qns3\n",
    "\n",
    "\n",
    "#qns4\n"
   ]
  },
  {
   "cell_type": "markdown",
   "metadata": {},
   "source": [
    "<hr>\n",
    "### Dictionaries\n",
    "\n",
    "We will now learn how to use a dictionary \n",
    "1. Create key-value pair\n",
    "2. Updating key-value pair\n",
    "3. Deleting key-value pair\n",
    "4. Retrieving value from key-value piar\n",
    "5. Get all the keys from a dictionary\n",
    "6. Get all the key-value pairs from a dictionary\n",
    "7. Check if key exists within a dictionary\n",
    "\n",
    "#### IN-CLASS EXAMPLE: DICTIONARY FUNCTIONS\n",
    "In this example below, we will through a simple example of using dictionary as a database.\n",
    "\n",
    "**Run the cell below to begin**"
   ]
  },
  {
   "cell_type": "code",
   "execution_count": null,
   "metadata": {},
   "outputs": [],
   "source": [
    "all_videos_database = { \n",
    "    \"Gangnam Style\": 195000 \n",
    "}"
   ]
  },
  {
   "cell_type": "markdown",
   "metadata": {},
   "source": [
    "##### Creating key-value pair\n",
    "You need to upload 2 new videos into your `all_videos_database`. Create a new key-value pairs with the following information:\n",
    "    \n",
    "|<center>Keys: Video Title</center>| <center>Values: Views</center> | \n",
    "|:---| :----------- |\n",
    "|`\"Despacito\"`| `5500`|\n",
    "|`\"See You Again\"`| `12500`|\n",
    "\n",
    "** Expected output**:\n",
    "    \n",
    "    { \n",
    "        \"Gangnam Style\": 195000,\n",
    "        \"Despacito\": 5500,\n",
    "        \"See You Again\": 12500\n",
    "    }\n",
    "    "
   ]
  },
  {
   "cell_type": "code",
   "execution_count": null,
   "metadata": {},
   "outputs": [],
   "source": [
    "#code below\n",
    "\n",
    "print(all_videos_database)"
   ]
  },
  {
   "cell_type": "markdown",
   "metadata": {},
   "source": [
    "##### Updating key-value pair\n",
    "Alexa has kept playing `Despacito`. `Despacito` views has now <b>increased</b> by 100000.\n",
    "\n",
    "**Expected Output**:\n",
    "\n",
    "    { \n",
    "        \"Gangnam Style\": 195000,\n",
    "        \"Despacito\": 105500,\n",
    "        \"See You Again\": 12500\n",
    "    }"
   ]
  },
  {
   "cell_type": "code",
   "execution_count": null,
   "metadata": {},
   "outputs": [],
   "source": [
    "#code below\n",
    "all_videos_database = { \n",
    "    \"Gangnam Style\": 195000,\n",
    "    \"Despacito\": 5500,\n",
    "    \"See You Again\": 12500\n",
    "}\n",
    "\n",
    "print(all_videos_database)"
   ]
  },
  {
   "cell_type": "markdown",
   "metadata": {},
   "source": [
    "##### Deleting key-value pair\n",
    "`Gangnam Style` is now out of style. Remove it from our `all_videos_database`. Using the <font color='green'><b>del</b></font> function, remove the key `Gangnam Style` from `all_videos_database`.\n",
    "\n",
    "**Expected Output**:\n",
    "\n",
    "    { \n",
    "        \"Despacito\": 15500,\n",
    "        \"See You Again\": 12500\n",
    "    }"
   ]
  },
  {
   "cell_type": "code",
   "execution_count": null,
   "metadata": {},
   "outputs": [],
   "source": [
    "#code below\n",
    "all_videos_database = { \n",
    "    \"Gangnam Style\": 195000,\n",
    "    \"Despacito\": 105500,\n",
    "    \"See You Again\": 12500\n",
    "}\n",
    "\n",
    "print(all_videos_database)"
   ]
  },
  {
   "cell_type": "markdown",
   "metadata": {},
   "source": [
    "##### Retrieving value from key-value pair\n",
    "Vin Diesel wants to see how many views `See You Again` got.\n",
    "\n",
    "**Expected Output**:\n",
    "\n",
    "    12500"
   ]
  },
  {
   "cell_type": "code",
   "execution_count": null,
   "metadata": {},
   "outputs": [],
   "source": [
    "#code below\n",
    "\n",
    "print()"
   ]
  },
  {
   "cell_type": "markdown",
   "metadata": {},
   "source": [
    "##### `.keys()`\n",
    "Your boss wants to see all the <b>video titles</b> in the `all_videos_database`. \n",
    "\n",
    "**Expected Output**:\n",
    "\n",
    "    Despacito\n",
    "    See You Again"
   ]
  },
  {
   "cell_type": "code",
   "execution_count": null,
   "metadata": {},
   "outputs": [],
   "source": [
    "#code below\n",
    "\n",
    "print()"
   ]
  },
  {
   "cell_type": "markdown",
   "metadata": {},
   "source": [
    "##### `.items()`\n",
    "Your boss, couldn't make up his mind earlier, now he wants to see each <b>video title</b> and <b>the number of views</b> from your `all_videos_database`. \n",
    "\n",
    "**Expected Output**:\n",
    "\n",
    "    Despacito has a total of 15500 views.\n",
    "    See You Again has a total of 12500 views."
   ]
  },
  {
   "cell_type": "code",
   "execution_count": null,
   "metadata": {},
   "outputs": [],
   "source": [
    "#code below\n",
    "\n",
    "print()"
   ]
  },
  {
   "cell_type": "markdown",
   "metadata": {},
   "source": [
    "##### Check if key exists in dictionary\n",
    "Some people are still living in the past. Check if `Gangnam Style` still exists within `all_videos_database`. \n",
    "\n",
    "**Expected Output**:\n",
    "    \n",
    "    False"
   ]
  },
  {
   "cell_type": "code",
   "execution_count": null,
   "metadata": {},
   "outputs": [],
   "source": [
    "#code below\n",
    "\n",
    "print()"
   ]
  },
  {
   "cell_type": "markdown",
   "metadata": {},
   "source": [
    "#### IN-CLASS PRACTICE: DICTIONARY FUNCTIONS\n",
    "\n",
    "Complete the following questions to test your overall understanding on list functions:\n",
    "\n",
    "1. Create a new dictionary database called `my_class` as an empty dictionary\n",
    "2. Add the following key-value pairs:\n",
    "\n",
    "|<center>Keys</center>| <center>Values</center> | Type |\n",
    "|:---| :----------- |---|\n",
    "|`\"Instructor\"`| `\"Your Instructor\"`| `String` |\n",
    "|`\"TAs\"`| `[\"TA1\",\"TA2\",\"TA3\"]`| `List`|\n",
    "|`\"Students\"`| 40 | `Int`|\n",
    "\n",
    "3. Add a fourth TA to your database\n",
    "4. Someone from another class has joined for make up. Update your database by 1 count\n",
    "5. Print out everything you know about your database.\n",
    "\n",
    "**Final Expected Output**:\n",
    "```python\n",
    "    {\n",
    "        \"Instructor\": \"Your Instructor\",\n",
    "        \"TAs\": [\"TA1\",\"TA2\",\"TA3\",\"TA4\"]\n",
    "        \"Students\": 41\n",
    "    }\n",
    "```"
   ]
  },
  {
   "cell_type": "code",
   "execution_count": null,
   "metadata": {},
   "outputs": [],
   "source": [
    "#Qns1\n",
    "\n",
    "\n",
    "#Qns2\n",
    "\n",
    "\n",
    "#Qns3\n",
    "\n",
    "\n",
    "#Qns4\n",
    "\n",
    "\n",
    "#Qns5\n"
   ]
  },
  {
   "cell_type": "markdown",
   "metadata": {},
   "source": [
    "<hr>\n",
    "### Applications of Collections in Real Life\n",
    "\n"
   ]
  },
  {
   "cell_type": "markdown",
   "metadata": {},
   "source": [
    "#### IN-CLASS PRACTICE: EXTRACTING DATA FROM MIXED TYPES\n",
    "\n",
    "Given the following list of historical three days video views data of two videos, find the average views of each videos\n",
    "\n",
    "**Expected output**: \n",
    "\n",
    "    despacito has 11633.33 views\n",
    "    im_yours has 6000.00 views"
   ]
  },
  {
   "cell_type": "code",
   "execution_count": null,
   "metadata": {},
   "outputs": [],
   "source": [
    "hist_video_views = [\n",
    "    {\n",
    "        'video_title': 'despacito',\n",
    "        'all_views': [15000, 9800, 10100]\n",
    "    },\n",
    "    {\n",
    "        'video_title': 'im_yours',\n",
    "        'all_views': [2500, 1400, 14100]\n",
    "    },\n",
    "]\n",
    "\n",
    "#code below\n"
   ]
  },
  {
   "cell_type": "markdown",
   "metadata": {},
   "source": [
    "<hr>\n",
    "### <center> Important Collections Functions </center>\n",
    "### <center> Creation </center>\n",
    "|Collection Type | Function | Examples |\n",
    "| ---------|---------|---------|\n",
    "| `list` | <center>None</center>| `new_list = []` <br><br> `new_list = [1,2,3,4]` |\n",
    "| `tuple`| <center>None</center>| `new_tuple = ()` <br><br> `new_tuple = (1,2,3,4)`|\n",
    "| `dict` | <center>None</center>| `new_dict = {}` <br><br> `new_dict = {'a': 1, 'b':2}`|\n",
    "### <center> Add / Appending Data </center>\n",
    "|Collection Type | Functions | Examples | Resulting Output|\n",
    "| ---------|---------|---------| ------ |\n",
    "| `list` | <center>`.append()`</center>| `new_list = [1,2,3]` <br><br> `new_list.append(4)` | `[1,2,3,4]`|\n",
    "| `list` | <center>`.extend()`</center>| `new_list = [1,2]` <br><br> `new_list.extend([3,4])` | `[1,2,3,4]`|\n",
    "| `tuple`| <center>Cannot change structure at all</center>| Nil | Nil|\n",
    "| `dict` | <center>None</center>| `new_dict = {}` <br><br> `new_dict['a'] = 1` <br><br> `new_dict['b'] = 2` | `{'a': 1, 'b':2}`|\n",
    "### <center> Updating / Changing Data </center>\n",
    "|Collection Type | Functions | Examples | Resulting Output|\n",
    "| ---------|---------|---------| ------ |\n",
    "| `list` | <center>None</center>| `new_list = [1,2,3]` <br><br> `new_list[0] = 5` | `[5,2,3]`|\n",
    "| `tuple`| <center>Cannot change structure at all</center>| Nil | Nil|\n",
    "| `dict` | <center>None</center>| `new_dict = {'a': 1, 'b':2}` <br><br> `new_dict['a'] = 10`| `{'a': 10, 'b':2}`|\n",
    "### <center> Accessing / Taking Out Data </center>\n",
    "|Collection Type | Functions | x to be| Examples |\n",
    "| ---------|---------|---------| ------ |\n",
    "| `list` | <center>None</center>| 3 |`new_list = [1,2,3]` <br><br> `x = new_list[2] `|\n",
    "| `list of list` | <center>None</center>|3 |`new_list = [[1,2],[3,4]]` <br><br> `x = new_list[1][0] `|\n",
    "| `list of dict` | <center>None</center>| 2 |`new_list = [{'a':1},{'b':2}]` <br><br> `x = new_list[1]['b'] `|\n",
    "| `tuple`| <center>None</center>| 3 |`new_tuple = (1,2,3)` <br><br> `x = new_list[2] ` |\n",
    "| `dict` | <center>None</center>| 2|`new_dict = {'a': 1, 'b':2}` <br><br> `x = new_dict['b']`|"
   ]
  },
  {
   "cell_type": "code",
   "execution_count": null,
   "metadata": {},
   "outputs": [],
   "source": []
  }
 ],
 "metadata": {
  "kernelspec": {
   "display_name": "Python 3",
   "language": "python",
   "name": "python3"
  },
  "language_info": {
   "codemirror_mode": {
    "name": "ipython",
    "version": 3
   },
   "file_extension": ".py",
   "mimetype": "text/x-python",
   "name": "python",
   "nbconvert_exporter": "python",
   "pygments_lexer": "ipython3",
   "version": "3.6.5"
  }
 },
 "nbformat": 4,
 "nbformat_minor": 2
}
