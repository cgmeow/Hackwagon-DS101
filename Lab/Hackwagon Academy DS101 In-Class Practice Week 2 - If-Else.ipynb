{
 "cells": [
  {
   "cell_type": "markdown",
   "metadata": {},
   "source": [
    "<img src=\"https://i2.wp.com/hackwagon.com/wp-content/uploads/2017/02/Logo-Web-Export.png?ssl=1\" width=200/>"
   ]
  },
  {
   "cell_type": "markdown",
   "metadata": {},
   "source": [
    "<h1> <center> Hackwagon Academy: DS101 In-Class Practice Week 2 </center></h1>\n",
    "<h2><center> If-Else </center></h2>\n",
    "<h3>Learning Objectives</h3>\n",
    "1. Conditional and relational operators\n",
    "2. Understand the `if-elif-else` construct\n",
    "3. The need for indentation\n",
    "4. Housing for each `if-else` statements\n",
    "5. Nested `if-else` statements\n",
    "6. The need for `try except` implementation"
   ]
  },
  {
   "cell_type": "markdown",
   "metadata": {},
   "source": [
    "<hr>\n",
    "## Relational & Conditional Operators\n",
    "### Relational Operators"
   ]
  },
  {
   "cell_type": "markdown",
   "metadata": {},
   "source": [
    "#### IN-CLASS EXAMPLE: EVALUATE - RELATIONAL"
   ]
  },
  {
   "cell_type": "code",
   "execution_count": null,
   "metadata": {},
   "outputs": [],
   "source": [
    "#Given these variables\n",
    "a = 100\n",
    "b = 5\n",
    "c = -5\n",
    "d = 5\n",
    "\n",
    "#Evaluate these expressions\n",
    "# print(a > b)\n",
    "# print(b < c)\n",
    "# print(b >= c)\n",
    "# print(c <= d)\n",
    "# print(a == b + d)\n",
    "# print(d <= a + c)\n",
    "# print(c != b)"
   ]
  },
  {
   "cell_type": "markdown",
   "metadata": {},
   "source": [
    "#### IN-CLASS EXAMPLE: EVALUATE - RELATIONAL"
   ]
  },
  {
   "cell_type": "code",
   "execution_count": null,
   "metadata": {},
   "outputs": [],
   "source": [
    "see_you_again = 5000\n",
    "despacito = 15000\n",
    "\n",
    "if ? < ?:\n",
    "    print(\"See You Again has less view!\")\n"
   ]
  },
  {
   "cell_type": "markdown",
   "metadata": {},
   "source": [
    "### Conditional Operators"
   ]
  },
  {
   "cell_type": "markdown",
   "metadata": {},
   "source": [
    "#### IN-CLASS EXAMPLE: EVALUATE - CONDITIONAL"
   ]
  },
  {
   "cell_type": "code",
   "execution_count": null,
   "metadata": {},
   "outputs": [],
   "source": [
    "#Given these variables\n",
    "a = 100\n",
    "b = 5\n",
    "c = -5\n",
    "d = 5\n",
    "\n",
    "#Evaluate these expressions\n",
    "# print(a > b and b > c)\n",
    "# print(a > b and b < c)\n",
    "# print(a > b or b < c)\n",
    "# print(a >= b + d and a > c)\n",
    "# print(c == b or 2*b == d - c)  "
   ]
  },
  {
   "cell_type": "markdown",
   "metadata": {},
   "source": [
    "#### IN-CLASS EXAMPLE: RELATIONAL & CONDITIONAL"
   ]
  },
  {
   "cell_type": "code",
   "execution_count": null,
   "metadata": {},
   "outputs": [],
   "source": [
    "see_you_again = 5000\n",
    "despacito = 15000\n",
    "havana = 3000\n",
    "\n",
    "if ? < ? and ? < ?:\n",
    "    print(\"despacito has the most number of views!\")\n"
   ]
  },
  {
   "cell_type": "markdown",
   "metadata": {},
   "source": [
    "#### IN-CLASS PRACTICE: IF STATEMENT EXAMPLES\n",
    "\n",
    "Refer to DS101 - 2b) Decision Structures Slide 21 for IF statement examples"
   ]
  },
  {
   "cell_type": "code",
   "execution_count": null,
   "metadata": {},
   "outputs": [],
   "source": [
    "#Example 1\n",
    "\n",
    "\n",
    "#Example 2\n",
    "\n",
    "\n",
    "#Example 3\n",
    "\n",
    "\n",
    "#Example 4\n",
    "\n",
    "\n",
    "#Example 5\n",
    "\n"
   ]
  },
  {
   "cell_type": "markdown",
   "metadata": {},
   "source": [
    "#### IN-CLASS PRACTICE: USING CONDITIONAL OPERATORS\n"
   ]
  },
  {
   "cell_type": "markdown",
   "metadata": {},
   "source": [
    "The following are details of a youtube video, make use of conditions and if structure to check the video is from Singapore, and if the views are more than 150000. <b>If it’s true, print out that “This is Singapore’s most popular video.”</b>\n"
   ]
  },
  {
   "cell_type": "code",
   "execution_count": null,
   "metadata": {},
   "outputs": [],
   "source": [
    "country = \"Singapore\"\n",
    "views = '6732948'\n"
   ]
  },
  {
   "cell_type": "markdown",
   "metadata": {},
   "source": [
    "<hr>\n",
    "## IF-ELSE CONSTRUCT\n",
    "\n",
    "#### IN-CLASS EXAMPLE: IF-ELSE CONSTRUCT + CONDITIONAL OPERATORS"
   ]
  },
  {
   "cell_type": "markdown",
   "metadata": {},
   "source": [
    "By combining the `else` syntax with the above codes, we can actually create alternate pathways as mentioned in the slides. Let's look at an extension of a similar question which we worked on earlier\n",
    "\n",
    "The following are details of a youtube video, make use of conditions and if structure to check the video is from Singapore, and if the views are more than 150000. <b>If it’s true, print out that \"This is Singapore’s most popular video.\" Else, print out that \"This is another normal video!\"</b>"
   ]
  },
  {
   "cell_type": "code",
   "execution_count": null,
   "metadata": {},
   "outputs": [],
   "source": [
    "#Write your code below\n",
    "country = \"Singapore\"\n",
    "views = '2390'\n"
   ]
  },
  {
   "cell_type": "markdown",
   "metadata": {},
   "source": [
    "### IF-ELIF-ELSE"
   ]
  },
  {
   "cell_type": "markdown",
   "metadata": {},
   "source": [
    "As shown in the slides, by adding the 'elif' construct we can add more than 2 pathways. Let's try in the question below"
   ]
  },
  {
   "cell_type": "markdown",
   "metadata": {},
   "source": [
    "#### IN-CLASS PRACTICE: CALCULATING INFLUENCER PAY\n",
    "- The YouTube influencer management team wants to automate the payment to the influencers based on monthly views on their channel. The influencer monthly payment rules as follow:\n",
    "    - The influencer must have at least 50,000 views in the month to qualify for a payment. \n",
    "    - The influencer will be paid \\$0.01 per view if he/she has between 50,000 to 100,000 views.\n",
    "    - If the influencer has more than 100,000 he/she will be paid \\$0.05 per views <br><br>\n",
    "    \n",
    "- Write a Python program to calculate the pay for the below influencers:\n",
    "    - XiaXue_views = 126,311\n",
    "    - Roy_views = 819\n",
    "    - BrownieTv_views = 51,101"
   ]
  },
  {
   "cell_type": "code",
   "execution_count": null,
   "metadata": {},
   "outputs": [],
   "source": [
    "XiaXue_views = 126311\n",
    "Roy_views = 819\n",
    "BrowieTv_views = 51101\n",
    "\n"
   ]
  },
  {
   "cell_type": "markdown",
   "metadata": {},
   "source": [
    "### Nested Decisions \n",
    "There are instances where you need to ask “follow-up” questions after clearing the first condition. Python allows you to evaluate “follow-up” conditions through the nesting of one decision construct in another.\n",
    "\n"
   ]
  },
  {
   "cell_type": "markdown",
   "metadata": {},
   "source": [
    "#### IN-CLASS EXAMPLE: SINGLE LAYER VS. NESTED LAYERS"
   ]
  },
  {
   "cell_type": "code",
   "execution_count": null,
   "metadata": {},
   "outputs": [],
   "source": [
    "'''\n",
    "senior_citizen = True\n",
    "income = 52000\n",
    "\n",
    "if senior_citizen == False:\n",
    "    if income > 40000:\n",
    "        print('Give $200')\n",
    "    else:\n",
    "        print('Give $300')\n",
    "else:\n",
    "    if income > 60000:\n",
    "        print('Give $500')\n",
    "    else:\n",
    "        print('Give $1000')\n",
    "'''\n",
    "\n",
    "\n"
   ]
  },
  {
   "cell_type": "markdown",
   "metadata": {},
   "source": [
    "#### IN-CLASS PRACTICE: YOUTUBE INFLUENCER BONUS\n",
    "- As part of a campaign to support healthy living, the YouTube influencer management team wants to give a special bonus to influencer who posted videos which support healthy living. The bonus are as follow:\n",
    "    - Channels with 50,000 views or less get \\$0.01/view\n",
    "    - Channels with more than 50,000 views get \\$0.01/view in the first 50,000 views and \\$0.10/view for subsequent views.\n",
    "- Roy is a YouTube influencer and has the following stats:\n",
    "    - has_healthy_living_video = True\n",
    "    - channel_views = 85000\n",
    "- Use a nested decision to calculate how much bonus Roy should get"
   ]
  },
  {
   "cell_type": "code",
   "execution_count": null,
   "metadata": {},
   "outputs": [],
   "source": [
    "has_healthy_living_video = True\n",
    "channel_views = 85000\n",
    "\n"
   ]
  },
  {
   "cell_type": "markdown",
   "metadata": {},
   "source": [
    "#### TRY EXCEPT CONCEPT (SELF-STUDY)\n",
    "One of the common thing we do in data analytics/science is to convert data types during “data cleaning”. The following codes will give an error, write a try-except code to catch this error:"
   ]
  },
  {
   "cell_type": "code",
   "execution_count": null,
   "metadata": {},
   "outputs": [],
   "source": [
    "'''\n",
    "views = 'one hundred and ten'\n",
    "views = int(views)\n",
    "'''\n",
    "\n",
    "try:\n",
    "    views = 'one hundred and ten'\n",
    "    views = int(views)\n",
    "    print(\"There is a total view of: \" + str(views))\n",
    "    \n",
    "except:\n",
    "    print(\"There is some error in the data cleaning code!\")"
   ]
  },
  {
   "cell_type": "code",
   "execution_count": null,
   "metadata": {},
   "outputs": [],
   "source": []
  }
 ],
 "metadata": {
  "kernelspec": {
   "display_name": "Python 3",
   "language": "python",
   "name": "python3"
  },
  "language_info": {
   "codemirror_mode": {
    "name": "ipython",
    "version": 3
   },
   "file_extension": ".py",
   "mimetype": "text/x-python",
   "name": "python",
   "nbconvert_exporter": "python",
   "pygments_lexer": "ipython3",
   "version": "3.6.5"
  }
 },
 "nbformat": 4,
 "nbformat_minor": 2
}
