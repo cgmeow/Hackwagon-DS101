{
 "cells": [
  {
   "cell_type": "markdown",
   "metadata": {},
   "source": [
    "<img src=\"https://i2.wp.com/hackwagon.com/wp-content/uploads/2017/02/Logo-Web-Export.png?ssl=1\" width=200/>\n",
    "<h1> Hackwagon Academy - DS101 Lab 4</h1>\n",
    "\n",
    "**Learning Outcomes:**\n",
    "- Learn how to translate business requirements into workable applications\n",
    "- Declare variables, and manipulate the variables to perform arithmetic operations\n",
    "- Create a list, append new elements to a list, remove elements from list, and access elements within a list\n",
    "- Create a dictionary, access data, and update information within the dictionary\n",
    "- Be able to aptly make use of if and nested if constructs\n",
    "- Variable conversion\n",
    "\n",
    "This lab exercise consists of 10 questions, with each correct answer to be awarded 2 marks, totalling up to 20 marks.\n",
    "\n",
    "Attempt but minor syntax errors are awarded half the mark."
   ]
  },
  {
   "cell_type": "code",
   "execution_count": null,
   "metadata": {},
   "outputs": [],
   "source": [
    "#Before you start, please perform the following 2 steps:\n",
    "#1. Rename the file to <First_Name>_<Last_Name>_DS101_Lab_1 e.g. john_doe_DS101_Lab_1\n",
    "\n",
    "#2. Fill in your details here:\n",
    "#Name                    : Ming Bing\n",
    "\n",
    "#Start of Course Class(Edit accordingly): 22 Dec 2018 3.45pm\n",
    "\n",
    "# FOR TA/INSTRUCTOR \n",
    "# Total Marks:  / 20"
   ]
  },
  {
   "cell_type": "markdown",
   "metadata": {},
   "source": [
    "<h3> References </h3>\n",
    "\n",
    "<h3> <center> Important Collections Functions </center> </h3>\n",
    "<h3> <center> Creation </center></h3>\n",
    "\n",
    "|Collection Type | Function | Examples |\n",
    "| ---------|---------|---------|\n",
    "| `list` | <center>None</center>| `new_list = []` <br><br> `new_list = [1,2,3,4]` |\n",
    "| `dict` | <center>None</center>| `new_dict = {}` <br><br> `new_dict = {'a': 1, 'b':2}`|\n",
    "\n",
    "<h3><center> Add / Appending Data </center></h3>\n",
    "\n",
    "|Collection Type | Functions | Examples | Resulting Output|\n",
    "| ---------|---------|---------| ------ |\n",
    "| `list` | <center>`.append()`</center>| `new_list = [1,2,3]` <br><br> `new_list.append(4)` | `[1,2,3,4]`|\n",
    "| `list` | <center>`.extend()`</center>| `new_list = [1,2]` <br><br> `new_list.extend([3,4])` | `[1,2,3,4]`|\n",
    "| `dict` | <center>None</center>| `new_dict = {}` <br><br> `new_dict['a'] = 1` <br><br> `new_dict['b'] = 2` | `{'a': 1, 'b':2}`|\n",
    "\n",
    "<h3> <center> Updating / Changing Data </center></h3>\n",
    "\n",
    "|Collection Type | Functions | Examples | Resulting Output|\n",
    "| ---------|---------|---------| ------ |\n",
    "| `list` | <center>None</center>| `new_list = [1,2,3]` <br><br> `new_list[0] = 5` | `[5,2,3]`|\n",
    "| `dict` | <center>None</center>| `new_dict = {'a': 1, 'b':2}` <br><br> `new_dict['a'] = 10`| `{'a': 10, 'b':2}`|\n",
    "\n",
    "<h3> <center> Accessing / Taking Out Data </center></h3>\n",
    "\n",
    "|Collection Type | Functions | x to be| Examples |\n",
    "| ---------|---------|---------| ------ |\n",
    "| `list` | <center>None</center>| 3 |`new_list = [1,2,3]` <br><br> `x = new_list[2] `|\n",
    "| `list of list` | <center>None</center>|3 |`new_list = [[1,2],[3,4]]` <br><br> `x = new_list[1][0] `|\n",
    "| `list of dict` | <center>None</center>| 2 |`new_list = [{'a':1},{'b':2}]` <br><br> `x = new_list[1]['b'] `|\n",
    "| `dict` | <center>None</center>| 2|`new_dict = {'a': 1, 'b':2}` <br><br> `x = new_dict['b']`|\n",
    "\n",
    "<h3>CITU Framework & Applied Iterations</h3>\n",
    "\n",
    "1. What variables do you need to answer this question?\n",
    "1. <b>Create</b> the results container\n",
    "2. <b>Iterate</b> the input data/list\n",
    "3. <b>Take out the variables you needed in step 1</b>\n",
    "3. <b>Test</b> conditions of each value\n",
    "4. <b>Update</b> the results container when condition is fulfilled"
   ]
  },
  {
   "cell_type": "markdown",
   "metadata": {},
   "source": [
    "## Warm Up\n",
    "The warm up questions below are important as you will later realise the questions after that will require the same concepts. So please don't forget these warm up questions."
   ]
  },
  {
   "cell_type": "markdown",
   "metadata": {},
   "source": [
    "### Question 1 \n",
    "In this lab, you will realise your numbers are not exactly numbers. For example,\n",
    "```python\n",
    "    views = '10000' # this is a string\n",
    "```\n",
    "Because of that, we are unable to do arithmetic operations with these <i>\"numbers\"</i>. Therefore we must do <b>data cleaning</b> by changing them to the appropriate data type. \n",
    "\n",
    "Use an iterative device, `for` or `while`, create a new list called `clean_data` using the `float()` function, add the <b>cleaned number</b> to that list, based on the `data` given below.\n",
    "\n",
    "**Expected Output:**\n",
    "```python\n",
    "    [52300.0, 235.35, 78200.0, 6423.62, 1503.523]\n",
    "```"
   ]
  },
  {
   "cell_type": "code",
   "execution_count": 1,
   "metadata": {},
   "outputs": [
    {
     "name": "stdout",
     "output_type": "stream",
     "text": [
      "[52300.0, 235.35, 78200.0, 6423.62, 1503.523]\n"
     ]
    }
   ],
   "source": [
    "data = ['52300','235.35','78200','6423.62','1503.523']\n",
    "# result is created for you, you have to create your own result container in the next questions\n",
    "clean_data = []\n",
    "#Write code below\n",
    "for number in data:\n",
    "    clean_data.append(float(number))\n",
    "print(clean_data)"
   ]
  },
  {
   "cell_type": "markdown",
   "metadata": {},
   "source": [
    "### Question 2\n",
    "Counting with dictionaries is a concept which will be used later in this lab exercise. With the given list `data`, count the number of letters each unique letter has and store them into a dictionary, `result`. \n",
    "```python\n",
    "    ['a','b','c','b','b','a','a','b']\n",
    "```\n",
    "\n",
    "\n",
    "**Expected Output:**\n",
    "```python\n",
    "    {\n",
    "        'a': 3,\n",
    "        'b': 4,\n",
    "        'c': 1\n",
    "    }\n",
    "```"
   ]
  },
  {
   "cell_type": "code",
   "execution_count": 2,
   "metadata": {},
   "outputs": [
    {
     "name": "stdout",
     "output_type": "stream",
     "text": [
      "{'a': 3, 'b': 4, 'c': 1}\n"
     ]
    }
   ],
   "source": [
    "data = ['a','b','c','b','b','a','a','b']\n",
    "# result is created for you, you have to create your own result container in the next questions\n",
    "result = {}\n",
    "#Write code below\n",
    "for results in data:\n",
    "    if results in result:\n",
    "        result[results] +=1\n",
    "    else:\n",
    "        result[results] = 1\n",
    "print(result)\n",
    "    "
   ]
  },
  {
   "cell_type": "markdown",
   "metadata": {},
   "source": [
    "### Question 3\n",
    "A common theme in this lab will be taking out data from a list of many list where each list is 1 row of data. This warm up is to make you familiar with this concept because you will be using it in almost every question.\n",
    "\n",
    "`data` has the following structure:\n",
    "```python\n",
    "    [\n",
    "        [\n",
    "            'Video A', # Title - Index 0\n",
    "            '500'      # Views - Index 1\n",
    "        ],\n",
    "        [\n",
    "            'Video B', # Title - Index 0\n",
    "            '300'      # Views - Index 1\n",
    "        ],\n",
    "        [\n",
    "            'Video C', # Title - Index 0\n",
    "            '1000'     # Views - Index 1\n",
    "        ]\n",
    "    ]\n",
    "```\n",
    "\n",
    "Get the total video views based on `data`. \n",
    "\n",
    "**Expected Output:**\n",
    "\n",
    "    1800"
   ]
  },
  {
   "cell_type": "code",
   "execution_count": 10,
   "metadata": {},
   "outputs": [
    {
     "name": "stdout",
     "output_type": "stream",
     "text": [
      "1800\n"
     ]
    }
   ],
   "source": [
    "data = [['Video A','500'],['Video B','300'],['Video C','1000']]\n",
    "# result is created for you, you have to create your own result container in the next questions\n",
    "result = 0\n",
    "#Write code below\n",
    "for nested_list in data:\n",
    "    views = nested_list[1]\n",
    "    video = nested_list[0]\n",
    "    result += int(views)\n",
    "print(result)\n"
   ]
  },
  {
   "cell_type": "markdown",
   "metadata": {},
   "source": [
    "## YouTube Data Analyst\n",
    "\n",
    "<b>Problem Background:</b><br>\n",
    "You are a data analyst at <b><i>YouTube</b></i>. <b><i>HBO</b></i>, the premium American cable and satellite television network company has recently engaged Youtube to provide insights about trending content amongst the average American viewers. HBO wants these insights to help plan new content to further increase its market share in the US market.\n",
    "\n",
    "**Data Provided:**\n",
    "\n",
    "For the project, we will be using YouTube’s organic data (real data from youtube): the views, along with the likes, dislikes and comments about different videos to uncover the latest preferences amongst the American viewers. The specific data type provided to us are as follows:\n",
    "\n",
    "<table>\n",
    "<tr><th>Index</th> <th>Data Category</th>\t<th>Description of data</th></tr>\n",
    "<tr><td>0</td>\t<td>Video_ID</td> <td>The unique ID given for each video on youtube</td></tr>\n",
    "<tr><td>1</td>\t<td>Title</td> <td>\tThe title of the video given by the owner that uploaded the video on youtube</td></tr>\n",
    "<tr><td>2</td>\t<td>Channel_Title</td> <td>\tThe title of the channel of the video uploader. E.g. Night Owl Cinematics</td></tr>\n",
    "<tr><td>3</td>\t<td>Category_ID\t</td> <td>The ID of the category which the video belongs to </td></tr>\n",
    "<tr><td>4</td>\t<td>Tags</td> <td>\tThe tags associated with the particular video. Serves as a general summary of the content of the video</td></tr>\n",
    "<tr><td>5</td>\t<td>Views</td> <td>\tThe numbers of views which the video has clocked. Serves as a measure of the popularity/outreach of the video</td></tr>\n",
    "<tr><td>6</td>\t<td>Likes</td> <td>\tThe number of likes which the video has clocked </td></tr>\n",
    "<tr><td>7</td>\t<td>Dislikes</td> <td>\tThe number of dislikes which the video has clocked</td></tr>\n",
    "<tr><td>8</td>\t<td>comment_total</td> <td>\tThe number of comments which viewers has made</td></tr>\n",
    "<tr><td>9</td> <td>thumbnail_link</td> <td>\tThe link that leads to the thumbnail image of the video</td></tr>\n",
    "<tr><td>10</td> <td>Date</td> <td>\tThe date which all these statistics were last captured</td></tr>\n",
    "</table>"
   ]
  },
  {
   "cell_type": "markdown",
   "metadata": {},
   "source": [
    "## USVideos.csv - Descriptive Analytics\n",
    "**Upload the  data from CSV (data is in the same format as shown in the table above) into python collections**\n",
    "\n",
    "Generally, most company’s data are captured in databases or CSVs. As a start state, we will learn how to extract a company’s data from a CSV folder and populate them into python variables. Specifically we will populate python collections with the data extracted from the CSVs.\n",
    "\n",
    "Just run the code in the first cell in the jupyter notebook, and the code will automatically extract the data from the CSV USVideos.csv and populate the data into a python list `youtube_usa_videos`. \n",
    "\n",
    "The data printed out is just a sample of the first 5 rows of the data. (Don’t worry about the fact that you don’t understand this piece of code now, we will teach everyone how to extract data in week 5). \n",
    "\n",
    "Example of `youtube_usa_videos`:\n",
    "```python\n",
    "    [\n",
    "        [ # Row 0\n",
    "            'K4wEI5zhHB0', # VideoId - Index 0\n",
    "            'iPhone X — Introducing iPhone X — Apple', # Video Title - Index 1\n",
    "            'Apple', # Channel Title - Index 2\n",
    "            '28',  #Category Id - Index 3\n",
    "            'Apple|iPhone 10|iPhone Ten|iPhone|Portrait Lighting|A11 Bionic|augmented reality|emoji|animoji|Face ID|Apple Pay|camera|smartphone', #Tags - Index 4\n",
    "            '7860119', # Views - Index 5\n",
    "            '185853',  # Likes - Index 6\n",
    "            '26679', # Dislikes - Index 7\n",
    "            '0', # Comment Total - Index 8\n",
    "            'https://i.ytimg.com/vi/K4wEI5zhHB0/default.jpg', # Thumbnail Link - Index 9\n",
    "            '13.09' # date - Index 10\n",
    "        ], \n",
    "        [ # Row 1\n",
    "            'cLdxuaxaQwc', #Video Id - Index 0\n",
    "            'My Response', # Video Title - Index 1\n",
    "            'PewDiePie', # Channel Title - Index 2\n",
    "            '22',  # Category Id - Index 3\n",
    "            '[none]',  # Tags - Index 4\n",
    "            '5845909', # Views - Index 5\n",
    "            '576597',  # Likes - Index 6 \n",
    "            '39774',  # Dislikes - Index 7\n",
    "            '170708',  # Comment Total - Index 8\n",
    "            'https://i.ytimg.com/vi/cLdxuaxaQwc/default.jpg',  # Thumbnail Link - Index 9\n",
    "            '13.09' # Date - Index 10\n",
    "        ]\n",
    "    ]\n",
    "```\n",
    "\n",
    "\n",
    "<b><font color='red'> You only have to execute this next cell by pressing <b>`SHIFT-ENTER` or `SHIFT-RETURN` or the`Run Button`</font></b>"
   ]
  },
  {
   "cell_type": "code",
   "execution_count": 5,
   "metadata": {
    "scrolled": true
   },
   "outputs": [
    {
     "data": {
      "text/plain": [
       "[['XpVt6Z1Gjjo',\n",
       "  '1 YEAR OF VLOGGING -- HOW LOGAN PAUL CHANGED YOUTUBE FOREVER!',\n",
       "  'Logan Paul Vlogs',\n",
       "  '24',\n",
       "  'logan paul vlog|logan paul|logan|paul|olympics|logan paul youtube|vlog|daily|comedy|hollywood|parrot|maverick|bird|maverick clothes|diamond play button|logan paul diamond play button|10M subscribers|logan paul 1 year vlogging|1 year vlog|dwarf mamba play button|logan paul history|youtube history|10M|10M plaque|youtube button|diamond button|logang|logang 4 life',\n",
       "  '4394029',\n",
       "  '320053',\n",
       "  '5931',\n",
       "  '46245',\n",
       "  'https://i.ytimg.com/vi/XpVt6Z1Gjjo/default.jpg',\n",
       "  '13.09',\n",
       "  '',\n",
       "  '',\n",
       "  '',\n",
       "  '',\n",
       "  '',\n",
       "  '',\n",
       "  '',\n",
       "  '',\n",
       "  '',\n",
       "  ''],\n",
       " ['K4wEI5zhHB0',\n",
       "  'iPhone X — Introducing iPhone X — Apple',\n",
       "  'Apple',\n",
       "  '28',\n",
       "  'Apple|iPhone 10|iPhone Ten|iPhone|Portrait Lighting|A11 Bionic|augmented reality|emoji|animoji|Face ID|Apple Pay|camera|smartphone',\n",
       "  '7860119',\n",
       "  '185853',\n",
       "  '26679',\n",
       "  '0',\n",
       "  'https://i.ytimg.com/vi/K4wEI5zhHB0/default.jpg',\n",
       "  '13.09',\n",
       "  '',\n",
       "  '',\n",
       "  '',\n",
       "  '',\n",
       "  '',\n",
       "  '',\n",
       "  '',\n",
       "  '',\n",
       "  '',\n",
       "  ''],\n",
       " ['cLdxuaxaQwc',\n",
       "  'My Response',\n",
       "  'PewDiePie',\n",
       "  '22',\n",
       "  '[none]',\n",
       "  '5845909',\n",
       "  '576597',\n",
       "  '39774',\n",
       "  '170708',\n",
       "  'https://i.ytimg.com/vi/cLdxuaxaQwc/default.jpg',\n",
       "  '13.09',\n",
       "  '',\n",
       "  '',\n",
       "  '',\n",
       "  '',\n",
       "  '',\n",
       "  '',\n",
       "  '',\n",
       "  '',\n",
       "  '',\n",
       "  ''],\n",
       " ['WYYvHb03Eog',\n",
       "  'Apple iPhone X first look',\n",
       "  'The Verge',\n",
       "  '28',\n",
       "  'apple iphone x hands on|Apple iPhone X|iPhone X|apple iphone x first look|iPhone X first look|apple iphone x event 2017|apple iphone x event|iPhone X price|iPhone X specs|iPhone X design|iPhone X camera|iPhone X home button|iPhone X wireless charging|iPhone X waterproof|iPhone X release date|iphone 2017|apple|iphone|ios 11|the verge|verge',\n",
       "  '2642103',\n",
       "  '24975',\n",
       "  '4542',\n",
       "  '12829',\n",
       "  'https://i.ytimg.com/vi/WYYvHb03Eog/default.jpg',\n",
       "  '13.09',\n",
       "  '',\n",
       "  '',\n",
       "  '',\n",
       "  '',\n",
       "  '',\n",
       "  '',\n",
       "  '',\n",
       "  '',\n",
       "  '',\n",
       "  ''],\n",
       " ['sjlHnJvXdQs',\n",
       "  'iPhone X (parody)',\n",
       "  'jacksfilms',\n",
       "  '23',\n",
       "  'jacksfilms|parody|parodies|iphone|iphone x|iphone 8|apple|emoji',\n",
       "  '1168130',\n",
       "  '96666',\n",
       "  '568',\n",
       "  '6666',\n",
       "  'https://i.ytimg.com/vi/sjlHnJvXdQs/default.jpg',\n",
       "  '13.09',\n",
       "  '',\n",
       "  '',\n",
       "  '',\n",
       "  '',\n",
       "  '',\n",
       "  '',\n",
       "  '',\n",
       "  '',\n",
       "  '',\n",
       "  '']]"
      ]
     },
     "execution_count": 5,
     "metadata": {},
     "output_type": "execute_result"
    }
   ],
   "source": [
    "import csv\n",
    "\n",
    "#Open the CSV file and read the content\n",
    "with open('USVideos.csv', encoding=\"utf-8\") as file:\n",
    "    \n",
    "    #Train a file reader\n",
    "    reader = csv.reader(file, delimiter=',')\n",
    "    \n",
    "    #this reads and remove the first line of the data, which is the header of the csv\n",
    "    #We do this because we only want the data and not the header\n",
    "    header = next(reader)\n",
    "    \n",
    "    #Create a list to hold all the csv data\n",
    "    youtube_usa_videos = []\n",
    "    \n",
    "    #This will iterate through each data row in reader, and store in 'row' variable\n",
    "    for row in reader:\n",
    "        #print(type(row))\n",
    "        youtube_usa_videos.append(row)\n",
    "    \n",
    "    \n",
    "    #print first three rows of the data\n",
    "youtube_usa_videos[0:5]\n",
    "        \n",
    "        "
   ]
  },
  {
   "cell_type": "markdown",
   "metadata": {},
   "source": [
    "### Question 4\n",
    "**Title of the most popular video in terms of number of likes**\n",
    "\n",
    "Now, using the main data set, we want to start and collate some basic descriptive statistics. First up, make use of the iterative mechanism we learnt in class to find the titles of the top video in terms of the number of likes it has garnered. Your code should return the title of the video that has the most number of likes.\n",
    "\n",
    "<i> Hints\n",
    "1. Create the appropriate results containers\n",
    "2. Use the 'find the biggest number' approach\n",
    "3. If the output is not what you expect, recall warmup question 1\n",
    "</i>\n",
    "\n",
    "**Expected Output:**\n",
    "\n",
    "    BTS (방탄소년단)'DNA' Official MV has the most likes of 2010366"
   ]
  },
  {
   "cell_type": "code",
   "execution_count": 2,
   "metadata": {},
   "outputs": [
    {
     "name": "stdout",
     "output_type": "stream",
     "text": [
      "BTS (방탄소년단) 'DNA' Official MVhas the most likes of 2010366\n"
     ]
    }
   ],
   "source": [
    "#write your code here\n",
    "most_likes = 0\n",
    "most_likes_title =''\n",
    "for row in youtube_usa_videos:\n",
    "    likes = int(row[6])\n",
    "    title = row[1]\n",
    "    if likes > most_likes:\n",
    "        most_likes = likes\n",
    "        most_likes_title = title\n",
    "\n",
    "print(most_likes_title + 'has the most likes of ' + str(most_likes))\n"
   ]
  },
  {
   "cell_type": "markdown",
   "metadata": {},
   "source": [
    "### Question 5\n",
    "\n",
    "**Video with the highest engagement rate**\n",
    "\n",
    "One of the common metrics used to evaluate YouTube channel success is the engagement rate (formula given below). \n",
    "<div class=\"alert alert-block alert-info\"><center>engagement_rate = video_comments/video_views\n",
    " </center></div>\n",
    "\n",
    "Let's find out which video has caused the most engagement amongst the YouTube community. Your code should show the video title and the engagement rate for that video.\n",
    "\n",
    "<b><i>There are instances where some videos get no views (i.e views == 0), so the overall engagement rate for that video will be 0.</b></i>\n",
    "\n",
    "<i> Hints\n",
    "1. Create the appropriate results containers\n",
    "2. Use the 'find the biggest number' approach\n",
    "3. Check if views == 0. If you don't, you will get a zero division error\n",
    "4. If the output is not what you expect, recall warmup question 1\n",
    "</i>\n",
    "\n",
    "**Expected output:**\n",
    "\n",
    "    FIX YOUR LIFE (YIAY #359) has the highest engagement rate in a day at 0.06445352191436111"
   ]
  },
  {
   "cell_type": "code",
   "execution_count": 3,
   "metadata": {},
   "outputs": [
    {
     "name": "stdout",
     "output_type": "stream",
     "text": [
      "FIX YOUR LIFE (YIAY #359) has the highest engagement rate in a day at 0.06445352191436111\n"
     ]
    }
   ],
   "source": [
    "#write your code here\n",
    "highest_engagement_rate = 0\n",
    "highest_video = ''\n",
    "for row in youtube_usa_videos:\n",
    "    comments = int(row[8])\n",
    "    views = int(row[5])\n",
    "    title = row[1]\n",
    "    if views != 0:\n",
    "        engagement_rate = comments/views\n",
    "        if highest_engagement_rate < engagement_rate:\n",
    "            highest_engagement_rate = engagement_rate\n",
    "            highest_video = title\n",
    "print(highest_video + ' has the highest engagement rate in a day at ' + str(highest_engagement_rate))"
   ]
  },
  {
   "cell_type": "markdown",
   "metadata": {},
   "source": [
    "### Question 6\n",
    "**Finding the title of the most popular video based on more than one condition**\n",
    "\n",
    "It's all well and good that we managed to find the most popular video in terms of number of likes. However, that may not necessarily mean that the video was the most popular. The particular video may have had more dislikes than likes even though it had the highest number of likes amongst all videos. \n",
    "\n",
    "We need to consider other factors to make our analysis more holistic and robust (This is the kind of rigour you need to have for other problem types in data analytics).\n",
    "\n",
    "Let’s find the most popular video that fits all of the following conditions:\n",
    "\n",
    "1. The video must have more number of likes than dislikes\n",
    "2. The video must have more views than the average number of views amongst all videos\n",
    "3. Has the most number of likes (after fulfilling the above two conditions)\n",
    "\n",
    "Your algorithm should return the title of the video that fits the condition stated.\n",
    "\n",
    "<i> Hints\n",
    "1. Create the appropriate results containers\n",
    "2. Use 2 INDEPENDENT for loops\n",
    "    - 1st for loop does 2 things:\n",
    "        - Calculate average \n",
    "        - Filter and append the whole video (i.e the entire video list) for condition 1\n",
    "    - 2nd for loop: \n",
    "        - Use the filtered videos from loop 1 and check for condition 2\n",
    "        - Use the 'find biggest number' approach with filtered videos in 1st for loop\n",
    "2. If the output is not what you expect, recall warmup question 1\n",
    "</i>\n",
    "\n",
    "**Expected Output:**\n",
    "\n",
    "    BTS (방탄소년단) 'DNA' Official MV has the most likes of 2010366"
   ]
  },
  {
   "cell_type": "code",
   "execution_count": 70,
   "metadata": {},
   "outputs": [
    {
     "name": "stdout",
     "output_type": "stream",
     "text": [
      "BTS (방탄소년단) 'DNA' Official MV has the most likes of 2010366\n"
     ]
    }
   ],
   "source": [
    "\n",
    "\n",
    "#write your code here\n",
    "\n",
    "filtered_list = []\n",
    "\n",
    "for row in youtube_usa_videos:\n",
    "    num_of_likes = int(row[6])\n",
    "    num_of_dislikes = int(row[7])\n",
    "    if num_of_likes > num_of_dislikes:\n",
    "        filtered_list.append(row)\n",
    "    num_of_views = int(row[5])\n",
    "    total_views += num_of_views\n",
    "    num_of_vids = len(youtube_usa_videos)\n",
    "    average = total_views/num_of_vids\n",
    "\n",
    "for row in filtered_list:\n",
    "    title = row[1]\n",
    "    new_num_views = int(row[5])\n",
    "    new_num_likes = int(row[6])\n",
    "    if new_num_views > average:\n",
    "        if new_num_likes > most_likes:\n",
    "            most_likes = new_num_likes\n",
    "            most_popular_video = title\n",
    "print(most_popular_video + ' has the most likes of ' +str(most_likes))\n"
   ]
  },
  {
   "cell_type": "markdown",
   "metadata": {},
   "source": [
    "### Question 7\n",
    "\n",
    "**Finding the most popular channel based on the total engagment rate**\n",
    "\n",
    "One of the common metrics used to evaluate YouTube channel success is the engagement rate (formula given below). \n",
    "<div class=\"alert alert-block alert-info\"><center>engagement_rate = video_comments/video_views\n",
    " </center></div>\n",
    "\n",
    "You should have noticed by now that a channel can have more than one video. This time, we want to find the most popular channel in our database in terms of the **total engagement rate**. Basically you need to first tabulate the **engagement rate** for each channel, and thereafter you can begin to compare.\n",
    "\n",
    "<b><i>There are instances where some videos get no views (i.e views == 0), so the overall engagement rate will be 0.</b></i>\n",
    "\n",
    "<i> Hints\n",
    "1. Create the appropriate results containers\n",
    "2. Use 2 INDEPENDENT for loops\n",
    "    - 1st for loop:\n",
    "        - Check if the views == 0, if you don't you will get a zero division error!\n",
    "        - Recall warmup question 2\n",
    "        - This creates a dictionary where the <b>key is the channel_title</b> and <b>value is an accumulation of the total views and total comments in a single list</b>\n",
    "    - 2nd for loop: \n",
    "        - Use the 'find biggest number' approach with newly created dictionary in 1st for loop\n",
    "        - Use the .items() function to loop a dictionary\n",
    "3. If the output is not what you expect, recall warmup question 1\n",
    "</i>\n",
    "\n",
    "**Expected Output:**\n",
    "\n",
    "    The channel euronews (in English) has the highest engagement rate at 0.03690081398854386"
   ]
  },
  {
   "cell_type": "code",
   "execution_count": 63,
   "metadata": {},
   "outputs": [
    {
     "name": "stdout",
     "output_type": "stream",
     "text": [
      "The channel euronews (in English) has the highest engagement rate at 0.03690081398854386\n"
     ]
    }
   ],
   "source": [
    "#write your code here\n",
    "highest_engagement = 0\n",
    "highest_channel = ''\n",
    "engagement = {}\n",
    "for row in youtube_usa_videos:\n",
    "    name = row[2]\n",
    "    comments= int(row[8])\n",
    "    views = int(row[5])\n",
    "    if int(row[5]) == 0:\n",
    "        ''\n",
    "    else:\n",
    "        if name in engagement:\n",
    "            engagement[name][0] += comments\n",
    "            engagement[name][1] += views\n",
    "        else:\n",
    "            engagement[name] = [comments,views]\n",
    "for key,value in engagement.items():\n",
    "    channel_comments = value[0]\n",
    "    channel_views = value[1]\n",
    "    engagement_rate = channel_comments/channel_views\n",
    "    if engagement_rate > highest_engagement:\n",
    "        highest_engagement = engagement_rate\n",
    "        highest_channel = k\n",
    "print('The channel '+highest_channel +' has the highest engagement rate at ' +str(highest_engagement))\n"
   ]
  },
  {
   "cell_type": "markdown",
   "metadata": {},
   "source": [
    "## USComments.csv - Sentiment Analysis\n",
    "**Parsing comments to understand trends**\n",
    "\n",
    "Through the comments made by viewers, we can also somewhat understand about the level of interest in select topics. This is where the use of the next csv file in this folder, <b><i>USComments.csv</b></i>, comes into play. We have provided a piece of code that, when executed, will extract the comments data from the CSV and populate the python list `usa_video_comments`. The specific data type provided are as shown:\n",
    "\n",
    "<table>\n",
    "<tr><th>Index</th> <th>Data Category</th>\t<th>Description of data</th></tr>\n",
    "<tr><td>0</td>\t<td>Video_ID</td> <td>The unique ID given for each video on youtube</td></tr>\n",
    "<tr><td>1</td>\t<td>Comment_text</td> <td>\tThe specific comment made on the video</td></tr>\n",
    "<tr><td>2</td>\t<td>Likes</td> <td>The number of likes for the comment</td></tr>\n",
    "<tr><td>3</td>\t<td>Replies\t</td> <td>The replies made to the comment </td></tr>\n",
    "</table>\n"
   ]
  },
  {
   "cell_type": "markdown",
   "metadata": {},
   "source": [
    "<p>For the part below you just have to upload USComments.csv into the same file directory and run the following code. This will fill `usa_video_comments` with all the video comments.</p>\n",
    "\n",
    "Example of `usa_video_comments`:\n",
    "```python\n",
    "    [\n",
    "        [ # Row  0\n",
    "            'XpVt6Z1Gjjo',  #Video Id - Index 0\n",
    "            \"I've been following you from the start of your vine channel and have seen all 365 vlogs\", #Comment Text - Index 1\n",
    "            '3', #Likes - Index 2\n",
    "            '0'], #Replies - Index 3\n",
    "        [ # Row  1\n",
    "            'XpVt6Z1Gjjo', #Video Id - Index 0\n",
    "            'Say hi to Kong and maverick for me', #Comment Text - Index 1\n",
    "            '3', #Likes - Index 2\n",
    "            '0'#Replies - Index 3\n",
    "        ]\n",
    "    ]\n",
    "```\n",
    "\n",
    "\n",
    "<b><font color='red'> You only have to execute this next cell by pressing <b>`SHIFT-ENTER` or `SHIFT-RETURN` or the`Run Button`</font></b>"
   ]
  },
  {
   "cell_type": "code",
   "execution_count": 41,
   "metadata": {},
   "outputs": [
    {
     "data": {
      "text/plain": [
       "[['XpVt6Z1Gjjo', \"Logan Paul it's yo big day ‼️‼️‼️\", '4', '0'],\n",
       " ['XpVt6Z1Gjjo',\n",
       "  \"I've been following you from the start of your vine channel and have seen all 365 vlogs\",\n",
       "  '3',\n",
       "  '0'],\n",
       " ['XpVt6Z1Gjjo', 'Say hi to Kong and maverick for me', '3', '0']]"
      ]
     },
     "execution_count": 41,
     "metadata": {},
     "output_type": "execute_result"
    }
   ],
   "source": [
    "#Open the CSV file and read the content\n",
    "with open('USComments.csv', encoding=\"utf-8\") as file:\n",
    "    \n",
    "    #Train a file reader\n",
    "    reader = csv.reader( (line.replace('\\0','') for line in file) )\n",
    "    \n",
    "    #this reads and remove the first line of the data, which is the header of the csv\n",
    "    #We do this because we only want the data and not the header\n",
    "    header = next(reader)\n",
    "    \n",
    "    #Create a list to hold all the csv data\n",
    "    usa_video_comments = []\n",
    "    \n",
    "    #This will iterate through each data row in reader, and store in 'row' variable\n",
    "    for row in reader:\n",
    "        #print(type(row))\n",
    "        usa_video_comments.append(row)\n",
    "    \n",
    "\n",
    "    #print first three rows of the data\n",
    "usa_video_comments[0:3]\n",
    "        "
   ]
  },
  {
   "cell_type": "markdown",
   "metadata": {},
   "source": [
    "### Question 8\n",
    "\n",
    "Right now, HBO has a few themes for a new movie which they are interested to explore but they first want to ascertain the interest level in those themes. \n",
    "\n",
    "Given 2 themes: <b>horror or fantasy</b>, find out the total number of mentions of each of those themes amongst all the comments. A comment is considered to have one mention as long as the word exist once within the sentence.\n",
    "\n",
    "<i>Hints\n",
    "1. This problem requires only one single for loop\n",
    "2. Recall warm up question 2\n",
    "3. Make use of the keyword 'in' to check if a word exists within a sentence\n",
    "4. Be careful with the case sensitivity. If \"Fantasy\" or \"Horror\" word exist, increment the count as well. \n",
    "5. Explore this function known as `.lower()` for string.\n",
    "</i>\n",
    "\n",
    "**Expected Output:** \n",
    "```python\n",
    "    {\n",
    "        'fantasy': 233, \n",
    "        'horror': 717\n",
    "    }\n",
    "```"
   ]
  },
  {
   "cell_type": "code",
   "execution_count": 56,
   "metadata": {},
   "outputs": [
    {
     "name": "stdout",
     "output_type": "stream",
     "text": [
      "{'fantasy': 233, 'horror': 717}\n"
     ]
    }
   ],
   "source": [
    "#Populate themes_and_likes with the answer\n",
    "themes_and_likes = {\"fantasy\":0, \"horror\":0}\n",
    "\n",
    "#write your code here\n",
    "for row in usa_video_comments:\n",
    "    if 'fantasy' in row[1].lower():\n",
    "        themes_and_likes['fantasy'] += 1\n",
    "    if 'horror' in row[1].lower():\n",
    "        themes_and_likes['horror'] += 1\n",
    "print(themes_and_likes)"
   ]
  },
  {
   "cell_type": "markdown",
   "metadata": {},
   "source": [
    "### Question 9\n",
    "\n",
    "**Consolidating the positive sentiments rate for all videos**\n",
    "\n",
    "For all the videos in the `usa_comments`, help consolidate them into a dictionary, with the video_id being the key, and the value pair being the number of positive comments (contains the word 'good') which it has received. <br>\n",
    "\n",
    "<i> Hints\n",
    "1. Create the appropriate results containers\n",
    "2. Recall warmup question 2\n",
    "3. Use 2 INDEPENDENT for loops\n",
    "    - 1st for loop:\n",
    "        - Creates a first key value pair of the dictionary, where key = videoid, value = 0\n",
    "        - You should expect everything to be 0 \n",
    "    - 2nd for loop: \n",
    "        - Take out each comment and check if that comment contains the word `good`. \n",
    "        - If so, increase the count of that video id by 1\n",
    "4. If the output is not what you expect, recall warmup question 1\n",
    "5. Explore the `.lower()` function\n",
    "</i>\n",
    "\n",
    "**Expected Output:**\n",
    "\n",
    "When calling for video_id, `O78Lpo4ctSE`, the count should be 30.\n",
    "```python\n",
    "    print(video_and_num_of_comments['O78Lpo4ctSE']) # Gives 30\n",
    "```\n",
    "\n",
    "When calling for video_id, `1k_whpRADOE`, the count should be 29.\n",
    "```python\n",
    "    print(video_and_num_of_comments['1k_whpRADOE']) # Gives 29\n",
    "```"
   ]
  },
  {
   "cell_type": "code",
   "execution_count": 62,
   "metadata": {},
   "outputs": [
    {
     "name": "stdout",
     "output_type": "stream",
     "text": [
      "30\n",
      "29\n"
     ]
    }
   ],
   "source": [
    "#Populate the following dictionary with the required data\n",
    "video_and_num_of_comments = {}\n",
    "\n",
    "#write your code here\n",
    "for row in usa_video_comments:\n",
    "    video_id = row[0]\n",
    "    if 'good' in row[1].lower():\n",
    "        if video_id in video_and_num_of_comments:\n",
    "            video_and_num_of_comments[video_id] += 1\n",
    "        else:\n",
    "            video_and_num_of_comments[video_id] = 1\n",
    "print(video_and_num_of_comments['O78Lpo4ctSE'])\n",
    "print(video_and_num_of_comments['1k_whpRADOE'])"
   ]
  },
  {
   "cell_type": "markdown",
   "metadata": {},
   "source": [
    "If you managed to solve this question, here's a cool tip: \n",
    "\n",
    "Take any video id you see in this dictionary, copy and paste it into a youtube url, for example: \n",
    "\n",
    "    https://youtu.be/<your video id here> \n",
    "    \n",
    "You should see a video based on that id and see if you think that video is worth that many `good`s."
   ]
  },
  {
   "cell_type": "markdown",
   "metadata": {},
   "source": [
    "## Debugging"
   ]
  },
  {
   "cell_type": "markdown",
   "metadata": {},
   "source": [
    "### Question 10\n",
    "One of the common metrics used to evaluate YouTube channel success is the engagement rate (formula given below). \n",
    "<div class=\"alert alert-block alert-info\"><center>engagement_rate = video_comments/video_views\n",
    " </center></div>\n",
    "\n",
    "If you observe the data in `youtube_usa_videos` carefully, you would have realised that each video is dated. This means that in order to truly understand the engagement rate of a specific video, we must accumulate that each video's engagement rate and sum them up. \n",
    "\n",
    "The code below is supposed to calculate the engagement rate for each video title, using the counting with dictionaries concept, but there are several bugs here. Walk through each line one by one to get the correct output.\n",
    "\n",
    "**Expected Output:**\n",
    "\n",
    "    \"What you NEED to start a YouTube channel (YIAY #364)\" has the highest engagement rate in this dataset at 0.05920314453493181"
   ]
  },
  {
   "cell_type": "code",
   "execution_count": 61,
   "metadata": {},
   "outputs": [
    {
     "name": "stdout",
     "output_type": "stream",
     "text": [
      "\"What you NEED to start a YouTube channel (YIAY #364)\" has the highest engagement rate in this dataset at 0.05920314453493181\n"
     ]
    }
   ],
   "source": [
    "highest_video = \"none yet\" #this is fine, dont touch it\n",
    "highest_engagement_rate = -1  #this is fine, dont touch it\n",
    "all_vid_engagement = {} #this is fine, dont touch it\n",
    "\n",
    "for video in youtube_usa_videos:\n",
    "    views = int(video[5])\n",
    "    video_title = video[1]\n",
    "    comments=int(video[8])\n",
    "    if views == 0:\n",
    "        ''\n",
    "    elif views != 0:\n",
    "    \n",
    "        if video_title in all_vid_engagement:\n",
    "            all_vid_engagement[video_title][0] += views\n",
    "            all_vid_engagement[video_title][1] += comments\n",
    "        else:\n",
    "            all_vid_engagement[video_title] = [views, comments]\n",
    "\n",
    "\n",
    "for current_title, all_info in all_vid_engagement.items():\n",
    "    views = all_info[0]\n",
    "    comments = all_info[1]\n",
    "    current_engagement_rate = comments / views\n",
    "    if current_engagement_rate > highest_engagement_rate:\n",
    "        highest_engagement_rate = current_engagement_rate\n",
    "        highest_video = current_title\n",
    "\n",
    "print('\"'+highest_video+'\" has the highest engagement rate in this dataset at '+ str(highest_engagement_rate))"
   ]
  },
  {
   "cell_type": "code",
   "execution_count": null,
   "metadata": {},
   "outputs": [],
   "source": []
  }
 ],
 "metadata": {
  "kernelspec": {
   "display_name": "Python 3",
   "language": "python",
   "name": "python3"
  },
  "language_info": {
   "codemirror_mode": {
    "name": "ipython",
    "version": 3
   },
   "file_extension": ".py",
   "mimetype": "text/x-python",
   "name": "python",
   "nbconvert_exporter": "python",
   "pygments_lexer": "ipython3",
   "version": "3.6.5"
  }
 },
 "nbformat": 4,
 "nbformat_minor": 2
}
