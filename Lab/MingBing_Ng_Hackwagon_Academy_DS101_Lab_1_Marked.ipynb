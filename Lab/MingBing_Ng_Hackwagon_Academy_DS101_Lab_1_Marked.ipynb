{
 "cells": [
  {
   "cell_type": "markdown",
   "metadata": {},
   "source": [
    "<img src=\"https://i2.wp.com/hackwagon.com/wp-content/uploads/2017/02/Logo-Web-Export.png?ssl=1\" width=150/>\n",
    "\n",
    "<h1> Hackwagon Academy - DS101 Lab 1 </h1>\n",
    "<hr>\n",
    "This lab exercise consists of 10 questions, with each correct answer to be awarded 1 mark, totalling up to 10 marks.\n",
    "\n",
    "Attempt but minor syntax errors are awarded half the mark."
   ]
  },
  {
   "cell_type": "code",
   "execution_count": null,
   "metadata": {},
   "outputs": [],
   "source": [
    "#Before you start, please perform the following 2 steps:\n",
    "#1. Rename the file to <First_Name>_<Last_Name>_DS101_Lab_1 e.g. john_doe_DS101_Lab_1\n",
    "\n",
    "#2. Fill in your details here:\n",
    "#Name                    : Ng Ming Bing\n",
    "\n",
    "#Start of Course Class(Edit accordingly): 22 Dec 2018 3.45pm\n",
    "\n",
    "# Total: 19/20\n",
    "# Good work! Keep it up! :D"
   ]
  },
  {
   "cell_type": "markdown",
   "metadata": {},
   "source": [
    "### Question 1\n",
    "Print the type of the following variables by using the `type( )` function shown in class.\n",
    "\n",
    "Channel_Title = \"20th Century Fox\" <br>\n",
    "Title = 'Pirates of the Caribbean' <br>\n",
    "Likes = 23009 <br>\n",
    "Comments = 2000 <br>\n",
    "Rating = 4.7 <br>\n",
    "Popular = True\n"
   ]
  },
  {
   "cell_type": "code",
   "execution_count": 1,
   "metadata": {},
   "outputs": [
    {
     "name": "stdout",
     "output_type": "stream",
     "text": [
      "<class 'str'>\n",
      "<class 'str'>\n",
      "<class 'str'>\n",
      "<class 'int'>\n",
      "<class 'int'>\n",
      "<class 'float'>\n",
      "<class 'bool'>\n"
     ]
    }
   ],
   "source": [
    "#Write your answer in comments. For example\n",
    "example = \"example\"  \n",
    "print(type(example))\n",
    "#the type is string \n",
    "\n",
    "#Write your answers here\n",
    "Channel_Title = \"20th Century Fox\" \n",
    "print(type(Channel_Title))\n",
    "#String\n",
    "Title = 'Pirates of the Caribbean' \n",
    "print(type(Title))\n",
    "#String\n",
    "Likes = 23009 \n",
    "print(type(Likes))\n",
    "#Integer\n",
    "Comments = 2000 \n",
    "print(type(Comments))\n",
    "#Integer\n",
    "Rating = 4.7 \n",
    "print(type(Rating))\n",
    "#Float\n",
    "Popular = True\n",
    "print(type(Popular))\n",
    "#Boolean\n",
    "\n",
    "#Correct!\n",
    "#Marks obtained: 2/2"
   ]
  },
  {
   "cell_type": "markdown",
   "metadata": {},
   "source": [
    "### Question 2: \n",
    "One of the typical metrics for measuring the engagement of videos is through likes per view. Given the following data, write a program to measure the likes/view of \"Lord of the Rings\"\n",
    "\n",
    "```python\n",
    "\n",
    "title = \"Lord of the Rings\" \n",
    "number_of_comments = \"30\" \n",
    "number_of_views = 30218\n",
    "\n",
    "```\n",
    "Your output should be: \n",
    "\n",
    "    Lord of the Rings has an engagement rate of : 0.0009927857568336753"
   ]
  },
  {
   "cell_type": "code",
   "execution_count": 2,
   "metadata": {},
   "outputs": [
    {
     "name": "stdout",
     "output_type": "stream",
     "text": [
      "Lord of the Rings has an engagement rate of : 0.0009927857568336753\n"
     ]
    }
   ],
   "source": [
    "title = \"Lord of the Rings\" \n",
    "number_of_comments = \"30\" \n",
    "number_of_views = 30218\n",
    "\n",
    "rate = int(number_of_comments)/number_of_views\n",
    "print(title+' has an engagement rate of : '+str(rate))\n",
    "\n",
    "#Correct!\n",
    "#Marks obtained: 2/2"
   ]
  },
  {
   "cell_type": "markdown",
   "metadata": {},
   "source": [
    "### Question 3:\n",
    "One of the title of the video contains some special characters. Make use of string indexing to remove it\n",
    "\n",
    "Title = \"Lord of the*&@#(* Rings\" <br>\n",
    "\n",
    "Your output should be\n",
    "\n",
    "    \"Lord of the Rings\"\n"
   ]
  },
  {
   "cell_type": "code",
   "execution_count": 4,
   "metadata": {},
   "outputs": [
    {
     "data": {
      "text/plain": [
       "'Lord of the Rings'"
      ]
     },
     "execution_count": 4,
     "metadata": {},
     "output_type": "execute_result"
    }
   ],
   "source": [
    "Title = \"Lord of the&@#( Rings\" \n",
    "\n",
    "str(Title[0:11]+Title[15:])\n",
    "\n",
    "#Correct!\n",
    "#Marks obtained: 2/2"
   ]
  },
  {
   "cell_type": "markdown",
   "metadata": {},
   "source": [
    "### Question 4: \n",
    "One of the title of the video is reversed. Make use of string indexing to reverse it back.\n",
    "``` python\n",
    "    Title = \"rettoP yrraH\"\n",
    "```\n",
    "Your output should be:\n",
    "    \n",
    "    \"Harry Potter\"\n"
   ]
  },
  {
   "cell_type": "code",
   "execution_count": 5,
   "metadata": {},
   "outputs": [
    {
     "data": {
      "text/plain": [
       "'Harry Potter'"
      ]
     },
     "execution_count": 5,
     "metadata": {},
     "output_type": "execute_result"
    }
   ],
   "source": [
    "Title = \"rettoP yrraH\"\n",
    "\n",
    "str(Title[::-1])#Its already a string do not need to convert again! :)\n",
    "\n",
    "#Correct!\n",
    "#Marks obtained: 2/2"
   ]
  },
  {
   "cell_type": "markdown",
   "metadata": {},
   "source": [
    "### Question 5\n",
    "Given the following list, access every value in the list and sum them up to calculate the total based on the data. <b>Without using the `sum()` function.</b>\n",
    "\n",
    "Expected output:\n",
    "\n",
    "    153"
   ]
  },
  {
   "cell_type": "code",
   "execution_count": 6,
   "metadata": {},
   "outputs": [
    {
     "name": "stdout",
     "output_type": "stream",
     "text": [
      "153\n"
     ]
    }
   ],
   "source": [
    "data = [12,78,53,10]\n",
    "Total = data[0]+data[1]+data[2]+data[3]\n",
    "print(Total)\n",
    "\n",
    "#Correct!\n",
    "#Marks obtained: 2/2"
   ]
  },
  {
   "cell_type": "markdown",
   "metadata": {},
   "source": [
    "### Question 6\n",
    "Given the following data, use list slicing print the last 3 items in the list:\n",
    "\n",
    "Expected output:\n",
    "    \n",
    "    [[\"G\"], [\"H\"], [\"I\"]]"
   ]
  },
  {
   "cell_type": "code",
   "execution_count": 7,
   "metadata": {},
   "outputs": [
    {
     "name": "stdout",
     "output_type": "stream",
     "text": [
      "[['G'], ['H'], ['I']]\n"
     ]
    }
   ],
   "source": [
    "data = [ [\"A\"], [\"B\"], [\"C\"], [\"D\"], [\"E\"], [\"F\"], [\"G\"], [\"H\"], [\"I\"] ]\n",
    "\n",
    "print(data[-3:])\n",
    "\n",
    "#Correct!\n",
    "#Marks obtained: 2/2"
   ]
  },
  {
   "cell_type": "markdown",
   "metadata": {},
   "source": [
    "### Question 7\n",
    "The following data contains names and positions of people in a company. Each inner list has the following structure:\n",
    "\n",
    "|Info | Name | Position   \n",
    "|-- |------|------\n",
    "|Index| 0 | 1| \n",
    "\n",
    "\n",
    "Do the following 2 things: \n",
    "\n",
    "1. Using the `.append()` function, add another list of a similar structure to `data`.  \n",
    "\n",
    "2. Using the `[]` index function, change the position of `Adam` to `Instructor`. \n",
    "\n",
    "Expected output:\n",
    "\n",
    "    [ [\"Tom\",\"Manager\"], [\"Adam\",\"Instructor\"], [\"Johnny\", \"Instructor\"] ]"
   ]
  },
  {
   "cell_type": "code",
   "execution_count": 8,
   "metadata": {},
   "outputs": [
    {
     "name": "stdout",
     "output_type": "stream",
     "text": [
      "[['Tom', 'Manager'], ['Adam', 'Instructor'], ['Johnny', 'Instructor']]\n"
     ]
    }
   ],
   "source": [
    "data = [ [\"Tom\",\"Manager\"], [\"Adam\",\"TA\"] ]\n",
    "\n",
    "data.append([\"Johnny\",\"Instructor\"])\n",
    "data[1][1]=\"Instructor\"\n",
    "print(data)\n",
    "\n",
    "#Correct!\n",
    "#Marks obtained: 2/2"
   ]
  },
  {
   "cell_type": "markdown",
   "metadata": {},
   "source": [
    "##### YOUTUBE ENGAGEMENT RATE\n",
    "One of the common metrics used to evaluate YouTube channel success is the engagement rate (formula given below). \n",
    "<div class=\"alert alert-block alert-info\"><center>engagement_rate = video_comments/video_views\n",
    " </center></div>"
   ]
  },
  {
   "cell_type": "markdown",
   "metadata": {},
   "source": [
    "### Question 8\n",
    "Another newbie to programming wrote the following piece of code to calculate the engagement of a video. However, his codes were met with syntax, logic bugs and exceptions. \n",
    "\n",
    "Expected output:\n",
    "\n",
    "    The engagement rate is: 0.2857142857142857\n",
    "\n",
    "Debug the following code for him."
   ]
  },
  {
   "cell_type": "code",
   "execution_count": 10,
   "metadata": {},
   "outputs": [
    {
     "name": "stdout",
     "output_type": "stream",
     "text": [
      "The engagement rate is: 0.2857142857142857\n"
     ]
    }
   ],
   "source": [
    "#debug the following\n",
    "Number_of_views = 35000\n",
    "Number_of_comments = 10000\n",
    "\n",
    "engagement = Number_of_comments / Number_of_views\n",
    "print(\"The engagement rate is: \" + str(engagement))\n",
    "\n",
    "#Partially correct! You changed the Number_of_views data type which is not any error! We wanted you to work with the string\n",
    "#as the varaible type because type conversion is an important stuff that you will use when pulling data from excel which \n",
    "#all the data is in strings!:)\n",
    "#Marks obtained: 1/2"
   ]
  },
  {
   "cell_type": "markdown",
   "metadata": {},
   "source": [
    "### Question 9\n",
    "Another newbie to programming wrote the following piece of code to calculate the engagement of a video. However, her codes were met with syntax, logic bugs and exceptions. \n",
    "\n",
    "Expected output: \n",
    "\n",
    "    The engagement rate is: 0.00025874580309758475\n",
    "\n",
    "Debug the following code for her.\n"
   ]
  },
  {
   "cell_type": "code",
   "execution_count": 9,
   "metadata": {},
   "outputs": [
    {
     "name": "stdout",
     "output_type": "stream",
     "text": [
      "The engagement rate is: 0.00025874580309758475\n"
     ]
    }
   ],
   "source": [
    "#Another way to calculate engagement is the number of comments per view\n",
    "\n",
    "#debug the following\n",
    "Num_of_comments = 2389\n",
    "Num_of_views = 9233000\n",
    "\n",
    "Engagement_lvl = Num_of_comments / Num_of_views\n",
    "\n",
    "print(\"The engagement rate is: \" + str(Engagement_lvl) )\n",
    "\n",
    "#Correct!\n",
    "#Marks obtained: 2/2"
   ]
  },
  {
   "cell_type": "markdown",
   "metadata": {},
   "source": [
    "### Question 10\n",
    "The data below is a list of 2 lists, and each inner list has the following structure: \n",
    "\n",
    "|Info | Title | Views | Comments  \n",
    "|-- |------|------|--|\n",
    "|Index| 0 | 1| 2\n",
    "\n",
    "Another newbie to programming wrote the following piece of code to calculate the total engagement score of 2 videos. However, his codes were met with syntax, logic bugs and exceptions. \n",
    "\n",
    "Expected output:\n",
    "\n",
    "    The engagement rate is: 0.09468765371372356\n",
    "\n",
    "Debug the following code for him."
   ]
  },
  {
   "cell_type": "code",
   "execution_count": 10,
   "metadata": {},
   "outputs": [
    {
     "name": "stdout",
     "output_type": "stream",
     "text": [
      "The engagement rate is: 0.09468765371372356\n"
     ]
    }
   ],
   "source": [
    "all_video_information = ['despacito', 51320, 5300],['im yours', 30000, 2400]\n",
    "\n",
    "despacito_views = all_video_information[0][1]\n",
    "despacito_comments = all_video_information[0][2]\n",
    "\n",
    "im_yours_views = all_video_information[1][1]\n",
    "im_yours_comments = all_video_information[1][2]\n",
    "\n",
    "total_views = despacito_views + im_yours_views\n",
    "total_likes = despacito_comments + im_yours_comments\n",
    "\n",
    "engagement = total_likes/total_views\n",
    "\n",
    "print(\"The engagement rate is: \" + str(engagement) )\n",
    "\n",
    "#Correct!\n",
    "#Marks obtained: 2/2"
   ]
  },
  {
   "cell_type": "markdown",
   "metadata": {},
   "source": [
    "<div class=\"alert alert-success\">\n",
    "**Checkpoint**: You are done! Upload your progress to eLearn. eLearn only accepts the latest notebooks so if you have an existing notebook, your latest upload will **override** it.\n",
    "</div>"
   ]
  },
  {
   "cell_type": "markdown",
   "metadata": {},
   "source": [
    "### Last to do\n",
    "Watch the following short videos in preparation for the next lesson:\n",
    "\n",
    "Strings, Lists, Tuples, and Dictionaries: https://www.youtube.com/watch?v=19EfbO5D_8s <br>\n",
    "Conditionals, If, Else, Elif: https://www.youtube.com/watch?v=mQrci1kAwh4\n"
   ]
  },
  {
   "cell_type": "code",
   "execution_count": null,
   "metadata": {},
   "outputs": [],
   "source": []
  }
 ],
 "metadata": {
  "kernelspec": {
   "display_name": "Python 3",
   "language": "python",
   "name": "python3"
  },
  "language_info": {
   "codemirror_mode": {
    "name": "ipython",
    "version": 3
   },
   "file_extension": ".py",
   "mimetype": "text/x-python",
   "name": "python",
   "nbconvert_exporter": "python",
   "pygments_lexer": "ipython3",
   "version": "3.6.5"
  }
 },
 "nbformat": 4,
 "nbformat_minor": 2
}
