{
 "cells": [
  {
   "cell_type": "markdown",
   "metadata": {},
   "source": [
    "<img src=\"https://i2.wp.com/hackwagon.com/wp-content/uploads/2017/02/Logo-Web-Export.png?ssl=1\" width=200/>\n",
    "\n",
    "## <center> Hackwagon Academy: DS101 In-Class Practice Week 6</center>\n",
    "\n",
    "## <center>Lazada Case Study</center>\n",
    "\n",
    "## Learning Objectives\n",
    "\n",
    "1. Recap\n",
    "2. Understand how to read a large dataset\n",
    "3. Process behind doing data exploration\n",
    "3. Data inspection\n",
    "4. The need for exploratory data analysis\n",
    "5. Basic data visualisation\n",
    "\n",
    "<b><i>A table of important collections functions is here for your use</b></i>\n",
    "\n",
    "### References\n",
    "\n",
    "### <center> Important Collections Functions </center>\n",
    "### <center> Creation </center>\n",
    "|Collection Type | Function | Examples |\n",
    "| ---------|---------|---------|\n",
    "| `list` | <center>None</center>| `new_list = []` <br><br> `new_list = [1,2,3,4]` |\n",
    "| `dict` | <center>None</center>| `new_dict = {}` <br><br> `new_dict = {'a': 1, 'b':2}`|\n",
    "\n",
    "### <center> Add / Appending Data </center>\n",
    "|Collection Type | Functions | Examples | Resulting Output|\n",
    "| ---------|---------|---------| ------ |\n",
    "| `list` | <center>`.append()`</center>| `new_list = [1,2,3]` <br><br> `new_list.append(4)` | `[1,2,3,4]`|\n",
    "| `list` | <center>`.extend()`</center>| `new_list = [1,2]` <br><br> `new_list.extend([3,4])` | `[1,2,3,4]`|\n",
    "| `dict` | <center>None</center>| `new_dict = {}` <br><br> `new_dict['a'] = 1` <br><br> `new_dict['b'] = 2` | `{'a': 1, 'b':2}`|\n",
    "\n",
    "### <center> Updating / Changing Data </center>\n",
    "|Collection Type | Functions | Examples | Resulting Output|\n",
    "| ---------|---------|---------| ------ |\n",
    "| `list` | <center>None</center>| `new_list = [1,2,3]` <br><br> `new_list[0] = 5` | `[5,2,3]`|\n",
    "| `dict` | <center>None</center>| `new_dict = {'a': 1, 'b':2}` <br><br> `new_dict['a'] = 10`| `{'a': 10, 'b':2}`|\n",
    "\n",
    "### <center> Accessing / Taking Out Data </center>\n",
    "|Collection Type | Functions | x to be| Examples |\n",
    "| ---------|---------|---------| ------ |\n",
    "| `list` | <center>None</center>| 3 |`new_list = [1,2,3]` <br><br> `x = new_list[2] `|\n",
    "| `list of list` | <center>None</center>|3 |`new_list = [[1,2],[3,4]]` <br><br> `x = new_list[1][0] `|\n",
    "| `list of dict` | <center>None</center>| 2 |`new_list = [{'a':1},{'b':2}]` <br><br> `x = new_list[1]['b'] `|\n",
    "| `dict` | <center>None</center>| 2|`new_dict = {'a': 1, 'b':2}` <br><br> `x = new_dict['b']`|\n",
    "\n",
    "### CITU Framework & Applied Iterations\n",
    "1. What variables do you need to answer this question?\n",
    "1. <b>Create</b> the results container\n",
    "2. <b>Iterate</b> the input data/list\n",
    "3. <b>Take out the variables you needed in step 1</b>\n",
    "3. <b>Test</b> conditions of each value\n",
    "4. <b>Update</b> the results container when condition is fulfilled"
   ]
  },
  {
   "cell_type": "markdown",
   "metadata": {},
   "source": [
    "##  Exploratory Data Analysis\n",
    "\n",
    "In any Data Science project, the first step is to perform <b>Exploratory Data Analysis</b> (EDA) on the dataset. EDA is the first step for us to begin understanding the dataset and in doing so, answer some of the common assumptions we have of our data so that we are able to understand how to better prepare it for further analysis.\n",
    "\n",
    "We will be doing the following steps in our EDA:\n",
    "\n",
    "1. Read File\n",
    "2. Preview Data\n",
    "3. Clean Data\n",
    "4. Explore with Questions\n",
    "5. Visualise\n",
    "\n",
    "## Lazada Dataset\n",
    "<img src=\"https://s.yimg.com/ny/api/res/1.2/_qLpCqbdgKq0nnY3UDmI2w--~A/YXBwaWQ9aGlnaGxhbmRlcjtzbT0xO3c9NzQ0O2g9Mzcy/http://media.zenfs.com/en/homerun/feed_manager_auto_publish_494/87db61c8ea6d6fcc4122595bb0c0c2c5\" width=\"400\">\n",
    "\n",
    "This dataset has been source from the Lazada marketplace, where we have above <b>36 thousand rows</b> of data to work with. <b>Each row represents one product</b>. Opening this file in Microsoft Excel would look like this:\n",
    "\n",
    "<img src=\"https://i.imgur.com/E0QJP92.png\">\n",
    "\n",
    "We're going to do some simple analysis with these products and see what we can come up with."
   ]
  },
  {
   "cell_type": "markdown",
   "metadata": {},
   "source": [
    "<h2>Step 1: Reading the Lazada Dataset </h2>\n",
    "\n",
    "### Practice 1\n",
    "Just as you did in your recap, read the `lazada_data.csv` file in to a list of dictionaries and store them in to a variable called `lazada_data`."
   ]
  },
  {
   "cell_type": "code",
   "execution_count": 3,
   "metadata": {},
   "outputs": [],
   "source": [
    "import csv\n",
    "\n",
    "with open('lazada_data.csv', encoding='utf-8') as file:\n",
    "    read = csv.DictReader(file)\n",
    "    lazada_data = []\n",
    "    for line in read:\n",
    "        lazada_data.append(dict(line))\n",
    "\n"
   ]
  },
  {
   "cell_type": "markdown",
   "metadata": {},
   "source": [
    "<h2>Step 2: Preview Data </h2>\n",
    "\n",
    "As you might have seen in all the lab exercises, we've always previewed the data. This step is crucial because it allows us to first visually understand what is going on with our data, if there is any problems with it and if so, how we can go about tackling these issues.\n",
    "\n",
    "Previewing this data would give you something that looks like this:\n",
    "```python\n",
    "    {\n",
    "        'country': 'my',\n",
    "        'sku_id': 'AD674FAASTLXANMY',\n",
    "        'title': 'Adana Gallery Suri Square Hijab – Light Pink',\n",
    "        'category_lvl_1': 'Fashion',\n",
    "        'category_lvl_2': 'Women',\n",
    "        'category_lvl_3': 'Muslim Wear',\n",
    "        'short_description': '<ul><li>Material : Non sheer shimmer chiffon</li><li>Sizes : 52 x 52 inches OR 56 x 56 inches</li><li>Cut\\xa0with curved ends</li></ul>',\n",
    "        'price': '49',\n",
    "        'product_type': 'local'\n",
    "    }\n",
    "```"
   ]
  },
  {
   "cell_type": "code",
   "execution_count": 5,
   "metadata": {},
   "outputs": [
    {
     "data": {
      "text/plain": [
       "{'country': 'my',\n",
       " 'sku_id': 'AD674FAASTLXANMY',\n",
       " 'title': 'Adana Gallery Suri Square Hijab – Light Pink',\n",
       " 'category_lvl_1': 'Fashion',\n",
       " 'category_lvl_2': 'Women',\n",
       " 'category_lvl_3': 'Muslim Wear',\n",
       " 'short_description': '<ul><li>Material : Non sheer shimmer chiffon</li><li>Sizes : 52 x 52 inches OR 56 x 56 inches</li><li>Cut\\xa0with curved ends</li></ul>',\n",
       " 'price': '49',\n",
       " 'product_type': 'local'}"
      ]
     },
     "execution_count": 5,
     "metadata": {},
     "output_type": "execute_result"
    }
   ],
   "source": [
    "lazada_data[0]"
   ]
  },
  {
   "cell_type": "markdown",
   "metadata": {},
   "source": [
    "<h2>Step 3: Data Cleaning </h2>\n",
    "As you've might observed, after previewing the data, we've realised some issues. In any Data Science project, data cleaning can take up to <b>80%</b> of the project time because of the numerous special cases you need to be aware of and <i>clean</i> them up for you to be able to use them.\n",
    "\n",
    "After previewing the data, we've observed the following issues with the Lazada dataset. They are the following:\n",
    "\n",
    "1. The `price` column is a `string`\n",
    "2. The `title` column has special characters like ()<> and so on\n",
    "3. The `short_description` column has special characters like ()<> and so on\n",
    "\n",
    "#### Practice 2\n",
    "We're going to practice some simple data cleaning. The other 2 issues have been resolved for you. Your job is simple:\n",
    "\n",
    "1. Clean the `price` column\n",
    "\n",
    "Our primary goal is to turn what we saw in the preview earlier and turn our dictionaries to this :\n",
    "```python\n",
    "    {\n",
    "        'country': 'my', \n",
    "        'sku_id': 'AD674FAASTLXANMY', \n",
    "        'title': 'Adana Gallery Suri Square Hijab   Light Pink', \n",
    "        'category_lvl_1': 'Fashion', \n",
    "        'category_lvl_2': 'Women', \n",
    "        'category_lvl_3': 'Muslim Wear', \n",
    "        'short_description': 'Material : Non sheer shimmer chiffon  Sizes : 52 x 52 inches OR 56 x 56 inches  Cut\\xa0with curved ends', \n",
    "        'price': 49.0, \n",
    "        'product_type': 'local'\n",
    "    }\n",
    "```"
   ]
  },
  {
   "cell_type": "code",
   "execution_count": 6,
   "metadata": {},
   "outputs": [
    {
     "name": "stdout",
     "output_type": "stream",
     "text": [
      "{'country': 'my', 'sku_id': 'AD674FAASTLXANMY', 'title': 'Adana Gallery Suri Square Hijab   Light Pink', 'category_lvl_1': 'Fashion', 'category_lvl_2': 'Women', 'category_lvl_3': 'Muslim Wear', 'short_description': 'Material : Non sheer shimmer chiffon  Sizes : 52 x 52 inches OR 56 x 56 inches  Cut\\xa0with curved ends', 'price': 49.0, 'product_type': 'local'}\n"
     ]
    }
   ],
   "source": [
    "import re\n",
    "\n",
    "#Clean the product dictionary\n",
    "for product in lazada_data:\n",
    "    \n",
    "    #Convert Price from String to Float\n",
    "    # ---- Code below -----\n",
    "    product['price'] = float(product['price'])\n",
    "    # ---- Code above -----\n",
    "    \n",
    "    #Remove non-alphanumeric characters in title\n",
    "    text = re.sub('[^0-9a-zA-Z]',' ',product['title']) \n",
    "    \n",
    "    #Alternatively we can do the following\n",
    "    #regex = re.compile('[^0-9a-zA-Z]')\n",
    "    #text = regex.sub(' ',product['title'])\n",
    "    \n",
    "    product['title'] = text.strip()\n",
    "    \n",
    "    #Remove HTML codes in description\n",
    "    regex = re.compile('<.*?>')\n",
    "    text = regex.sub(' ',product['short_description'])\n",
    "    product['short_description'] = text.strip()\n",
    "\n",
    "print(lazada_data[0])"
   ]
  },
  {
   "cell_type": "markdown",
   "metadata": {},
   "source": [
    "<h2>Step 4: Visualise </h2>\n",
    "\n",
    "Visualisations is a powerful tool in understanding. Provides us with a visual representation to some of the answers we might have of our data. Some of the common visualistions we can use are:\n",
    "\n",
    "1. Bar Charts\n",
    "2. Scatter Plots\n",
    "3. Histogram \n",
    "\n",
    "and many more...\n",
    "\n",
    "In order to do any of these visualisations, we need to prepare the data we need for these.\n",
    "\n",
    "### Practice 4\n",
    "\n",
    "#### Question 1\n",
    "Using counting with dictionaries, find the number of items `category_lvl_1` items there are in Singapore and store it in `SG_Products`.\n",
    "\n",
    "<b>Expected Output:</b>\n",
    "   \n",
    "       {\n",
    "           'Computers & Laptops': 698,\n",
    "           'TV Audio / Video Gaming & Wearables': 593,\n",
    "           'Fashion': 1352,\n",
    "           'Mobiles & Tablets': 1407,\n",
    "           'Health & Beauty': 1010,\n",
    "           'Home & Living': 1563,\n",
    "           'Watches Sunglasses Jewellery': 1069,\n",
    "           'Home Appliances': 434,\n",
    "           'Cameras': 512\n",
    "       }"
   ]
  },
  {
   "cell_type": "code",
   "execution_count": 10,
   "metadata": {},
   "outputs": [
    {
     "name": "stdout",
     "output_type": "stream",
     "text": [
      "{'Computers & Laptops': 698, 'TV Audio / Video Gaming & Wearables': 593, 'Fashion': 1352, 'Mobiles & Tablets': 1407, 'Health & Beauty': 1010, 'Home & Living': 1563, 'Watches Sunglasses Jewellery': 1069, 'Home Appliances': 434, 'Cameras': 512}\n"
     ]
    }
   ],
   "source": [
    "sg_category_dict = {}\n",
    "\n",
    "for item in lazada_data:\n",
    "    category = item['category_lvl_1']\n",
    "    country = item['country']\n",
    "    \n",
    "    if country == 'sg':\n",
    "        if category in sg_category_dict:\n",
    "            sg_category_dict[category] += 1\n",
    "        else:\n",
    "            sg_category_dict[category] = 1\n",
    "\n",
    "print(sg_category_dict)"
   ]
  },
  {
   "cell_type": "markdown",
   "metadata": {},
   "source": [
    "#### Question 2\n",
    "Using what you've done in Question 1, apply this for both Malaysia and Phillippines and store them in `MY_Products` and `PH_Products`, respectively."
   ]
  },
  {
   "cell_type": "code",
   "execution_count": 13,
   "metadata": {},
   "outputs": [
    {
     "name": "stdout",
     "output_type": "stream",
     "text": [
      "{'Computers & Laptops': 775, 'Cameras': 608, 'Home & Living': 1890, 'Mobiles & Tablets': 2204, 'TV Audio / Video Gaming & Wearables': 900, 'Fashion': 1838, 'Watches Sunglasses Jewellery': 1259, 'Health & Beauty': 1240, 'Home Appliances': 518}\n"
     ]
    }
   ],
   "source": [
    "# malaysia\n",
    "\n",
    "my_category_dict = {}\n",
    "\n",
    "for item in lazada_data:\n",
    "    category = item['category_lvl_1']\n",
    "    country = item['country']\n",
    "    \n",
    "    if country == 'my':\n",
    "        if category in my_category_dict:\n",
    "            my_category_dict[category] += 1\n",
    "        else:\n",
    "            my_category_dict[category] = 1\n",
    "\n",
    "ph_category_dict = {}\n",
    "\n",
    "for item in lazada_data:\n",
    "    category = item['category_lvl_1']\n",
    "    country = item['country']\n",
    "    \n",
    "    if country == 'ph':\n",
    "        if category in ph_category_dict:\n",
    "            ph_category_dict[category] += 1\n",
    "        else:\n",
    "            ph_category_dict[category] = 1\n",
    "\n",
    "print(ph_category_dict)"
   ]
  },
  {
   "cell_type": "markdown",
   "metadata": {},
   "source": [
    "### Bar Charts\n",
    "To begin any visualisation, we need to use external libraries to help us. To do so, we would need to use the `matplotlib` library. \n",
    "\n",
    "A good tool to compare between categories is to use bar charts. Below would be an example of such a barchart"
   ]
  },
  {
   "cell_type": "markdown",
   "metadata": {},
   "source": [
    "### Practice 5\n",
    "#### Question 1\n",
    "Apply what you've learnt from the example for the products from <b>Malaysia</b>."
   ]
  },
  {
   "cell_type": "code",
   "execution_count": 21,
   "metadata": {},
   "outputs": [
    {
     "data": {
      "text/plain": [
       "<BarContainer object of 9 artists>"
      ]
     },
     "execution_count": 21,
     "metadata": {},
     "output_type": "execute_result"
    },
    {
     "data": {
      "image/png": "[encoded data removed]",
      "text/plain": [
       "<Figure size 1440x720 with 1 Axes>"
      ]
     },
     "metadata": {},
     "output_type": "display_data"
    }
   ],
   "source": [
    "import matplotlib.pyplot as plt\n",
    "\n",
    "X = []\n",
    "Y = []\n",
    "\n",
    "for key, value in my_category_dict.items():\n",
    "    X.append(key)\n",
    "    Y.append(value)\n",
    "\n",
    "fig = plt.figure(figsize=(20, 10))  \n",
    "plt.bar(X,Y)"
   ]
  },
  {
   "cell_type": "markdown",
   "metadata": {},
   "source": [
    "#### Question 2\n",
    "Apply what you've learnt from the example for the products from <b>Phillippines</b>."
   ]
  },
  {
   "cell_type": "code",
   "execution_count": 23,
   "metadata": {},
   "outputs": [
    {
     "data": {
      "text/plain": [
       "<matplotlib.collections.PathCollection at 0x1f3de7c4748>"
      ]
     },
     "execution_count": 23,
     "metadata": {},
     "output_type": "execute_result"
    },
    {
     "data": {
      "image/png": "[encoded data removed]",
      "text/plain": [
       "<Figure size 1440x720 with 1 Axes>"
      ]
     },
     "metadata": {},
     "output_type": "display_data"
    }
   ],
   "source": [
    "import matplotlib.pyplot as plt\n",
    "\n",
    "X = []\n",
    "Y = []\n",
    "\n",
    "for key, value in ph_category_dict.items():\n",
    "    X.append(key)\n",
    "    Y.append(value)\n",
    "\n",
    "fig = plt.figure(figsize=(20, 10))  \n",
    "plt.scatter(X,Y)"
   ]
  }
 ],
 "metadata": {
  "kernelspec": {
   "display_name": "Python 3",
   "language": "python",
   "name": "python3"
  },
  "language_info": {
   "codemirror_mode": {
    "name": "ipython",
    "version": 3
   },
   "file_extension": ".py",
   "mimetype": "text/x-python",
   "name": "python",
   "nbconvert_exporter": "python",
   "pygments_lexer": "ipython3",
   "version": "3.6.5"
  }
 },
 "nbformat": 4,
 "nbformat_minor": 2
}
