{
 "cells": [
  {
   "cell_type": "markdown",
   "metadata": {},
   "source": [
    "<img src=\"https://i2.wp.com/hackwagon.com/wp-content/uploads/2017/02/Logo-Web-Export.png?ssl=1\" width=200/>\n",
    "<h1> <center> Hackwagon Academy: DS101 In-Class Practice Lesson 5</center> </h1>\n",
    "\n",
    "<h2> <center>Functions</center> </h2>\n",
    "\n",
    "<i>Prepared by @jonchewyl</i>\n",
    "\n",
    "<h2> Learning Objectives</h2>\n",
    "\n",
    "1. Functions\n",
    "2. Functions in a Function\n",
    "3. Difference between `print()` and `return`\n",
    "4. Libraries\n",
    "5. How to read documentation on libraries"
   ]
  },
  {
   "cell_type": "markdown",
   "metadata": {},
   "source": [
    "### Recap\n",
    "\n",
    "- Collections\n",
    "- Looping through collections\n",
    "- Counting with dictionary"
   ]
  },
  {
   "cell_type": "code",
   "execution_count": 2,
   "metadata": {},
   "outputs": [],
   "source": [
    "# List Functions\n",
    "\n",
    "# 1. Creating\n",
    "# 2. Changing items\n",
    "# 3. Adding items\n",
    "# 4. Removing items\n",
    "# 5. Viewing items"
   ]
  },
  {
   "cell_type": "code",
   "execution_count": 3,
   "metadata": {},
   "outputs": [],
   "source": [
    "# Dictionary Functions\n",
    "\n",
    "# 1. Creating\n",
    "# 2. Changing items\n",
    "# 3. Adding items\n",
    "# 4. Removing items\n",
    "# 5. Viewing items"
   ]
  },
  {
   "cell_type": "code",
   "execution_count": 4,
   "metadata": {},
   "outputs": [],
   "source": [
    "# if-else statements\n"
   ]
  },
  {
   "cell_type": "code",
   "execution_count": 5,
   "metadata": {},
   "outputs": [],
   "source": [
    "### Basic for loops\n",
    "\n",
    "data_list = [-5, 4, -20, 9, -42, 0, -15]\n",
    "data_dict = {'name':'henry', 'age':22, 'country':'Singapore', 'occupation':'teacher'}\n",
    "\n",
    "# Looping through lists directly\n",
    "\n",
    "# Looping through lists with range\n",
    "\n",
    "# Looping through dictionary\n"
   ]
  },
  {
   "cell_type": "code",
   "execution_count": 6,
   "metadata": {},
   "outputs": [],
   "source": [
    "### Looping through collection of collections\n",
    "\n",
    "# For loop through list of dictionaries\n",
    "data = [\n",
    "    {'name': 'kt', 'nric': 'S93250888', 'score': 10, 'occupation': 'student'},\n",
    "    {'name': 'eli', 'nric': 'S93250818', 'score': 5, 'occupation': 'student'},\n",
    "    {'name': 'vera', 'nric': 'S93250288', 'score': 2, 'occupation': 'teacher'},\n",
    "    {'name': 'may', 'nric': 'S93250218', 'score': 7, 'occupation': 'student'},\n",
    "    {'name': 'agnes', 'nric': 'S93250248', 'score': 2, 'occupation': 'teacher'},\n",
    "]\n",
    "\n",
    "\n",
    "# For loop through dictionary of lists\n",
    "data = {\n",
    "    'kt':['S93250888', 10, 'student'],\n",
    "    'eli':['S93250818', 5, 'student'],\n",
    "    'vera':['S93250288', 2, 'teacher'],\n",
    "    'may':['S93250218', 7, 'student'],\n",
    "    'agnes':['S93250248', 2, 'teacher']\n",
    "}"
   ]
  },
  {
   "cell_type": "code",
   "execution_count": 7,
   "metadata": {},
   "outputs": [],
   "source": [
    "# Counting with dictionary\n",
    "data = [\n",
    "    {'name': 'kt', 'gender': 'M', 'status': 'Citizen', 'occupation': 'student'},\n",
    "    {'name': 'eli', 'gender': 'M', 'status': 'PR', 'occupation': 'student'},\n",
    "    {'name': 'vera', 'gender': 'F', 'status': 'Citizen', 'occupation': 'teacher'},\n",
    "    {'name': 'may', 'gender': 'F', 'status': 'PR', 'occupation': 'student'},\n",
    "    {'name': 'agnes', 'gender': 'F', 'status':'Citizen', 'occupation': 'teacher'},\n",
    "]\n",
    "\n"
   ]
  },
  {
   "cell_type": "markdown",
   "metadata": {},
   "source": [
    "## Functions\n",
    "Functions are basically something you can \"call\" to perform an action for you. We've been using functions very often, such as  built in-functions provided by Python, like: \n",
    "- `print()`\n",
    "- `max()`\n",
    "- `sum()` \n",
    "\n",
    "and so on... \n",
    "\n",
    "Overall structure:\n",
    "\n",
    "    < data type > . < function name > ( input if any )"
   ]
  },
  {
   "cell_type": "code",
   "execution_count": null,
   "metadata": {},
   "outputs": [],
   "source": []
  },
  {
   "cell_type": "markdown",
   "metadata": {},
   "source": [
    "You can think of creating your own functions like building your own factories.\n",
    "\n",
    "<img src=\"https://i.imgur.com/lTSsOAj.png\" width=\"400\">\n",
    "\n",
    "Here will learn how build our own functions. Here is the syntax for building functions: \n",
    "<img src='https://i.imgur.com/iDdK6Np.png' width=\"350\">\n",
    "\n",
    "Why do we want to build functions:\n",
    "1. Makes code reusable\n",
    "2. Provides structure to longer codes\n",
    "3. Makes it easier for other programmers to understand your work\n",
    "\n",
    "<b>It is important to realise that any function, once created, is stored in your computer's memory.</b> Therefore, you can always keep using the function by 'calling' its' name. "
   ]
  },
  {
   "cell_type": "code",
   "execution_count": 8,
   "metadata": {},
   "outputs": [
    {
     "ename": "SyntaxError",
     "evalue": "unexpected EOF while parsing (<ipython-input-8-241a76a4e806>, line 4)",
     "output_type": "error",
     "traceback": [
      "\u001b[1;36m  File \u001b[1;32m\"<ipython-input-8-241a76a4e806>\"\u001b[1;36m, line \u001b[1;32m4\u001b[0m\n\u001b[1;33m    \u001b[0m\n\u001b[1;37m    ^\u001b[0m\n\u001b[1;31mSyntaxError\u001b[0m\u001b[1;31m:\u001b[0m unexpected EOF while parsing\n"
     ]
    }
   ],
   "source": [
    "# Our first function\n",
    "def print_hello():\n",
    "    # let it print the string 'hello world'\n",
    "    "
   ]
  },
  {
   "cell_type": "markdown",
   "metadata": {},
   "source": [
    "To use the function, just type the exact name of the function `print_hello()`. "
   ]
  },
  {
   "cell_type": "code",
   "execution_count": null,
   "metadata": {},
   "outputs": [],
   "source": [
    "# Call for the function\n"
   ]
  },
  {
   "cell_type": "markdown",
   "metadata": {},
   "source": [
    "### Parameters (inputs) in a function\n",
    "Functions can take any number of parameters (inputs) by placing them in the brackets. Let's see the following as an example. \n",
    "\n",
    "<img src=\"https://i.imgur.com/aE9lJla.png\" width=\"400\">"
   ]
  },
  {
   "cell_type": "code",
   "execution_count": null,
   "metadata": {},
   "outputs": [],
   "source": [
    "def print_10_plus_1():\n",
    "    ###actions here###\n",
    "\n",
    "print_10_plus_1()    \n",
    "    "
   ]
  },
  {
   "cell_type": "markdown",
   "metadata": {},
   "source": [
    "<img src=\"https://i.imgur.com/TZWeuSi.png\" width=\"400\">"
   ]
  },
  {
   "cell_type": "code",
   "execution_count": null,
   "metadata": {},
   "outputs": [],
   "source": [
    "def add_one_to_x(x):\n",
    "    ###actions here###\n",
    "\n",
    "add_one_to_x()"
   ]
  },
  {
   "cell_type": "markdown",
   "metadata": {},
   "source": [
    "<img src=\"https://i.imgur.com/TyK3GgW.png\" width=\"400\">"
   ]
  },
  {
   "cell_type": "code",
   "execution_count": null,
   "metadata": {},
   "outputs": [],
   "source": [
    "def add_x_and_y(x,y):\n",
    "    ###actions here###\n",
    "    \n",
    "add_x_and_y()"
   ]
  },
  {
   "cell_type": "markdown",
   "metadata": {},
   "source": [
    "### Practice 2\n",
    "\n",
    "#### Question 1\n",
    "Create a function that prints 1 to 10, called `print_1_to_10`\n",
    "\n",
    "<b>Expected Output:</b>\n",
    "    \n",
    "    1\n",
    "    2\n",
    "    3\n",
    "    4\n",
    "    5\n",
    "    6\n",
    "    7\n",
    "    8\n",
    "    9\n",
    "    10"
   ]
  },
  {
   "cell_type": "code",
   "execution_count": null,
   "metadata": {},
   "outputs": [],
   "source": []
  },
  {
   "cell_type": "markdown",
   "metadata": {},
   "source": [
    "#### Question 2\n",
    "Create a function, that takes a value of `n` and prints from numbers 1 to `n`, called `print_1_to_n`\n",
    "\n",
    "<b>Expected Output:</b>\n",
    "    \n",
    "    if n = 5\n",
    "    \n",
    "    1\n",
    "    2\n",
    "    3\n",
    "    4\n",
    "    5"
   ]
  },
  {
   "cell_type": "code",
   "execution_count": null,
   "metadata": {},
   "outputs": [],
   "source": []
  },
  {
   "cell_type": "markdown",
   "metadata": {},
   "source": [
    "#### Question 3\n",
    "Create a function, that takes a value of `start` and a value of `stop` and prints from numbers `start` to `stop`, called `print_start_to_stop`\n",
    "\n",
    "\n",
    "<b>Expected Output:</b>\n",
    "    \n",
    "    if start = 5 and stop = 10\n",
    "    \n",
    "    5\n",
    "    6\n",
    "    7\n",
    "    8\n",
    "    9\n",
    "    10"
   ]
  },
  {
   "cell_type": "code",
   "execution_count": null,
   "metadata": {},
   "outputs": [],
   "source": []
  },
  {
   "cell_type": "markdown",
   "metadata": {},
   "source": [
    "## Print vs. Return\n",
    "Now we will learn the `return` keyword for functions. This can be quite confusing for some people so let's contextualise this in a real-world scenario.\n",
    "\n",
    "Picture this: \n",
    "\n",
    "Imagine you have a function called `solves_rubiks_cube()`, and its main purpose is really to just solve a Rubik's Cube.\n",
    "\n",
    "- <b>If you write a function and just print: </b>Its just like you passing a Rubik's  Cube and asking Person A to solve. After Person A solves it, he just show it to you and that's it.\n"
   ]
  },
  {
   "cell_type": "code",
   "execution_count": null,
   "metadata": {},
   "outputs": [],
   "source": [
    "cube = \"Unsolved\"\n",
    "\n",
    "def solves_rubiks_cube(cube):\n",
    "    cube = \"Solved\"\n",
    "    print(cube)\n",
    "\n"
   ]
  },
  {
   "cell_type": "markdown",
   "metadata": {},
   "source": [
    "- <b>If you write a function that returns the results: </b>It would be the equivalent of passing a Rubik's Cube to your friend and asking him to solve. After he solves it, he returns the cube physically to you where you can either show it by 'printing' or do further processing."
   ]
  },
  {
   "cell_type": "code",
   "execution_count": null,
   "metadata": {},
   "outputs": [],
   "source": [
    "cube = \"Unsolved\"\n",
    "\n",
    "def solves_rubiks_cube(cube):\n",
    "    cube = \"Solved\"\n",
    "    return(cube)\n",
    "\n"
   ]
  },
  {
   "cell_type": "markdown",
   "metadata": {},
   "source": [
    "### Factories Example\n",
    "\n",
    "The main goal of our factory is to: <b>produce x number of phones for our consumers so that we can sell them</b>.\n",
    "\n",
    "### `print()` \n",
    "\n",
    "Printing is the same as showing us an image of the output, we cannot extract the output but can only look at it."
   ]
  },
  {
   "cell_type": "code",
   "execution_count": null,
   "metadata": {},
   "outputs": [],
   "source": []
  },
  {
   "cell_type": "markdown",
   "metadata": {},
   "source": [
    "### `return` \n",
    "\n",
    "Returning gives us the output and we can name this output (assign it a name) to use it later. Print cannot let us assign a name to the output because its only showing us an image"
   ]
  },
  {
   "cell_type": "code",
   "execution_count": null,
   "metadata": {},
   "outputs": [],
   "source": []
  },
  {
   "cell_type": "markdown",
   "metadata": {},
   "source": [
    "### Functions in a Function\n",
    "There are also instances where we can use a function within another function because that inner function has been created before. Take the following code as an example."
   ]
  },
  {
   "cell_type": "code",
   "execution_count": null,
   "metadata": {},
   "outputs": [],
   "source": [
    "def calculator(x,y):\n",
    "    \n",
    "    return x+y\n",
    "\n",
    "\n",
    "def return_average(x,y):\n",
    "\n",
    "    return calculator(x,y)/2\n",
    "\n",
    "\n",
    "print(return_average(10,20))"
   ]
  },
  {
   "cell_type": "markdown",
   "metadata": {},
   "source": [
    "### Practice 3\n",
    "\n",
    "#### Question 1\n",
    "Help write a function called `change_str_to_int` that takes in a list of strings and <b>returns</b> a list of int.\n",
    "\n",
    "<b>Expected output:</b> \n",
    "\n",
    "    [10, 20, 30]"
   ]
  },
  {
   "cell_type": "code",
   "execution_count": null,
   "metadata": {},
   "outputs": [],
   "source": [
    "data = [\"10\",\"20\",\"30\"]\n",
    "#Write code below\n"
   ]
  },
  {
   "cell_type": "markdown",
   "metadata": {},
   "source": [
    "#### Question 2\n",
    "Help write a function called `count_positives` that takes in a list of strings and <b>returns</b> the number of positive numbers.\n",
    "\n",
    "<b>Expected output:</b> \n",
    "\n",
    "    2"
   ]
  },
  {
   "cell_type": "code",
   "execution_count": null,
   "metadata": {},
   "outputs": [],
   "source": [
    "data = [\"10\",\"20\",\"-30\"]\n",
    "#Write code below\n"
   ]
  },
  {
   "cell_type": "markdown",
   "metadata": {},
   "source": [
    "## Libraries and Reading Documentation\n",
    "Libraries are what makes Python one of the most popular languages for Data Science. Libraries are just a collection of many functions that are already written. Part of using libraries requires us to understand the us to understand how to read documentation on libraries. \n",
    "\n",
    "We'll be using the next two libraries to be familiar with reading documentation."
   ]
  },
  {
   "cell_type": "markdown",
   "metadata": {},
   "source": [
    "### Math Library\n",
    "This library allows you to use some math functions unavailable by default on Python. \n",
    "Read the documentation here: https://docs.python.org/3/library/math.html "
   ]
  },
  {
   "cell_type": "code",
   "execution_count": null,
   "metadata": {},
   "outputs": [],
   "source": [
    "import math\n",
    "\n",
    "#first call name of library, followed by a dot and the name of method, followed by passing in your values within the\n",
    "#parenthesis\n",
    "\n",
    "# Example: Exponential\n",
    "print(math.exp(10))\n",
    "\n",
    "# Example: Power\n",
    "print(math.pow(10,2))\n",
    "\n",
    "# Example: Square Root\n",
    "print(math.sqrt(25))"
   ]
  },
  {
   "cell_type": "markdown",
   "metadata": {},
   "source": [
    "<h2>Statistics Library</h2>\n",
    "Statistics library allow you to do more statistical analysis of your data. Read the documentation here: https://docs.python.org/3/library/statistics.html"
   ]
  },
  {
   "cell_type": "code",
   "execution_count": null,
   "metadata": {},
   "outputs": [],
   "source": [
    "import statistics\n",
    "\n",
    "# Example: mean\n",
    "print(statistics.mean([10,20,30,40,50,60,70]))\n",
    "\n",
    "# Example: median\n",
    "print(statistics.median([10,20,30,40,50,60,70]))"
   ]
  },
  {
   "cell_type": "markdown",
   "metadata": {},
   "source": [
    "## Python in the Real World\n",
    "The following libraries are one of the most used libraries in Python, and therefore would be more applicable.\n",
    "\n",
    "1. CSV Library - Opening Files \n",
    "2. Matplotlib Library - Visualisations\n",
    "3. Regular Expression Library - Data Cleaning\n",
    "\n",
    "### CSV Library\n",
    "CSV stands for <b>Comma Separated Values</b>. Many datasets are stored in CSV because it is more efficient to store them in these file type. Also be cause the values are separated by commas.\n",
    "\n",
    "The CSV library is just a library that is able to open CSV files for you, but we will familiarise ourselves with the context of these libraries, mainly with these 2 functions:\n",
    "1. `.reader()`\n",
    "2. `.DictReader()`"
   ]
  },
  {
   "cell_type": "markdown",
   "metadata": {},
   "source": [
    "#### `.reader()` Function - List of Lists \n",
    "Read the `videos.csv` file and put it into a list called `video_list_of_lists`."
   ]
  },
  {
   "cell_type": "code",
   "execution_count": null,
   "metadata": {},
   "outputs": [],
   "source": [
    "import csv\n",
    "all_data = []\n",
    "with open('videos.csv', encoding='utf-8') as file:\n",
    "    # .reader() - read this file and give you a list of lists\n",
    "    # delimiter , all values are seperated by ,\n",
    "    # reader - a list of lists\n",
    "    reader = csv.reader(file, delimiter=',')\n",
    "    \n",
    "    # remove column header\n",
    "    next(reader)\n",
    "    \n",
    "    for row in reader:\n",
    "        print(row)\n",
    "        all_data.append(row)\n",
    "all_data"
   ]
  },
  {
   "cell_type": "markdown",
   "metadata": {},
   "source": [
    "#### `.DictReader()` Function - List of Dictionaries\n",
    "Read the `videos.csv` file and put it into a list called `video_list_of_dictionaries`."
   ]
  },
  {
   "cell_type": "code",
   "execution_count": null,
   "metadata": {},
   "outputs": [],
   "source": [
    "import csv\n",
    "all_data = []\n",
    "with open('videos.csv', encoding='utf-8') as file:\n",
    "    # .DictReader() - read this file and give you a list of dictionaries\n",
    "    # delimiter , all values are seperated by ,\n",
    "    # reader - a list of dictionaries\n",
    "    reader = csv.DictReader(file, delimiter=',')\n",
    "    \n",
    "    for row in reader:\n",
    "        all_data.append(dict(row))\n",
    "all_data"
   ]
  },
  {
   "cell_type": "markdown",
   "metadata": {},
   "source": [
    "#### Difference between `.reader()` vs. `.DictReader()` \n",
    "Print out all the video titles in `video_lists` and `video_dictionaries` and notice the difference between the two."
   ]
  },
  {
   "cell_type": "code",
   "execution_count": null,
   "metadata": {},
   "outputs": [],
   "source": []
  },
  {
   "cell_type": "markdown",
   "metadata": {},
   "source": [
    "### Matplotlib\n",
    "Matplotlib is one of the most used and earliest Python visualisation libraries out there. \n",
    "\n",
    "Pros:\n",
    "1. Provides a standard for other visualisation libraries\n",
    "2. Leveraged by many other libraries\n",
    "\n",
    "Cons:\n",
    " \n",
    " 1. Documentation that is difficult to understand\n",
    " 2. Restrictive syntax \n",
    "\n",
    "Some examples of visualisations can be seen here: https://matplotlib.org/gallery/index.html"
   ]
  },
  {
   "cell_type": "code",
   "execution_count": null,
   "metadata": {},
   "outputs": [],
   "source": [
    "salary = [2000,34000,78478,909]\n",
    "age = [22,34,56,78]\n",
    "\n",
    "#How would you do it?\n",
    "\n"
   ]
  },
  {
   "cell_type": "markdown",
   "metadata": {},
   "source": [
    "Here is where we acquire the skills to copy codes, and thereafter understand them. Let's look at the examples in the link and see how we can start."
   ]
  },
  {
   "cell_type": "markdown",
   "metadata": {},
   "source": [
    "### Practice 5 \n",
    "By combining your knowledge of for loops and matplotlib, create a chart that has salary as the y-axis and age at the x-axis using the following data.\n",
    "\n",
    "Create 2 containers that gives you 1 container for salary called `salaries` and 1 container for ages called `ages`, just as the above example. What you should see would be a <b>scatter chart</b>."
   ]
  },
  {
   "cell_type": "code",
   "execution_count": null,
   "metadata": {},
   "outputs": [],
   "source": [
    "dbs_bank = [[\"John\", 65, 5087739], [\"Jackson\", 55, 387739], [\"Avril Larige\", 23, 7682364], [\"Enoch\",55,7899722]]\n",
    "\n",
    "#write your code here below\n",
    "\n"
   ]
  },
  {
   "cell_type": "markdown",
   "metadata": {},
   "source": [
    "### Regular Expression Library\n",
    "The Regular Expression Library (RegEx) is one of the most difficult libraries to master but the most useful as well. It helps you to clean sophisticated data in your dataset. \n",
    "\n",
    "RegEx recognises patterns in strings to filter them out. Understanding these patterns requires plenty of experience. Also, reading the documentation can be rather tricky so it is more advisable to search up the internet for any \n",
    "<p>https://docs.python.org/3/library/re.html</p>"
   ]
  },
  {
   "cell_type": "code",
   "execution_count": null,
   "metadata": {},
   "outputs": [],
   "source": [
    "#imagine you have the following dirty data, and you want to clean it to remove special characters\n",
    "data =\"$9834/89.\"\n",
    "\n",
    "import re\n",
    "data = re.sub('[^A-Za-z0-9]+', '', data)\n",
    "print(data)\n"
   ]
  }
 ],
 "metadata": {
  "kernelspec": {
   "display_name": "Python 3",
   "language": "python",
   "name": "python3"
  },
  "language_info": {
   "codemirror_mode": {
    "name": "ipython",
    "version": 3
   },
   "file_extension": ".py",
   "mimetype": "text/x-python",
   "name": "python",
   "nbconvert_exporter": "python",
   "pygments_lexer": "ipython3",
   "version": "3.6.5"
  }
 },
 "nbformat": 4,
 "nbformat_minor": 2
}
