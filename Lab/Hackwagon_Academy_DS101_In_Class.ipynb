{
 "cells": [
  {
   "cell_type": "markdown",
   "metadata": {},
   "source": [
    "<img src=\"https://i2.wp.com/hackwagon.com/wp-content/uploads/2017/02/Logo-Web-Export.png?ssl=1\" width=200/>\n",
    "<h1> <center> Hackwagon Academy: DS101 In-Class Practice Lesson 4</center></h1>\n",
    "<h2> <center>Applied Iterations</center></h2>\n",
    "\n",
    "<i> prepared by @jonchewyl </i>\n",
    "\n",
    "<h2> Learning Objectives </h2>\n",
    "\n",
    "1. Recap\n",
    "2. While loops\n",
    "2. Nested Loops\n",
    "3. Applied Iterations\n",
    "4. Counting With Dictionaries\n",
    "\n",
    "In this chapter, we will use examples to recap the usage of basic iterations to manipulate data in a single list. We will then solve questions that requires us to apply the same concept to manipulate data in a nested list.\n"
   ]
  },
  {
   "cell_type": "markdown",
   "metadata": {},
   "source": [
    "### References\n",
    "\n",
    "### <center> Important Collections Functions </center>\n",
    "### <center> Creation </center>\n",
    "|Collection Type | Function | Examples |\n",
    "| ---------|---------|---------|\n",
    "| `list` | <center>None</center>| `new_list = []` <br><br> `new_list = [1,2,3,4]` |\n",
    "| `dict` | <center>None</center>| `new_dict = {}` <br><br> `new_dict = {'a': 1, 'b':2}`|\n",
    "\n",
    "### <center> Add / Appending Data </center>\n",
    "|Collection Type | Functions | Examples | Resulting Output|\n",
    "| ---------|---------|---------| ------ |\n",
    "| `list` | <center>`.append()`</center>| `new_list = [1,2,3]` <br><br> `new_list.append(4)` | `[1,2,3,4]`|\n",
    "| `list` | <center>`.extend()`</center>| `new_list = [1,2]` <br><br> `new_list.extend([3,4])` | `[1,2,3,4]`|\n",
    "| `dict` | <center>None</center>| `new_dict = {}` <br><br> `new_dict['a'] = 1` <br><br> `new_dict['b'] = 2` | `{'a': 1, 'b':2}`|\n",
    "\n",
    "### <center> Updating / Changing Data </center>\n",
    "|Collection Type | Functions | Examples | Resulting Output|\n",
    "| ---------|---------|---------| ------ |\n",
    "| `list` | <center>None</center>| `new_list = [1,2,3]` <br><br> `new_list[0] = 5` | `[5,2,3]`|\n",
    "| `dict` | <center>None</center>| `new_dict = {'a': 1, 'b':2}` <br><br> `new_dict['a'] = 10`| `{'a': 10, 'b':2}`|\n",
    "\n",
    "### <center> Accessing / Taking Out Data </center>\n",
    "|Collection Type | Functions | x to be| Examples |\n",
    "| ---------|---------|---------| ------ |\n",
    "| `list` | <center>None</center>| 3 |`new_list = [1,2,3]` <br><br> `x = new_list[2] `|\n",
    "| `list of list` | <center>None</center>|3 |`new_list = [[1,2],[3,4]]` <br><br> `x = new_list[1][0] `|\n",
    "| `list of dict` | <center>None</center>| 2 |`new_list = [{'a':1},{'b':2}]` <br><br> `x = new_list[1]['b'] `|\n",
    "| `dict` | <center>None</center>| 2|`new_dict = {'a': 1, 'b':2}` <br><br> `x = "
   ]
  },
  {
   "cell_type": "markdown",
   "metadata": {},
   "source": [
    "## Iterations Recap\n",
    "\n",
    "<h3> CITU Framework </h3>\n",
    "\n",
    "1. <b>Create</b> the results container\n",
    "2. <b>Iterate</b> the input data/list\n",
    "3. <b>Test</b> conditions of each value\n",
    "4. <b>Update</b> the results container when condition is fulfilled\n",
    "\n",
    "If we want to recreate the `sum()` function, we will do the following steps."
   ]
  },
  {
   "cell_type": "markdown",
   "metadata": {},
   "source": [
    "### Looping through lists\n",
    "\n",
    "```python\n",
    "for item in collections:\n",
    "    ###action###\n",
    "```\n",
    "If collections have list type, each item is an item inside this list"
   ]
  },
  {
   "cell_type": "code",
   "execution_count": null,
   "metadata": {},
   "outputs": [],
   "source": [
    "data = [3, -4, 12, 9, -72, 0, 15]\n",
    "# Write code here\n",
    "\n",
    "# 1. Create the result container\n",
    "total = 0\n",
    "\n",
    "# 2. Loop the data\n",
    "for number in data:\n",
    "    # 3. Test for condition\n",
    "    # Nothing to test\n",
    "    \n",
    "    # 4. Update the results container\n",
    "    # variable_to_update += value_to_add\n",
    "    total += number\n",
    "\n",
    "print(total)"
   ]
  },
  {
   "cell_type": "markdown",
   "metadata": {},
   "source": [
    "### Looping through dictionaries\n",
    "\n",
    "##### Normal looping\n",
    "If collections have dictionary type, each item is a key in this dictionary (can call for values straight)\n",
    "```python\n",
    "for item in collections:\n",
    "    ###action###\n",
    "```\n",
    "\n",
    "\n",
    "##### Looping with .items()\n",
    "If collections have dictionary type, .items() is able to extract **both** the key, and value \n",
    "```python\n",
    "for key,value in collections.items():\n",
    "    ###action###\n",
    "```\n"
   ]
  },
  {
   "cell_type": "code",
   "execution_count": 3,
   "metadata": {},
   "outputs": [
    {
     "name": "stdout",
     "output_type": "stream",
     "text": [
      "Sashimi\n",
      "Salmon\n",
      "Rolls\n",
      "Dragon Roll\n",
      "Mains\n",
      "Ramen\n",
      "Salmon\n",
      "Dragon Roll\n",
      "Ramen\n"
     ]
    }
   ],
   "source": [
    "orders = {\n",
    "    \"Sashimi\":  \"Salmon\",\n",
    "    \"Rolls\": \"Dragon Roll\",\n",
    "    \"Mains\": \"Ramen\",\n",
    "} \n",
    "\n",
    "# Write code below\n",
    "\n",
    "# Without .items()\n",
    "for item in orders:\n",
    "    print(item) #key\n",
    "    print(orders[item]) #value\n",
    "    \n",
    "# With .items()\n",
    "for key,value in orders.items():\n",
    "    #print(key)\n",
    "    print(value)"
   ]
  },
  {
   "cell_type": "markdown",
   "metadata": {},
   "source": [
    "<h3> Pseudocode </h3>\n",
    "To solve complicated problems in the real world, before we even start coding, we start by thinking of the problem in the high-level perspective. Write our steps in what's called <b><i>Pseudocode</i></b>. This approach is very similar to the CITU framework.     \n",
    "\n",
    "This approach is very often used by software engineers and data analyst when facing with difficult problems.\n",
    "\n",
    "The key steps to pseudocode is:\n",
    "\n",
    "1. Understand the problem\n",
    "2. Breaking down big problems into smaller problems\n",
    "3. Solving the smaller problems first\n",
    "4. Fit all the smaller problems into one big solution\n",
    "\n",
    "Let's take the following Fizz - Buzz - FizzBuzz question as an example...\n",
    "\n",
    "<h4> Fizz Buzz FizzBuzz Question </h4>\n",
    "\n",
    "1. Print numbers 1 to 50\n",
    "2. If a number is a multiple of 3, print `Fizz`.\n",
    "3. If a number is a multiple of 5, print `Buzz`.\n",
    "4. If a number is a multiple of 3 and 5, print `FizzBuzz`.\n",
    "5. Otherwise, print the number itself.\n",
    "\n",
    "\n",
    "<b>Expected output:</b>\n",
    "    \n",
    "    1\n",
    "    2\n",
    "    Fizz\n",
    "    4\n",
    "    Buzz\n",
    "    Fizz\n",
    "    7\n",
    "    8\n",
    "    Fizz\n",
    "    Buzz\n",
    "    11\n",
    "    Fizz\n",
    "    13\n",
    "    14\n",
    "    FizzBuzz\n",
    "    16\n",
    "    17\n",
    "    Fizz\n",
    "    19\n",
    "    Buzz\n",
    "    Fizz\n",
    "    22\n",
    "    23\n",
    "    Fizz\n",
    "    Buzz\n",
    "    26\n",
    "    Fizz\n",
    "    28\n",
    "    29\n",
    "    FizzBuzz\n",
    "    31\n",
    "    32\n",
    "    Fizz\n",
    "    34\n",
    "    Buzz\n",
    "    Fizz\n",
    "    37\n",
    "    38\n",
    "    Fizz\n",
    "    Buzz\n",
    "    41\n",
    "    Fizz\n",
    "    43\n",
    "    44\n",
    "    FizzBuzz\n",
    "    46\n",
    "    47\n",
    "    Fizz\n",
    "    49\n",
    "    Buzz"
   ]
  },
  {
   "cell_type": "code",
   "execution_count": 4,
   "metadata": {},
   "outputs": [
    {
     "name": "stdout",
     "output_type": "stream",
     "text": [
      "1\n",
      "2\n",
      "Fizz\n",
      "4\n",
      "Buzz\n",
      "Fizz\n",
      "7\n",
      "8\n",
      "Fizz\n",
      "Buzz\n",
      "11\n",
      "Fizz\n",
      "13\n",
      "14\n",
      "FizzBuzz\n",
      "16\n",
      "17\n",
      "Fizz\n",
      "19\n",
      "Buzz\n",
      "Fizz\n",
      "22\n",
      "23\n",
      "Fizz\n",
      "Buzz\n",
      "26\n",
      "Fizz\n",
      "28\n",
      "29\n",
      "FizzBuzz\n",
      "31\n",
      "32\n",
      "Fizz\n",
      "34\n",
      "Buzz\n",
      "Fizz\n",
      "37\n",
      "38\n",
      "Fizz\n",
      "Buzz\n",
      "41\n",
      "Fizz\n",
      "43\n",
      "44\n",
      "FizzBuzz\n",
      "46\n",
      "47\n",
      "Fizz\n",
      "49\n",
      "Buzz\n"
     ]
    }
   ],
   "source": [
    "for number in range(1,51):\n",
    "    if (number%5 == 0) and (number%3 == 0) :\n",
    "        print('FizzBuzz')\n",
    "    elif number%5 == 0:\n",
    "        print('Buzz')\n",
    "    elif number%3 == 0:\n",
    "        print('Fizz')\n",
    "    else:\n",
    "        print(number)"
   ]
  },
  {
   "cell_type": "markdown",
   "metadata": {},
   "source": [
    "## While Loops\n",
    "While loops are another form of iterative device. They allow for an indefinite number of iterations until a certain condition is met.\n",
    "\n",
    "The synax for while loops is as such:\n",
    "<img src=\"https://i.imgur.com/ufp0PGF.png\" width=\"500\">"
   ]
  },
  {
   "cell_type": "code",
   "execution_count": null,
   "metadata": {},
   "outputs": [],
   "source": [
    "#Simple example of while loop\n",
    "while True:\n",
    "    print(1)\n",
    "    \n",
    "#You can observe that as long as the condition is true, the action statement will always be executed"
   ]
  },
  {
   "cell_type": "code",
   "execution_count": null,
   "metadata": {},
   "outputs": [],
   "source": [
    "#Simple example of while loop\n",
    "while False:\n",
    "    print(1)\n",
    "    \n",
    "#You can observe that as long as the condition is false, the action statement will never be executed"
   ]
  },
  {
   "cell_type": "markdown",
   "metadata": {},
   "source": [
    "In order to stop a while loop, we need to change the <b>terminating condition</b>. Let's contextualise this with a roller coaster example.\n",
    "<img src=\"https://upload.wikimedia.org/wikipedia/commons/thumb/5/54/Battlestar_Galactica_Human_vs_Cylon_-_nested_tracks.jpg/1280px-Battlestar_Galactica_Human_vs_Cylon_-_nested_tracks.jpg\" width=\"400\">\n",
    "\n",
    "Imagine when you're at USS and it's really packed. You want to take Battlestar Galactica, the worker will keep taking people in until there it reachs the limit of seats for the ride. Let's try this example here. "
   ]
  },
  {
   "cell_type": "code",
   "execution_count": null,
   "metadata": {},
   "outputs": [],
   "source": []
  },
  {
   "cell_type": "markdown",
   "metadata": {},
   "source": [
    "### Practice 1"
   ]
  },
  {
   "cell_type": "markdown",
   "metadata": {},
   "source": [
    "#### Question 1\n",
    "Print the numbers 10 to 1 using a `while` loop.\n",
    "\n",
    "<b>Expected Output:</b>\n",
    "    \n",
    "    10\n",
    "    9\n",
    "    8\n",
    "    7\n",
    "    6\n",
    "    5\n",
    "    4\n",
    "    3\n",
    "    2\n",
    "    1"
   ]
  },
  {
   "cell_type": "code",
   "execution_count": 6,
   "metadata": {},
   "outputs": [
    {
     "name": "stdout",
     "output_type": "stream",
     "text": [
      "10\n",
      "9\n",
      "8\n",
      "7\n",
      "6\n",
      "5\n",
      "4\n",
      "3\n",
      "2\n",
      "1\n"
     ]
    }
   ],
   "source": [
    "# Write code below\n",
    "x=11\n",
    "while x > 1:\n",
    "    x -= 1\n",
    "    print(x)\n",
    "    "
   ]
  },
  {
   "cell_type": "markdown",
   "metadata": {},
   "source": [
    "#### Question 2 \n",
    "Given `data`, print out al the video titles.\n",
    "\n",
    "<b>Expected Output:</b>\n",
    "    \n",
    "    despacito\n",
    "    see you again\n",
    "    im yours"
   ]
  },
  {
   "cell_type": "code",
   "execution_count": 9,
   "metadata": {},
   "outputs": [
    {
     "name": "stdout",
     "output_type": "stream",
     "text": [
      "despacito\n",
      "see you again\n",
      "im yours\n"
     ]
    }
   ],
   "source": [
    "video_titles = ['despacito','see you again','im yours']\n",
    "\n",
    "# Write code below\n",
    "i = 0\n",
    "while i < len(video_titles):\n",
    "    print(video_titles[i])\n",
    "    i +=1"
   ]
  },
  {
   "cell_type": "markdown",
   "metadata": {},
   "source": [
    "## Nested Loops\n",
    "With a single loop, you can only access one row of data. With a loop inside the outer loop, we can access every data within that row of data. This concept is called nested loops. \n",
    "\n",
    "Let's revisit our sushi restaurant scenario again. \n",
    "\n",
    "This time put yourself in the shoes of a kitchen and the waiter\n",
    "\n",
    "- The outer for loop is the kitchen\n",
    "- The inner for loop is the waiter\n",
    "\n",
    "Here is your list of orders:\n",
    "<img src=\"https://i.imgur.com/raZ1nvu.png\" />\n",
    "\n",
    "\n",
    "\n"
   ]
  },
  {
   "cell_type": "code",
   "execution_count": 26,
   "metadata": {},
   "outputs": [
    {
     "name": "stdout",
     "output_type": "stream",
     "text": [
      "loop1\n",
      "loop2\n",
      "Soba\n",
      "loop2\n",
      "Sushi\n",
      "loop1\n",
      "loop2\n",
      "Dragon Roll\n",
      "loop2\n",
      "Ramen\n",
      "loop1\n",
      "loop2\n",
      "Beef Rice\n",
      "loop2\n",
      "Ice Cream\n"
     ]
    }
   ],
   "source": [
    "all_orders = [\n",
    "    ['Soba','Sushi'],\n",
    "    ['Dragon Roll','Ramen'],\n",
    "    ['Beef Rice','Ice Cream']\n",
    "]\n",
    "\n",
    "#Write code below\n",
    "for tray in all_orders:\n",
    "    print('loop1')\n",
    "    for food in tray:\n",
    "        print('loop2')\n",
    "        print(food)"
   ]
  },
  {
   "cell_type": "markdown",
   "metadata": {},
   "source": [
    "### Practice 2\n",
    "#### Question 1\n",
    "Given the following `data`, print all the <b>positive</b> numbers:\n",
    "\n",
    "**Expected Output:**\n",
    "```\n",
    "    3\n",
    "    12\n",
    "    9\n",
    "    30\n",
    "    4\n",
    "    9\n",
    "    3\n",
    "    12\n",
    "    9\n",
    "    72\n",
    "    15\n",
    "    \n",
    "```"
   ]
  },
  {
   "cell_type": "code",
   "execution_count": 29,
   "metadata": {},
   "outputs": [
    {
     "name": "stdout",
     "output_type": "stream",
     "text": [
      "3\n",
      "12\n",
      "9\n",
      "30\n",
      "4\n",
      "9\n",
      "3\n",
      "12\n",
      "9\n",
      "72\n",
      "15\n"
     ]
    }
   ],
   "source": [
    "data = [\n",
    "    [3, -4, 12, 9, -72, 0, 30],\n",
    "    [-5, 4, -20, 9, -42, 0, -15],\n",
    "    [3, -4, 12, 9, 72, -25, 15],\n",
    "]\n",
    "#Write code below\n",
    "for nested_lists in data:\n",
    "    for number in nested_lists:\n",
    "        if number > 0:\n",
    "            print(number)\n"
   ]
  },
  {
   "cell_type": "markdown",
   "metadata": {},
   "source": [
    "#### Question 2\n",
    "Given the following `data`, collect all the negative numbers and put them in a new list called `negatives` :\n",
    "\n",
    "**Expected Output:**\n",
    "```\n",
    "    [-4, -72, -5, -20, -42, -15, -4, -25]\n",
    "```"
   ]
  },
  {
   "cell_type": "code",
   "execution_count": 30,
   "metadata": {},
   "outputs": [
    {
     "data": {
      "text/plain": [
       "[-4, -72, -5, -20, -42, -15, -4, -25]"
      ]
     },
     "execution_count": 30,
     "metadata": {},
     "output_type": "execute_result"
    }
   ],
   "source": [
    "data = [\n",
    "    [3, -4, 12, 9, -72, 0, 30],\n",
    "    [-5, 4, -20, 9, -42, 0, -15],\n",
    "    [3, -4, 12, 9, 72, -25, 15],\n",
    "]\n",
    "#Write code \n",
    "negatives = []\n",
    "for nested_lists in data:\n",
    "    for number in nested_lists:\n",
    "        if number <0:\n",
    "            negatives.append(number)\n",
    "\n",
    "negatives\n",
    "            \n"
   ]
  },
  {
   "cell_type": "markdown",
   "metadata": {},
   "source": [
    "## Applied Iterations\n",
    "Let's try and apply what we have learnt in the past 3 lessons to a real dataset. The following [dataset](https://data.gov.sg/dataset/graduates-from-university-first-degree-courses-by-type-of-course?view_id=fa0e401c-6251-4a15-aebc-a5f3d2c85752&resource_id=eb8b932c-503c-41e7-b513-114cffbe2338) is from Singapore Government's Open Data Portal, Data.gov.sg. \n",
    "\n",
    "When opening the file in Microsoft Excel, it will look like this:\n",
    "\n",
    "<img src=\"https://i.imgur.com/M05Ta23.png\" width=\"400\">\n",
    "\n",
    "<b>Make sure that the data file is in the same folder as your Jupyter Notebook</b>\n",
    "\n",
    "\n",
    "When we execute the codes below, we will get a <b>list of many lists</b>, where <b>one inner list is a row of data</b>, that looks like this\n",
    "```python\n",
    "   [\n",
    "       [ # Row 0\n",
    "           1993, # Year - Index 0\n",
    "           'Males',  # Sex - Index 1\n",
    "           'Education',  # Type of Course - Index 2\n",
    "           0 # No of Graduates - Index 3\n",
    "       ],\n",
    "       [ # Row 1\n",
    "           1993, # Year - Index 0\n",
    "           'Males', # Sex - Index 1\n",
    "           'Applied Arts',  # Type of Course - Index 2\n",
    "            0 # No of Graduates - Index 3\n",
    "       ],\n",
    "       [ # Row 2\n",
    "           1993, # Year  - Index 0\n",
    "           'Males', # Sex - Index 1\n",
    "           'Humanities & Social Sciences',  # Type of Course - Index 2\n",
    "           481# No of Graduates - Index 3\n",
    "       ]\n",
    "   ]\n",
    "\n",
    "```\n",
    "Run the cell below, we will learn more about opening a file in Lesson 5/6."
   ]
  },
  {
   "cell_type": "code",
   "execution_count": 31,
   "metadata": {},
   "outputs": [
    {
     "data": {
      "text/plain": [
       "[[1993, 'Males', 'Education', 0],\n",
       " [1993, 'Males', 'Applied Arts', 0],\n",
       " [1993, 'Males', 'Humanities & Social Sciences', 481]]"
      ]
     },
     "execution_count": 31,
     "metadata": {},
     "output_type": "execute_result"
    }
   ],
   "source": [
    "import csv\n",
    "\n",
    "with open('graduates-from-university-first-degree-courses-by-type-of-course.csv', encoding='utf-8') as file:\n",
    "    #\n",
    "    reader = csv.reader(file,delimiter=',')\n",
    "    \n",
    "    #skips column headers\n",
    "    next(reader)\n",
    "    \n",
    "    #container to store all data\n",
    "    all_courses = []\n",
    "    \n",
    "    # goes through every row\n",
    "    for row in reader:\n",
    "        # data cleaning \n",
    "        row[0] = int(row[0]) # Year Data is Cleaned to Int Type\n",
    "        if row[3] == 'na': # Check for 'na'\n",
    "            row[3] = 0\n",
    "        else:\n",
    "            row[3] = int(row[3]) # Change students to Int Type\n",
    "        \n",
    "        # add the row to the container\n",
    "        all_courses.append(row)\n",
    "\n",
    "# previews first 3 row    \n",
    "all_courses[:3]\n"
   ]
  },
  {
   "cell_type": "markdown",
   "metadata": {},
   "source": [
    "Using what we've learnt over the past lessons, we're going to answer some basic questions about this dataset. For example:\n",
    "\n",
    "**How many students applied for `Education` over the years?**\n",
    "\n",
    "Based on this question, the variables we need are the type of course and no. of graduates\n",
    "\n",
    "\n",
    "So the process for answering this question should be:\n",
    "\n",
    "1. **Create** the result container\n",
    "2. **Loop** the data to take out the 2 variables **(most important step)**\n",
    "3. **Test** the variables to see if they fit the condition\n",
    "4. **Update** the result container\n"
   ]
  },
  {
   "cell_type": "code",
   "execution_count": 32,
   "metadata": {},
   "outputs": [
    {
     "name": "stdout",
     "output_type": "stream",
     "text": [
      "6421\n"
     ]
    }
   ],
   "source": [
    "# Write code here\n",
    "student_num = 0\n",
    "for row in all_courses:\n",
    "    major = row[2]\n",
    "    students = row[3]\n",
    "    if major == 'Education':\n",
    "        student_num += students\n",
    "\n",
    "print(student_num)\n",
    "    "
   ]
  },
  {
   "cell_type": "markdown",
   "metadata": {},
   "source": [
    "### Practice 3\n",
    "#### Question 1\n",
    "Based on the following `all_courses`, answer the following question:\n",
    "\n",
    "<b>How many `Females` students have taken `Law`?</b>\n",
    "\n",
    "<i>Hint\n",
    "1. What variables do you need?\n",
    "2. What do you have to test for?\n",
    "</i>\n",
    "\n",
    "<b> Expected Output: </b>\n",
    "\n",
    "    2574"
   ]
  },
  {
   "cell_type": "code",
   "execution_count": 34,
   "metadata": {},
   "outputs": [
    {
     "name": "stdout",
     "output_type": "stream",
     "text": [
      "2574\n"
     ]
    }
   ],
   "source": [
    "# Write code here\n",
    "student_num = 0\n",
    "for row in all_courses:\n",
    "    gender = row[1]\n",
    "    major = row[2]\n",
    "    students = row[3]\n",
    "    if gender == 'Females' and major == 'Law':\n",
    "        student_num += students\n",
    "\n",
    "print(student_num)"
   ]
  },
  {
   "cell_type": "markdown",
   "metadata": {},
   "source": [
    "#### Question 2\n",
    "Based on the following `all_courses`, answer the following question:\n",
    "\n",
    "<b>How many students have taken `Information Technology` between `2000` and `2014`?</b>\n",
    "\n",
    "<i>Hint\n",
    "1. What variables do you need?\n",
    "2. What do you have to test for?\n",
    "</i>\n",
    "\n",
    "<b>Expected Output:</b>\n",
    "\n",
    "    9084"
   ]
  },
  {
   "cell_type": "code",
   "execution_count": 37,
   "metadata": {},
   "outputs": [
    {
     "name": "stdout",
     "output_type": "stream",
     "text": [
      "9084\n"
     ]
    }
   ],
   "source": [
    "# Write code here\n",
    "student_num = 0\n",
    "for row in all_courses:\n",
    "    year = row[0]\n",
    "    major = row[2]\n",
    "    students = row[3]\n",
    "    if year >= 2000 and year <= 2014:\n",
    "        if major == 'Information Technology':\n",
    "            student_num += students\n",
    "print(student_num)"
   ]
  },
  {
   "cell_type": "markdown",
   "metadata": {},
   "source": [
    "## Counting With Dictionaries\n",
    "**The following concept is extremely important**. The collections data types like List and Dictionaries helps us to store many values within a single data type. \n",
    "\n",
    "Dictionaries, however, provide us with the tools to aggregate data and store them. \n",
    "\n",
    "<img src=\"https://static.comicvine.com/uploads/original/9/91584/1960894-xzc.jpg\">\n",
    "\n",
    "\n",
    "Think of this concept like catching Pokemon on your PokeDex.\n",
    "- When you've never seen that Pokemon before, your Pokedex will create a new entry. \n",
    "- When you caught it again, it adds to the count previous count that you've added before. \n",
    "\n",
    "Given this `caught`, to count the occurances of each letter, a dictionary would help us count each of these occurances.\n",
    "\n",
    "**Expected Output:**\n",
    "    \n",
    "    {\n",
    "        'Pikachu': 3,\n",
    "        'Bulbasaur': 2,\n",
    "        'Charmander': 1\n",
    "    }"
   ]
  },
  {
   "cell_type": "markdown",
   "metadata": {},
   "source": [
    "#### Recap - Dictionary Functions\n",
    "##### Create & Update"
   ]
  },
  {
   "cell_type": "code",
   "execution_count": 42,
   "metadata": {},
   "outputs": [
    {
     "name": "stdout",
     "output_type": "stream",
     "text": [
      "{'key1': 'value1', 'key2': 1, 'key3': 'value3'}\n"
     ]
    }
   ],
   "source": [
    "#Create Dictionary\n",
    "example_dict = {'key1': 'value1', 'key2': 'value2'}\n",
    "example_dict['key3']= 'value3'\n",
    "example_dict['key2']= 0\n",
    "example_dict['key2']+= 1\n",
    "print(example_dict)"
   ]
  },
  {
   "cell_type": "code",
   "execution_count": 43,
   "metadata": {},
   "outputs": [
    {
     "name": "stdout",
     "output_type": "stream",
     "text": [
      "{'Pikachu': 3, 'Bulbasaur': 2, 'Charmander': 1}\n"
     ]
    }
   ],
   "source": [
    "caught = ['Pikachu','Bulbasaur','Pikachu','Pikachu','Bulbasaur','Charmander']\n",
    "# Write code below\n",
    "pokemons = {} #create container\n",
    "for pokemon in caught:\n",
    "    if pokemon in pokemons:\n",
    "        pokemons[pokemon] += 1 #update to existing\n",
    "    else:\n",
    "        pokemons[pokemon] =1 #create to dictionary\n",
    "\n",
    "print(pokemons)\n",
    "    "
   ]
  },
  {
   "cell_type": "markdown",
   "metadata": {},
   "source": [
    "### Practice 4\n",
    "#### Question 1\n",
    "Here we have a dataset of employee information. Count the number of `student` and `teacher` that occur.\n",
    "\n",
    "**Expected Output:**\n",
    "\n",
    "    {\n",
    "        'student': 3,\n",
    "        'teacher': 2  \n",
    "    }"
   ]
  },
  {
   "cell_type": "code",
   "execution_count": 50,
   "metadata": {},
   "outputs": [
    {
     "name": "stdout",
     "output_type": "stream",
     "text": [
      "{'student': 3, 'teacher': 2}\n"
     ]
    }
   ],
   "source": [
    "data = [\n",
    "    {'name': 'kt', 'nric': 'S93250888', 'score': 10, 'occupation': 'student'},\n",
    "    {'name': 'eli', 'nric': 'S93250818', 'score': 5, 'occupation': 'student'},\n",
    "    {'name': 'vera', 'nric': 'S93250288', 'score': 2, 'occupation': 'teacher'},\n",
    "    {'name': 'may', 'nric': 'S93250218', 'score': 7, 'occupation': 'student'},\n",
    "    {'name': 'agnes', 'nric': 'S93250248', 'score': 2, 'occupation': 'teacher'},\n",
    "]\n",
    "#Write code below\n",
    "population = {}\n",
    "for row in data:\n",
    "    occupation = row['occupation']\n",
    "    if row['occupation'] == 'student':\n",
    "        if occupation in population:\n",
    "            population[occupation] += 1\n",
    "        else:\n",
    "            population[occupation] = 1\n",
    "    if row['occupation'] == 'teacher':\n",
    "        if occupation in population:\n",
    "            population[occupation] += 1\n",
    "        else:\n",
    "            population[occupation] = 1        \n",
    "\n",
    "print(population)\n",
    "\n",
    "#OR\n",
    "employee = {}\n",
    "for item in data:\n",
    "    occupation = item['occupation']\n",
    "    if occupation in employee:\n",
    "        employee[occupation] += 1\n",
    "    else:\n",
    "        employee[occupation] = 1\n",
    "        \n",
    "print(employee)"
   ]
  },
  {
   "cell_type": "markdown",
   "metadata": {},
   "source": [
    "#### Question 2\n",
    "The 11-11 sales is coming, the ads are everywhere. Here we have a list of sales called `lazada_sales`, where each product (inner list): index 0 is the brand, index 1 is the sales made in a single day. <b> This question is very similar to what you will be facing in your YouTube lab exercise. </b>\n",
    "\n",
    "Your task is to collate all the sales for each brand.\n",
    "\n",
    "**Expected Output:**\n",
    "\n",
    "    {\n",
    "        'Adidas Superboost': 9,\n",
    "        'Nike Zoom': 7,\n",
    "        'Rolex Submariner': 4,\n",
    "        'Rolex Daytona': 6\n",
    "    }\n"
   ]
  },
  {
   "cell_type": "code",
   "execution_count": 53,
   "metadata": {},
   "outputs": [
    {
     "name": "stdout",
     "output_type": "stream",
     "text": [
      "{'Adidas Superboost': 9, 'Nike Zoom': 7, 'Rolex Submariner': 4, 'Rolex Daytona': 6}\n"
     ]
    }
   ],
   "source": [
    "lazada_sales = [\n",
    "    ['Adidas Superboost', 1],\n",
    "    ['Nike Zoom', 1],\n",
    "    ['Nike Zoom', 2],\n",
    "    ['Nike Zoom', 1],\n",
    "    ['Nike Zoom', 1],\n",
    "    ['Adidas Superboost', 2],\n",
    "    ['Nike Zoom', 1],\n",
    "    ['Adidas Superboost', 1],\n",
    "    ['Nike Zoom', 1],\n",
    "    ['Adidas Superboost', 1],\n",
    "    ['Adidas Superboost', 1],\n",
    "    ['Adidas Superboost', 3],\n",
    "    ['Rolex Submariner', 1],\n",
    "    ['Rolex Submariner', 2],\n",
    "    ['Rolex Submariner', 1],\n",
    "    ['Rolex Daytona', 2],\n",
    "    ['Rolex Daytona', 1],\n",
    "    ['Rolex Daytona', 2],\n",
    "    ['Rolex Daytona', 1]\n",
    "]\n",
    "#Write code below\n",
    "sales = {}\n",
    "for row in lazada_sales:\n",
    "    sales_volume = row[1]\n",
    "    brand = row[0]\n",
    "    if brand in sales:\n",
    "        sales[brand] += sales_volume\n",
    "    else:\n",
    "        sales[brand] = sales_volume\n",
    "        \n",
    "print(sales)"
   ]
  },
  {
   "cell_type": "markdown",
   "metadata": {},
   "source": [
    "### Extra Practice Questions\n",
    "\n",
    "#### Question 1\n",
    "Print the total score of `teachers` and `students` in `data`, broken down by occupation\n",
    "\n",
    "<b>Expected Output:</b>\n",
    "```\n",
    "    {\n",
    "        'student': 24, \n",
    "        'teacher': 4\n",
    "    }\n",
    "```"
   ]
  },
  {
   "cell_type": "code",
   "execution_count": null,
   "metadata": {},
   "outputs": [],
   "source": [
    "data = {\n",
    "    'kt': { 'nric': 'S93250888', 'score': 10, 'occupation': 'student'},\n",
    "    'eli': {'nric': 'S93250818', 'score': 5, 'occupation': 'student'},\n",
    "    'vera': { 'nric': 'S93250288', 'score': 2, 'occupation': 'teacher'},\n",
    "    'syafiq': { 'nric': 'S93250218', 'score': 7, 'occupation': 'student'},\n",
    "    'may': { 'nric': 'S93250248', 'score': 2, 'occupation': 'teacher'},\n",
    "    'agnes': { 'nric': 'S93250248', 'score': 2, 'occupation': 'student'},\n",
    "}\n",
    "total_score = {}\n",
    "for k,v in data.items():\n",
    "    job = v['occupation']\n",
    "    score = v['score']\n",
    "    if job in total_score:\n",
    "        total_score[job] += score\n",
    "    else:\n",
    "        total_score[job] = score"
   ]
  },
  {
   "cell_type": "markdown",
   "metadata": {},
   "source": [
    "#### Question 2\n",
    "Print out the `name` and `nric` for each person in the dictionary\n",
    "\n",
    "<b>Expected Output:</b>\n",
    "```\n",
    "    kt S93250888 \n",
    "    eli S93250818\n",
    "    vera S93250288 \n",
    "    syafiq S93250218\n",
    "    may S93250248\n",
    "    agnes S93250248\n",
    "```"
   ]
  },
  {
   "cell_type": "code",
   "execution_count": 56,
   "metadata": {},
   "outputs": [
    {
     "name": "stdout",
     "output_type": "stream",
     "text": [
      "kt\n",
      "S93250888\n",
      "eli\n",
      "S93250818\n",
      "vera\n",
      "S93250288\n",
      "syafiq\n",
      "S93250218\n",
      "may\n",
      "S93250248\n",
      "agnes\n",
      "S93250248\n"
     ]
    }
   ],
   "source": [
    "data = {\n",
    "    'kt': { 'nric': 'S93250888', 'score': 10, 'occupation': 'student'},\n",
    "    'eli': {'nric': 'S93250818', 'score': 5, 'occupation': 'student'},\n",
    "    'vera': { 'nric': 'S93250288', 'score': 2, 'occupation': 'teacher'},\n",
    "    'syafiq': { 'nric': 'S93250218', 'score': 7, 'occupation': 'student'},\n",
    "    'may': { 'nric': 'S93250248', 'score': 2, 'occupation': 'teacher'},\n",
    "    'agnes': { 'nric': 'S93250248', 'score': 2, 'occupation': 'student'},\n",
    "}\n",
    "#Write code below\n",
    "for name,value in data.items():\n",
    "    print(name)\n",
    "    print(value['nric'])"
   ]
  },
  {
   "cell_type": "markdown",
   "metadata": {},
   "source": [
    "#### Question 3\n",
    "Print the total score of `teachers` and `students` in `data`, broken down by occupation\n",
    "\n",
    "<b>Expected Output:</b>\n",
    "```python\n",
    "    {\n",
    "        'student': 22, \n",
    "        'teacher': 4\n",
    "    }\n",
    "```"
   ]
  },
  {
   "cell_type": "code",
   "execution_count": null,
   "metadata": {},
   "outputs": [],
   "source": [
    "data = [\n",
    "    {'name': 'kt', 'nric': 'S93250888', 'score': 10, 'occupation': 'student'},\n",
    "    {'name': 'eli', 'nric': 'S93250818', 'score': 5, 'occupation': 'student'},\n",
    "    {'name': 'vera', 'nric': 'S93250288', 'score': 2, 'occupation': 'teacher'},\n",
    "    {'name': 'may', 'nric': 'S93250218', 'score': 7, 'occupation': 'student'},\n",
    "    {'name': 'agnes', 'nric': 'S93250248', 'score': 2, 'occupation': 'teacher'},\n",
    "]\n",
    "\n",
    "#Write code below\n",
    "scores = {}\n",
    "for item in data:\n",
    "    occupation = item['occupation']\n",
    "    score = item['score']\n",
    "    if occupation in scores:\n",
    "        scores[occupation] += score\n",
    "    else:\n",
    "        score[occupation] = score"
   ]
  },
  {
   "cell_type": "markdown",
   "metadata": {},
   "source": [
    "#### Question 4\n",
    "Print the average score of teachers and students in data, broken down by occupation without using the default sum function\n",
    "\n",
    "<b>Expected Output:</b>\n",
    "```python\n",
    "    {\n",
    "        'student': 7.333333333333333, \n",
    "        'teacher': 2.0\n",
    "    }\n",
    "```\n",
    "\n"
   ]
  },
  {
   "cell_type": "code",
   "execution_count": 58,
   "metadata": {},
   "outputs": [
    {
     "name": "stdout",
     "output_type": "stream",
     "text": [
      "{'student': [10, 5, 7], 'teacher': [2, 2]}\n"
     ]
    }
   ],
   "source": [
    "data = [\n",
    "    {'name': 'kt', 'nric': 'S93250888', 'score': 10, 'occupation': 'student'},\n",
    "    {'name': 'john', 'nric': 'S93250818', 'score': 5, 'occupation': 'student'},\n",
    "    {'name': 'henry', 'nric': 'S93250288', 'score': 2, 'occupation': 'teacher'},\n",
    "    {'name': 'mark', 'nric': 'S93250218', 'score': 7, 'occupation': 'student'},\n",
    "    {'name': 'mary', 'nric': 'S93250248', 'score': 2, 'occupation': 'teacher'},\n",
    "]\n",
    "\n",
    "#Write code below\n",
    "scores = {}\n",
    "for item in data:\n",
    "    score = item['score']\n",
    "    occupation = item['occupation']\n",
    "    \n",
    "    if occupation in scores:\n",
    "        scores[occupation].append(score)\n",
    "        \n",
    "    else:\n",
    "        scores[occupation] = [score]\n",
    "\n",
    "print(scores)"
   ]
  },
  {
   "cell_type": "markdown",
   "metadata": {},
   "source": [
    "### Extra EXTRA Practice Questions\n",
    "\n",
    "### Question 1:  Save the maiden\n",
    "\n",
    "There is a maiden trapped in a deep dark dungeon. Rescue her by __printing__ her out!\n",
    "\n",
    "```python\n",
    "dungeon = [[[[[[[[[[[[[['maiden']]]]]]]]]]]]]]\n",
    "```\n",
    "<b>Expected output:</b>\n",
    "    \n",
    "    maiden"
   ]
  },
  {
   "cell_type": "code",
   "execution_count": null,
   "metadata": {},
   "outputs": [],
   "source": [
    "dungeon = [[[[[[[[[[[[[['maiden']]]]]]]]]]]]]]\n"
   ]
  },
  {
   "cell_type": "markdown",
   "metadata": {},
   "source": [
    "### Question 2: Print a christmas tree\n",
    "\n",
    "For a given n, where n is **odd**, print out a christmas tree that looks like this\n",
    "\n",
    "When **n**  = 3\n",
    "\n",
    "&nbsp;&nbsp;\\*<br>\n",
    "&nbsp;\\*\\*\\* <br>\n",
    "\\*\\*\\*\\*\\* <br>\n",
    "\n",
    "When **n**  = 5\n",
    "\n",
    "&nbsp;&nbsp;&nbsp;&nbsp;\\*<br>\n",
    "&nbsp;&nbsp;&nbsp;\\*\\*\\* <br>\n",
    "&nbsp;&nbsp;\\*\\*\\*\\*\\* <br>\n",
    "&nbsp;\\*\\*\\*\\*\\*\\*\\* <br>\n",
    "\\*\\*\\*\\*\\*\\*\\*\\*\\* <br>\n",
    "\n",
    "When **n** = 1 <br>\n",
    "\n"
   ]
  },
  {
   "cell_type": "code",
   "execution_count": null,
   "metadata": {},
   "outputs": [],
   "source": [
    "n = 11\n"
   ]
  },
  {
   "cell_type": "markdown",
   "metadata": {},
   "source": [
    "### Question 3: ABC## Triangle\n",
    "\n",
    "For a given sequence of 'abcd...' etc, print out a triangle. Where if the triangle is incomplete due to the number of characters given, print  '#'\n",
    "\n",
    "For example:\n",
    "When seq = 'ab',\n",
    "<br>\n",
    "a <br>\n",
    "b# <br>\n",
    " <br>\n",
    "When seq = 'abcd',\n",
    "<br>\n",
    "a<br>\n",
    "bc<br>\n",
    "d##<br>\n",
    "<br>\n",
    "When seq = 'abcdef',\n",
    "<br>\n",
    "a<br>\n",
    "bc<br>\n",
    "def<br>\n",
    "\n"
   ]
  },
  {
   "cell_type": "code",
   "execution_count": null,
   "metadata": {},
   "outputs": [],
   "source": []
  }
 ],
 "metadata": {
  "kernelspec": {
   "display_name": "Python 3",
   "language": "python",
   "name": "python3"
  },
  "language_info": {
   "codemirror_mode": {
    "name": "ipython",
    "version": 3
   },
   "file_extension": ".py",
   "mimetype": "text/x-python",
   "name": "python",
   "nbconvert_exporter": "python",
   "pygments_lexer": "ipython3",
   "version": "3.6.5"
  }
 },
 "nbformat": 4,
 "nbformat_minor": 2
}
