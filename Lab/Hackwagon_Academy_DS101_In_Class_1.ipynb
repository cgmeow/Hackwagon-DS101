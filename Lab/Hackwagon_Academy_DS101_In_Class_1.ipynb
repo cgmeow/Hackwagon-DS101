{
 "cells": [
  {
   "cell_type": "markdown",
   "metadata": {},
   "source": [
    "<img src=\"https://i2.wp.com/hackwagon.com/wp-content/uploads/2017/02/Logo-Web-Export.png?ssl=1\" width=200/>"
   ]
  },
  {
   "cell_type": "markdown",
   "metadata": {},
   "source": [
    "# <center> Hackwagon Academy: DS101 In-Class Practice Lesson 2 </center>\n",
    "## <center> Collections </center>\n",
    "\n",
    "<i>Prepared by @jonchewyl</i>\n",
    "\n",
    "## Learning Objectives\n",
    "1. More list functions\n",
    "2. Tuples immutability\n",
    "3. Dictionary functions\n",
    "4. Know which collection to use depending on the context"
   ]
  },
  {
   "cell_type": "markdown",
   "metadata": {},
   "source": [
    "### Recap"
   ]
  },
  {
   "cell_type": "markdown",
   "metadata": {},
   "source": [
    "#### Programming Languages\n",
    "Programming languages are just like many spoken languages and each have their own set of rules (syntax). So when speaking with a computer, we must adhere to the syntax otherwise your code won't work."
   ]
  },
  {
   "cell_type": "code",
   "execution_count": null,
   "metadata": {},
   "outputs": [],
   "source": []
  },
  {
   "cell_type": "markdown",
   "metadata": {},
   "source": [
    "#### Variables & Data Types\n",
    "\n",
    "|Use|Type|Example|\n",
    "|---|---|---|\n",
    "|Numbers|`int`,`float`|`int` - `5` <br> `float` - `5.0`|\n",
    "|Text|`str`|`\"Hackwagon\"`|\n",
    "|Yes/No|`bool`|`True` <br> `False`|\n",
    "|Collection of Values|`list`|`[1,2,3,4]`|\n",
    "|Collection of Values|`dict`|`{\"a\":1, \"b\":2}`|"
   ]
  },
  {
   "cell_type": "markdown",
   "metadata": {},
   "source": [
    "<h4>Jupyter Notebook</h4>"
   ]
  },
  {
   "cell_type": "code",
   "execution_count": null,
   "metadata": {},
   "outputs": [],
   "source": [
    "# Variable Names\n",
    "example_list= [1,2,3,4]\n",
    "\n",
    "# Data Types\n",
    "type(example_list)\n",
    "\n",
    "# Reserved Keywords\n",
    "sum()\n",
    "len()\n",
    "print()"
   ]
  },
  {
   "cell_type": "markdown",
   "metadata": {},
   "source": [
    "#### Functions of Data Types\n",
    "Let's contextual data types and their functions. Imagine in the animal kingdom, each animal has their own set of functions and how is it that they use those functions. \n",
    "\n",
    "Same for programming, each data type are like an animal with their own set for functions.\n",
    "\n",
    "How we use these functions is as follows: \n",
    "    \n",
    "    <data type> . <function> ( <input if any> ) "
   ]
  },
  {
   "cell_type": "code",
   "execution_count": null,
   "metadata": {},
   "outputs": [],
   "source": [
    "#Append function\n",
    "example_list = [1,2,3,4]\n",
    "#LHS: list\n",
    "example_list.append(5)"
   ]
  },
  {
   "cell_type": "markdown",
   "metadata": {},
   "source": [
    "## Collections: Lists, Tuples & Dictionaries\n",
    "\n",
    "Collections are data types that allow us to store many values in one single data type.\n",
    "\n",
    "<hr></hr>\n",
    "\n",
    "<h3> List Functions</h3>\n",
    "\n",
    "We will now learn more list functions namely:\n",
    "- `.append()`\n",
    "- `.extend()`\n",
    "- `.remove()`\n",
    "- `del`\n",
    "- `.sort()`\n",
    "\n",
    "**By the end of these functions, we should achieve the following list**:\n",
    "\n",
    "    data = [10, 9, 8, 3, 2, 1]\n",
    "\n",
    "<hr></hr>"
   ]
  },
  {
   "cell_type": "markdown",
   "metadata": {},
   "source": [
    "#### IN-CLASS EXAMPLE: LIST FUNCTIONS\n",
    "##### `.append()`\n",
    "The `.append()` function adds a <b>single</b> value to a list.\n",
    "\n",
    "With the given `data` variable, let's use the `.append()` function to append `data2` to our `data` list.\n",
    "\n",
    "    data = [1,2,3,4]\n",
    "    data2 = [8,7,10,9]\n",
    "    \n",
    "<b>Expected output</b>: \n",
    "    \n",
    "    [1,2,3,4,[8,7,10,9]]"
   ]
  },
  {
   "cell_type": "code",
   "execution_count": 29,
   "metadata": {},
   "outputs": [
    {
     "name": "stdout",
     "output_type": "stream",
     "text": [
      "[1, 2, 3, 4, 5]\n"
     ]
    }
   ],
   "source": [
    "#code below\n",
    "data = [1,2,3,4]\n",
    "data.append(5)\n",
    "\n",
    "print(data)"
   ]
  },
  {
   "cell_type": "markdown",
   "metadata": {},
   "source": [
    "##### `.extend()`\n",
    "The `.extend()` function <b>unpacks</b> values in a list and appends them to another list.\n",
    "\n",
    "With the given `data` variable, let's use the `.extend()` function to extend `data` with another list called `data2`.\n",
    "\n",
    "    data = [1,2,3,4]\n",
    "    data2 = [8,7,10,9]\n",
    "    \n",
    "<b>Expected output</b>: \n",
    "    \n",
    "    [1,2,3,4,8,7,10,9]"
   ]
  },
  {
   "cell_type": "code",
   "execution_count": 27,
   "metadata": {},
   "outputs": [
    {
     "name": "stdout",
     "output_type": "stream",
     "text": [
      "[1, 2, 3, 4]\n"
     ]
    }
   ],
   "source": [
    "#code below\n",
    "data = [1,2,3,4]\n",
    "data2 = [8,7,10,9]\n",
    "\n",
    "print(data)"
   ]
  },
  {
   "cell_type": "markdown",
   "metadata": {},
   "source": [
    "##### `.remove()`\n",
    "The `.remove()` function removes the very first instance of <b>a given value</b>, from left to right of the list; index 0 to the last index of a list.\n",
    "\n",
    "Using the `.remove()` function, remove the number `4` from `data`.\n",
    "\n",
    "<b>Expected output</b>: \n",
    "    \n",
    "    [1,2,3,8,7,10,9]"
   ]
  },
  {
   "cell_type": "code",
   "execution_count": null,
   "metadata": {},
   "outputs": [],
   "source": [
    "#code below\n",
    "data = [1,2,3,4,8,7,10,9]\n",
    "\n",
    "print(data)"
   ]
  },
  {
   "cell_type": "markdown",
   "metadata": {},
   "source": [
    "##### `del`\n",
    "The <font color='green'><b>del</b></font> function removes a value based on its <b>index</b> \n",
    "\n",
    "Using the <font color='green'><b>del</b></font> function, remove the number `7` from `data`.\n",
    "\n",
    "<b>Expected output</b>: \n",
    "    \n",
    "    [1,2,3,8,10,9]"
   ]
  },
  {
   "cell_type": "code",
   "execution_count": null,
   "metadata": {},
   "outputs": [],
   "source": [
    "#code below\n",
    "data = [1,2,3,8,7,10,9]\n",
    "\n",
    "print(data)"
   ]
  },
  {
   "cell_type": "markdown",
   "metadata": {},
   "source": [
    "##### `.sort()`\n",
    "The `.sort()` function sorts values in a list in ascending order. \n",
    "\n",
    "Sort `data` in a <b>descending order</b> to get our final data list.\n",
    "\n",
    "<b>Expected output</b> \n",
    "    \n",
    "    [10, 9, 8, 3, 2, 1]"
   ]
  },
  {
   "cell_type": "code",
   "execution_count": 1,
   "metadata": {},
   "outputs": [
    {
     "name": "stdout",
     "output_type": "stream",
     "text": [
      "[10, 9, 8, 3, 2, 1]\n"
     ]
    }
   ],
   "source": [
    "#code below\n",
    "data = [1,2,3,8,10,9]\n",
    "data.sort(reverse = True)\n",
    "print(data)"
   ]
  },
  {
   "cell_type": "markdown",
   "metadata": {},
   "source": [
    "#### IN-CLASS PRACTICE: LIST FUNCTIONS\n",
    "\n",
    "Complete the following questions to test your overall understanding on list functions:\n",
    "\n",
    "1. Create 2 lists:\n",
    "    \n",
    "    `x` with numbers `10` and `20` <br>`y` with numbers `30` and `40`\n",
    "    \n",
    "    \n",
    "2. Using `.append()`, add the 2 lists to a new list called `combi`\n",
    "3. With the `del` function, remove both lists\n",
    "4. Use the `.extend()` to extend `combi` with this `[50,30,79,25,35,22]`\n",
    "5. Remove `30`\n",
    "6. Sort `combi` in descending order\n",
    "\n",
    "<b>Final Expected Output</b>:\n",
    "```python  \n",
    "    [79,50,35,25,22]\n",
    "```"
   ]
  },
  {
   "cell_type": "code",
   "execution_count": 8,
   "metadata": {},
   "outputs": [
    {
     "name": "stdout",
     "output_type": "stream",
     "text": [
      "[[10, 20], [30, 40]]\n",
      "[]\n",
      "[50, 30, 79, 25, 35, 22]\n",
      "[50, 79, 25, 35, 22]\n",
      "[22, 25, 35, 50, 79]\n"
     ]
    }
   ],
   "source": [
    "#Qns 1\n",
    "x = [10,20]\n",
    "y = [30,40]\n",
    "\n",
    "#Qns 2\n",
    "combi =[]\n",
    "combi.append(x)\n",
    "combi.append(y)\n",
    "print(combi)\n",
    "\n",
    "#Qns 3\n",
    "del combi [:]\n",
    "print(combi)\n",
    "\n",
    "#Qns 4\n",
    "combi.extend([50,30,79,25,35,22])\n",
    "print(combi)\n",
    "\n",
    "#Qns 5\n",
    "del combi[1]\n",
    "print(combi)\n",
    "\n",
    "#Qns 6\n",
    "combi.sort(reverse= False)\n",
    "print(combi)"
   ]
  },
  {
   "cell_type": "markdown",
   "metadata": {},
   "source": [
    "<hr></hr>\n",
    "<h3> Tuples </h3>\n",
    "\n",
    "<b>Tuples</b> are just like <b>lists</b> but the only difference is that its' contents are <b>immutable</b>, meaning they cannot be altered in any way."
   ]
  },
  {
   "cell_type": "code",
   "execution_count": null,
   "metadata": {},
   "outputs": [],
   "source": [
    "# run this cell to see an error message\n",
    "x = (1,2,3,4)\n",
    "x[0] = 10    # << Error\n",
    "x.append(4)  # << Error"
   ]
  },
  {
   "cell_type": "markdown",
   "metadata": {},
   "source": [
    "<hr> </hr>\n",
    "<h3> Dictionaries </h3>\n",
    "\n",
    "We will now learn how to use a dictionary \n",
    "1. Create key-value pair\n",
    "2. Updating key-value pair\n",
    "3. Deleting key-value pair\n",
    "4. Retrieving value from key-value piar\n",
    "5. Get all the keys from a dictionary\n",
    "6. Get all the key-value pairs from a dictionary\n",
    "7. Check if key exists within a dictionary\n",
    "\n",
    "<h4> IN-CLASS EXAMPLE: DICTIONARY FUNCTIONS </h4>\n",
    "In this example below, we will go through a simple example of using dictionary as a database."
   ]
  },
  {
   "cell_type": "code",
   "execution_count": null,
   "metadata": {},
   "outputs": [],
   "source": []
  },
  {
   "cell_type": "markdown",
   "metadata": {},
   "source": [
    "##### Creating key-value pair\n",
    "You need to upload 2 new videos into your `all_videos_database`. Create a new key-value pairs with the following information:\n",
    "    \n",
    "|<center>Keys: Video Title</center>| <center>Values: Views</center> | \n",
    "|:---| :----------- |\n",
    "|`\"Despacito\"`| `5500`|\n",
    "|`\"See You Again\"`| `12500`|\n",
    "\n",
    "<b> Expected output</b>:\n",
    "    \n",
    "    { \n",
    "        \"Gangnam Style\": 195000,\n",
    "        \"Despacito\": 5500,\n",
    "        \"See You Again\": 12500\n",
    "    }\n",
    "    "
   ]
  },
  {
   "cell_type": "code",
   "execution_count": 10,
   "metadata": {},
   "outputs": [
    {
     "name": "stdout",
     "output_type": "stream",
     "text": [
      "------ before ------\n",
      "{'Gangnam Style': 195000}\n",
      "------  after ------\n",
      "{'Gangnam Style': 195000, 'Despacito': 5500, 'See You Again': 12500}\n"
     ]
    }
   ],
   "source": [
    "print(\"------ before ------\")\n",
    "all_videos_database = { \n",
    "    \"Gangnam Style\": 195000 \n",
    "}\n",
    "print(all_videos_database)\n",
    "print(\"------  after ------\")\n",
    "#code below\n",
    "all_videos_database['Despacito'] = 5500\n",
    "all_videos_database['See You Again'] = 12500\n",
    "print(all_videos_database)"
   ]
  },
  {
   "cell_type": "markdown",
   "metadata": {},
   "source": [
    "##### Retrieving value from key-value pair\n",
    "Vin Diesel wants to see how many views `See You Again` got.\n",
    "\n",
    "<b>Expected Output</b>:\n",
    "\n",
    "    12500"
   ]
  },
  {
   "cell_type": "code",
   "execution_count": 13,
   "metadata": {},
   "outputs": [
    {
     "name": "stdout",
     "output_type": "stream",
     "text": [
      "12500\n"
     ]
    }
   ],
   "source": [
    "#code below\n",
    "all_videos_database = { \n",
    "        \"Gangnam Style\": 195000,\n",
    "        \"Despacito\": 5500,\n",
    "        \"See You Again\": 12500\n",
    "}\n",
    "\n",
    "print(all_videos_database['See You Again'])"
   ]
  },
  {
   "cell_type": "markdown",
   "metadata": {},
   "source": [
    "##### Updating key-value pair\n",
    "Alexa has kept playing `Despacito`. `Despacito` views has now <b>increased</b> by 100000.\n",
    "\n",
    "<b>Expected Output</b>:\n",
    "\n",
    "    { \n",
    "        \"Gangnam Style\": 195000,\n",
    "        \"Despacito\": 105500,\n",
    "        \"See You Again\": 12500\n",
    "    }"
   ]
  },
  {
   "cell_type": "code",
   "execution_count": 14,
   "metadata": {},
   "outputs": [
    {
     "name": "stdout",
     "output_type": "stream",
     "text": [
      "------ before ------\n",
      "{'Gangnam Style': 195000, 'Despacito': 5500, 'See You Again': 12500}\n",
      "------  after ------\n",
      "{'Gangnam Style': 195000, 'Despacito': 15500, 'See You Again': 12500}\n"
     ]
    }
   ],
   "source": [
    "print(\"------ before ------\")\n",
    "all_videos_database = { \n",
    "        \"Gangnam Style\": 195000,\n",
    "        \"Despacito\": 5500,\n",
    "        \"See You Again\": 12500\n",
    "    }\n",
    "print(all_videos_database)\n",
    "print(\"------  after ------\")\n",
    "#code below\n",
    "#manual\n",
    "#all_videos_database['Despacito'] = 105500\n",
    "#print(all_videos_database)\n",
    "#straight away add 10k\n",
    "all_videos_database['Despacito'] += 10000\n",
    "print(all_videos_database)"
   ]
  },
  {
   "cell_type": "markdown",
   "metadata": {},
   "source": [
    "##### Deleting key-value pair\n",
    "`Gangnam Style` is now out of style. Remove it from our `all_videos_database`. Using the <font color='green'><b>del</b></font> function, remove the key `Gangnam Style` from `all_videos_database`.\n",
    "\n",
    "<b>Expected Output</b>:\n",
    "\n",
    "    { \n",
    "        \"Despacito\": 105500,\n",
    "        \"See You Again\": 12500\n",
    "    }"
   ]
  },
  {
   "cell_type": "code",
   "execution_count": null,
   "metadata": {},
   "outputs": [],
   "source": [
    "print(\"------ before ------\")\n",
    "all_videos_database = { \n",
    "        \"Gangnam Style\": 195000,\n",
    "        \"Despacito\": 105500,\n",
    "        \"See You Again\": 12500\n",
    "    }\n",
    "print(all_videos_database)\n",
    "print()\n",
    "print(\"------  after ------\")\n",
    "#code below\n",
    "\n",
    "del all_videos_database['Gangnam Style']\n",
    "print(all_videos_database)\n",
    "#dont use position in dictionaries"
   ]
  },
  {
   "cell_type": "markdown",
   "metadata": {},
   "source": [
    "##### `.keys()`\n",
    "Your boss wants to see all the <b>video titles</b> in the `all_videos_database`. \n",
    "\n",
    "<b>Expected Output</b>:\n",
    "\n",
    "    Despacito\n",
    "    See You Again"
   ]
  },
  {
   "cell_type": "code",
   "execution_count": 16,
   "metadata": {},
   "outputs": [
    {
     "name": "stdout",
     "output_type": "stream",
     "text": [
      "['Despacito', 'See You Again']\n"
     ]
    }
   ],
   "source": [
    "#code below\n",
    "all_videos_database = { \n",
    "        \"Despacito\": 105500,\n",
    "        \"See You Again\": 12500\n",
    "}\n",
    "\n",
    "print(list(all_videos_database.keys())) # list conversion"
   ]
  },
  {
   "cell_type": "markdown",
   "metadata": {},
   "source": [
    "##### `.items()`\n",
    "Your boss, couldn't make up his mind earlier, now he wants to see each <b>video title</b> and <b>the number of views</b> from your `all_videos_database`. \n",
    "\n",
    "<b>Expected Output</b>:\n",
    "\n",
    "    Despacito has a total of 105500 views.\n",
    "    See You Again has a total of 12500 views."
   ]
  },
  {
   "cell_type": "code",
   "execution_count": 19,
   "metadata": {},
   "outputs": [
    {
     "name": "stdout",
     "output_type": "stream",
     "text": [
      "Despacito\n",
      "Despacito\n"
     ]
    }
   ],
   "source": [
    "#code below\n",
    "all_videos_database = { \n",
    "        \"Despacito\": 105500,\n",
    "        \"See You Again\": 12500\n",
    "}\n",
    "\n",
    "video_list = list(all_videos_database.items())\n",
    "despacito_info = video_list[0]\n",
    "print(despacito_info[0])\n",
    "print(video_list[0][0])"
   ]
  },
  {
   "cell_type": "markdown",
   "metadata": {},
   "source": [
    "##### Check if key exists in dictionary\n",
    "Some people are still living in the past. Check if `Gangnam Style` still exists within `all_videos_database`. \n",
    "\n",
    "<b>Expected Output</b>:\n",
    "    \n",
    "    False"
   ]
  },
  {
   "cell_type": "code",
   "execution_count": 18,
   "metadata": {},
   "outputs": [
    {
     "name": "stdout",
     "output_type": "stream",
     "text": [
      "False\n"
     ]
    }
   ],
   "source": [
    "#code below\n",
    "all_videos_database = { \n",
    "        \"Despacito\": 105500,\n",
    "        \"See You Again\": 12500\n",
    "}\n",
    "\n",
    "print('Gangnam Style' in all_videos_database)"
   ]
  },
  {
   "cell_type": "markdown",
   "metadata": {},
   "source": [
    "#### IN-CLASS PRACTICE: DICTIONARY FUNCTIONS\n",
    "\n",
    "Complete the following questions to test your overall understanding on list functions:\n",
    "\n",
    "1. Create a new dictionary database called `my_class` as an empty dictionary\n",
    "2. Add the following key-value pairs:\n",
    "\n",
    "|<center>Keys</center>| <center>Values</center> | Type |\n",
    "|:---| :----------- |---|\n",
    "|`\"Instructor\"`| `\"Your Instructor\"`| `String` |\n",
    "|`\"TAs\"`| `[\"TA1\",\"TA2\",\"TA3\"]`| `List`|\n",
    "|`\"Students\"`| 40 | `Int`|\n",
    "\n",
    "3. Add a fourth TA to your database\n",
    "4. Someone from another class has joined for make up. Update your database by 1 count\n",
    "\n",
    "<b>Final Expected Output</b>:\n",
    "```python\n",
    "    {\n",
    "        \"Instructor\": \"Your Instructor\",\n",
    "        \"TAs\": [\"TA1\",\"TA2\",\"TA3\",\"TA4\"]\n",
    "        \"Students\": 41\n",
    "    }\n",
    "```"
   ]
  },
  {
   "cell_type": "code",
   "execution_count": 25,
   "metadata": {},
   "outputs": [
    {
     "name": "stdout",
     "output_type": "stream",
     "text": [
      "{'Instructor': 'Your Instructor', 'TAs': ['TA1', 'TA2', 'TA3'], 'Students': 40}\n",
      "{'Instructor': 'Your Instructor', 'TAs': ['TA1', 'TA2', 'TA3', 'TA4'], 'Students': 41}\n"
     ]
    }
   ],
   "source": [
    "#Qns1\n",
    "my_class = {}\n",
    "\n",
    "#Qns2\n",
    "my_class['Instructor'] = \"Your Instructor\"\n",
    "my_class['TAs'] = ['TA1', 'TA2', 'TA3']\n",
    "my_class['Students'] = 40\n",
    "print(my_class)\n",
    "\n",
    "#Qns3\n",
    "my_class['TAs'] += ['TA4']\n",
    "my_class['TAs'].append('TA4')\n",
    "\n",
    "#Qns4\n",
    "my_class['Students'] += 1 \n",
    "print(my_class)"
   ]
  },
  {
   "cell_type": "markdown",
   "metadata": {},
   "source": [
    "<h3> Real Life Application of Collections </h3>\n",
    "<h4> IN-CLASS PRACTICE: EXTRACTING DATA FROM MIXED TYPES</h4>\n",
    "\n",
    "Given the following list of historical three days video views data of two videos, find the engagement score of each video\n",
    "\n",
    "<b>Expected output</b>: \n",
    "\n",
    "    despacito has a score of 0.15 \n",
    "    im_yours has a score of 0.05\n",
    "    "
   ]
  },
  {
   "cell_type": "code",
   "execution_count": 34,
   "metadata": {},
   "outputs": [
    {
     "name": "stdout",
     "output_type": "stream",
     "text": [
      "despacito has a score of 0.15\n",
      "im_yours has a score of 0.05\n"
     ]
    }
   ],
   "source": [
    "hist_video_views = [\n",
    "    { \n",
    "        'video_title': 'despacito',\n",
    "        'comments': 150,\n",
    "        'views': 1000\n",
    "    },\n",
    "    { \n",
    "        'video_title': 'im yours',\n",
    "        'comments': 100,\n",
    "        'views': 2000\n",
    "    }\n",
    "]\n",
    "\n",
    "engagement_despacito = hist_video_views[0]['comments']/ hist_video_views[0]['views']\n",
    "engagement_im_yours = hist_video_views[1]['comments']/ hist_video_views[1]['views']\n",
    "print('despacito has a score of ' + str(engagement_despacito))\n",
    "print('im_yours has a score of ' + str(engagement_im_yours))"
   ]
  },
  {
   "cell_type": "markdown",
   "metadata": {},
   "source": [
    "<h3> <center> Important Collections Functions </center> </h3>\n",
    "<h3> <center> Creation </center></h3>\n",
    "\n",
    "|Collection Type | Function | Examples |\n",
    "| ---------|---------|---------|\n",
    "| `list` | <center>None</center>| `new_list = []` <br><br> `new_list = [1,2,3,4]` |\n",
    "| `tuple`| <center>None</center>| `new_tuple = ()` <br><br> `new_tuple = (1,2,3,4)`|\n",
    "| `dict` | <center>None</center>| `new_dict = {}` <br><br> `new_dict = {'a': 1, 'b':2}`|\n",
    "\n",
    "<h3> <center> Add / Appending Data </center></h3>\n",
    "\n",
    "|Collection Type | Functions | Examples | Resulting Output|\n",
    "| ---------|---------|---------| ------ |\n",
    "| `list` | <center>`.append()`</center>| `new_list = [1,2,3]` <br><br> `new_list.append(4)` | `[1,2,3,4]`|\n",
    "| `list` | <center>`.extend()`</center>| `new_list = [1,2]` <br><br> `new_list.extend([3,4])` | `[1,2,3,4]`|\n",
    "| `tuple`| <center>Cannot change structure at all</center>| Nil | Nil|\n",
    "| `dict` | <center>None</center>| `new_dict = {}` <br><br> `new_dict['a'] = 1` <br><br> `new_dict['b'] = 2` | `{'a': 1, 'b':2}`|\n",
    "\n",
    "<h3> <center> Updating / Changing Data </center></h3>\n",
    "\n",
    "|Collection Type | Functions | Examples | Resulting Output|\n",
    "| ---------|---------|---------| ------ |\n",
    "| `list` | <center>None</center>| `new_list = [1,2,3]` <br><br> `new_list[0] = 5` | `[5,2,3]`|\n",
    "| `tuple`| <center>Cannot change structure at all</center>| Nil | Nil|\n",
    "| `dict` | <center>None</center>| `new_dict = {'a': 1, 'b':2}` <br><br> `new_dict['a'] = 10`| `{'a': 10, 'b':2}`|\n",
    "\n",
    "<h3> <center> Accessing / Taking Out Data </center></h3>\n",
    "\n",
    "|Collection Type | Functions | x to be| Examples |\n",
    "| ---------|---------|---------| ------ |\n",
    "| `list` | <center>None</center>| 3 |`new_list = [1,2,3]` <br><br> `x = new_list[2] `|\n",
    "| `list of list` | <center>None</center>|3 |`new_list = [[1,2],[3,4]]` <br><br> `x = new_list[1][0] `|\n",
    "| `list of dict` | <center>None</center>| 2 |`new_list = [{'a':1},{'b':2}]` <br><br> `x = new_list[1]['b'] `|\n",
    "| `tuple`| <center>None</center>| 3 |`new_tuple = (1,2,3)` <br><br> `x = new_list[2] ` |\n",
    "| `dict` | <center>None</center>| 2|`new_dict = {'a': 1, 'b':2}` <br><br> `x = new_dict['b']`|"
   ]
  },
  {
   "cell_type": "code",
   "execution_count": null,
   "metadata": {},
   "outputs": [],
   "source": []
  }
 ],
 "metadata": {
  "kernelspec": {
   "display_name": "Python 3",
   "language": "python",
   "name": "python3"
  },
  "language_info": {
   "codemirror_mode": {
    "name": "ipython",
    "version": 3
   },
   "file_extension": ".py",
   "mimetype": "text/x-python",
   "name": "python",
   "nbconvert_exporter": "python",
   "pygments_lexer": "ipython3",
   "version": "3.6.5"
  }
 },
 "nbformat": 4,
 "nbformat_minor": 2
}
