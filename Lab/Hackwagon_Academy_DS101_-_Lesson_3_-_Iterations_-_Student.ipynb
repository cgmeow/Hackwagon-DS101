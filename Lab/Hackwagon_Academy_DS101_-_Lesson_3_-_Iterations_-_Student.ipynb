{
 "cells": [
  {
   "cell_type": "markdown",
   "metadata": {},
   "source": [
    "<center><img src=\"https://i2.wp.com/hackwagon.com/wp-content/uploads/2017/02/Logo-Web-Export.png?ssl=1\" width=\"200\"/></center>\n",
    "\n",
    "<h1> <center> Hackwagon Academy: DS101 In-Class Practice Lesson 3 </center></h1>\n",
    "<h2><center> Iterations </center></h2>\n",
    "\n",
    "<i>Prepared by @jonchewyl</i><br>\n",
    "<i>with help from Instructor KT </i>\n",
    "<h2> Learning Objectives</h2>\n",
    "\n",
    "1. Recap\n",
    "2. Loops\n",
    "3. CITU Framework"
   ]
  },
  {
   "cell_type": "markdown",
   "metadata": {},
   "source": [
    "<h2> Recap</h2>\n",
    "<h3> Data Types</h3>\n",
    "\n",
    "```python\n",
    "    this_is_an_integer = 10 # Integer\n",
    "    this_is_a_float = 10.0 # Float\n",
    "    this_is_a_bool = True # Boolean\n",
    "    this_is_a_string = \"10.0\" # String\n",
    "    this_is_a_list = [1,2,3,4,5] # List\n",
    "    this_is_an_dictionary = {'a':1} # Dictionary\n",
    "```\n",
    "\n",
    "### Collection Types\n",
    "\n",
    "|         -            | List           | String       | Dictionary                  |  Tuple            |\n",
    "|---------------------|----------------|--------------|-----------------------------|-------------------|\n",
    "| How to create       | `[1,2,3]`      | `\"Hello\"`    | `{\"hi\": 5, \"bye\": 6}`       | `(1,2)`           |\n",
    "| **Indexed by**      | Position       | Position     | Key                         | Position          |\n",
    "| Example             | `data[1]`      | `data[1]`    | `data['hi']`                | `data[1]`         | \n",
    "| **Can be modified** | Yes            | No           | Yes                         | No                |\n",
    "| Example             | `data[1] = 5`  |    -         | `data['hi'] = 10`           |          -        | \n",
    "| **Can be combined** | Yes            | Yes          | No                          | Yes               |\n",
    "| Example             | `[1,2] + [3,4]`| `'a' + 'b'`  |        -                     | `'(1,2) + (3,4)'` |"
   ]
  },
  {
   "cell_type": "markdown",
   "metadata": {},
   "source": [
    "### Functions\n",
    "Recall how functions are just actions that things can do. For example, a human can `walk()`. A bird can `fly()`. Same for programming, each data type is like an animal with their own set for functions.\n",
    "\n",
    "How we use these functions is as follows: \n",
    "    \n",
    "    <data type> . <function> ( <input if any> ) \n",
    "\n",
    "<h4> Python Standalone Functions</h4>\n",
    "\n",
    "There are some functions built into Python that can be used independently. Some of them are below:\n",
    "* `print(x, x2, x3...)`  Prints out each input\n",
    "* `sum(x)` - Sum of list\n",
    "* `len(x)` - Length of list/string\n",
    "* `type(x)` - Type of a value\n",
    "* `int(x)`, `str(x)`, `float(x)`, `list(x)` - Convert input to the specified type"
   ]
  },
  {
   "cell_type": "markdown",
   "metadata": {},
   "source": [
    "<h4>Data Type Functions</h4>\n",
    "<h4>List</h4>\n",
    "\n",
    "* `l.append(x)` - Adds `x` to the end of the list\n",
    "* `l.remove(x)` - Searches list for `x` and removes it (will error if `x` is not inside)\n",
    "* `l.extend(x)` - Same as `l + x`\n",
    "* `l.sort()` - Sorts a given list in ascending order\n",
    "\n",
    "<h4> Dictionary</h4>\n",
    "\n",
    "* `list(d.keys())` - Get a list of the keys inside a dictionary\n",
    "* `list(d.items())` - Get a list of tuples (keys, values) inside a dictionary"
   ]
  },
  {
   "cell_type": "code",
   "execution_count": null,
   "metadata": {},
   "outputs": [],
   "source": []
  },
  {
   "cell_type": "markdown",
   "metadata": {},
   "source": [
    "<h3> Decision Control </h3>\n",
    "<h4> Relational & Conditional Operators</h4>\n",
    "\n",
    "There are 4 ways you can create `boolean` values:\n",
    "* Comparing two numbers using `>`, `>=`, `<`, `<=`, `==`, `!=`\n",
    "* Comparing two values (list, str, dict) etc using `==` or `!=`\n",
    "* Checking if a word is inside a string using in\n",
    "* Checking if there is a label (NOT VALUE) inside a dictionary using in\n",
    "\n",
    "<h4> Combining Conditions using `and` and `or` keywords</h4>\n",
    "\n",
    "| A | B | A `and` B | A `or` B |\n",
    "| - | - | - | - |\n",
    "| `False` | `False`| `False` | `False`|\n",
    "| `False` | `True`| `False` | `True`|\n",
    "| `True` | `False`| `False` | `True`|\n",
    "| `True` | `True`| `True` | `True`|\n",
    "\n",
    "Note however that when using `and` / `or`, both sides need to be proper boolean values\n",
    "\n",
    "i.e.\n",
    "\n",
    "```python\n",
    "# Correct\n",
    "5 > 3 and 5 > 2\n",
    "\n",
    "# Wrong (RHS of and is not an equivalent of True or False)\n",
    "5 > 3 and 2\n",
    "```"
   ]
  },
  {
   "cell_type": "markdown",
   "metadata": {},
   "source": [
    "### If Else Statement\n",
    "\n",
    "If-Elif-Else Statements are used if you want certain to be executed only under certain conditions.\n",
    "\n",
    "**Things to take note**\n",
    "\n",
    "* Indent code blocks by 4 spaces\n",
    "* Put a colon after each condition\n",
    "* Within a single if-elif-else statement, only 1 code block will be executed\n",
    "\n",
    "```python\n",
    "if A:\n",
    "    # Do Something\n",
    "elif B: # Optional\n",
    "    # Do if B is True\n",
    "else: # Optional\n",
    "    # Do is None of A is True\n",
    "```\n",
    "\n",
    "**Diagrams Demonstrating If-Elif-Else**\n",
    "\n",
    "<img src=\"https://i.imgur.com/ssaR1ky.png\"/>"
   ]
  },
  {
   "cell_type": "markdown",
   "metadata": {},
   "source": [
    "**Diagrams Demonstrating Differences between Nested If Else and Multiple If Else**\n",
    "\n",
    "<img src=\"https://i.imgur.com/fiabO4m.png\" width=\"400\"/>"
   ]
  },
  {
   "cell_type": "markdown",
   "metadata": {},
   "source": [
    "### \"Blocking\" Concept Revisited"
   ]
  },
  {
   "cell_type": "markdown",
   "metadata": {},
   "source": [
    "<img src=\"https://i.imgur.com/wj9dDfD.png\" width=200>"
   ]
  },
  {
   "cell_type": "code",
   "execution_count": null,
   "metadata": {},
   "outputs": [],
   "source": [
    "if 10 > 1:\n",
    "    print(\"a\")\n",
    "    if 10 < 1:\n",
    "        print(\"b\")\n",
    "    else:\n",
    "        print(\"c\")\n",
    "    print(\"d\")\n",
    "else:\n",
    "    print(\"e\")"
   ]
  },
  {
   "cell_type": "markdown",
   "metadata": {},
   "source": [
    "### Pseudocode\n",
    "To solve complicated problems in the real world, before we even start coding, we start by thinking of the problem in the high-level perspective. Write our steps in what's called <b><i>Pseudocode</i></b>. \n",
    "\n",
    "<img src=\"https://i.imgur.com/O25vWu9.png\">\n",
    "\n",
    "This approach is very often used by software engineers and data analyst when facing difficult problems.\n",
    "\n",
    "The key steps to pseudocode is:\n",
    "\n",
    "1. Understand the problem\n",
    "2. Breaking down big problems into smaller problems\n",
    "3. Solving the smaller problems first\n",
    "4. Fit all the smaller solutions into one big solution"
   ]
  },
  {
   "cell_type": "markdown",
   "metadata": {},
   "source": [
    "#### Version 1\n",
    "\n",
    "- Just give prize only"
   ]
  },
  {
   "cell_type": "code",
   "execution_count": null,
   "metadata": {},
   "outputs": [],
   "source": [
    "if number == 1:\n",
    "    print('you got a grand prize')"
   ]
  },
  {
   "cell_type": "markdown",
   "metadata": {},
   "source": [
    "#### Version 2\n",
    "\n",
    "- Give prize only if there are prizes"
   ]
  },
  {
   "cell_type": "code",
   "execution_count": null,
   "metadata": {},
   "outputs": [],
   "source": []
  },
  {
   "cell_type": "markdown",
   "metadata": {},
   "source": [
    "##### Version 3\n",
    "\n",
    "- Give prize if there's a prize, otherwise give something else"
   ]
  },
  {
   "cell_type": "code",
   "execution_count": null,
   "metadata": {},
   "outputs": [],
   "source": []
  },
  {
   "cell_type": "markdown",
   "metadata": {},
   "source": [
    "## Loops\n",
    "Loops are a way to <b>repeat</b> code more than once, saving us time from <b>copying and pasting code</b> that is exactly the same.\n",
    "\n",
    "**Example**\n",
    "\n",
    "Printing the `Hello World!` 10 times.\n",
    "\n",
    "Without loops:\n",
    "```python\n",
    "    print(\"Hello World!\")\n",
    "    print(\"Hello World!\")\n",
    "    print(\"Hello World!\")\n",
    "    print(\"Hello World!\")\n",
    "    print(\"Hello World!\")\n",
    "    print(\"Hello World!\")\n",
    "    print(\"Hello World!\")\n",
    "    print(\"Hello World!\")\n",
    "    print(\"Hello World!\")\n",
    "    print(\"Hello World!\")\n",
    "```\n",
    "\n",
    "With loops:\n",
    "```python\n",
    "    for i in range(10):\n",
    "        print(\"Hello World!\")\n",
    "```"
   ]
  },
  {
   "cell_type": "markdown",
   "metadata": {},
   "source": [
    "### Structure of For Loops\n",
    "<img src=\"https://i.imgur.com/iOASCWP.png\" width=\"500\">\n"
   ]
  },
  {
   "cell_type": "code",
   "execution_count": 1,
   "metadata": {},
   "outputs": [
    {
     "name": "stdout",
     "output_type": "stream",
     "text": [
      "0\n",
      "1\n",
      "2\n"
     ]
    }
   ],
   "source": [
    "# Code below\n",
    "data = [0,1,2]\n",
    "\n",
    "for item in data:\n",
    "    print(item)"
   ]
  },
  {
   "cell_type": "markdown",
   "metadata": {},
   "source": [
    "### Sushi Belt Restaurants \n",
    "Think of loops like a conveyor belt sushi restaurant, where each order on the belt is like an item in the collection (list or dictionary)\n",
    "\n",
    "<img src=\"http://vistainterior.com.sg/wp-content/uploads/2015/06/sushi-express-1080x720.jpg\" width=\"500\">\n"
   ]
  },
  {
   "cell_type": "markdown",
   "metadata": {},
   "source": [
    "##### Sushi Belt Restaurants Example\n",
    "<img src=\"https://i.imgur.com/CsUMZlB.png\" width=\"400\">"
   ]
  },
  {
   "cell_type": "code",
   "execution_count": 2,
   "metadata": {},
   "outputs": [
    {
     "name": "stdout",
     "output_type": "stream",
     "text": [
      "i want to eatSalmon\n",
      "i want to eatDragon Roll\n",
      "i want to eatRamen\n"
     ]
    }
   ],
   "source": [
    "orders = [\n",
    "    \"Salmon\", # Order 1\n",
    "    \"Dragon Roll\", #Order 2\n",
    "    \"Ramen\" # Order 3\n",
    "] \n",
    "\n",
    "# Write code below\n",
    "for each_sushi in orders:\n",
    "    print('i want to eat ' + str(each_sushi))"
   ]
  },
  {
   "cell_type": "markdown",
   "metadata": {},
   "source": [
    "### Syntax\n",
    "\n",
    "Important to note:\n",
    "* Shift codes to the right by 4 spaces (indent)\n",
    "* Put a <b>colon</b> after the list\n",
    "* Use a variable that is a list to loop through"
   ]
  },
  {
   "cell_type": "code",
   "execution_count": null,
   "metadata": {},
   "outputs": [],
   "source": [
    "# Indentations\n",
    "for i in [1,2,3]:\n",
    "print(\"This will fail\")"
   ]
  },
  {
   "cell_type": "code",
   "execution_count": null,
   "metadata": {},
   "outputs": [],
   "source": [
    "# Colons are important\n",
    "for i in [1,2,3]\n",
    "    print(\"This will fail\")"
   ]
  },
  {
   "cell_type": "code",
   "execution_count": null,
   "metadata": {},
   "outputs": [],
   "source": [
    "# You can use a variable instead of typing the list out\n",
    "data = [1,2,3]\n",
    "\n",
    "for i in data:\n",
    "    print(i)"
   ]
  },
  {
   "cell_type": "markdown",
   "metadata": {},
   "source": [
    "### \"Blocking\" Concept for For-Loops\n",
    "\n",
    "<img src=\"https://i.imgur.com/wy9buUB.png\" width=\"400\">"
   ]
  },
  {
   "cell_type": "code",
   "execution_count": null,
   "metadata": {},
   "outputs": [],
   "source": []
  },
  {
   "cell_type": "markdown",
   "metadata": {},
   "source": [
    "### CITU Framework\n",
    "With the use of for loops, we are able to solve many problems that deal with reptition and more specifically big data.\n",
    "The Create, Iterate, Test, Update (CITU) Framework is an important framework to understand in order to solve most of the fundamental problems in programming.\n",
    "\n",
    "1. <b>Create</b> the results container\n",
    "2. <b>Iterate</b> the input data/list\n",
    "3. <b>Test</b> conditions of each value\n",
    "4. <b>Update</b> the results container when condition is fulfilled\n",
    "\n",
    "Let's replicate the `sum()` function."
   ]
  },
  {
   "cell_type": "code",
   "execution_count": 4,
   "metadata": {},
   "outputs": [
    {
     "name": "stdout",
     "output_type": "stream",
     "text": [
      "-37\n"
     ]
    }
   ],
   "source": [
    "data = [3, -4, 12, 9, -72, 0, 15]\n",
    "# Write code here\n",
    "results = 0\n",
    "for item in data:\n",
    "    results += item\n",
    "print(results)"
   ]
  },
  {
   "cell_type": "markdown",
   "metadata": {},
   "source": [
    "### Practice 1\n",
    "In this next practice, we will replicate some of Python's built in functions, <b> without the use of any built-in functions, i.e cannot use sum(), len().</b>\n",
    "\n",
    "##### Question 1 - `len()`\n",
    "Find the number of items in `data`.\n",
    "\n",
    "**Expected output:**\n",
    "\n",
    "    7"
   ]
  },
  {
   "cell_type": "code",
   "execution_count": 25,
   "metadata": {},
   "outputs": [
    {
     "name": "stdout",
     "output_type": "stream",
     "text": [
      "7\n"
     ]
    }
   ],
   "source": [
    "data = [3, -4, 12, 9, -72, 0, 15]\n",
    "# Write code here\n",
    "index = 0\n",
    "for item in data:\n",
    "        index += 1\n",
    "print(index)\n",
    "\n"
   ]
  },
  {
   "cell_type": "markdown",
   "metadata": {},
   "source": [
    "##### Question 2 - `max()`\n",
    "Find the biggest number in `data`.\n",
    "\n",
    "**Expected output:**\n",
    "    \n",
    "    15"
   ]
  },
  {
   "cell_type": "code",
   "execution_count": 5,
   "metadata": {},
   "outputs": [
    {
     "name": "stdout",
     "output_type": "stream",
     "text": [
      "15\n"
     ]
    }
   ],
   "source": [
    "data = [3, -4, 12, 9, -72, 0, 15]\n",
    "# Write code here\n",
    "for item in data:\n",
    "    if item < data[0]:\n",
    "        item = data[0]\n",
    "print(item)"
   ]
  },
  {
   "cell_type": "markdown",
   "metadata": {},
   "source": [
    "##### Question 3 - Average\n",
    "Find the average based on `data`.\n",
    "\n",
    "**Expected output:**\n",
    "\n",
    "    -5.285714285714286"
   ]
  },
  {
   "cell_type": "code",
   "execution_count": 6,
   "metadata": {},
   "outputs": [
    {
     "name": "stdout",
     "output_type": "stream",
     "text": [
      "-5.285714285714286\n"
     ]
    }
   ],
   "source": [
    "data = [3, -4, 12, 9, -72, 0, 15]\n",
    "# Write code here\n",
    "results = 0\n",
    "for item in data:\n",
    "    results += item\n",
    "average = results/len(data)\n",
    "print(average)\n",
    "\n"
   ]
  },
  {
   "cell_type": "markdown",
   "metadata": {},
   "source": [
    "##### Question 4 - Positive numbers\n",
    "Create a list of all positive numbers in `data`.\n",
    "\n",
    "**Expected output:**\n",
    "\n",
    "    [3, 12, 9, 15]"
   ]
  },
  {
   "cell_type": "code",
   "execution_count": 26,
   "metadata": {},
   "outputs": [
    {
     "name": "stdout",
     "output_type": "stream",
     "text": [
      "[3, 12, 9, 0, 15]\n"
     ]
    }
   ],
   "source": [
    "data = [3, -4, 12, 9, -72, 0, 15]\n",
    "# Write code here\n",
    "for item in data:\n",
    "    if item <= 0 :\n",
    "        data.remove(item)\n",
    "print(data)\n"
   ]
  },
  {
   "cell_type": "markdown",
   "metadata": {},
   "source": [
    "### Applied CITU Thinking Process (Important for Lab Exercises)\n",
    "\n",
    "Imagine the following data:\n",
    "\n",
    "```python\n",
    "    \n",
    "    all_cheques = [\n",
    "        { # order 1\n",
    "            'order_id':1,\n",
    "            'bill':10\n",
    "        },\n",
    "        { # order 2\n",
    "            'order_id':2,\n",
    "            'bill':20\n",
    "        },\n",
    "        { # order 3\n",
    "            'order_id':3,\n",
    "            'bill':30\n",
    "        }\n",
    "    ]\n",
    "```\n",
    "You want to know what is the <b>total spent</b> from `all_cheques`.\n",
    "\n",
    "How to apply the CITU Framework to answer this question?\n"
   ]
  },
  {
   "cell_type": "code",
   "execution_count": 31,
   "metadata": {},
   "outputs": [
    {
     "name": "stdout",
     "output_type": "stream",
     "text": [
      "60\n"
     ]
    }
   ],
   "source": [
    "all_cheques = [\n",
    "        { # order 1\n",
    "            'order_id':1,\n",
    "            'bill':10\n",
    "        },\n",
    "        { # order 2\n",
    "            'order_id':2,\n",
    "            'bill':20\n",
    "        },\n",
    "        { # order 3\n",
    "            'order_id':3,\n",
    "            'bill':30\n",
    "        }\n",
    "    ]\n",
    "\n",
    "# Write code below\n",
    "total = 0\n",
    "for order in all_cheques:\n",
    "    total += order['bill']\n",
    "print(total)\n"
   ]
  },
  {
   "cell_type": "markdown",
   "metadata": {},
   "source": [
    "### Loops with Dictionaries and `range()`\n",
    "#### Dictionaries\n",
    "To through dictionaries, we will use the function we learnt last week, `.items()`. Recall `.items()` gives us a <b>list</b> of <b>tuples</b>, where in each tuple:\n",
    "* Index 0 is the key\n",
    "* Index 1 is the value\n",
    "\n",
    "Let's revisit the Sushi Conveyor Belt example:\n",
    "<img src=\"https://i.imgur.com/eT7Rikj.png\" width=\"400\">"
   ]
  },
  {
   "cell_type": "code",
   "execution_count": 1,
   "metadata": {},
   "outputs": [
    {
     "name": "stdout",
     "output_type": "stream",
     "text": [
      "Sashimi\n",
      "Rolls\n",
      "Mains\n"
     ]
    }
   ],
   "source": [
    "orders = {\n",
    "    \"Sashimi\":  \"Salmon\",\n",
    "    \"Rolls\": \"Dragon Roll\",\n",
    "    \"Mains\": \"Ramen\",\n",
    "} \n",
    "\n",
    "# Write code below\n",
    "for item in orders:\n",
    "    print(item)\n",
    "#print the key\n"
   ]
  },
  {
   "cell_type": "markdown",
   "metadata": {},
   "source": [
    "#### `range()`\n",
    "The range function gives us a list of numbers from a given start and a given end. \n",
    "\n",
    "The syntax is similar to list slicing, recall:\n",
    "```python\n",
    "    word = \"Hackwagon\"\n",
    "    hack = word[0:4] # [start:stop-1:step]\n",
    "```"
   ]
  },
  {
   "cell_type": "code",
   "execution_count": 33,
   "metadata": {},
   "outputs": [
    {
     "name": "stdout",
     "output_type": "stream",
     "text": [
      "0\n",
      "1\n",
      "2\n",
      "3\n",
      "4\n"
     ]
    }
   ],
   "source": [
    "for i in range(5):\n",
    "    print(i)"
   ]
  },
  {
   "cell_type": "markdown",
   "metadata": {},
   "source": [
    "### Practice 2\n",
    "\n",
    "##### Question 1\n",
    "Using `range()`, print out every other item in data:\n",
    "\n",
    "**Expected output:**\n",
    "    \n",
    "    -4\n",
    "    9\n",
    "    0\n"
   ]
  },
  {
   "cell_type": "code",
   "execution_count": 37,
   "metadata": {},
   "outputs": [
    {
     "name": "stdout",
     "output_type": "stream",
     "text": [
      "-4\n",
      "9\n",
      "0\n"
     ]
    }
   ],
   "source": [
    "data = [3, -4, 12, 9, -72, 0, 15]\n",
    "# Code below\n",
    "for i in range(1,7,2):\n",
    "    print(data[i])"
   ]
  },
  {
   "cell_type": "markdown",
   "metadata": {},
   "source": [
    "##### Question 2\n",
    "Below is a database contenting people's names and their respective transactions. <b>Collect</b> the names of people with positive bank balances and print them out\n",
    "\n",
    "**Expected output:**\n",
    "    \n",
    "    ['Jon','KT']"
   ]
  },
  {
   "cell_type": "code",
   "execution_count": 40,
   "metadata": {},
   "outputs": [
    {
     "data": {
      "text/plain": [
       "['KT', 'Jon']"
      ]
     },
     "execution_count": 40,
     "metadata": {},
     "output_type": "execute_result"
    }
   ],
   "source": [
    "bank_accounts = {\n",
    "    'KT': [0, 1, 5, 3],\n",
    "    'Henry': [0, -1, -7, 3],\n",
    "    'Jon': [0, 1, 2, 3],\n",
    "}\n",
    "# Code below\n",
    "list=[]\n",
    "for person in bank_accounts:\n",
    "    balance = bank_accounts[person]\n",
    "    sum(balance)\n",
    "    if sum(balance) > 0:\n",
    "        list.append(person)\n",
    "list\n"
   ]
  },
  {
   "cell_type": "markdown",
   "metadata": {},
   "source": [
    "##### Question 3 (Solving this means you are better than a lot of programmers)\n",
    "\n",
    "1. Print numbers 1 to 50\n",
    "2. If a number is a multiple of 3, print `Fizz`.\n",
    "3. If a number is a multiple of 5, print `Buzz`.\n",
    "4. If a number is a multiple of 3 and 5, print `FizzBuzz`.\n",
    "5. Otherwise, print the number itself.\n",
    "\n",
    "**Expected output:**\n",
    "    \n",
    "    1\n",
    "    2\n",
    "    Fizz\n",
    "    4\n",
    "    Buzz\n",
    "    Fizz\n",
    "    7\n",
    "    8\n",
    "    Fizz\n",
    "    Buzz\n",
    "    11\n",
    "    Fizz\n",
    "    13\n",
    "    14\n",
    "    FizzBuzz\n",
    "    16\n",
    "    17\n",
    "    Fizz\n",
    "    19\n",
    "    Buzz\n",
    "    Fizz\n",
    "    22\n",
    "    23\n",
    "    Fizz\n",
    "    Buzz\n",
    "    26\n",
    "    Fizz\n",
    "    28\n",
    "    29\n",
    "    FizzBuzz\n",
    "    31\n",
    "    32\n",
    "    Fizz\n",
    "    34\n",
    "    Buzz\n",
    "    Fizz\n",
    "    37\n",
    "    38\n",
    "    Fizz\n",
    "    Buzz\n",
    "    41\n",
    "    Fizz\n",
    "    43\n",
    "    44\n",
    "    FizzBuzz\n",
    "    46\n",
    "    47\n",
    "    Fizz\n",
    "    49\n",
    "    Buzz"
   ]
  },
  {
   "cell_type": "code",
   "execution_count": null,
   "metadata": {
    "scrolled": true
   },
   "outputs": [],
   "source": [
    "# Code below\n"
   ]
  },
  {
   "cell_type": "markdown",
   "metadata": {},
   "source": [
    "## Additional Reading: Using for-loops to manipulate Images\n",
    "\n",
    "### Grids\n",
    "A `w x h` grid can be represented in python by a list of a list\n",
    "\n",
    "i.e. 2 x 3 grid in python = \n",
    "\n",
    "```\n",
    "grid = [\n",
    "    [1,2,3],\n",
    "    [4,5,6]\n",
    "]\n",
    "```\n",
    "\n",
    "To access the cell at coordinates (1,2), you can use `grid[1][2]`\n",
    "\n",
    "### Images\n",
    "Images are represented in computers as a grid of squares\n",
    "\n",
    "<img src=\"https://projects-static.raspberrypi.org/projects/pixel-art/2c66f9cb57757c2ceef2160606fc5551f40ca3fe/en/images/pixel-art-black-example.png\" width=\"200\"/>\n",
    "\n",
    "For example, this image has 8 x 8 squares. To represent whether a square is filled, you could use\n",
    "\n",
    "* `1` to represent black\n",
    "* `0` to represent white\n",
    "\n",
    "Thus, a presentation of the above image could be something like this\n",
    "\n",
    "```\n",
    "[\n",
    "    [0,0,0,0,0,0,0,0],\n",
    "    [0,0,0,0,0,0,0,0],\n",
    "    [0,1,0,0,0,0,1,0],\n",
    "    [0,0,0,0,0,0,0,0],\n",
    "    [0,1,0,0,0,0,1,0],\n",
    "    [0,0,1,1,1,1,0,0],\n",
    "    [0,0,0,0,0,0,0,0]\n",
    "]\n",
    "```"
   ]
  },
  {
   "cell_type": "markdown",
   "metadata": {},
   "source": [
    "### RGB\n",
    "\n",
    "In the above example, we represented black using `1` and white using `0`. To represent more colors, people have come up with a system, **RGB** that allows you to represent any color using a combination of 3 numbers.\n",
    "\n",
    "* Red (0 -> 255)\n",
    "* Green (0 -> 255)\n",
    "* Blue (0 -> 255)\n",
    "\n",
    "Each number represents the intensity of R, G and B respectively. The higher the number, the more of that color you will have.\n",
    "\n",
    "To form any color that you see on the screen, you would mix the 3 colors to get a final color. An example of how this mixing works can be found on the tool below\n",
    "\n",
    "<a href=\"http://web.stanford.edu/class/cs101/image-rgb-explorer.html\"><img width=\"400\" src=\"https://i.imgur.com/uMHBwWY.png\" /></a>\n",
    "\n",
    "<center><i>Click on the image to play around with color mixing</i><center>\n",
    "\n",
    "**Common Colors**\n",
    "\n",
    "Shown below are some of the common colors than can be formed by mixing R, G and B together\n",
    "\n",
    "<img src=\"http://smilebasic.com/wordpress/wp-content/themes/smilebasic/publishimage/e-manual/img-27-3-1.png\" height=\"400\" />\n",
    "\n",
    "### RGB colors in our Grid\n",
    "\n",
    "Moving back to our grid, instead of having 1 and 0 represent black and white\n",
    "\n",
    "```\n",
    "[\n",
    "    [0,0,0,0,0,0,0,0],\n",
    "    [0,0,0,0,0,0,0,0],\n",
    "    [0,1,0,0,0,0,1,0],\n",
    "    [0,0,0,0,0,0,0,0],\n",
    "    [0,1,0,0,0,0,1,0],\n",
    "    [0,0,1,1,1,1,0,0],\n",
    "    [0,0,0,0,0,0,0,0]\n",
    "]\n",
    "```\n",
    "\n",
    "We could use a list of 3 numbers, (R, G, B) for each cell to represent the color to be displayed on the screen.\n",
    "\n",
    "```\n",
    "[\n",
    "    [[255,255,255],[255,255,255],[255,255,255],[255,255,255],[255,255,255],[255,255,255],[255,255,255],[255,255,255]],\n",
    "    [[255,255,255],[255,255,255],[255,255,255],[255,255,255],[255,255,255],[255,255,255],[255,255,255],[255,255,255]],\n",
    "    [[255,255,255],[  0,  0,  0],[255,255,255],[255,255,255],[255,255,255],[255,255,255],[  0,  0,  0],[255,255,255]],\n",
    "    [[255,255,255],[255,255,255],[255,255,255],[255,255,255],[255,255,255],[255,255,255],[255,255,255],[255,255,255]],\n",
    "    [[255,255,255],[  0,  0,  0],[255,255,255],[255,255,255],[255,255,255],[255,255,255],[  0,  0,  0],[255,255,255]],\n",
    "    [[255,255,255],[255,255,255],[  0,  0,  0],[  0,  0,  0],[  0,  0,  0],[  0,  0,  0],[255,255,255],[255,255,255]],\n",
    "    [[255,255,255],[255,255,255],[255,255,255],[255,255,255],[255,255,255],[255,255,255],[255,255,255],[255,255,255]],\n",
    "    [[255,255,255],[255,255,255],[255,255,255],[255,255,255],[255,255,255],[255,255,255],[255,255,255],[255,255,255]],\n",
    "]\n",
    "```\n",
    "\n",
    "This is a 8 x 8 x 3 grid, represented as a list of list of list."
   ]
  },
  {
   "cell_type": "markdown",
   "metadata": {},
   "source": [
    "## Grayscale\n",
    "\n",
    "For black and white, gray is simply the average of black and white\n",
    "\n",
    "<img src=\"https://i1.wp.com/www.andboth.org/wp-content/uploads/2015/11/venndiagram.jpg?fit=556%2C394\" width=\"400\"/>\n",
    "\n",
    "In number form, that would mean\n",
    "\n",
    "$$Gray = \\frac{1 + 0}{2} = 0.5$$\n",
    "\n",
    "Simlarly, for colors, a gray version of R, G and B would be\n",
    "\n",
    "$$Gray = \\frac{R + G + B}{3}$$\n",
    "\n",
    "From this, we learn that to make any color, we just need to change a list like\n",
    "\n",
    "```\n",
    "color = [37, 120, 50]  \n",
    "```\n",
    "\n",
    "to\n",
    "\n",
    "```\n",
    "avg = sum(color) / len(color)\n",
    "grayscaled = [avg, avg, avg]\n",
    "```"
   ]
  },
  {
   "cell_type": "markdown",
   "metadata": {},
   "source": [
    "## Try it yourself\n",
    "\n",
    "Shown below is some code that will download a picture of Pikachu.\n",
    "\n",
    "**Run the following code first**"
   ]
  },
  {
   "cell_type": "code",
   "execution_count": 1,
   "metadata": {},
   "outputs": [
    {
     "data": {
      "text/plain": [
       "<matplotlib.image.AxesImage at 0x1f0aecc5be0>"
      ]
     },
     "execution_count": 1,
     "metadata": {},
     "output_type": "execute_result"
    },
    {
     "data": {
      "image/png": "[encoded data removed]",
      "text/plain": [
       "<Figure size 432x288 with 1 Axes>"
      ]
     },
     "metadata": {},
     "output_type": "display_data"
    }
   ],
   "source": [
    "from skimage import io\n",
    "import numpy as np\n",
    "%matplotlib inline\n",
    "pikachu = io.imread('https://orig00.deviantart.net/b925/f/2013/095/9/5/pikachu_pixel_by_lawlkittyface-d60lhuk.png')\n",
    "\n",
    "io.imshow(pikachu)"
   ]
  },
  {
   "cell_type": "markdown",
   "metadata": {},
   "source": [
    "We have written some code to turn this image into a form that python can understand.\n",
    "\n",
    "i.e., your list of list of lists\n",
    "\n",
    "```\n",
    "[\n",
    "    [[255,255,255],[255,255,255]],\n",
    "    [[255,255,255],[255,255,255]]\n",
    "]\n",
    "```\n",
    "\n",
    "Your job is to make each cell in this list of list of list grayscale, using for loops + the formula you just learnt above.\n",
    "\n",
    "**Write your code in the code cell below**"
   ]
  },
  {
   "cell_type": "code",
   "execution_count": null,
   "metadata": {},
   "outputs": [],
   "source": [
    "data = pikachu.tolist()\n",
    "gray_img = pikachu.tolist()\n",
    "\n",
    "# Write your code here\n",
    "    "
   ]
  },
  {
   "cell_type": "markdown",
   "metadata": {},
   "source": [
    "If the code works, the code below should give you a gray pikachu"
   ]
  },
  {
   "cell_type": "code",
   "execution_count": null,
   "metadata": {},
   "outputs": [],
   "source": [
    "io.imshow(np.array(gray_img, dtype=np.uint8))"
   ]
  },
  {
   "cell_type": "markdown",
   "metadata": {},
   "source": [
    "Answer to above problem\n",
    "\n",
    "```python\n",
    "for x in range(0, len(data)):\n",
    "    for y in range(0, len(data[x])):\n",
    "        colors = data[x][y]\n",
    "        avg = sum(colors) / len(colors)\n",
    "        \n",
    "        gray_img[x][y] = [avg, avg, avg]      \n",
    "```"
   ]
  },
  {
   "cell_type": "code",
   "execution_count": null,
   "metadata": {},
   "outputs": [],
   "source": []
  }
 ],
 "metadata": {
  "kernelspec": {
   "display_name": "Python 3",
   "language": "python",
   "name": "python3"
  },
  "language_info": {
   "codemirror_mode": {
    "name": "ipython",
    "version": 3
   },
   "file_extension": ".py",
   "mimetype": "text/x-python",
   "name": "python",
   "nbconvert_exporter": "python",
   "pygments_lexer": "ipython3",
   "version": "3.6.5"
  }
 },
 "nbformat": 4,
 "nbformat_minor": 2
}
