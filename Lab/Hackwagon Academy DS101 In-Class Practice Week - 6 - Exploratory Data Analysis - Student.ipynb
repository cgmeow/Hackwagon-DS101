{
 "cells": [
  {
   "cell_type": "markdown",
   "metadata": {},
   "source": [
    "<img src=\"https://i2.wp.com/hackwagon.com/wp-content/uploads/2017/02/Logo-Web-Export.png?ssl=1\" width=200/>\n",
    "<h1> <center> Hackwagon Academy: DS101 In-Class Practice Week 6</center> </h1>\n",
    "<h2><center>Exploratory Data Analysis - Lazada Case Study</center></h2>\n",
    "<h2> Learning Objectives</h2>\n",
    "\n",
    "1. Recap\n",
    "2. Understand how to read a large dataset\n",
    "3. Process behind doing data exploration\n",
    "3. Data inspection\n",
    "4. The need for exploratory data analysis\n",
    "5. Basic data visualisation\n",
    "\n",
    "<b><i>A table of important collections functions is here for your use</b></i>\n",
    "\n",
    "<h3> References </h3>\n",
    "\n",
    "<h3> <center> Important Collections Functions </center> </h3>\n",
    "<h3> <center> Creation </center></h3>\n",
    "\n",
    "|Collection Type | Function | Examples |\n",
    "| ---------|---------|---------|\n",
    "| `list` | <center>None</center>| `new_list = []` <br><br> `new_list = [1,2,3,4]` |\n",
    "| `dict` | <center>None</center>| `new_dict = {}` <br><br> `new_dict = {'a': 1, 'b':2}`|\n",
    "\n",
    "<h3><center> Add / Appending Data </center></h3>\n",
    "\n",
    "|Collection Type | Functions | Examples | Resulting Output|\n",
    "| ---------|---------|---------| ------ |\n",
    "| `list` | <center>`.append()`</center>| `new_list = [1,2,3]` <br><br> `new_list.append(4)` | `[1,2,3,4]`|\n",
    "| `list` | <center>`.extend()`</center>| `new_list = [1,2]` <br><br> `new_list.extend([3,4])` | `[1,2,3,4]`|\n",
    "| `dict` | <center>None</center>| `new_dict = {}` <br><br> `new_dict['a'] = 1` <br><br> `new_dict['b'] = 2` | `{'a': 1, 'b':2}`|\n",
    "\n",
    "<h3> <center> Updating / Changing Data </center></h3>\n",
    "\n",
    "|Collection Type | Functions | Examples | Resulting Output|\n",
    "| ---------|---------|---------| ------ |\n",
    "| `list` | <center>None</center>| `new_list = [1,2,3]` <br><br> `new_list[0] = 5` | `[5,2,3]`|\n",
    "| `dict` | <center>None</center>| `new_dict = {'a': 1, 'b':2}` <br><br> `new_dict['a'] = 10`| `{'a': 10, 'b':2}`|\n",
    "\n",
    "<h3> <center> Accessing / Taking Out Data </center></h3>\n",
    "\n",
    "|Collection Type | Functions | x to be| Examples |\n",
    "| ---------|---------|---------| ------ |\n",
    "| `list` | <center>None</center>| 3 |`new_list = [1,2,3]` <br><br> `x = new_list[2] `|\n",
    "| `list of list` | <center>None</center>|3 |`new_list = [[1,2],[3,4]]` <br><br> `x = new_list[1][0] `|\n",
    "| `list of dict` | <center>None</center>| 2 |`new_list = [{'a':1},{'b':2}]` <br><br> `x = new_list[1]['b'] `|\n",
    "| `dict` | <center>None</center>| 2|`new_dict = {'a': 1, 'b':2}` <br><br> `x = new_dict['b']`|\n",
    "\n",
    "<h3>CITU Framework & Applied Iterations</h3>\n",
    "\n",
    "1. What variables do you need to answer this question?\n",
    "1. <b>Create</b> the results container\n",
    "2. <b>Iterate</b> the input data/list\n",
    "3. <b>Take out the variables you needed in step 1</b>\n",
    "3. <b>Test</b> conditions of each value\n",
    "4. <b>Update</b> the results container when condition is fulfilled"
   ]
  },
  {
   "cell_type": "markdown",
   "metadata": {},
   "source": [
    "## Recap\n",
    "\n",
    "### Recap 1: File Reading - List of Lists\n",
    "Using what we've learnt last week, use the `csv` library, use the `.reader()` function and read this small file called `videos.csv` into a list of many <b>lists</b> called `all_videos_lists`."
   ]
  },
  {
   "cell_type": "code",
   "execution_count": null,
   "metadata": {},
   "outputs": [],
   "source": []
  },
  {
   "cell_type": "markdown",
   "metadata": {},
   "source": [
    "### Recap 2: File Reading - List of Dictionaries\n",
    "Using what we've learnt last week, use the `csv` library, use the `.DictReader()` function and read this small file called `videos.csv` into a list of many <b>dictionaries</b> called `all_videos_dictionaries`."
   ]
  },
  {
   "cell_type": "code",
   "execution_count": null,
   "metadata": {},
   "outputs": [],
   "source": []
  },
  {
   "cell_type": "markdown",
   "metadata": {},
   "source": [
    "### Difference between List of Lists vs. List of Dictionaries\n",
    "\n",
    "There is a key difference between these 2 ways of reading data from a file. \n",
    "\n",
    "When we want to access a value by using the <b>list of lists</b>, we <b>need to remember</b> which index belong to which column of data. \n",
    "\n",
    "With a <b>list of dictionaries</b>, we <b>do not need to remember</b> the index of the column but rather, just the column name itself.\n",
    "\n",
    "Let's say for example, you want to print all the titles in the file. Copy and paste the following example:\n",
    "```python\n",
    "    # this uses the lists\n",
    "    for video in all_videos_lists:\n",
    "        print(video[0])\n",
    "    \n",
    "    # this uses the dictionaries\n",
    "    for video in all_videos_dictionaries:\n",
    "        print(video['title'])\n",
    "```"
   ]
  },
  {
   "cell_type": "code",
   "execution_count": null,
   "metadata": {},
   "outputs": [],
   "source": []
  },
  {
   "cell_type": "markdown",
   "metadata": {},
   "source": [
    "##  Exploratory Data Analysis\n",
    "\n",
    "In any Data Science project, the first step is to perform <b>Exploratory Data Analysis</b> (EDA) on the dataset. EDA is the first step for us to begin understanding the dataset and in doing so, answer some of the common assumptions we have of our data so that we are able to understand how to better prepare it for further analysis.\n",
    "\n",
    "We will be doing the following steps in our EDA:\n",
    "\n",
    "1. Read File\n",
    "2. Preview Data\n",
    "3. Clean Data\n",
    "4. Explore with Questions\n",
    "5. Visualise\n",
    "\n",
    "## Lazada Dataset\n",
    "<img src=\"https://s.yimg.com/ny/api/res/1.2/_qLpCqbdgKq0nnY3UDmI2w--~A/YXBwaWQ9aGlnaGxhbmRlcjtzbT0xO3c9NzQ0O2g9Mzcy/http://media.zenfs.com/en/homerun/feed_manager_auto_publish_494/87db61c8ea6d6fcc4122595bb0c0c2c5\" width=\"400\">\n",
    "\n",
    "This dataset has been source from the Lazada marketplace, where we have above <b>36 thousand rows</b> of data to work with. <b>Each row represents one product</b>. Opening this file in Microsoft Excel would look like this:\n",
    "\n",
    "<img src=\"https://i.imgur.com/E0QJP92.png\">\n",
    "\n",
    "We're going to do some simple analysis with these products and see what we can come up with."
   ]
  },
  {
   "cell_type": "markdown",
   "metadata": {},
   "source": [
    "<h2>Step 1: Reading the Lazada Dataset </h2>\n",
    "\n",
    "### Practice 1\n",
    "Just as you did in your recap, read the `lazada_data.csv` file in to a list of dictionaries and store them in to a variable called `lazada_data`."
   ]
  },
  {
   "cell_type": "code",
   "execution_count": null,
   "metadata": {},
   "outputs": [],
   "source": []
  },
  {
   "cell_type": "markdown",
   "metadata": {},
   "source": [
    "<h2>Step 2: Preview Data </h2>\n",
    "\n",
    "As you might have seen in all the lab exercises, we've always previewed the data. This step is crucial because it allows us to first visually understand what is going on with our data, if there is any problems with it and if so, how we can go about tackling these issues.\n",
    "\n",
    "Previewing this data would give you something that looks like this:\n",
    "```python\n",
    "    {\n",
    "        'country': 'my',\n",
    "        'sku_id': 'AD674FAASTLXANMY',\n",
    "        'title': 'Adana Gallery Suri Square Hijab – Light Pink',\n",
    "        'category_lvl_1': 'Fashion',\n",
    "        'category_lvl_2': 'Women',\n",
    "        'category_lvl_3': 'Muslim Wear',\n",
    "        'short_description': '<ul><li>Material : Non sheer shimmer chiffon</li><li>Sizes : 52 x 52 inches OR 56 x 56 inches</li><li>Cut\\xa0with curved ends</li></ul>',\n",
    "        'price': '49',\n",
    "        'product_type': 'local'\n",
    "    }\n",
    "```"
   ]
  },
  {
   "cell_type": "code",
   "execution_count": null,
   "metadata": {},
   "outputs": [],
   "source": []
  },
  {
   "cell_type": "markdown",
   "metadata": {},
   "source": [
    "<h2>Step 3: Data Cleaning </h2>\n",
    "As you've might observed, after previewing the data, we've realised some issues. In any Data Science project, data cleaning can take up to <b>80%</b> of the project time because of the numerous special cases you need to be aware of and <i>clean</i> them up for you to be able to use them.\n",
    "\n",
    "After previewing the data, we've observed the following issues with the Lazada dataset. They are the following:\n",
    "\n",
    "1. The `price` column is a `string`\n",
    "2. The `title` column has special characters like ()<> and so on\n",
    "3. The `short_description` column has special characters like ()<> and so on\n",
    "\n",
    "#### Practice 2\n",
    "We're going to practice some simple data cleaning. The other 2 issues have been resolved for you. Your job is simple:\n",
    "\n",
    "1. Clean the `price` column\n",
    "\n",
    "Our primary goal is to turn what we saw in the preview earlier and turn our dictionaries to this :\n",
    "```python\n",
    "    {\n",
    "        'country': 'my', \n",
    "        'sku_id': 'AD674FAASTLXANMY', \n",
    "        'title': 'Adana Gallery Suri Square Hijab   Light Pink', \n",
    "        'category_lvl_1': 'Fashion', \n",
    "        'category_lvl_2': 'Women', \n",
    "        'category_lvl_3': 'Muslim Wear', \n",
    "        'short_description': 'Material : Non sheer shimmer chiffon  Sizes : 52 x 52 inches OR 56 x 56 inches  Cut\\xa0with curved ends', \n",
    "        'price': 49.0, \n",
    "        'product_type': 'local'\n",
    "    }\n",
    "```"
   ]
  },
  {
   "cell_type": "code",
   "execution_count": null,
   "metadata": {},
   "outputs": [],
   "source": [
    "import re\n",
    "\n",
    "#Clean the product dictionary\n",
    "for product in lazada_data:\n",
    "    \n",
    "    #Convert Price from String to Float\n",
    "    # ---- Code below -----\n",
    "    \n",
    "    # ---- Code above -----\n",
    "    \n",
    "    #Remove non-alphanumeric characters in title\n",
    "    text = re.sub('[^0-9a-zA-Z]',' ',product['title'])\n",
    "    \n",
    "    #Alternatively we can do the following\n",
    "    #regex = re.compile('[^0-9a-zA-Z]')\n",
    "    #text = regex.sub(' ',product['title'])\n",
    "    \n",
    "    product['title'] = text.strip()\n",
    "    \n",
    "    #Remove HTML codes in description\n",
    "    regex = re.compile('<.*?>')\n",
    "    text = regex.sub(' ',product['short_description'])\n",
    "    product['short_description'] = text.strip()\n",
    "\n",
    "print(lazada_data[0])"
   ]
  },
  {
   "cell_type": "markdown",
   "metadata": {},
   "source": [
    "<h2>Step 4: Explore with Questions </h2>\n",
    "\n",
    "Now that our data is cleaned, we can ask some simple questions of our data. Recall, our dataset now looks like this for 1 item:\n",
    "```python\n",
    "    {\n",
    "        'country': 'my', \n",
    "        'sku_id': 'AD674FAASTLXANMY', \n",
    "        'title': 'Adana Gallery Suri Square Hijab   Light Pink', \n",
    "        'category_lvl_1': 'Fashion', \n",
    "        'category_lvl_2': 'Women', \n",
    "        'category_lvl_3': 'Muslim Wear', \n",
    "        'short_description': 'Material : Non sheer shimmer chiffon  Sizes : 52 x 52 inches OR 56 x 56 inches  Cut\\xa0with curved ends', \n",
    "        'price': 49.0, \n",
    "        'product_type': 'local'\n",
    "    }\n",
    "```\n",
    "\n",
    "### Practice 3\n",
    "#### Question 1\n",
    "\n",
    "How many items are more than $50?\n",
    "\n",
    "<b>Expected Output:</b>\n",
    "\n",
    "    The number of items with price greater than $50 is: 21135"
   ]
  },
  {
   "cell_type": "code",
   "execution_count": null,
   "metadata": {},
   "outputs": [],
   "source": [
    "num_items_greater_than_50 = 0\n",
    "\n",
    "#write your code here below\n"
   ]
  },
  {
   "cell_type": "markdown",
   "metadata": {},
   "source": [
    "#### Question 2\n",
    "\n",
    "How many items are listed in <b>Singapore</b>, <b>Malaysia</b>, <b>Phillippines</b>?\n",
    "\n",
    "\n",
    "<b>Expected Output:</b>\n",
    "\n",
    "    SG:  8638\n",
    "    MY:  16413\n",
    "    PH:  11232\n",
    "    "
   ]
  },
  {
   "cell_type": "code",
   "execution_count": null,
   "metadata": {},
   "outputs": [],
   "source": [
    "sg_items = 0\n",
    "my_items = 0\n",
    "ph_items = 0\n",
    "\n",
    "#write your code here below\n"
   ]
  },
  {
   "cell_type": "markdown",
   "metadata": {},
   "source": [
    "#### Question 3\n",
    "\n",
    "For the `category_1` of `Fashion`, how many items are for `Men` and how many items are for `Women`?\n",
    "\n",
    "<b>Expected Output:</b>\n",
    "\n",
    "    Male Fashion: 1609\n",
    "    Women Fashion: 3944\n",
    "    "
   ]
  },
  {
   "cell_type": "code",
   "execution_count": null,
   "metadata": {},
   "outputs": [],
   "source": [
    "fashion_men = 0\n",
    "fashion_women = 0\n",
    "\n",
    "#write your code here below\n"
   ]
  },
  {
   "cell_type": "markdown",
   "metadata": {},
   "source": [
    "<h2>Step 5: Visualise </h2>\n",
    "\n",
    "Visualisations is a powerful tool in understanding. Provides us with a visual representation to some of the answers we might have of our data. Some of the common visualistions we can use are:\n",
    "\n",
    "1. Bar Charts\n",
    "2. Scatter Plots\n",
    "3. Histogram \n",
    "\n",
    "and many more...\n",
    "\n",
    "In order to do any of these visualisations, we need to prepare the data we need for these.\n",
    "\n",
    "### Practice 4\n",
    "\n",
    "#### Question 1\n",
    "Using counting with dictionaries, find the number of items `category_lvl_1` items there are in Singapore and store it in `SG_Products`.\n",
    "\n",
    "<b>Expected Output:</b>\n",
    "   \n",
    "       {\n",
    "           'Computers & Laptops': 698,\n",
    "           'TV Audio / Video Gaming & Wearables': 593,\n",
    "           'Fashion': 1352,\n",
    "           'Mobiles & Tablets': 1407,\n",
    "           'Health & Beauty': 1010,\n",
    "           'Home & Living': 1563,\n",
    "           'Watches Sunglasses Jewellery': 1069,\n",
    "           'Home Appliances': 434,\n",
    "           'Cameras': 512\n",
    "       }"
   ]
  },
  {
   "cell_type": "code",
   "execution_count": null,
   "metadata": {},
   "outputs": [],
   "source": []
  },
  {
   "cell_type": "markdown",
   "metadata": {},
   "source": [
    "#### Question 2\n",
    "Using what you've done in Question 1, apply this for both Malaysia and Phillippines and store them in `MY_Products` and `PH_Products`, respectively."
   ]
  },
  {
   "cell_type": "code",
   "execution_count": null,
   "metadata": {},
   "outputs": [],
   "source": []
  },
  {
   "cell_type": "markdown",
   "metadata": {},
   "source": [
    "### Bar Charts\n",
    "To begin any visualisation, we need to use external libraries to help us. To do so, we would need to use the `matplotlib` library. \n",
    "\n",
    "A good tool to compare between categories is to use bar charts. Below would be an example of such a barchart"
   ]
  },
  {
   "cell_type": "code",
   "execution_count": null,
   "metadata": {},
   "outputs": [],
   "source": [
    "import matplotlib.pyplot as plt\n",
    "%matplotlib inline\n"
   ]
  },
  {
   "cell_type": "markdown",
   "metadata": {},
   "source": [
    "### Practice 5\n",
    "#### Question 1\n",
    "Apply what you've learnt from the example for the products from <b>Malaysia</b>."
   ]
  },
  {
   "cell_type": "code",
   "execution_count": null,
   "metadata": {},
   "outputs": [],
   "source": [
    "#Write your code below\n"
   ]
  },
  {
   "cell_type": "markdown",
   "metadata": {},
   "source": [
    "#### Question 2\n",
    "Apply what you've learnt from the example for the products from <b>Phillippines</b>."
   ]
  },
  {
   "cell_type": "code",
   "execution_count": null,
   "metadata": {},
   "outputs": [],
   "source": [
    "#Write your code below\n"
   ]
  },
  {
   "cell_type": "code",
   "execution_count": null,
   "metadata": {},
   "outputs": [],
   "source": [
    "def product_sorter(a_dictionary):\n",
    "    result = {}\n",
    "    for key in sorted(a_dictionary):\n",
    "        result[key] = a_dictionary[key]\n",
    "    return result"
   ]
  },
  {
   "cell_type": "markdown",
   "metadata": {},
   "source": [
    "### Clustered Bar Charts\n",
    "A good tool for comparing between categories side-by-side and distinguished by individual categories would be to use clustered bar charts. Below is an example done for you."
   ]
  },
  {
   "cell_type": "code",
   "execution_count": null,
   "metadata": {
    "scrolled": true
   },
   "outputs": [],
   "source": [
    "import matplotlib.pyplot as plt\n",
    "import numpy as np\n",
    "%matplotlib inline\n",
    "N = 9 # Num of categories\n",
    "ind = np.arange(N)  # the x locations for the groups\n",
    "width = 0.25       # the width of the bars\n",
    "\n",
    "#sorts the product in alphabetical order\n",
    "SG_Products = product_sorter(SG_Products)\n",
    "MY_Products = product_sorter(MY_Products)\n",
    "PH_Products = product_sorter(PH_Products)\n",
    "\n",
    "fig, ax = plt.subplots()\n",
    "#Plot for SG\n",
    "rects1 = ax.barh(ind, list(SG_Products.values()), width,   color='r')\n",
    "rects2 = ax.barh(ind+width,  list(MY_Products.values()),width,  color='g')\n",
    "rects3 = ax.barh(ind+width+width, list(PH_Products.values()),width, color='b')\n",
    "\n",
    "# add some text for labels, title and axes ticks\n",
    "ax.set_xlabel('Number of Products')\n",
    "ax.set_title('Product Distributions by Country')\n",
    "ax.set_yticks(ind)\n",
    "ax.set_yticklabels(MY_Products.keys(),rotation='horizontal')\n",
    "\n",
    "ax.legend((rects1[0], rects2[0],rects3[0]), ('SG', 'MY', 'PH'))\n",
    "\n",
    "plt.show()"
   ]
  },
  {
   "cell_type": "markdown",
   "metadata": {},
   "source": [
    "### Practice 6\n",
    "Using what we've learnt earlier, let's apply this to another question, this time using the `ax.bar()` instead. \n",
    "\n",
    "<b>Let's compare between countries, the number of products for `Female` and `Male`, distinguished by country.</b>\n",
    "\n",
    "<b>Expected Output:</b>\n",
    "\n",
    "<img src=\"https://i.imgur.com/H26KoLL.png\">"
   ]
  },
  {
   "cell_type": "code",
   "execution_count": null,
   "metadata": {},
   "outputs": [],
   "source": [
    "Women_Product_Counts = {'sg':0,'my':0,'ph':0}\n",
    "Men_Product_Counts = {'sg':0,'my':0,'ph':0}\n",
    "\n",
    "for product in lazada_data:\n",
    "    if product['country'] == 'sg' and product['category_lvl_1']=='Fashion':\n",
    "        if product['category_lvl_2']=='Women':\n",
    "            Women_Product_Counts['sg'] = Women_Product_Counts['sg'] + 1\n",
    "        elif product['category_lvl_2']=='Men':\n",
    "            Men_Product_Counts['sg'] = Men_Product_Counts['sg'] + 1\n",
    "    elif product['country'] == 'my' and product['category_lvl_1']=='Fashion':\n",
    "        if product['category_lvl_2']=='Women':\n",
    "            Women_Product_Counts['my'] = Women_Product_Counts['my'] + 1\n",
    "        elif product['category_lvl_2']=='Men':\n",
    "            Men_Product_Counts['my'] = Men_Product_Counts['my'] + 1\n",
    "    elif product['country'] == 'ph' and product['category_lvl_1']=='Fashion':\n",
    "        if product['category_lvl_2']=='Women':\n",
    "            Women_Product_Counts['ph'] = Women_Product_Counts['ph'] + 1\n",
    "        elif product['category_lvl_2']=='Men':\n",
    "            Men_Product_Counts['ph'] = Men_Product_Counts['ph'] + 1\n",
    "\n",
    "print(Women_Product_Counts)\n",
    "print(Men_Product_Counts)\n",
    "\n",
    "#========== Plot the charts ============\n"
   ]
  },
  {
   "cell_type": "markdown",
   "metadata": {},
   "source": [
    "### WordCloud\n",
    "WordCloud are one of the more interesting ways to show texts data, it shows the most commonly occuring word in the dataset as the biggest and so on.\n",
    "\n",
    "<p>Now, let's create a wordcloud to show the different products which are offered</p>\n",
    "\n",
    "Tip: If the wordcloud doesn't run properly for you, try going to the following link to look for solutions. This wordcloud library is inherently unstable, hence its common for it to not work on certain platforms. Link: https://stackoverflow.com/questions/41409570/cant-install-wordcloud-in-python-anaconda"
   ]
  },
  {
   "cell_type": "code",
   "execution_count": null,
   "metadata": {},
   "outputs": [],
   "source": [
    "#!pip install WordCloud\n",
    "\n",
    "Women_Titles = ''\n",
    "Men_Titles = ''\n",
    "\n",
    "#This iterates through all the lazada data and create a very long string of the product titles\n",
    "for product in lazada_data:\n",
    "    if product['category_lvl_1']=='Fashion' and product['category_lvl_2']=='Women':\n",
    "        Women_Titles = Women_Titles + product['title']\n",
    "    elif product['category_lvl_1']=='Fashion' and product['category_lvl_2']=='Men':\n",
    "        Men_Titles = Men_Titles+ product['title']\n",
    "\n",
    "#Don't understand what is going on? Then just print the output\n",
    "#print(Women_Titles)\n",
    "#print(Men_Titles)\n",
    "\n",
    "from wordcloud import WordCloud, STOPWORDS\n",
    "\n",
    "plt.figure(figsize=(15,8))\n",
    "Women_Title_Wordcloud = WordCloud(width=800, \n",
    "                                  height=400,\n",
    "                                  background_color=\"black\", \n",
    "                                  max_words=100,\n",
    "                                  relative_scaling = 1.0).generate(Women_Titles) #input string here\n",
    "plt.imshow(Women_Title_Wordcloud)\n",
    "plt.axis(\"off\")\n",
    "plt.show()"
   ]
  },
  {
   "cell_type": "markdown",
   "metadata": {},
   "source": [
    "#### Applying WordCloud to `Men` products"
   ]
  },
  {
   "cell_type": "code",
   "execution_count": null,
   "metadata": {},
   "outputs": [],
   "source": []
  }
 ],
 "metadata": {
  "kernelspec": {
   "display_name": "Python 3",
   "language": "python",
   "name": "python3"
  },
  "language_info": {
   "codemirror_mode": {
    "name": "ipython",
    "version": 3
   },
   "file_extension": ".py",
   "mimetype": "text/x-python",
   "name": "python",
   "nbconvert_exporter": "python",
   "pygments_lexer": "ipython3",
   "version": "3.6.5"
  }
 },
 "nbformat": 4,
 "nbformat_minor": 2
}
