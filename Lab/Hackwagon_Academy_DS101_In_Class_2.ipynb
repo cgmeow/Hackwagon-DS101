{
 "cells": [
  {
   "cell_type": "markdown",
   "metadata": {},
   "source": [
    "<img src=\"https://i2.wp.com/hackwagon.com/wp-content/uploads/2017/02/Logo-Web-Export.png?ssl=1\" width=200/>"
   ]
  },
  {
   "cell_type": "markdown",
   "metadata": {},
   "source": [
    "<h1> <center> Hackwagon Academy: DS101 In-Class Practice Lesson 2 </center></h1>\n",
    "<h2> <center> If-Else </center></h2>\n",
    "\n",
    "<i>Prepared by @jonchewyl</i>\n",
    "\n",
    "<h2> Learning Objectives </h2>\n",
    "\n",
    "1. Conditional and relational operators\n",
    "2. Understand the `if-elif-else` construct\n",
    "3. The need for indentation\n",
    "4. Housing for each `if-else` statements\n",
    "5. Nested `if-else` statements\n",
    "6. The need for `try except` implementation"
   ]
  },
  {
   "cell_type": "markdown",
   "metadata": {},
   "source": [
    "<hr></hr>\n",
    "<h3> Relational & Conditional Operators </h3>\n",
    "\n",
    "| Operators | Description|     \n",
    "    |-|-|\n",
    "    | > | Greater Than |\n",
    "    | <  | Lesser Than |\n",
    "    | >=| Greater Than or Equals |\n",
    "    | <=| Lesser Than or Equals |\n",
    "    | ==| Equals To |\n",
    "    | !=| Not Equals | \n"
   ]
  },
  {
   "cell_type": "markdown",
   "metadata": {},
   "source": [
    "#### IN-CLASS EXAMPLE: EVALUATE - RELATIONAL"
   ]
  },
  {
   "cell_type": "code",
   "execution_count": 2,
   "metadata": {},
   "outputs": [],
   "source": [
    "#Given these variables\n",
    "a = 100\n",
    "b = 5\n",
    "c = -5\n",
    "d = 5\n",
    "\n",
    "#Evaluate these expressions\n",
    "# print(a > b)\n",
    "# print(c <= d)\n",
    "# print(a == b + d)\n",
    "# print(c != b)"
   ]
  },
  {
   "cell_type": "markdown",
   "metadata": {},
   "source": [
    "#### IN-CLASS EXAMPLE: EVALUATE - CONDITIONAL\n",
    "\n",
    "<center>Truth Table</center>\n",
    "\n",
    "\n",
    "| A | B | A `and` B | A `or` B |\n",
    "| - | - | - | - |\n",
    "| `False` | `False`| `False` | `False`|\n",
    "| `False` | `True`| `False` | `True`|\n",
    "| `True` | `False`| `False` | `True`|\n",
    "| `True` | `True`| `True` | `True`|\n",
    "\n",
    "##### True or False or True ???? "
   ]
  },
  {
   "cell_type": "code",
   "execution_count": null,
   "metadata": {},
   "outputs": [],
   "source": [
    "False or False"
   ]
  },
  {
   "cell_type": "code",
   "execution_count": null,
   "metadata": {},
   "outputs": [],
   "source": [
    "True or False"
   ]
  },
  {
   "cell_type": "code",
   "execution_count": null,
   "metadata": {},
   "outputs": [],
   "source": [
    "True and True"
   ]
  },
  {
   "cell_type": "code",
   "execution_count": null,
   "metadata": {},
   "outputs": [],
   "source": [
    "True and True and False"
   ]
  },
  {
   "cell_type": "code",
   "execution_count": 1,
   "metadata": {},
   "outputs": [],
   "source": [
    "#Given these variables\n",
    "a = 100\n",
    "b = 5\n",
    "c = -5\n",
    "d = 5\n",
    "\n",
    "#Evaluate these expressions\n",
    "# print(a > b and b > c)\n",
    "# print(a > b and b < c)\n",
    "# print(a > b or b < c)\n",
    "# print(c == b or 2*b == d - c)  "
   ]
  },
  {
   "cell_type": "markdown",
   "metadata": {},
   "source": [
    "### IF-ELSE \n",
    "\n",
    "\n",
    "\n",
    "The concept of an `if-else` statement is simple. Based on the answer to a True/False question (`bool`), execute code differently.\n",
    "\n",
    "In layman terms, think of it like a gate that swings to the left or the right depending on whether the answer is true / false\n",
    "\n",
    "<img src=\"https://i.imgur.com/1dU9MX9.png\" width=\"300\"/>\n",
    "\n",
    "\n",
    "### Syntax of an If-Else Block\n",
    "\n",
    "<img src=\"https://i.imgur.com/STZX0nw.png\" width=\"500\" />\n",
    "\n",
    "**Things to Take Note**\n",
    "\n",
    "* The colons after the `if` and `else` lines are **COMPULSORY**\n",
    "* Any code that is part of the `if else` statement is **indented** by 4 spaces\n",
    "\n",
    "**Example**\n",
    "    "
   ]
  },
  {
   "cell_type": "markdown",
   "metadata": {},
   "source": [
    "#### IN-CLASS EXAMPLE: EVALUATE - RELATIONAL"
   ]
  },
  {
   "cell_type": "code",
   "execution_count": null,
   "metadata": {},
   "outputs": [],
   "source": [
    "see_you_again = 5000\n",
    "despacito = 15000\n",
    "\n",
    "if see_you_again < despacito:\n",
    "    print(\"See You Again has less view!\")\n"
   ]
  },
  {
   "cell_type": "markdown",
   "metadata": {},
   "source": [
    "#### IN-CLASS EXAMPLE: RELATIONAL & CONDITIONAL"
   ]
  },
  {
   "cell_type": "code",
   "execution_count": null,
   "metadata": {},
   "outputs": [],
   "source": [
    "see_you_again = 5000\n",
    "despacito = 15000\n",
    "havana = 3000\n",
    "\n",
    "if see_you_again < despacito and havana < despacito:\n",
    "    print(\"despacito has the most number of views!\")\n"
   ]
  },
  {
   "cell_type": "markdown",
   "metadata": {},
   "source": [
    "#### IN-CLASS PRACTICE: IF-ELSE CONSTRUCT + CONDITIONAL OPERATORS\n"
   ]
  },
  {
   "cell_type": "markdown",
   "metadata": {},
   "source": [
    "By combining the `else` syntax with the above codes, we can actually create alternate pathways as mentioned in the slides. Let's look at an extension of a similar question which we worked on earlier\n",
    "\n",
    "The following are details of a youtube video, make use of conditions to check:\n",
    "1. Check the video is from `Singapore` `and` the views are more than `150000`. <br>\n",
    "    If it’s true, print out that `\"This is Singapore’s most popular video.\"` <br><br>\n",
    "2. Else, print out that `\"This is another normal video!\"`</b>"
   ]
  },
  {
   "cell_type": "code",
   "execution_count": null,
   "metadata": {},
   "outputs": [],
   "source": [
    "#Write your code below\n",
    "country = \"Singapore\"\n",
    "views = '2390'\n",
    "\n",
    "if country == 'Singapore' and int(views)> 150000:\n",
    "    print(\"This is Singapore's most popular video.\")\n",
    "else:\n",
    "    print(\"This is another normal video!\")"
   ]
  },
  {
   "cell_type": "markdown",
   "metadata": {},
   "source": [
    "#### IF-ELIF-ELSE CONSTRUCT\n",
    "\n",
    "We can also add multiple conditions with a `elif` statement.\n",
    "\n",
    "<b>Example</b>"
   ]
  },
  {
   "cell_type": "code",
   "execution_count": null,
   "metadata": {},
   "outputs": [],
   "source": []
  },
  {
   "cell_type": "markdown",
   "metadata": {},
   "source": [
    "### UNDERSTANDING \"BLOCK\"ING OF CODES\n",
    "\n",
    "With decision controls, such as if-else, and in later part of the course, loops, we will be writing <b><i>blocks</i></b> of code within our notebooks. It is important to understand how are the codes segmented. Look at the following charts as examples.\n",
    "\n",
    "<img src=\"https://i.imgur.com/9H174vs.png\" width=200> "
   ]
  },
  {
   "cell_type": "code",
   "execution_count": null,
   "metadata": {},
   "outputs": [],
   "source": [
    "if 10 > 1:\n",
    "    print(\"a\")\n",
    "elif 20 < 2:\n",
    "    print(\"b\")\n",
    "else:\n",
    "    print(\"c\")"
   ]
  },
  {
   "cell_type": "markdown",
   "metadata": {},
   "source": [
    "<img src=\"https://i.imgur.com/wj9dDfD.png\" width=200>"
   ]
  },
  {
   "cell_type": "code",
   "execution_count": null,
   "metadata": {},
   "outputs": [],
   "source": [
    "if 10 > 1:\n",
    "    print(\"a\")\n",
    "    if 10 < 1:\n",
    "        print(\"b\")\n",
    "    else:\n",
    "        print(\"c\")\n",
    "    print(\"d\")\n",
    "else:\n",
    "    print(\"e\")"
   ]
  },
  {
   "cell_type": "markdown",
   "metadata": {},
   "source": [
    "#### IN-CLASS PRACTICE: CALCULATING INFLUENCER PAY\n",
    "- The YouTube influencer management team wants to automate the payment to the influencers based on monthly views on their channel. The influencer monthly payment rules as follow:\n",
    "    - The influencer must have at least 50,000 views in the month to qualify for a payment. \n",
    "    - The influencer will be paid \\$0.01 per view if he/she has between 50,000 to 100,000 views.\n",
    "    - If the influencer has more than 100,000 he/she will be paid \\$0.05 per views <br><br>\n",
    "    \n",
    "- Write a Python program to calculate the pay for the below influencers and check your answer by taking the value out for each influencer based on the dictionary below:\n",
    "```python    \n",
    "    influencers = {\n",
    "        \"Xiaxue\" : 245654,\n",
    "        \"Roy\": 823,\n",
    "        \"BrownieTv\": 53233\n",
    "    }\n",
    "```\n",
    "\n",
    "<img src=\"https://i.imgur.com/ukCBcV1.png\" width=400>"
   ]
  },
  {
   "cell_type": "code",
   "execution_count": 4,
   "metadata": {},
   "outputs": [
    {
     "name": "stdout",
     "output_type": "stream",
     "text": [
      "12282.7\n"
     ]
    }
   ],
   "source": [
    "influencers = {\n",
    "        \"Xiaxue\" : 245654,\n",
    "        \"Roy\": 823,\n",
    "        \"BrownieTv\": 53233\n",
    "}\n",
    "\n",
    "views_to_check = influencers['Xiaxue']\n",
    "\n",
    "#code below\n",
    "if int(views_to_check) < 50000:\n",
    "    payment = 0\n",
    "elif int(views_to_check) >= 50000 and int(views_to_check) <= 100000:\n",
    "    payment = int(views_to_check)*0.01\n",
    "else:\n",
    "    payment = int(views_to_check)*0.05\n",
    "\n",
    "print(payment)"
   ]
  },
  {
   "cell_type": "markdown",
   "metadata": {},
   "source": [
    "### Nested Decisions \n",
    "There are instances where you need to ask “follow-up” questions after clearing the first condition. Python allows you to evaluate “follow-up” conditions through the nesting of one decision construct in another.\n",
    "\n",
    "You can put any code inside an `if-else` statement, even another `if-else`. This can be used for flow charts that are more than 1 level deep.\n",
    "\n",
    "**Example**\n",
    "\n",
    "<img src=\"https://i.imgur.com/OliUH1O.png\" width=\"400\"/>"
   ]
  },
  {
   "cell_type": "markdown",
   "metadata": {},
   "source": [
    "#### IN-CLASS EXAMPLE: SINGLE LAYER VS. NESTED LAYERS"
   ]
  },
  {
   "cell_type": "code",
   "execution_count": null,
   "metadata": {},
   "outputs": [],
   "source": [
    "# Single Layer Example\n",
    "name = \"Ben\"\n",
    "status = \"Senior\"\n",
    "# Nested Layer Example\n",
    "if status != 'Senior':\n",
    "    print(\"This is not a Senior\")\n",
    "    if income <= 40000:\n",
    "        print(\"Give 300\")\n",
    "    else:\n",
    "        print(\"Give 200\")\n",
    "else:\n",
    "    print(\"This is a senior\")\n",
    "    if income <= 60000:\n",
    "        print(\"Give 1000\")\n",
    "    else:\n",
    "        print(\"Give 500\")"
   ]
  },
  {
   "cell_type": "markdown",
   "metadata": {},
   "source": [
    "#### IN-CLASS PRACTICE: DEBUGGING YOUTUBE INFLUENCER BONUS\n",
    "- As part of a campaign to support healthy living, the YouTube influencer management team wants to give a special bonus to influencer who posted videos which support healthy living. The bonus are as follow:\n",
    "    - Channels with 50,000 views or less get 0.01 dollar per view\n",
    "    - Channels with more than 50,000 views get 0.01 dollar per view in the first 50,000 views and 0.10 dollar per view for subsequent views.\n",
    "- Roy is a YouTube influencer and has the following stats:\n",
    "    - has_healthy_living_video = True\n",
    "    - channel_views = 85000\n",
    "- Use a nested decision to calculate how much bonus Roy should get"
   ]
  },
  {
   "cell_type": "code",
   "execution_count": 5,
   "metadata": {},
   "outputs": [
    {
     "name": "stdout",
     "output_type": "stream",
     "text": [
      "4000.0\n"
     ]
    }
   ],
   "source": [
    "has_healthy_living_video = True\n",
    "channel_views = 85000\n",
    "\n",
    "if has_healthy_living_video:\n",
    "    if channel_views < 50000:\n",
    "        print('channel_views' * 0.01)\n",
    "    else:\n",
    "        print(50000*0.01 + (channel_views - 50000)* 0.1)    "
   ]
  },
  {
   "cell_type": "markdown",
   "metadata": {},
   "source": [
    "#### TRY EXCEPT CONCEPT (SELF-STUDY)\n",
    "One of the common thing we do in data analytics/science is to convert data types during “data cleaning”. The following codes will give an error, write a try-except code to catch this error:"
   ]
  },
  {
   "cell_type": "code",
   "execution_count": null,
   "metadata": {},
   "outputs": [],
   "source": [
    "'''\n",
    "views = 'one hundred and ten'\n",
    "views = int(views)\n",
    "'''\n",
    "\n",
    "try:\n",
    "    views = 'one hundred and ten'\n",
    "    views = int(views)\n",
    "    print(\"There is a total view of: \" + str(views))\n",
    "    \n",
    "except:\n",
    "    print(\"There is some error in the data cleaning code!\")"
   ]
  }
 ],
 "metadata": {
  "kernelspec": {
   "display_name": "Python 3",
   "language": "python",
   "name": "python3"
  },
  "language_info": {
   "codemirror_mode": {
    "name": "ipython",
    "version": 3
   },
   "file_extension": ".py",
   "mimetype": "text/x-python",
   "name": "python",
   "nbconvert_exporter": "python",
   "pygments_lexer": "ipython3",
   "version": "3.6.5"
  }
 },
 "nbformat": 4,
 "nbformat_minor": 2
}
