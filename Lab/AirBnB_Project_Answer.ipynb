{
 "cells": [
  {
   "cell_type": "markdown",
   "metadata": {},
   "source": [
    "# AirBnB Project\n"
   ]
  },
  {
   "cell_type": "markdown",
   "metadata": {},
   "source": [
    "## Function 1: CSV File Reader\n",
    "Before you can even begin to perform any data analysis, the first thing you have to do is to read the data from CSV and store the data in a suitable python data structure. Make use of the methods learnt from the previous class to retrieve the data from the CSV file, and thereafter, store all the data in a list of dictionary. Each row of data that has been stored as a dictionary should be appended to a list.\n",
    "\n",
    "You may refer to the assignment document to see a sample of the expected data"
   ]
  },
  {
   "cell_type": "markdown",
   "metadata": {},
   "source": [
    "## Import the CSV library, open and read the data file\n",
    "\n",
    "> __Note:__ If you are stuck, check out the first code cell of the YouTube lab! That section uses the `csv` library to load the CSV-based data\n",
    "> \n",
    "> Remember, you are expected to read the data into a dictionary!"
   ]
  },
  {
   "cell_type": "markdown",
   "metadata": {},
   "source": [
    "<h2>Uploading the data to explore and see the data type</h2>"
   ]
  },
  {
   "cell_type": "code",
   "execution_count": 20,
   "metadata": {},
   "outputs": [
    {
     "name": "stdout",
     "output_type": "stream",
     "text": [
      "['room_id', 'survey_id', 'host_id', 'room_type', 'country', 'city', 'borough', 'neighborhood', 'reviews', 'overall_satisfaction', 'accommodates', 'bedrooms', 'bathrooms', 'price', 'minstay', 'last_modified', 'latitude', 'longitude', 'location']\n",
      "[['1133718', '1280', '6219420', 'Shared room', '', 'Singapore', '', 'MK03', '9', '4.5', '12', '1.0', '', '74.0', '', '2017-05-17 09:10:25.431659', '1.293354', '103.769226', '0101000020E6100000E84EB0FF3AF159409C69C2F693B1F43F'], ['3179080', '1280', '15295886', 'Shared room', '', 'Singapore', '', 'TS17', '15', '5.0', '12', '1.0', '', '77.0', '', '2017-05-17 09:10:24.216548', '1.310862', '103.858828', '0101000020E6100000E738B709F7F659403F1BB96E4AF9F43F'], ['15303457', '1280', '97053568', 'Shared room', '', 'Singapore', '', 'MK05', '0', '0.0', '14', '1.0', '', '60.0', '', '2017-05-17 09:10:16.969900', '1.333744', '103.764612', '0101000020E610000044882B67EFF0594093C7D3F20357F53F']]\n"
     ]
    }
   ],
   "source": [
    "#To import the CSV python package/library\n",
    "import csv\n",
    "\n",
    "#the title of the csv\n",
    "csv_path = \"data_airbnb.csv\"\n",
    "\n",
    "#read and open the file\n",
    "with open(csv_path, newline='', encoding='UTF-8') as f_obj:\n",
    "    \n",
    "    reader = csv.reader(f_obj)\n",
    "    \n",
    "    #Get the header of the datafile\n",
    "    header = next(reader)\n",
    "\n",
    "    #Convert all the data to a list\n",
    "    list_data = list(reader)\n",
    "    \n",
    "#print the header\n",
    "print(header)\n",
    "#print the first three rows of data\n",
    "print(list_data[0:3])\n"
   ]
  },
  {
   "cell_type": "markdown",
   "metadata": {},
   "source": [
    "<h2>First way of uploading data into a dictionary</h2>"
   ]
  },
  {
   "cell_type": "code",
   "execution_count": 21,
   "metadata": {},
   "outputs": [
    {
     "name": "stdout",
     "output_type": "stream",
     "text": [
      "{'room_id': '1133718', 'survey_id': '1280', 'host_id': '6219420', 'room_type': 'Shared room', 'country': '', 'city': 'Singapore', 'borough': '', 'neighborhood': 'MK03', 'reviews': '9', 'overall_satisfaction': '4.5', 'accommodates': '12', 'bedrooms': '1.0', 'bathrooms': '', 'price': '74.0', 'minstay': '', 'last_modified': '2017-05-17 09:10:25.431659', 'latitude': '1.293354', 'longitude': '103.769226', 'location': '0101000020E6100000E84EB0FF3AF159409C69C2F693B1F43F'}\n",
      "7212\n"
     ]
    }
   ],
   "source": [
    "#Create an empty list\n",
    "dataList = []\n",
    "\n",
    "#Read the data into a file object\n",
    "with open(csv_path, newline='', encoding='UTF-8') as f_obj:\n",
    "    \n",
    "    #use the csv reader method to process the file\n",
    "    reader = csv.reader(f_obj)\n",
    "    \n",
    "    #Remove the header of the data\n",
    "    header = next(reader)\n",
    "    \n",
    "    #Iterate through the list of data\n",
    "    for row in reader:\n",
    "        \n",
    "        #Create an emppty dictionary\n",
    "        rowDict = {}\n",
    "        \n",
    "        #For every row of data, we set the header as the key and the data as the corresponding value pair\n",
    "        for i in range (0,len(header)):\n",
    "            \n",
    "            \n",
    "            rowDict[header[i]] = row[i]\n",
    "        \n",
    "        #Add the full dictionary into the list of data\n",
    "        dataList.append(rowDict)\n",
    "\n",
    "#Print first row of data\n",
    "print(dataList[0])\n",
    "\n",
    "#Examine the number of rows of data we have\n",
    "print(len(dataList))"
   ]
  },
  {
   "cell_type": "markdown",
   "metadata": {},
   "source": [
    "<h2>Faster way of uploading data into a list of dictionary</h2>"
   ]
  },
  {
   "cell_type": "code",
   "execution_count": 22,
   "metadata": {},
   "outputs": [
    {
     "name": "stdout",
     "output_type": "stream",
     "text": [
      "OrderedDict([('room_id', '1133718'), ('survey_id', '1280'), ('host_id', '6219420'), ('room_type', 'Shared room'), ('country', ''), ('city', 'Singapore'), ('borough', ''), ('neighborhood', 'MK03'), ('reviews', '9'), ('overall_satisfaction', '4.5'), ('accommodates', '12'), ('bedrooms', '1.0'), ('bathrooms', ''), ('price', '74.0'), ('minstay', ''), ('last_modified', '2017-05-17 09:10:25.431659'), ('latitude', '1.293354'), ('longitude', '103.769226'), ('location', '0101000020E6100000E84EB0FF3AF159409C69C2F693B1F43F')])\n"
     ]
    },
    {
     "data": {
      "text/plain": [
       "'Singapore'"
      ]
     },
     "execution_count": 22,
     "metadata": {},
     "output_type": "execute_result"
    }
   ],
   "source": [
    "\n",
    "with open('data_airbnb.csv', newline='', encoding=\"utf-8\") as file:\n",
    "    reader = csv.DictReader(file)\n",
    "    data = list(reader)\n",
    "    print(data[0])\n",
    "    \n",
    "data[0]['city']"
   ]
  },
  {
   "cell_type": "markdown",
   "metadata": {},
   "source": [
    "## Function 2: Descriptive Analytics Report Generation\n",
    "The data team at AirBnB wishes to find out the answers to a few simple questions on the existing rooms in Singapore. Your goal is manipulate the data you have stored in the list of dictionary to generate a report for the following questions:\n"
   ]
  },
  {
   "cell_type": "markdown",
   "metadata": {},
   "source": [
    "### 1.What are the *top 10 priciest rooms in Singapore*? List the `room_id` as well as `price`.\n",
    "\n",
    "> __Note:__ Remember to use appropriate variable data types!\n",
    ">\n",
    "> Sorting `['9', '10', '91', '100']` vs sorting `[9, 10, 91, 100]` will give you quite different results!"
   ]
  },
  {
   "cell_type": "markdown",
   "metadata": {},
   "source": [
    "<h2>First, check the format of the data</h2>\n",
    "<p>Remember your youtube lab where all data read from csv into python was in string format?</p>"
   ]
  },
  {
   "cell_type": "code",
   "execution_count": 23,
   "metadata": {},
   "outputs": [
    {
     "name": "stdout",
     "output_type": "stream",
     "text": [
      "74.0\n",
      "<class 'str'>\n"
     ]
    }
   ],
   "source": [
    "#Check the type for price \n",
    "print(dataList[0]['price'])\n",
    "print(type(dataList[0]['price']))"
   ]
  },
  {
   "cell_type": "markdown",
   "metadata": {},
   "source": [
    "<h2>Next, We convert the price of of the rooms from str to float type</h2>\n"
   ]
  },
  {
   "cell_type": "code",
   "execution_count": 24,
   "metadata": {},
   "outputs": [
    {
     "name": "stdout",
     "output_type": "stream",
     "text": [
      "74.0\n",
      "<class 'float'>\n"
     ]
    }
   ],
   "source": [
    "#Convert price from str to float\n",
    "for i in range(0,len(dataList)):\n",
    "    dataList[i]['price'] = float(dataList[i]['price'])\n",
    "    \n",
    "#check if the conversion is done properly    \n",
    "print(dataList[0]['price'])\n",
    "print(type(dataList[0]['price']))\n",
    "\n",
    "#Yay it is"
   ]
  },
  {
   "cell_type": "markdown",
   "metadata": {},
   "source": [
    "<h2>Now for the super smart method of finding the rooms with the top 10 price!</h2>"
   ]
  },
  {
   "cell_type": "code",
   "execution_count": 25,
   "metadata": {},
   "outputs": [
    {
     "name": "stdout",
     "output_type": "stream",
     "text": [
      "[60, 40, 30, 10]\n",
      "Room ID: 16395877 Price:  8023.0\n",
      "Room ID: 9815599 Price:  3309.0\n",
      "Room ID: 13117403 Price:  3029.0\n",
      "Room ID: 17794853 Price:  2206.0\n",
      "Room ID: 14620083 Price:  2164.0\n",
      "Room ID: 16327246 Price:  2059.0\n",
      "Room ID: 5775503 Price:  1103.0\n",
      "Room ID: 12372683 Price:  1029.0\n",
      "Room ID: 15861144 Price:  1027.0\n",
      "Room ID: 9020629 Price:  981.0\n"
     ]
    }
   ],
   "source": [
    "#sort list in descending order, if you want to sort a nested list, all you have to do is k[2], with\n",
    "#the number 2 being the index of the value which you have the sorting to be based on\n",
    "newlist = sorted(dataList, key=lambda k: k['price'], reverse=True)\n",
    "\n",
    "\n",
    "\n",
    "print(sorted([10,30,40,60], reverse=True))\n",
    "\n",
    "#Simply print the first 10 rooms\n",
    "for i in range(0,10):\n",
    "    print(\"Room ID:\", newlist[i]['room_id'], \"Price: \",newlist[i]['price'])\n",
    "\n",
    "#Remember this logic and algorithm, its one of the most commonly asked questions in coding interviews"
   ]
  },
  {
   "cell_type": "markdown",
   "metadata": {},
   "source": [
    "### 2. Which hosts in Singapore have more than 30 listings. How many of such hosts do we have?\n",
    "\n",
    "> __Note:__ Each host can have more than one property listed, which in turn has varying number of rooms)\n"
   ]
  },
  {
   "cell_type": "code",
   "execution_count": 26,
   "metadata": {},
   "outputs": [
    {
     "name": "stdout",
     "output_type": "stream",
     "text": [
      "Host ID:  76123088 Number of Listing: 34\n",
      "Host ID:  882659 Number of Listing: 42\n",
      "Host ID:  35691521 Number of Listing: 62\n",
      "Host ID:  31464513 Number of Listing: 48\n",
      "Host ID:  103759551 Number of Listing: 31\n",
      "Host ID:  8492007 Number of Listing: 64\n",
      "Host ID:  1439258 Number of Listing: 39\n",
      "Host ID:  32184450 Number of Listing: 49\n",
      "Host ID:  16940959 Number of Listing: 94\n",
      "Host ID:  20485973 Number of Listing: 53\n",
      "Host ID:  70290706 Number of Listing: 53\n",
      "Host ID:  51535991 Number of Listing: 54\n",
      "Host ID:  70265611 Number of Listing: 54\n",
      "Host ID:  229339 Number of Listing: 57\n",
      "Host ID:  101312755 Number of Listing: 53\n",
      "Host ID:  29420853 Number of Listing: 47\n",
      "Host ID:  31557326 Number of Listing: 53\n",
      "Host ID:  38987109 Number of Listing: 53\n",
      "Host ID:  51549370 Number of Listing: 56\n",
      "Host ID:  23722617 Number of Listing: 55\n",
      "Host ID:  10248444 Number of Listing: 60\n",
      "Host ID:  110565713 Number of Listing: 54\n",
      "Host ID:  4412979 Number of Listing: 37\n",
      "Host ID:  83423140 Number of Listing: 55\n",
      "Host ID:  99329030 Number of Listing: 53\n",
      "Host ID:  7210103 Number of Listing: 36\n",
      "Host ID:  14521708 Number of Listing: 69\n",
      "Host ID:  94765000 Number of Listing: 31\n",
      "\n",
      "\n",
      "total: 28\n"
     ]
    }
   ],
   "source": [
    "#Can we find a dict of {host_id, #room}?\n",
    "hostRoomDict = {}\n",
    "\n",
    "#Loop through the data to get the host_id and initlize the dict with 0\n",
    "for rec in dataList:\n",
    "    hostId = rec['host_id']\n",
    "    hostRoomDict[hostId] = 0\n",
    "\n",
    "#We want to check if we have double add the room. We create a unique list of proceessedRoom and use it as a check/\n",
    "processedRoom = []\n",
    "for rec in dataList:\n",
    "    #if the room has already been process, we ignore\n",
    "    if rec['room_id'] in processedRoom:\n",
    "        pass\n",
    "    else:\n",
    "        host_id = rec['host_id']\n",
    "        hostRoomDict[host_id] += 1\n",
    "        processedRoom.append(rec['room_id'])\n",
    "    \n",
    "#print(hostRoomDict)\n",
    "\n",
    "nHost = 0\n",
    "for hostId in hostRoomDict:\n",
    "    if hostRoomDict[hostId] > 30:\n",
    "        print(\"Host ID: \", hostId, \"Number of Listing:\", hostRoomDict[hostId])\n",
    "        nHost+=1\n",
    "\n",
    "print(\"\\n\")\n",
    "print('total:', nHost)\n"
   ]
  },
  {
   "cell_type": "markdown",
   "metadata": {},
   "source": [
    "### 3. What are the different room types, and how many rooms of each room types are there in Singapore?\n",
    "> __Note:__ If you are stuck, refer to the iterations in-class practices\n",
    "> We did something logically similar to this, tallying unique values."
   ]
  },
  {
   "cell_type": "code",
   "execution_count": 27,
   "metadata": {},
   "outputs": [
    {
     "name": "stdout",
     "output_type": "stream",
     "text": [
      "{'Shared room': 0, 'Entire home/apt': 0, 'Private room': 0}\n",
      "{'Shared room': 308, 'Entire home/apt': 3497, 'Private room': 3407}\n"
     ]
    }
   ],
   "source": [
    "#Can we find a dict of {room_type, #room}?\n",
    "typeRoomDict = {}\n",
    "\n",
    "#initilize the typeRoomDict with 0\n",
    "for rec in dataList:\n",
    "    room_type = rec['room_type']\n",
    "    typeRoomDict[room_type] = 0\n",
    "\n",
    "#Inspect the unique room type\n",
    "print(typeRoomDict)\n",
    "\n",
    "\n",
    "processedRoom = []\n",
    "for rec in dataList: \n",
    "    #check if the room has been processed\n",
    "    if rec['room_id'] in processedRoom:\n",
    "        pass\n",
    "    else:\n",
    "        if str(rec['city']).lower() == 'singapore':\n",
    "            room_type = rec['room_type']\n",
    "            typeRoomDict[room_type] += 1\n",
    "    \n",
    "print(typeRoomDict)"
   ]
  },
  {
   "cell_type": "markdown",
   "metadata": {},
   "source": [
    "### 4. What are the top 10 most reviewed listings? Print the `room_id` and number of `reviews`\n",
    "\n",
    "> __Note:__ Stuck? Scroll up to [part 1](#1.What-are-the-top-10-priciest-rooms-in-Singapore?-List-the-room_id-as-well-as-price.)!"
   ]
  },
  {
   "cell_type": "markdown",
   "metadata": {},
   "source": [
    "<h2>Again, we need to check out the format of the review</h2>\n"
   ]
  },
  {
   "cell_type": "code",
   "execution_count": 28,
   "metadata": {},
   "outputs": [
    {
     "name": "stdout",
     "output_type": "stream",
     "text": [
      "<class 'str'>\n",
      "9\n"
     ]
    }
   ],
   "source": [
    "#Check how does review looks like\n",
    "print(type(dataList[0]['reviews']))\n",
    "print(dataList[0]['reviews'])"
   ]
  },
  {
   "cell_type": "markdown",
   "metadata": {},
   "source": [
    "<h2>There is a need to change the review from str format to int format</h2>"
   ]
  },
  {
   "cell_type": "code",
   "execution_count": 29,
   "metadata": {},
   "outputs": [
    {
     "name": "stdout",
     "output_type": "stream",
     "text": [
      "9\n",
      "<class 'int'>\n"
     ]
    }
   ],
   "source": [
    "#Convert reviews from str to int\n",
    "for i in range(0,len(dataList)):\n",
    "    dataList[i]['reviews'] = int(dataList[i]['reviews'])\n",
    "    \n",
    "#check if the conversion is done properly    \n",
    "print(dataList[0]['reviews'])\n",
    "print(type(dataList[0]['reviews']))\n"
   ]
  },
  {
   "cell_type": "markdown",
   "metadata": {},
   "source": [
    "<h2>Thereafter, we perform the super smart method to find out top 10 most reviewed listings</h2>"
   ]
  },
  {
   "cell_type": "code",
   "execution_count": 30,
   "metadata": {},
   "outputs": [
    {
     "name": "stdout",
     "output_type": "stream",
     "text": [
      "2009135 195\n",
      "2357514 162\n",
      "3586966 160\n",
      "6534296 157\n",
      "2129215 157\n",
      "4108082 152\n",
      "4917556 150\n",
      "6815242 145\n",
      "1982064 141\n",
      "4069940 139\n"
     ]
    }
   ],
   "source": [
    "#sort list in descending order\n",
    "newlist = sorted(dataList, key=lambda k: k['reviews'], reverse=True)\n",
    "\n",
    "for i in range(0,10):\n",
    "    print(newlist[i]['room_id'],newlist[i]['reviews'])"
   ]
  },
  {
   "cell_type": "markdown",
   "metadata": {},
   "source": [
    "### 5. What are the top 10 listings with the highest overall satisfaction? Print the `room_id` and the `overall_satisfaction`\n",
    "\n",
    "> __Note:__ You should be familiar with this [by](#1.What-are-the-top-10-priciest-rooms-in-Singapore?-List-the-room_id-as-well-as-price.) [now](#4.-What-are-the-top-10-most-reviewed-listings?-Print-the-room_id-and-number-of-reviews)!\n"
   ]
  },
  {
   "cell_type": "markdown",
   "metadata": {},
   "source": [
    "<h2>Again, we need to check out the format of the satisfaction</h2>\n"
   ]
  },
  {
   "cell_type": "code",
   "execution_count": 31,
   "metadata": {},
   "outputs": [
    {
     "name": "stdout",
     "output_type": "stream",
     "text": [
      "<class 'str'>\n",
      "4.5\n"
     ]
    }
   ],
   "source": [
    "#Check how does review looks like\n",
    "print(type(dataList[0]['overall_satisfaction']))\n",
    "print(dataList[0]['overall_satisfaction'])"
   ]
  },
  {
   "cell_type": "markdown",
   "metadata": {},
   "source": [
    "<h2>We need to convert the format from string to float</h2>"
   ]
  },
  {
   "cell_type": "code",
   "execution_count": 32,
   "metadata": {},
   "outputs": [
    {
     "name": "stdout",
     "output_type": "stream",
     "text": [
      "4.5\n",
      "<class 'float'>\n"
     ]
    }
   ],
   "source": [
    "#Convert reviews from str to float\n",
    "for i in range(0,len(dataList)):\n",
    "    dataList[i]['overall_satisfaction'] = float(dataList[i]['overall_satisfaction'])\n",
    "    \n",
    "#check if the conversion is done properly    \n",
    "print(dataList[0]['overall_satisfaction'])\n",
    "print(type(dataList[0]['overall_satisfaction']))"
   ]
  },
  {
   "cell_type": "markdown",
   "metadata": {},
   "source": [
    "<h2>We sort the list in ascending order and then obtain the top 10</h2>\n"
   ]
  },
  {
   "cell_type": "code",
   "execution_count": 33,
   "metadata": {},
   "outputs": [
    {
     "name": "stdout",
     "output_type": "stream",
     "text": [
      "3179080 5.0\n",
      "8626676 5.0\n",
      "15089063 5.0\n",
      "10443717 5.0\n",
      "9928402 5.0\n",
      "5676325 5.0\n",
      "16863370 5.0\n",
      "5289692 5.0\n",
      "16524551 5.0\n",
      "15362734 5.0\n"
     ]
    }
   ],
   "source": [
    "#sort list in ascending order\n",
    "newlist = sorted(dataList, key=lambda k: k['overall_satisfaction'], reverse=True)\n",
    "\n",
    "for i in range(0,10):\n",
    "    print(newlist[i]['room_id'],newlist[i]['overall_satisfaction'])"
   ]
  },
  {
   "cell_type": "markdown",
   "metadata": {},
   "source": [
    "## Function 3:\tSatisfaction Map\n",
    "\n",
    "The data team at AirBnB wishes to find out which region of Singapore has rooms that people are generally more satisfied with. Any room which has a rating `>4` would indicate a highly satisfactory room, and `>2.5` would indicate an average room. Any rating `<2.5` indicates an unsatisfactory room. The AirBnB team hypothesised that the North-East region of Singapore has more rooms with higher satisfaction rating. As the data team, your goal is to find out whether the hypothesis stands true by providing descriptive analytics to allow the AirBnB team to better visualise the satisfaction levels for the whole of Singapore.\n",
    "\n",
    "Given the dataset provided to us, each room has a geographical location specified by its latitude and longitude. Latitudes and longitudes can be considered to be merely a set of X and Y coordinates on an axis, where the format follows such a manner e.g. `(1.293354, 103.76922)`. What this means for us is that, geographical locations on a map can be represented easily on a scatter plot. This allows us to make use of our pre-existing knowledge on the construction of scatter plots to build a simple heatmap to visualise the satisfaction levels of different rooms in Singapore!\n",
    "\n",
    "> __Note:__ Consult existing heatmap-through-scatterplot examples, consider the following resource: http://geodesygina.com/matplotlib.html"
   ]
  },
  {
   "cell_type": "markdown",
   "metadata": {},
   "source": [
    "<h2>Codes to create heatmap with varying color tones based on ratings</h2>"
   ]
  },
  {
   "cell_type": "code",
   "execution_count": 34,
   "metadata": {},
   "outputs": [
    {
     "data": {
      "image/png": "[encoded data removed]",
      "text/plain": [
       "<matplotlib.figure.Figure at 0x12e8ddeae10>"
      ]
     },
     "metadata": {},
     "output_type": "display_data"
    }
   ],
   "source": [
    "# Remember to import the relevant library/libraries!\n",
    "import matplotlib.pyplot as plt\n",
    "\n",
    "# Initialise lat, Lon, and satisfaction as empty lists\n",
    "lat = []\n",
    "lon = []\n",
    "satisfaction = []\n",
    "\n",
    "# Populate lat, lon and satisfaction lists\n",
    "for row in dataList:\n",
    "    satisfaction.append(float(data[\"overall_satisfaction\"]))\n",
    "    lat.append(float(data[\"latitude\"]))\n",
    "    lon.append(float(data[\"longitude\"]))\n",
    "\n",
    "# Some other configurations that we will require for plotting\n",
    "max_satisfaction = max(satisfaction)\n",
    "min_satisfaction = min(satisfaction)\n",
    "color_by = satisfaction\n",
    "\n",
    "# Add labels to the chart\n",
    "fig, ax = plt.subplots()\n",
    "\n",
    "plt.xlabel(\"Latitude\")\n",
    "plt.ylabel(\"Longitude\")\n",
    "plt.title(\"Overall satisfaction of AirBnB rooms by coordinates\")\n",
    "\n",
    "# Plot the points on the graph, as a scatter plot\n",
    "s=plt.scatter(lon, # X-axis\n",
    "            lat, # Y-axis\n",
    "            c=color_by, # Color based on satisfaction\n",
    "            cmap = plt.cm.coolwarm, # Color scheme\n",
    "            vmin=min_satisfaction, # Max value\n",
    "            vmax=max_satisfaction) # Min value\n",
    "\n",
    "#Create the color bar\n",
    "cbar = plt.colorbar(mappable=s, ax=ax)\n",
    "cbar.set_label(\"Colour Scheme\")\n",
    "\n",
    "# Show the graph\n",
    "plt.show()\n"
   ]
  },
  {
   "cell_type": "markdown",
   "metadata": {},
   "source": [
    "<h2>Heatmap with only 3 color tones!</h2>"
   ]
  },
  {
   "cell_type": "code",
   "execution_count": 36,
   "metadata": {},
   "outputs": [
    {
     "data": {
      "image/png": "[encoded data removed]",
      "text/plain": [
       "<matplotlib.figure.Figure at 0x12e8dec8438>"
      ]
     },
     "metadata": {},
     "output_type": "display_data"
    }
   ],
   "source": [
    "# Codes to create a heatmap based on only 3 color tones!\n",
    "latlist = []\n",
    "longlist = []\n",
    "ovsatlist = []\n",
    "\n",
    "for a in dataList:\n",
    "    latlist.append(float(a['latitude']))\n",
    "for b in dataList:\n",
    "    longlist.append(float(b['longitude']))\n",
    "for c in dataList:\n",
    "    ovsatlist.append(float(c['overall_satisfaction']))\n",
    "    \n",
    "import matplotlib.pyplot as plt\n",
    "import numpy as np\n",
    "ovsatlist = np.array(ovsatlist)\n",
    "\n",
    "\n",
    "col = np.where(ovsatlist < 2.5, 'r', np.where(ovsatlist < 4, 'g', 'b'))\n",
    "plt.scatter(longlist, latlist, c=col, s=10)\n",
    "\n",
    "\n",
    "plt.xlabel(\"Latitude\")\n",
    "plt.ylabel(\"Longitude\")\n",
    "plt.title(\"Map of Overall Satisfaction for Airbnb SG\")\n",
    "plt.show()"
   ]
  },
  {
   "cell_type": "code",
   "execution_count": null,
   "metadata": {
    "collapsed": true
   },
   "outputs": [],
   "source": []
  }
 ],
 "metadata": {
  "kernelspec": {
   "display_name": "Python 3",
   "language": "python",
   "name": "python3"
  },
  "language_info": {
   "codemirror_mode": {
    "name": "ipython",
    "version": 3
   },
   "file_extension": ".py",
   "mimetype": "text/x-python",
   "name": "python",
   "nbconvert_exporter": "python",
   "pygments_lexer": "ipython3",
   "version": "3.6.5"
  }
 },
 "nbformat": 4,
 "nbformat_minor": 2
}
