{
 "cells": [
  {
   "cell_type": "markdown",
   "metadata": {},
   "source": [
    "<img src=\"https://i2.wp.com/hackwagon.com/wp-content/uploads/2017/02/Logo-Web-Export.png?ssl=1\" width=200/>\n",
    "# <center> Hackwagon Academy: DS101 In-Class Practice Week 5</center>\n",
    "## <center>Functions</center>\n",
    "## Learning Objectives\n",
    "\n",
    "1. Recap Counting With Dictionaries\n",
    "2. Functions\n",
    "3. Functions in a Function\n",
    "3. Difference between `print()` and `return`\n",
    "4. Libraries\n",
    "5. How to read documentation on libraries"
   ]
  },
  {
   "cell_type": "markdown",
   "metadata": {},
   "source": [
    "### Recap Practice 1\n",
    "Given the following data of Pokemons you've caught, update your empty `pokedex` with the <b>type</b> of Pokemons.\n",
    "\n",
    "<b>Expected Output:</b>\n",
    "    \n",
    "    {\n",
    "        'Fire': 2,\n",
    "        'Water': 2,\n",
    "        'Grass':1\n",
    "    }"
   ]
  },
  {
   "cell_type": "code",
   "execution_count": null,
   "metadata": {},
   "outputs": [],
   "source": [
    "caught = {\n",
    "    'Pokemon 1': {\n",
    "        'Pokemon': 'Charmander',\n",
    "        'Type': 'Fire',\n",
    "        'HP': 100\n",
    "    },\n",
    "    'Pokemon 2': {\n",
    "        'Pokemon': 'Squirtle',\n",
    "        'Type': 'Water',\n",
    "        'HP': 150\n",
    "    },\n",
    "    'Pokemon 3': {\n",
    "        'Pokemon': 'Squirtle',\n",
    "        'Type': 'Water',\n",
    "        'HP': 150\n",
    "    },\n",
    "    'Pokemon 4': {\n",
    "        'Pokemon': 'Bulbasaur',\n",
    "        'Type': 'Fire',\n",
    "        'HP': 100\n",
    "    },\n",
    "    'Pokemon 5': {\n",
    "        'Pokemon': 'Charmander',\n",
    "        'Type': 'Fire',\n",
    "        'HP': 100\n",
    "    },\n",
    "}\n",
    "\n",
    "# Write code below\n"
   ]
  },
  {
   "cell_type": "markdown",
   "metadata": {},
   "source": [
    "## Functions\n",
    "Functions are basically something you can \"call\" to perform an action for you. We've been using functions very often, such as  built in-functions provided by Python, like: \n",
    "- `print()`\n",
    "- `max()`\n",
    "- `sum()` \n",
    "\n",
    "and so on... \n",
    "\n",
    "Here will learn how build our own functions. Here is the syntax for building functions: \n",
    "<img src='https://i.imgur.com/iDdK6Np.png'>\n",
    "\n",
    "Why do we want to build functions:\n",
    "1. Makes code reusable\n",
    "2. Provides structure to longer codes\n",
    "3. Makes it easier for other programmers to understand your work\n",
    "\n",
    "<b>It is important to realise that any function, once created, is stored in your computer's memory.</b> Therefore, you can always keep using the function by 'calling' its' name. "
   ]
  },
  {
   "cell_type": "code",
   "execution_count": null,
   "metadata": {},
   "outputs": [],
   "source": [
    "def print_hello():\n",
    "    \n",
    "    print(\"hello world\")"
   ]
  },
  {
   "cell_type": "markdown",
   "metadata": {},
   "source": [
    "To use the function, just type the exact name of the function `print_hello()`. "
   ]
  },
  {
   "cell_type": "code",
   "execution_count": null,
   "metadata": {},
   "outputs": [],
   "source": []
  },
  {
   "cell_type": "markdown",
   "metadata": {},
   "source": [
    "### Parameters in a function\n",
    "Functions can take any number of inputs or parameters by placing them in the brackets. Let's see the following as an example. "
   ]
  },
  {
   "cell_type": "code",
   "execution_count": null,
   "metadata": {},
   "outputs": [],
   "source": [
    "def print_10_add_one():\n",
    "\n",
    "\n",
    "print_10_add_one()    \n",
    "    \n",
    "def add_one_to_x(x):\n",
    "\n",
    "\n",
    "add_one_to_x()    \n",
    "\n",
    "def add_x_and_y(x,y):\n",
    "    \n",
    "    \n",
    "add_x_and_y()"
   ]
  },
  {
   "cell_type": "markdown",
   "metadata": {},
   "source": [
    "### Practice 2\n",
    "\n",
    "#### Question 1\n",
    "Create a function that prints 1 to 10, called `print_1_to_10`"
   ]
  },
  {
   "cell_type": "code",
   "execution_count": null,
   "metadata": {},
   "outputs": [],
   "source": []
  },
  {
   "cell_type": "markdown",
   "metadata": {},
   "source": [
    "#### Question 2\n",
    "Create a function, that takes a value of `n` and prints from numbers 1 to `n`, called `print_1_to_n`"
   ]
  },
  {
   "cell_type": "code",
   "execution_count": null,
   "metadata": {},
   "outputs": [],
   "source": []
  },
  {
   "cell_type": "markdown",
   "metadata": {},
   "source": [
    "#### Question 3\n",
    "Create a function, that takes a value of `i` and a value of `j` and prints from numbers `i` to `j`, called `print_i_to_j`"
   ]
  },
  {
   "cell_type": "code",
   "execution_count": null,
   "metadata": {},
   "outputs": [],
   "source": []
  },
  {
   "cell_type": "markdown",
   "metadata": {},
   "source": [
    "## Print vs. Return\n",
    "Now we will learn the `return` keyword for functions. This can be quite confusing for some people so let's contextualise this in a real-world scenario.\n",
    "\n",
    "Picture this: \n",
    "\n",
    "Imagine you have a function called `solves_rubiks_cube()`, and its main purpose is really to just solve a Rubik's Cube.\n",
    "\n",
    "- <b>If you write a function and just print: </b>Its just like you passing a Rubik's  Cube and asking Person A to solve. After Person A solves it, he just show it to you and that's it.\n",
    "<br><br>\n"
   ]
  },
  {
   "cell_type": "code",
   "execution_count": null,
   "metadata": {},
   "outputs": [],
   "source": [
    "def solves_rubiks_cube(cube):\n",
    "    cube = \"Solved\"\n",
    "    print(cube)\n",
    "    \n",
    "cube = \"Unsolved\"\n",
    "solved_cube = solves_rubiks_cube(cube)\n",
    "print(solved_cube)"
   ]
  },
  {
   "cell_type": "markdown",
   "metadata": {},
   "source": [
    "\n",
    "- <b>If you write a function that returns the results: </b>It would be the equivalent of passing a Rubik's Cube to your friend and asking him to solve. After he solves it, he returns the cube physically to you where you can either show it by 'printing' or do further processing."
   ]
  },
  {
   "cell_type": "code",
   "execution_count": null,
   "metadata": {},
   "outputs": [],
   "source": [
    "def solves_rubiks_cube(cube):\n",
    "    cube = \"Solved\"\n",
    "    return cube\n",
    "    \n",
    "cube = \"Unsolved\"\n",
    "solved_cube = solves_rubiks_cube(cube)\n",
    "print(solved_cube)"
   ]
  },
  {
   "cell_type": "markdown",
   "metadata": {},
   "source": [
    "### Practice 3\n",
    "\n",
    "#### Question 1\n",
    "Help write a function called `change_str_to_int` that takes in a list of strings and <b>returns</b> a list of int.\n",
    "\n",
    "<b>Expected output:</b> \n",
    "\n",
    "    [10, 20, 30]"
   ]
  },
  {
   "cell_type": "code",
   "execution_count": null,
   "metadata": {},
   "outputs": [],
   "source": [
    "data = [\"10\",\"20\",\"30\"]\n",
    "#Write code below\n"
   ]
  },
  {
   "cell_type": "markdown",
   "metadata": {},
   "source": [
    "#### Question 2\n",
    "Help write a function called `count_positives` that takes in a list of strings and <b>returns</b> the number of positive numbers.\n",
    "\n",
    "<b>Expected output:</b> \n",
    "\n",
    "    2"
   ]
  },
  {
   "cell_type": "code",
   "execution_count": null,
   "metadata": {},
   "outputs": [],
   "source": [
    "data = [\"10\",\"20\",\"-30\"]\n",
    "#Write code below\n"
   ]
  },
  {
   "cell_type": "markdown",
   "metadata": {},
   "source": [
    "### Functions in a Function\n",
    "There are also instances where we can use a function within another function because that inner function has been created before. Take the following code as an example."
   ]
  },
  {
   "cell_type": "code",
   "execution_count": null,
   "metadata": {},
   "outputs": [],
   "source": [
    "def calculator(x,y):\n",
    "    \n",
    "    return x+y\n",
    "\n",
    "\n",
    "def return_average(x,y):\n",
    "\n",
    "    return calculator(x,y)/2\n",
    "\n",
    "\n",
    "print(return_average(10,20))"
   ]
  },
  {
   "cell_type": "markdown",
   "metadata": {},
   "source": [
    "## Libraries and Reading Documentation\n",
    "Libraries are what makes Python one of the most popular languages for Data Science. Libraries are just a collection of many functions that are already written. Part of using libraries requires us to understand the us to understand how to read documentation on libraries. \n",
    "\n",
    "We'll be using the next two libraries to be familiar with reading documentation."
   ]
  },
  {
   "cell_type": "markdown",
   "metadata": {},
   "source": [
    "### Math Library\n",
    "This library allows you to use some math functions unavailable by default on Python. \n",
    "Read the documentation here: https://docs.python.org/3/library/math.html "
   ]
  },
  {
   "cell_type": "code",
   "execution_count": null,
   "metadata": {},
   "outputs": [],
   "source": [
    "import math\n",
    "\n",
    "#first call name of library, followed by a dot and the name of method, followed by passing in your values within the\n",
    "#parenthesis\n",
    "\n",
    "print(math.exp(10))"
   ]
  },
  {
   "cell_type": "markdown",
   "metadata": {},
   "source": [
    "### Practice 4\n",
    "Go to this documentation [here](https://docs.python.org/3/library/math.html#math.pow) and learn how to use the `pow` function. Find the output of 10 to the power of 2.\n",
    "\n",
    "<b>Expected Output:</b>\n",
    "\n",
    "    100"
   ]
  },
  {
   "cell_type": "code",
   "execution_count": null,
   "metadata": {},
   "outputs": [],
   "source": [
    "#Find 10^2 using the math library\n"
   ]
  },
  {
   "cell_type": "markdown",
   "metadata": {},
   "source": [
    "Go to this documentation [here](https://docs.python.org/3/library/math.html#math.sqrt) and learn how to use the `sqrt` function. Find the output of square root of 70.\n",
    "\n",
    "<b>Expected Output:</b>\n",
    "\n",
    "    8.366600265340756"
   ]
  },
  {
   "cell_type": "code",
   "execution_count": null,
   "metadata": {},
   "outputs": [],
   "source": [
    "#Find the sqrt of 70 using the math library\n"
   ]
  },
  {
   "cell_type": "markdown",
   "metadata": {},
   "source": [
    "<h2>Statistics Library</h2>\n",
    "Statistics library allow you to do more statistical analysis of your data. Read the documentation here: https://docs.python.org/3/library/statistics.html"
   ]
  },
  {
   "cell_type": "code",
   "execution_count": null,
   "metadata": {},
   "outputs": [],
   "source": [
    "import statistics"
   ]
  },
  {
   "cell_type": "markdown",
   "metadata": {},
   "source": [
    "### Practice\n",
    "Find the median of `[10,20,30,40,50,60,70]`\n",
    "\n",
    "<b>Expected Output:</b>\n",
    "\n",
    "    40"
   ]
  },
  {
   "cell_type": "code",
   "execution_count": null,
   "metadata": {},
   "outputs": [],
   "source": [
    "#Find the median of [10,20,30,40,50,60,70]\n"
   ]
  },
  {
   "cell_type": "markdown",
   "metadata": {},
   "source": [
    "Find the standard deviation of `[10,20,30,40,50,60,70]`\n",
    "\n",
    "<b>Expected Output:</b>\n",
    "\n",
    "    21.602468994692867"
   ]
  },
  {
   "cell_type": "code",
   "execution_count": null,
   "metadata": {},
   "outputs": [],
   "source": [
    "#Find the standard deviation of [10,20,30,40,50,60,70]\n"
   ]
  },
  {
   "cell_type": "markdown",
   "metadata": {},
   "source": [
    "Find the mean of each row of data using a for loop and the stats library `[[10,20,30],[20,304,500],[200,400,30]]`.\n",
    "\n",
    "<b>Expected Output:</b>\n",
    "\n",
    "    20.0\n",
    "    274.6666666666667\n",
    "    210.0"
   ]
  },
  {
   "cell_type": "code",
   "execution_count": null,
   "metadata": {},
   "outputs": [],
   "source": [
    "#Find the mean of each row of data using a for loop and the stats library [[10,20,30],[20,304,500],[200,400,30]]\n"
   ]
  },
  {
   "cell_type": "markdown",
   "metadata": {},
   "source": [
    "## Python in the Real World\n",
    "The following libraries are one of the most used libraries in Python, and therefore would be more applicable.\n",
    "\n",
    "1. Regular Expression Library - Data Cleaning\n",
    "2. CSV Library - Opening Files \n",
    "3. Matplotlib Library - Visualisations\n",
    "\n",
    "### Regular Expression Library\n",
    "The Regular Expression Library (RegEx) is one of the most difficult libraries to master but the most useful as well. It helps you to clean sophisticated data in your dataset. \n",
    "\n",
    "RegEx recognises patterns in strings to filter them out. Understanding these patterns requires plenty of experience. Also, reading the documentation can be rather tricky so it is more advisable to search up the internet for any \n",
    "<p>https://docs.python.org/3/library/re.html</p>"
   ]
  },
  {
   "cell_type": "code",
   "execution_count": null,
   "metadata": {},
   "outputs": [],
   "source": [
    "#imagine you have the following dirty data, and you want to clean it to remove special characters\n",
    "data =\"$9834/89.\"\n",
    "\n",
    "import re\n",
    "data = re.sub('[^A-Za-z0-9]+', '', data)\n",
    "print(data)\n"
   ]
  },
  {
   "cell_type": "markdown",
   "metadata": {},
   "source": [
    "### CSV Library\n",
    "CSV stands for <b>Comma Separated Values</b>. Many datasets are stored in CSV because it is more efficient to store them in these file type. Also be cause the values are separated by commas.\n",
    "\n",
    "The CSV library is just a library that is able to open CSV files for you, but we will familiarise ourselves with the context of these libraries, mainly with these 2 functions:\n",
    "1. `.reader()`\n",
    "2. `.DictReader()`"
   ]
  },
  {
   "cell_type": "markdown",
   "metadata": {},
   "source": [
    "#### `.reader()` Function - List of Lists \n",
    "Read the `videos.csv` file and put it into a list called `video_list_of_lists`."
   ]
  },
  {
   "cell_type": "code",
   "execution_count": null,
   "metadata": {},
   "outputs": [],
   "source": [
    "import csv\n"
   ]
  },
  {
   "cell_type": "markdown",
   "metadata": {},
   "source": [
    "#### `.DictReader()` Function - List of Dictionaries\n",
    "Read the `videos.csv` file and put it into a list called `video_list_of_dictionaries`."
   ]
  },
  {
   "cell_type": "code",
   "execution_count": null,
   "metadata": {},
   "outputs": [],
   "source": [
    "import csv\n"
   ]
  },
  {
   "cell_type": "markdown",
   "metadata": {},
   "source": [
    "#### Difference between `.reader()` vs. `.DictReader()` \n",
    "Print out all the video titles in `video_lists` and `video_dictionaries` and notice the difference between the two."
   ]
  },
  {
   "cell_type": "code",
   "execution_count": null,
   "metadata": {},
   "outputs": [],
   "source": []
  },
  {
   "cell_type": "markdown",
   "metadata": {},
   "source": [
    "#### Creating / Overwriting new CSV files\n",
    "There are also instances where you want to create your own files. This is when you would use the `.write()` function. You can create any new file name you like. Take the below as an example."
   ]
  },
  {
   "cell_type": "code",
   "execution_count": null,
   "metadata": {},
   "outputs": [],
   "source": [
    "# try switching the 'w' to 'a' and see the difference\n",
    "with open('eggs.csv', 'w', newline='') as csvfile:\n",
    "    spamwriter = csv.writer(csvfile, delimiter=',')\n",
    "    spamwriter.writerow(['abc', 'def', 'hjk'])\n",
    "    spamwriter.writerow(['Spam', 'Lovely Spam', 'Wonderful Spam'])\n",
    "    "
   ]
  },
  {
   "cell_type": "markdown",
   "metadata": {},
   "source": [
    "##### Create your own file"
   ]
  },
  {
   "cell_type": "code",
   "execution_count": null,
   "metadata": {},
   "outputs": [],
   "source": []
  },
  {
   "cell_type": "markdown",
   "metadata": {},
   "source": [
    "### Matplotlib\n",
    "Matplotlib is one of the most used and earliest Python visualisation libraries out there. \n",
    "\n",
    "Pros:\n",
    "1. Provides a standard for other visualisation libraries\n",
    "2. Leveraged by many other libraries\n",
    "\n",
    "Cons:\n",
    " \n",
    " 1. Documentation that is difficult to understand\n",
    " 2. Restrictive syntax \n",
    "\n",
    "Some examples of visualisations can be seen here: https://matplotlib.org/gallery/index.html"
   ]
  },
  {
   "cell_type": "code",
   "execution_count": null,
   "metadata": {},
   "outputs": [],
   "source": [
    "salary = [2000,34000,78478,909]\n",
    "age = [22,34,56,78]\n",
    "\n",
    "#How would you do it?\n"
   ]
  },
  {
   "cell_type": "markdown",
   "metadata": {},
   "source": [
    "Here is where we acquire the skills to copy codes, and thereafter understand them. Let's look at the examples in the link and see how we can start."
   ]
  },
  {
   "cell_type": "code",
   "execution_count": null,
   "metadata": {},
   "outputs": [],
   "source": []
  },
  {
   "cell_type": "markdown",
   "metadata": {},
   "source": [
    "### Practice 5 \n",
    "By combining your knowledge of for loops and matplotlib, create a chart that has salary as the y-axis and age at the x-axis using the following data.\n",
    "\n",
    "Create 2 containers that gives you 1 container for salary called `salaries` and 1 container for ages called `ages`, just as the above example. What you should see would be a <b>scatter chart</b>."
   ]
  },
  {
   "cell_type": "code",
   "execution_count": null,
   "metadata": {},
   "outputs": [],
   "source": [
    "dbs_bank = [[\"John\", 65, 5087739], [\"Jackson\", 55, 387739], [\"Avril Larige\", 23, 7682364], [\"Enoch\",55,7899722]]\n",
    "\n",
    "#write your code here below\n",
    "\n",
    "\n"
   ]
  },
  {
   "cell_type": "code",
   "execution_count": null,
   "metadata": {},
   "outputs": [],
   "source": []
  }
 ],
 "metadata": {
  "kernelspec": {
   "display_name": "Python 3",
   "language": "python",
   "name": "python3"
  },
  "language_info": {
   "codemirror_mode": {
    "name": "ipython",
    "version": 3
   },
   "file_extension": ".py",
   "mimetype": "text/x-python",
   "name": "python",
   "nbconvert_exporter": "python",
   "pygments_lexer": "ipython3",
   "version": "3.6.5"
  }
 },
 "nbformat": 4,
 "nbformat_minor": 2
}
